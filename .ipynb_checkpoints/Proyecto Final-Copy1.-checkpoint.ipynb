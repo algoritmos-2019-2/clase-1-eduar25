{
 "cells": [
  {
   "cell_type": "markdown",
   "metadata": {},
   "source": [
    "# Diagnóstico preliminar de cardiopatías mediante el índice de variabilidad de frecuencia cardíaca obtenido mediante el análisis frecuencial de Fourier sobre una señal de ECG. "
   ]
  },
  {
   "cell_type": "markdown",
   "metadata": {},
   "source": [
    "**Elaborado por: Camacho López Rubén Eequiel// Flores Luna Luis Eduardo // Pozos Castillos Vincent Tristán**"
   ]
  },
  {
   "cell_type": "markdown",
   "metadata": {},
   "source": [
    "## Resumen: \n",
    "Se establece una conexión entre Arduino y Python con el objetivo de aplicar la transformada rápida de Fourier a una señal discreta con el objetivo de llevar a cabo su análisis en el dominio frecuencial. La señal sometida a este estudio provino de un ECG, de modo que se pudo estimar la frecuencia cardiaca y la variación de la frecuencia cardíaca (VFC). Se calcularon varios parámetros temporales y frecuenciales relacionados con la VFC que son de importancia en el diagnóstico de cardiopatías y en la evaluación del papel del Sistema Nervioso Autónomo. "
   ]
  },
  {
   "cell_type": "markdown",
   "metadata": {},
   "source": [
    "## Motivación: \n",
    "\n",
    "En la época actual resulta un poco intuitivo que el análisis de datos que proporcionan los sistemas digitales es más rápido que el que podemos realizar mediante medios analógicos. Por ello, la introducción a un lenguaje de programación es fundamental, \"transformando así la postura ante la resolución de alguna problemática\". \n",
    "\n",
    "La motivación de este proyecto está relacionada con el diagnóstico de anomalías en la actividad cardiaca, patologías como diabetes mellitus y síndrome de fatiga crónica, además de la valoración del funcionamiento del SNA, para ello se calcula la variabilidad de la frecuencia cardiaca, índice del cual se derivan parámetros necesarios para una evaluación no invasiva, contribuyendo así en un diagnóstico oportuno. "
   ]
  },
  {
   "cell_type": "markdown",
   "metadata": {},
   "source": [
    "## Estructura general del trabajo. "
   ]
  },
  {
   "cell_type": "markdown",
   "metadata": {},
   "source": [
    "A lo largo del trabajo se presenta:\n",
    "\n",
    "**1.Concepto de Frecuencia Cardíaca e Índice de Variabilidad Cardíaca**\n",
    "\n",
    "**2.Conceptos previos al tratamiento de Fourier, Transformada de Fourier, Transformada Discreta de Fourier, Transformada Rápida de Fourier**\n",
    "\n",
    "**3.Conexión Arduino-Python**\n",
    "\n",
    "**4.Filtrado de señal de ECG, Reconocimiento de los picos R, Estimación de los intervalos RR**\n",
    "\n",
    "**5.Tacograma, Estimación de parámetros temporales y frecuenciales relacionados a VFC**\n"
   ]
  },
  {
   "cell_type": "markdown",
   "metadata": {},
   "source": [
    "## Frecuencia cardiaca e Índice de variabilidad de frecuencia cardíaca."
   ]
  },
  {
   "cell_type": "markdown",
   "metadata": {},
   "source": [
    "### Frecuencia cardíaca\n",
    "\n",
    "El corazón se encarga de bombear la sangre a través del sistema circulatorio hacia los distintos tejidos presentes en el cuerpo, con el objetivo de dotarlos de nutrimentos y $O_{2}$, a la par que se recolectan desechos y $CO_{2}$. El proceso de contracción cardíaca se conoce como ciclo cardiaco e involucra las siguientes fases: \n",
    "\n",
    "#### Ciclo cardíaco\n",
    "\n",
    "1. Surge un potencial de acción en el Nodo Sinoatrial (SA) por efecto de las células marcapasos. \n",
    "2. El impulso se transmite a lo largo del circuito atrial a través del Has de Bachmann, de modo que se genera la contracción de esta cavidad. El impulso se transmite en la región atrial hasta llegar al Nodo Atrioventricular (AV). \n",
    "3. El impulso atraviesa el Nodo Atrioventricular y se distribuye por el Has de His. \n",
    "4. El impulso se transmite a través de toda la camara ventrícular gracias a las fibras de Purkinje, lo que genera la contracción en esta cavidad, y la posterior expulsión sanguínea. \n",
    "\n",
    "Los impulsos y potenciales de acción anteriormente mencionados son impulsos eléctricos. De modo que pueden ser detectados (con ayuda de electrodos) y representados en términos del tiempo y su voltaje elétrico asociado: este es el trabajo de la electrocardiografía. \n",
    "\n",
    "Las señales provenientes de un electromiograma, o mejor conocidas como señales ECG, representan la actividad eléctrica relacionada con el ciclo cardíaco, de modo que en una señal típica de ECG se pueden distinguir las distintas etapas del ciclo cardíaco relacionándolas con los diferentes tipos de ondas que conforman una señal de ECG: Onda P, Complejo QRS, Onda T. \n",
    "\n",
    "El complejo QRS está relacionado con la contracción de la camara ventrícular y la posterior expulsión de sangre, además de que es la parte de la señal de ECG que presenta una mayor amplitud (mayor voltaje), por ello, si queremos conocer el tiempo entre dos contracciones ventrículares (dos expulsiones de sangre) basta con reconocer los puntos R entre dos señales asociadas a ciclos cardíacos consecutivos. \n",
    "\n",
    "La frecuencia cardiaca representa la cantidad de contracciones cardíacas que se dan durante un minuto. La frecuencia cardíaca normal oscila entre 50 y 100 pulsaciones por minuto, aunque condiciones como el ejercicio alteran el valor de frecuencia cardíaca. Se calcula a partir del conocimiento del periodo cardíaco (Intervalo de tiempo entre dos ondas R consecutivas, intervalo R-R)\n"
   ]
  },
  {
   "cell_type": "markdown",
   "metadata": {},
   "source": [
    "### Variabilidad de frecuencia cardíaca.\n",
    "\n",
    "Sin embargo,  el periodo cardíaco, o intervalo R-R, varía entre contracciones cardiacas sucesivas. Puede ser que el intervalo R-R entre la primer contracción y la segunda tenga un valor de 859ms, mientras que el intervalo R-R relacionado entre la segunda y la tercera contracción tiene un valor de 793ms, de modo que podemos obtener frecuencias cardiacas diferentes en esos dos intervalos: 70 pulsaciones por minuto y 76 pulsaciones por minuto. \n",
    "\n",
    "**La variabilidad de frecuencia cardiaca mide justamente la variación de la duración de los intervalos R-R, y nos permite vislumbrar la diferencia entre las frecuencias correspondiente a un intervalo con respecto a la frecuencia cardiaca media.** \n",
    "\n",
    "Normalmente la variabilidad de frecuencia cardíaca representa la relación existente entre el Sistema Nervioso Autónomo (Sistema Nervioso Simpático (SNS) y Parasimpático (SNP)) y el Sistema Cardiovascular.\n",
    "\n",
    "Donde el SNP puede disminuir la frecuencia cardiaca auxiliandose con impulsos eléctricos de alta frecuencia, mientras que el SNP aumenta la frecuencia cardiaca por medio de impulsos eléctricos de baja frecuencia. La frecuencia cardíaca, la carga de trabajo necesaria realizar alguna acción, y la variabilidad de  frecuencia cardiaca se relacionan de forma inversamente proporcional, es decir, mientras más esfuerzo se realiza, la frecuencia cardíaca aumenta y la variabilidad de frecuencia cardíaca disminuye. \n",
    "\n",
    "**La variabilidad de frecuencia cardíaca está sujeta a la acción de varios factores, por ejemplo:**\n",
    "\n",
    "Sistema Nervioso Central: Emociones, procesos mentales, estrés.\n",
    "\n",
    "Sistema Respiratorio\n",
    "\n",
    "Factores que afectan a la Frecuencia cardíaca por si misma: edad, género, posición del cuerpo, hora del día, ingesta de alcohol, tabaco, medicaciones. \n",
    "\n",
    "El análisis de la variabilidad de frecuencia cardíaca nos puede brindar información con respecto al pronóstico, patogénesis y tratamiento de enfermedades relacionadas a patologías cardiovasculares, diabetes mellius, sindrome de fatiga crónica; así como información relacionada con la adaptación al estrés, y al esfuerzo físico.\n",
    "\n",
    "#### Obtención de la VFC.\n",
    "\n",
    "Se emplea un registro de ECG con duración de 24 horas (**Registro Holter**) durante el cual una persona realiza sus actividades cotidianas, se usa con el fin de cuantificar el riesgo de una persona a padecer alguna enfermedad como diabetes mellitus, sindrome de fática crónica, etc. En ocasiones, si se busca valorar la adaptación al esfuerzo físico se emplean aparatos portátiles para registrar la señal de ECG aún en condiciones de ejercicio. Empleando métodos computacionales se calcula la duración de cada intervalo RR correspondiente a la respectiva contracción. \n",
    "\n",
    "#### Tacogramas\n",
    "\n",
    "La manera más sencilla de representar la VFC es graficar la magnitud de los intervalos R-R (en milisegundos) en el eje vertical, mientras que en el eje horizontal representamos el tiempo transcurrido.\n",
    "\n",
    "#### Parámetros temporales y frecuenciales relacionados a VFC.\n",
    "\n",
    "Los parámetros que se presentan a continuación no se pueden relacionar de  una manera sencilla con las diferentes cardiopatías y patologías como diabetes mellitus, sindrome de fatiga crónica, de forma que nos permita hacer un diagnóstico directo y conciso, sin embargo, para especialistas pueden brindar información relevante. \n",
    "\n",
    "#### Parámetros temporales:\n",
    "\n",
    "**RRSD**: Es la desviación estandar de los valores de los intervalos R-R, y se conoce como **Variabilidad Total**\n",
    "\n",
    "**RMSSD**: Calculamos la diferencia entre dos intervalos RR consecutivos, se eleva al cuadrado y se calcula la raíz cuadrada del valor medio de su suma. Al realizar la diferencia entre intervalos consecutivos sirve como un indicador de las variaciones en periodos cortos. Recordando que el SNP actúa de manera rápida disminuyendo la FC, a diferencia del SNS que tarda cerca de 20-30 contracciones en modificar la FC, **podemos asociar al RMSSD con la actividad del SNP**.\n",
    "\n",
    "Existen otros parámetros temporales, pero en realidad es muy difícil asociar alguno de sus valores con la actividad del sistema SNP o SNS, sabemos que ayudan a cuantificar la acción del Sistema Nervioso Autónomo, pero analizar esa relación no es uno de los propositos de este trabajo. \n",
    "Se sugiere además que estos parámetros pueden ayudar a clasificar el riesgo de morbi-mortalidad, especialmente en casos cardiovasculares. \n",
    "\n",
    "#### Parámetros frecuenciales\n",
    "\n",
    "El análisis frecuencial necesario para calcular este tipo de parámetros normalmente se hace con ayuda de la Transformada de Fourier, y se realiza en señales ECG con 5 minutos de duración. \n",
    "La señal de VFC que representamos mediante el tacograma puede descomponer su potencia en varias frecuenciales, las cuales se encuentran en el rango de 0 a 0,4Hz, y se relacionan con algún aspecto del Sistema Nervioso Autónomo. \n",
    "\n",
    "Las frecuencias **ULF : inferiores a 0,003Hz** se conocen como frecuencias ultra bajas, las cuales son más visibles mientras mayor es la duración de la señal de ECG. \n",
    "\n",
    "Las frecuencias **VLF:0.003Hz-0.04Hz** se conocen como frecuencias muy bajas y se relacionan con el efecto de hormonas, así como las influencias vaso-motoras y termoreguladoras y del sistema renina-angiotensina-aldosterona.\n",
    "\n",
    "Las frecuencias **LF:0.04Hz-0.15Hz** se conocen como frecuencias bajas y se relacionan con la actividad del SNA (en especial la del SNS), además de la actividad baroreceptora. \n",
    "\n",
    "Las frecuencias **HF:0.15Hz-0.4Hz** se conocen como altas frecuencias y están relacionadas con la actividad del SNS. \n",
    "\n",
    "La frecuencia respiratoria tiene un papel importante al relacionar las frecuencias con el papel de ciertos sistemas corporales, por ejemplo, con bajas frecuencias respiratorias podemos asociar el efecto del SNP en las frecuencias bajas  \n"
   ]
  },
  {
   "cell_type": "markdown",
   "metadata": {},
   "source": [
    "## Conceptos previos para comprender mejor la transformada de Fourier."
   ]
  },
  {
   "cell_type": "markdown",
   "metadata": {},
   "source": [
    "#### Series numéricas.\n",
    "Cuando se nos presenta una lista de números ordenada como por ejemplo: $1,3,5,7,9...$ o $\\frac{1}{2},\\frac{2}{3},\\frac{3}{4},..$ nos es fácil deducir cuál es el término siguiente ya que estas secuencias obedecen una \"ley de formación\". Cuando describimos una sucesión numérica es importante asignar la ley de formación que la rige. Cada uno de los términos de la sucesión se caracteriza por un numéro natural *k* que indica su posición en la lista. Así, con ayuda de la ley de formación nos es sencillo determinar el valor del término que ocupa la posición enésima dentro de la sucesión. \n",
    "\n",
    "Por ejemplo, sea: \n",
    "$a_{k}=\\frac{1}{k^{2}}$, la sucesión que representa es: $1,\\frac{1}{4},\\frac{1}{9},\\frac{1}{16},...$\n",
    "\n",
    "Sea una sucesión numérica infinita la cual contiene los elementos $a_{1}, a_{2}, a_{3}, a_{4},..., a_{k}, ... $ podemos emplear a estos términos para construir *sumas parciales*, las cuales son de la forma: \n",
    "\n",
    "$S_{1}=a_{1}$\n",
    "\n",
    "$S_{2}=a_{1}+a_{2}$\n",
    "\n",
    "$S_{3}=a_{1}+a_{2}+a_{3}$\n",
    "\n",
    "$S_{k}= a_{1}+a_{2}+a_{3}+...+a_{k}$\n",
    "\n",
    "A partir de esta idea de sumas parciales podemos definir, partiendo de una sucesión numérica con elementos $a_{1}, a_{2}, a_{3}, a_{4},..., a_{k}, ... $ a una **serie numérica** como: \n",
    "\n",
    "$S=lim_{k tiende a infinito}{S_{k}}= a_{1}+a_{2}+a_{3}+...=\\sum_{k=1}^{infinito}a_{k}$\n",
    "\n",
    "Apesar de que se trata de una suma no podemos calcularla término a término, ya que posee elementos infinitos, sin embargo podemos estimar el resultado por otros métodos. Podría parecer que la suma de elementos infinitos tiende necesariamente a ser un valor infinito, mas no siempre es así. \n",
    "\n",
    "Por ejemplo, de la sucesión: $\\frac{1}{2},\\frac{1}{4},\\frac{1}{8},\\frac{1}{16}$ podemos formar a las sumas parciales: \n",
    "\n",
    "$S_{1}=\\frac{1}{2}$\n",
    "\n",
    "$S_{2}=\\frac{1}{2}+\\frac{1}{4}=\\frac{3}{4}$\n",
    "\n",
    "$S_{3}=\\frac{1}{2}+\\frac{1}{4}+\\frac{1}{8}=\\frac{7}{8}$\n",
    "\n",
    "De manera que la suma tienda a infinito, el valor de $S$ será igual a 1, decimos entonces que la serie numérica converge a 1. \n",
    "Sin embargo, no siempre es sencillo determinar un valor exacto al cual converge una serie, o si es que por lo menos converge (el caso contrario se conoce como que la serie diverge). Una condición necesaria para que una serie converja (no siempre suficiente) es la siguiente: \n",
    "\"*Para que una serie numérica converja es necesario que su término general tienda a cero*\". \n",
    "Esta condición basta para indicar que una serie diverge (si no se cumple), pero no siempre garantiza que una serie converja. \n",
    "\n",
    "Existen varios criterios que nos ayudan a discernir entre una serie numérica convergente y divergente, por ejemplo: \n",
    "\n",
    "**Criterio de Leibniz**\n",
    "\n",
    "**Criterio de comparación**\n",
    "\n",
    "**Criterio de la integral**\n",
    "\n",
    "**Criterio del cociente**\n",
    "\n",
    "#### Series de potencias.\n",
    "\n",
    "En el caso de las series numéricas la ley de formación dependía únicamente de un valor: la posición del elemento en la sucesión. Las series de funciones son aquellas en las cuales los términos dependen de una o más variables. Por ejemplo:\n",
    "$\\sum_{k=0}^{infinito}\\frac{x^{k}}{k+1}=1+\\frac{x}{2}+\\frac{x^{2}}{3}+\\frac{x^{3}}{4}+...$. Nótese que al asignar valores distintos de X obtenemos varias series numéricas distintas. \n",
    "Sea $x=2$, entonces la serie numérica que se obtiene es: $1+\\frac{2}{2}+\\frac{4}{3}+\\frac{8}{4}+...$\n",
    "Claramente el comportamiento de la serie de potencias depende del valor X que le asignemos, por ejemplo, si en lugar de asignar $X=2$, asignamos el valor $X=-1$ obtenemos una serie alternada: $1-\\frac{1}{2}+\\frac{1}{3}-\\frac{1}{4}+...$, una región de interés es el intervalo de valores de X que al ser sustituidos en la expresión de la serie de potencias generan series numéricas convergentes, esa región se conoce como intervalo de convergencia. \n",
    "\n",
    "En general, una serie de potencias de x es una expresión de la forma: \n",
    "\n",
    "$\\sum_{k=0}^{infinito}c_{k}x_{k} = c_{0}+c_{1}x+c_{2}x^{2}+c_{3}x^{3}+...$ es decir, trabajamos con una serie de potencias positivas de x, observemos además que estos coeficientes $c_{k}$ deberán estar dados por una expresión general (ley de formación) que dependa de su posición en la serie (k), así como en el caso de las series numéricas. \n",
    "\n",
    "Esta serie de potencias tiene infinitos términos, sin embargo, si nos tomamos los primeros K+1 elementos, habremos contruido un polinomio de orden K. \n",
    "\n",
    "$P_{k}(x)=\\sum_{k=0}^{K}c_{k}x_{k}=c_{0}+c_{1}x+c_{2}x^{2}+...+c_{k}x_{k}$\n",
    "\n",
    "Ahora, así como una serie numérica converge a un valor numérico, la serie de potencias converge a una función, es decir, podemos aproximar una función mediante una serie de potencias pero esta aproximación solamente será válida dentro del intervalo de convergencia (de otro modo, no podemos asegurar la convergencia de la serie). Otro aspecto fundamental es que la aproximación aumenta conforme mayor sea el grado del polinomio generado por la serie de potencias\n",
    "\n",
    "Por ejemplo, en los polinomios de Mac Laurin se requiere que la función f(x) que queremos aproximar sea continua, con derivadas continuas hasta orden *k*, y la aproximación es únicamente válida para valores cercanos a 0, además de que las derivadas de f(x) evaluadas en 0 sean iguales a las derivadas del polinomio evaluadas en 0. Algunas polinomios de Mac Laurin son: \n",
    "\n",
    "$e(x)=1+x+\\frac{1}{2!}x^{2}+\\frac{1}{3!}x^{3}+...+\\frac{1}{n!}x^{n}+...$\n",
    "\n",
    "$sen(x)=x-\\frac{x_{3}}{3!}+\\frac{x_{5}}{5!}-\\frac{x_{7}}{7!}+...$\n",
    "\n",
    "En el caso de los polinomios de Mac Laurin contamos con una base para generar la aproximación, se trata de las potencias positivas de x. En el caso de la Serie de Fourier, vamos a emplear como base para nuestra aproximació a las funciones seno y coseno armónicamente relacionadas. (pronto discutiremos el concepto de armónicamente relacionadas)\n",
    "\n",
    "#### Series de Fourier\n",
    "\n",
    "Una función es periódica cuando cumple $f(t)=f(t+T)$ donde T es el periodo de la función, las funciones trigonométricas poseen un periodo de $2\\pi$, de modo que $cos(wT)=cos(w(t+T))=cos((wt)+wT)$ entonces $wT=2\\pi$, de modo que definimos a esta cantidad w como la frecuencia de la función $w=\\frac{2\\pi}{T}$. \n",
    "\n",
    "Si consideramos una familia de funciones:\n",
    "\n",
    "$f_{1}=cos(w_{0}t)$,  $f_{2}=cos(2w_{0}t)$,  $f_{3}=cos(3w_{0}t)$, ..., $f_{k}=cos(kw_{0}t)$, podemos observar que en la primera función, la frecuencia es $w_{0}$, mientras que en la segunda es $2w_{0}$, la tercera es $3w_{0}$, y así sucesivamente, de modo que podemos definir a $w_{0}$ como la frecuencia fundamental y sus múltiplos $kw_{0}$ se consideran sus armónicas, de modo que bajo esta relación podemos afirmar que la familia de funciones están relacionadas armónicamente. \n",
    "\n",
    "Vamos a emplear estas familias de funciones relacionadas armónicamente como la base para generar aproximaciones de funciones. Fue J.B. Fourier quien formuló: *cualquier función periódica se puede representar mediante series de senos y cosenos relacionadas armónicamente.* Por lo tanto, para una función f(t) con periodo T, considerando la base infinita de funciones $1,cos(w_{0}t),cos(2w_{0}t),...,sen(w_{0}t),sen(2w_{0}t),...,$ podemos aproximarla mediante un polinomio conocido como **serie trigonométrica de Fourier de  f(t)**:\n",
    "\n",
    "$f(t)= \\frac{a_{0}}{2} + a_{1}cos{w_{0}t}+a_{2}cos{2w_{0}t}+a_{3}cos{3w_{0}t}+a_{4}cos{4w_{0}t}+...+ b_{1}sen{w_{0}t}+b_{2}sen{2w_{0}t}+b_{3}sen{3w_{0}t}+b_{4}sen{4w_{0}t}+...$\n",
    "\n",
    "$f(t)= \\frac{a_{0}}{2} + \\sum_{k=1}^{\\infty}a_{k}cos(kw_{0}t)+b_{k}sen({kw_{0}t})$\n",
    "\n",
    "donde los coeficientes $a_{k}$ y $b_{k}$ representa los coeficientes de Fourier, y nos dicen qué tanto aporta cada frecuencia $kw_{0}$ en el desarrollo de la función $f(t)$. Por analogía podemos pensar que cualquier función se puede aproximar usando los \"mismos ingredientes\", son los coeficientes de Fourier los que nos brindan la cantidad necesaria de cada uno. \n",
    "\n",
    "Los coeficientes de Fourier están determinados por:\n",
    "\n",
    "$a_{k}=\\frac{2}{T}\\int_{0}^{T}f(t)cos(kw_{0}t)dt$\n",
    "\n",
    "$b_{k}=\\frac{2}{T}\\int_{0}^{T}f(t)sin(kw_{0}t)dt$\n",
    "\n",
    "Consideremos ahora un conjunto finito de series de senos y cosenos con la cual vamos a formar la aproximación a nuestra función:\n",
    "\n",
    "$1,cos(w_{0}t),cos(2w_{0}t),cos(3w_{0}t),...,cos(Nw_{0}t), sin(w_{0}t),sin(2w_{0}t),sin(3w_{0}t),...,sin(Nw_{0}t)$\n",
    "\n",
    "que al emplearla para generar nuestra serie de Fourier nos da:\n",
    "\n",
    "$f(t)= \\frac{a_{0}}{2} + \\sum_{k=1}^{N}a_{k}cos(kw_{0}t)+b_{k}sen({kw_{0}t})$ donde N es un número cualquiera, no sé, quizá el número de muestras. \n",
    "\n",
    "#### ¿TEOREMA DE PARSEVAL?\n",
    "\n",
    "Se puede evaluar qué tan buena es nuestra aproximación calculando el error cuadrático medio: \n",
    "\n",
    "$\\delta_{N}^{2}=\\int_{T}(f(t)-S_{N})^{2}dt$, se puede demostrar (pero no lo haremos aquí) que este error disminuye cuando aumenta el valor N (el cual recordamos, tal vez pueda ser el número de muestras *guiño, guiño*). \n",
    "\n",
    "#### Forma compleja de la serie de Fourier\n",
    "\n",
    "Por comodidad, podemos expresar la serie de Fourier mediante una combinación lineal de senos y cosenos armonicamente relacionados o, empleando la relación de Euler, en su forma compleja.\n",
    "\n",
    "La relación de Euler es: \n",
    "\n",
    "$e^{i\\theta}=cos(\\theta)+isin(\\theta)$ de modo que:\n",
    "\n",
    "$f(t)=\\sum_{k=-\\infty}^{\\infty}(\\frac{a_{k}-ib_{k}}{2})e^{ikw_{0}t}$ definimos $c_{k}=\\frac{a_{k}-ib_{k}}{2}$ donde $c_{0}=\\frac{a_{0}}{2}$, de modo que podemos representar a la función como: \n",
    "\n",
    "$f(t)=c_{0}+\\sum_{k=-\\infty}^{\\infty}c_{k}e^{ikw_{0}t}$ \n",
    "\n",
    "**Se puede descomponer una señal periódica en funciones de exponenciales armonicamente relacionadas, donde cada valor de** $e^{ikw_{0}t}$ **para un k entero representa a un armónico distinto de la frecuencia fundamental, y donde** $c_{k}$ **sigue representando el peso que este armónico tiene en la aproximación de la función.**\n",
    "\n",
    "De esta forma, para observar el comportamiento de la serie de Fourier en forma compleja (al ser un número complejo) calculamos su módulo y su argumento, y observamos su evolución mientras avanza la frecuencia (múltiplos de la frecuencia fundamental $w_{0}$). \n",
    "\n",
    "Podría parecer que la Serie de Fourier únicamente se restringe a funciones periódicas, sin embargo, si una función f(t) no está definida en todo el eje real y únicamente lo está para un intervalo $[a,b]$, podemos considerar que tiene un periodo de $T=b-a$ y suponer que el comportamiento se repite a lo largo de todo el eje real para poder aplicar la aproximación mediante una serie de funciones exponenciales armónicamente relacionadas. "
   ]
  },
  {
   "cell_type": "markdown",
   "metadata": {},
   "source": [
    "## Transformada de Fourier"
   ]
  },
  {
   "cell_type": "markdown",
   "metadata": {},
   "source": [
    "Claramente, muchas funciones $f(t)$ no son periódicas y ya están definidas en un intervalo del eje real, por lo tanto, la idea de usar las series de Fourier no resulta viable, de modo que entra en escena la transformada de Fourier. \n",
    "\n",
    "De las series de Fourier recordemos que podemos graficar el comportamiento de las componentes exponenciales complejas de la aproximación (modulo y argumento) con respecto a la frecuencia, la cual solamente puede tomar valores como múltiplos de la frecuencia fundamental $w$. \n",
    "\n",
    "Al incrementar el valor del periodo (T) entonces el valor de la frecuencia fundamental $w$ es menor, es decir, en el eje de la frecuencia encontraremos una menor distancia entre un punto y otro. Podemos considerar a los coeficientes $c_{k}$ como funciones que dependan de una variable independiente, en este caso, la frecuencia ($F(w)$). \n",
    "\n",
    "De modo que podemos percibir que el espectro (dependiente de la frecuencia) luce cada vez más como una función continua y no una discreta, ya que la frecuencia fundamental (interespaciado en el eje de la variable independiente) se vuelve muy pequeña, al mismo tiempo que la señal pasa de ser periódica a una señal aperiódica.\n",
    "\n",
    "La nueva función $F(w)$ dependiente de la frecuencia se calcula: \n",
    "\n",
    "$F(w)=\\int_{-\\infty}^{\\infty}f(t)e^{-iwt}dt$ y se conoce como **Transformada de Fourier de f(t)**\n",
    "\n",
    "Y los coeficientes de $c_{k}$ se calculan como: \n",
    "\n",
    "$c_{k}=\\frac{1}{T}\\int_{-\\infty}^{\\infty}f(t)e^{-ikw_{0}t}dt = \\frac{1}{T}F(kw_{0})$\n",
    "\n",
    "Por lo tanto, la \"Serie de Fourier\" se vería de la forma: \n",
    "\n",
    "$f(t)=\\sum_{-\\infty}^{\\infty}\\frac{1}{T}F(kw_{0})e^{ikw_{0}t}$ como $\\frac{1}{T}=\\frac{w_{0}}{2\\pi}$ entonces \n",
    "\n",
    "$f(t)=\\frac{1}{2\\pi}\\sum_{-\\infty}^{\\infty}\\frac{1}{T}F(kw_{0})e^{ikw_{0}t}w_{0}$ como al aumentar el periodo, $w_{0}$ se vuelve infinitesimal $dw$ entonces la expresión queda de la forma: \n",
    "\n",
    "$f(t)=\\frac{1}{2\\pi}\\int_{-\\infty}^{\\infty}F(w)e^{iwt}dw$ y se conoce como **Transformada inversa de Fourier**\n",
    "\n",
    "Ambas expresiones representan el mismo fenómeno y contienen la misma información, siendo una la aproximación muy precisa de la otra, simplemente que una se encuentra en el dominio del tiempo mientras la otra se encuentra en el dominio de la frecuencia. \n",
    "\n",
    "La transformada de Fourier presenta varias propiedades, dentro de las cuales encontramos: \n",
    "\n",
    "**Propiedad de desplazamiento en el tiempo**\n",
    "\n",
    "**Propiedad de desplazamiento en la frecuencia**\n",
    "\n",
    "**Propiedad de Linealidad**\n",
    "\n",
    "**Propiedad de simetría**\n",
    "\n",
    "Otra propiedad importante es la propiedad de **Conjugación**, que se deriva del caracter par e impar de las funciones coseno y seno, respectivamente (que están relacionadas con la exponencial de la transformada de Fourier), es que el módulo $|F(w)|=|F(-w)|$ y que el argumento $arg(F(-w))=-arg(F(w))$, es decir, el módulo de $F(w)$ es una función par y el argumento de $F(w)$ es una función impar. \n",
    "\n",
    "La gráfica del módulo $|F(w)|$ con respecto a $w$ se conoce como **espectro de amplitud de f(t)**\n",
    "\n",
    "La gráfica del argumento $arg(F(w))$ se conoce como **espectro de fase de f(t)**\n",
    "\n",
    "\n",
    "#### Desarrollo de Fourier de funciones periódicas en tiempo discreto.\n",
    "\n",
    "La diferencia entre una señal continua y discreta es que la primera está definida en todos los valores reales dentro de un intervalo, por ejemplo, el intervalo del tiempo $f(t)$; por otro lado, la señal discreta solamente está definida en valores $f[kt]$ con $k=1,2,3,4,...,N$. \n",
    "\n",
    "Así como una señal continua se considera periódica cuando cumple: $f(t)=f(t+T)$, y decimos que su periodo es $T$, una función de tiempo discreto se considera periódica cuando cumple $f[n]=f[n+N]$ y decimos que $N$ es su periodo.\n",
    "\n",
    "Para una función de tiempo discreto también podemos calcular su desarrollo de Fourier, recordando que **la serie de fourier para una señal continua en tiempo continuo** es: \n",
    "\n",
    "$f(t)=c_{0}+\\sum_{k=-\\infty}^{\\infty}c_{k}e^{ikw_{0}t}$, de forma análoga podemos obtener la representación para una función en el dominio del tiempo discreto. \n",
    "\n",
    "Empecemos definiendo el análogo para: $e^{ikw_{0}t}$ que simplemente sería: $e^{ikw_{0}n}$ definida para valores $k=1,2,3,4,..., $donde $w_{0}$ ahora es de la forma: $w=\\frac{2\\pi}{N}$, igual que en el caso de tiempo continuo, este valor representa **la aportación de cada una de las frecuencias armónicas a nuestra señal**. \n",
    "\n",
    "A diferencia de las señales de tiempo continuo, si buscamos la aportación de la frecuencia armónica $w_{0}$ y la aportación de la frecuencia armónica $(N+1)w_{0}$ observamos que: \n",
    "\n",
    "Evaluando con la armónica $w_{0}$ se obtiene: $e^{i1w_{0}n}=e^{i1(\\frac{2\\pi}{N})n}$ \n",
    "\n",
    "Evaluando con la armónica $(N+1)w_{0}$ se obtiene $e^{i(N+1)w_{0}n}= e^{i1w_{0}n} + e^{iNw_{0}n} =  e^{i1(\\frac{2\\pi}{N})n} + e^{iN(\\frac{2\\pi}{N})n} = e^{i1(\\frac{2\\pi}{N})n} + e^{i(2\\pi)n} = e^{i1(\\frac{2\\pi}{N})n}$ que no es más que la aportación de la armónica $w_{0}$. \n",
    "\n",
    "Concluimos que la aportación de cada frecuencia armónica se repite luego de la N-ésima aportación, de modo que además de ser una función periódica en el dominio del tiempo discreto, también es periódica en el dominio de la frecuencia, ya que sólo hay N armónicas diferentes, y no infinitas armónicas como el caso continuo. \n",
    "\n",
    "Los valores $c_{k}$ pasan a adquirir la siguiente estructura:\n",
    "\n",
    "$c_{k}=\\frac{1}{N}\\sum_{n=0}^{N-1}f[n]e^{-ikw_{0}n}$ donde el coeficiente también posee el carácter periódico anteriormente presentado, es decir: $c_{k}=c_{k+N}$\n",
    "\n",
    "Esto es incluso intuitivo, ya que si la exponencial compleja, que representa una frecuencia armónica en específico, se repite cada N términos, el coeficiente de desarrollo que describe cuánto aporta esta frecuencia armónica a nuestra aproximación también se debe repetir cada N términos.\n",
    "\n",
    "**Podemos definir finalmente que el desarrollo de Fourier para una función periódica discreta está dado por:** \n",
    "\n",
    "$f[n]=\\sum_{k=<N>} c_{k}e^{ikw_{0}n}$ **donde el subindice de la suma implica que podemos tomar cualquier secuencia de N valores, ya que los valores dentro de la suma (en este caso finita) se repiten fuera de esta secuencia.**\n",
    "\n"
   ]
  },
  {
   "cell_type": "markdown",
   "metadata": {},
   "source": [
    "## Transformada de Fourier en Tiempo discreto"
   ]
  },
  {
   "cell_type": "markdown",
   "metadata": {},
   "source": [
    "El desarrollo de Fourier visto anteriormente fue para funciones periódicas en el tiempo discreto, y la Transformada de Fourier está definida para funciones aperiódicas en el tiempo continuo, vamos ahora a tratar con funciones aperiódicas en el tiempo discreto, esto con ayuda de la Transformada de Fourier en tiempo discreto. \n",
    "\n",
    "Al igual que hicimos con la transformada de Fourier partiendo de las series de fourier, podemos describir a la transformada de fourier en tiempo discreto partiendo del Tratamiento de fourier en tiempo discreto. \n",
    "\n",
    "Supongamos una señal dada por L puntos, los cuales se encuentran en un intervalo [a,b], podemos suponer que la señal es una función periódica de periodo N, donde $N>L$, de modo que podemos aplicar el tratamiento anterior: \n",
    "\n",
    "$f[n]=\\sum_{k=<N>}c_{k}e^{ikw_{0}n}$ con $n=0,1,2,3,4,...,N-1$ y los coeficientes de desarrollo están dados como \n",
    "$c_{k}=\\frac{1}{N}\\sum_{k=<N>}f[n]e^{-ikw_{0}n}$. Si graficamos estos coeficientes con respecto a la frecuencia notamos que el eje que representa a la frecuencia está dado por $w_{0},2w_{0},3w_{0},...,2\\pi$, donde $w_{0}$ es la frecuencia fundamental. Nótese que a diferencia de la transformada de Fourier en tiempo continuo, este intervalo es finito. \n",
    "\n",
    "Podemos pensar que los valores $c_{k}$ se obtienen de muestrear (tomar los valores que posee una función continua en ciertos tiempos) una función dependiente de la variable continua $w$, es decir, la función $F(w)$ es la envolvente de los puntos que representan a $c_{k}$. Esta función es: \n",
    "\n",
    "$F(w)=\\sum_{-\\infty}^{\\infty}f[n]e^{-iwn}$ la cual se conoce como **Transformada de Fourier en tiempo discreto **\n",
    "\n",
    "de modo que los coeficientes $c_{k}$ están determinados como: $c_{k}=\\frac{1}{N}F(kw_{0})$, como $\\frac{1}{N}=\\frac{w_{0}}{2\\pi}$ entonces la expresión para $f[n]$ es:\n",
    "\n",
    "$f[n]=\\frac{1}{2\\pi}\\sum_{k=<N>}w_{0}F(kw_{0})e^{ikw_{0}n}$ con $n=<N>$. Si aumentamos el número de valores N, hasta que tienda a infinito, entonces la frecuencia va a hacerse infinitesimal, de modo que la suma pasará a ser una integral sobre un intervalo de amplitud $2\\pi$ ya que luego de ese valor, la transformada de Fourier en tiempo discreto repite sus valores, recordemos que presenta periodicidad en la frecuencia.\n",
    "\n",
    "La función adquiere la forma: $f[n]=\\frac{1}{2\\pi}\\int_{2\\pi}F(w)e^{iwn}dw$ y se le conoce como la **Antitransformada de Fourier en tiempo discreto**\n",
    "\n",
    "La Transformada de Fourier en tiempo discreto cumple con algunas propiedades como son:\n",
    "\n",
    "**Periodicidad en frecuencia**\n",
    "\n",
    "**Linealidad**\n",
    "\n",
    "**Desplazamiento en el tiempo**\n",
    "\n",
    "**Desplazamiento en la frecuencia**\n",
    "\n",
    "**Conjugación**: Según la cual, si $f[n]$ es una función real, entonces su transformada discreta de fourier (compleja) cumple $|F(-w)|=|F(w)|$ y $Arg(F(-w))=-Arg(F(w))$, como en el caso de la Transformada de Fourier.\n",
    "\n",
    "Tanto la transformada de Fourier en tiempo discreto $F(w)$ como la señal de tiempo discreto $f[n]$ representan el mismo fénomeno aunque desde dominios diferentes: tiempo y frecuencia. \n"
   ]
  },
  {
   "cell_type": "markdown",
   "metadata": {},
   "source": [
    "## Transformada Discreta de Fourier"
   ]
  },
  {
   "cell_type": "markdown",
   "metadata": {},
   "source": [
    "Cuando nosotros buscamos analizar una señal en el dominio de la frecuencia buscamos procesarla por medio de métodos computacionales, sin embargo, luego de aplicar la Transformada de Fourier obtenemos alguna función continua en el dominio de la frecuencia $F(w)$ que debido a su carácter continuo es incapaz de analizarse por los métodos computacionales. \n",
    "\n",
    "La Transformada de Fourier en tiempo discreto nos arroja una función $F(w)$, continua en base a la frecuencia y de periodo $2\\pi$, el método de la transformada discreta de Fourier consiste en discretizar este función tomando únicamente N muestras equiespaciadas en el intervalo $[0,2\\pi]$, de modo que vamos a tomar una muestra cada que se avance $2\\pi/N$ (frecuencia fundamental $w_{0}$) en el eje de la frecuencia. \n",
    "\n",
    "De modo que la transformada de fourier en tiempo discreto: $F(w)=\\sum_{-\\infty}^{\\infty}f[n]e^{-iwn}$ pasa a ser de la forma: \n",
    "\n",
    "$F(\\frac{2k\\pi}{N})=\\sum_{n=0}^{N-1}f[n]e^{-ik(2\\pi/N)n}$ o visto de otra manera: \n",
    "\n",
    "$F(kw_{0})=\\sum_{n=0}^{N-1}f[n]e^{-ik(w_{0})n}$ de modo que se ve que los valores que adquiere la transformada discreta dependen de k, donde $k=0,1,2,3,...,N-1$ \n",
    "\n",
    "El cálculo de la transformada discreta de fourier para N valores está constituido por $N^{2}$ productos complejos y $N(N-1)$ sumas complejas. "
   ]
  },
  {
   "cell_type": "markdown",
   "metadata": {},
   "source": [
    "## Transformada rápida de Fourier."
   ]
  },
  {
   "cell_type": "markdown",
   "metadata": {},
   "source": [
    "En el año de 1965, Cooley y Turkey generaron un método para reducir la cantidad de calculos, recibe el nombre de Transformada Rápida de Fourier. Ilustremos el proceso de una Transformada Discreta de Fourier mediante un ejemplo:\n",
    "\n",
    "-Calcule la transformadad de fourier discreta para una secuencia de 4 muestras. \n",
    "\n",
    "Sabemos que la expresión para calcular la transformada está determinada como: \n",
    "\n",
    "$F[\\omega] = \\sum_{N=0}^{N-1}f{(t)}e^{-j\\omega(\\frac{2\\pi}{N}t)}$, entonces:\n",
    "\n",
    "Con \n",
    "\n",
    "$F(0)=f(0)e^{\\frac{-j(0)(0)\\pi}{2}} + f(1)e^{\\frac{-j(0)(1)\\pi}{2}} + f(2)e^{\\frac{-j(0)(2)\\pi}{2}} + f(3)e^{\\frac{-j(0)(3)\\pi}{2}}$\n",
    "\n",
    "$F(1)=f(0)e^{\\frac{-j(1)(0)\\pi}{2}} + f(1)e^{\\frac{-j(1)(1)\\pi}{2}} + f(2)e^{\\frac{-j(1)(2)\\pi}{2}} + f(3)e^{\\frac{-j(1)(3)\\pi}{2}}$\n",
    "\n",
    "$F(2)=f(0)e^{\\frac{-j(2)(0)\\pi}{2}} + f(1)e^{\\frac{-j(2)(1)\\pi}{2}} + f(2)e^{\\frac{-j(2)(2)\\pi}{2}} + f(3)e^{\\frac{-j(2)(3)\\pi}{2}}$\n",
    "\n",
    "$F(3)=f(0)e^{\\frac{-j(3)(0)\\pi}{2}} + f(1)e^{\\frac{-j(3)(1)\\pi}{2}} + f(2)e^{\\frac{-j(3)(2)\\pi}{2}} + f(3)e^{\\frac{-j(3)(3)\\pi}{2}}$\n",
    "\n",
    "Se puede organizar de forma matricial:\n",
    "\n",
    "$\\begin{bmatrix} F(0) \\\\ F(1) \\\\F(2)\\\\ F(3)\\\\\\end{bmatrix} = \\begin{bmatrix} 1 & 1 & 1 & 1 \\\\ 1 & e^{-j\\pi /2} &  e^{-j\\pi} &  e^{-j3\\pi /2}\\\\ 1 & e^{-j\\pi } &  e^{-j2\\pi} &  e^{-j3\\pi} \\\\ 1 & e^{-j3\\pi /2} &  e^{-j3\\pi} &  e^{-j9\\pi /2} \\\\\\end{bmatrix}  \\begin{bmatrix} f(0)\\\\f(1) \\\\ f(2)\\\\f(3)\\\\\\end{bmatrix}$\n",
    "\n",
    "donde luego de aplicar la condición de periodicidad: $e^{-j\\pi k(n)/2} = e^{-j\\pi k(n+N)/2}$ entonces podemos expresar la relación matricial anterior como: \n",
    "\n",
    "$\\begin{bmatrix} F(0) \\\\ F(1) \\\\F(2)\\\\ F(3)\\\\\\end{bmatrix} = \\begin{bmatrix} 1 & 1 & 1 & 1 \\\\ 1 & -j & -1 & j \\\\ 1 & -1 & 1 & -1 \\\\ 1 & j & -1 & -j \\\\\\end{bmatrix}  \\begin{bmatrix} f(0)\\\\f(1) \\\\ f(2)\\\\f(3)\\\\\\end{bmatrix}$ \n",
    "\n",
    "$F(0) = f(0) + f(1) + f(2) + f(3) = (f(0) + f(2)) + (f(1) + f(3))$\n",
    "\n",
    "$F(1) = f(0) - jf(1) -f(2) + jf(3) = (f(0)-f(2)) -j (f(1)-f(3))$\n",
    "\n",
    "$F(2) = f(0) - f(1) + f(2) - f(3) = (f(0) + f(2)) - (f(1) + f(3))$\n",
    "\n",
    "$F(3) = f(0) + jf(1) - f(2) -j f(3) = (f(0)-f(2)) +j (f(1)-f(3))$\n",
    "\n",
    "donde es evidente que los terminos relacionados entre $F(0)$ y $F(2)$ son los mismos, solo separados con un signo negativo entre ellos, del mismo modo ocurre con los terminos relacionados entre $F(1)$ y $F(3)$.\n",
    "Así, el número de calculos realizados disminuyen ya que algunos se repiten. \n",
    "\n",
    "Entonces es claro que dos elementos de la Transformada Discreta de Fourier son parecidos si son de indice par, así como lo son dos elementos de indice impar. Por lo tanto, el método de la Transformada Rápida de Fourier consiste en dividir el calculo de los elementos de la transformada discreta en dos calculos: los de elementos pares, y los elementos impares, este proceso recibe el nombre de *decimación en el tiempo*.\n",
    "\n",
    "Como consecuencia de las decimaciones en el tiempo encontramos *ecuaciones de conexión* las cuales relacionan las dos submuetras con las muestras de las cuales provienen. El proceso de las decimaciones en el tiempo se lleva a cabo una y otra vez hasta que ya no se pueda dividir más, y luego, con ayuda de las ecuaciones de conexión, recuperamos los resultados de aplicar una transformada discreta de fourier, claramente con la ventaja de la velocidad. \n",
    "\n",
    "Normalmente, este proceso de decimaciones se representa mediante un esquema de mariposa, y se realiza un total de $log_{2}N$ veces. Por lo tanto, aunque no es muy evidente, es posible demostrar que el número de multiplicaciones necesarias para este método es $\\frac{N}{2}log_{2}N$. Que claramente, es mucho más rápido que la Transformada Discreta de Fourier típica. "
   ]
  },
  {
   "cell_type": "markdown",
   "metadata": {},
   "source": [
    "## Conexión Arduino-Python. "
   ]
  },
  {
   "cell_type": "code",
   "execution_count": 1,
   "metadata": {},
   "outputs": [],
   "source": [
    "from numpy import *\n",
    "from serial import *\n",
    "from pylab import *\n",
    "import scipy.fftpack\n",
    "import matplotlib.pyplot as plt\n"
   ]
  },
  {
   "cell_type": "markdown",
   "metadata": {},
   "source": [
    "Normalmente la comunicación PySerial se puede referenciar mediante la siguiente sintaxis: **ser.readline()** o en otras ocasiones como **serial.readline()**, además para definir esta comunicación también necesitamos definir el puerto y la velocidad de transmisión. El puerto hace alusión al puerto mediante el cual se lleva la comunicación, por ejemplo: **'/dev/ttyUSB0'**, o COM4 en el caso de Windows. Es importante especificar que en el caso de Linux, el puerto **'/dev/ttyUSB0'** tiene la terminación **USB0** en lugar de la típica **S0,S1,S2,...,S255** debido a que se está empleando un conversor USB-Serie, ya que muchas veces los equipos no cuentan con la entrada serie.\n",
    "\n",
    "La velocidad de transmisión tiene un valor por lo general de **9600** aunque existen otros valores como 50, 75, 110, 134, 150, 200, 300, 600, 1200, 1800, 2400, 4800, 9600, 19200, 38400, 57600, 115200, se emplean dependiendo de la situación. \n",
    "\n",
    "Para inicializar un puerto es necesario importar la libreria ***serial***, luego de ello vamos a emplear el comando ***serial.Serial*** el cual funciona bajo los siguientes parametros: **init(port, baudrate, bytesize=EIGHTBITS,timeout)**\n",
    "donde el puerto se específica en el apartado de *port*, la velocidad de transmisión se determina en la sección *baudrate*, en la sección bytesize se especifíca el número de bits con los que se describen los datos, el valor predeterminado es de 8. Finalmente también se puede establecer un tiempo de espera de la lectura, específicado en la sección *timeout*.\n",
    "\n",
    "El timeout se puede definir de tres formas:\n",
    "\n",
    " timeout = None: En este modo (predeterminado, por cierto) el puerto espera de forma indefinida hasta que aparezca un dato que satisfaga el bytesize (8 de forma predeterminada). \n",
    "    \n",
    "timeout = 0: En este modo, se encargará de devolver ceros hasta que aparezca un valor que satisfaga el bytesize.\n",
    "\n",
    "timeout = x: Este valor x solamente puede ser un float. Cuando llega un valor que cumple el bytesize lo devuelve inmdiatamente, si se da el caso de que no reciba un valor que satisfaga el bytesize, luego de que el tiempo (determinado por x) se agote, devuelve todo los bytes que ha recibido. \n",
    "\n"
   ]
  },
  {
   "cell_type": "markdown",
   "metadata": {},
   "source": [
    "Una vez que definimos un \"objeto PySerial\" especificando el puerto, la velocidad de muestreo, y un determinado timeout:\n",
    "\n",
    "**Puerto= serial.Serial('/dev/ttyS1', 19200, timeout=1)**\n",
    "\n",
    "podemos aplicar una serie de comandos, como por ejemplo: \n",
    "\n",
    "**Puerto.name**, que nos indica el nombre del puerto que estamos empleando. \n",
    "\n",
    "**Puerto.write('texto')** A través del comando podemos escribir algún valor.\n",
    "\n",
    "**Puerto.read()** Nos permite leer un único byte. \n",
    "\n",
    "**Puerto.read(float)** Nos permite leer un total de \"float\" bytes. \n",
    "\n",
    "**Puerto.readline()** Se encarga de leer una línea completa de información, y nos brinda un string.\n",
    "\n",
    "**PUerto.close()** Se encarga de cerrar el puerto.            "
   ]
  },
  {
   "cell_type": "markdown",
   "metadata": {},
   "source": [
    "Es necesario que se defina un tiempo de espera, ya que al encontrarse de forma predeterminada en None, se queda esperando indefinidamente hasta que reciba un valor que cumpla con el bitesize; en el caso de aplicar la función **Puerto.readline()**, al no recibir una línea de información se quedará en un estado estacionario."
   ]
  },
  {
   "cell_type": "markdown",
   "metadata": {},
   "source": [
    "#### El siguiente código sirve simplemente para asegurarnos que existe una conexión entre el arduino y nuestro espacio de trabajo:"
   ]
  },
  {
   "cell_type": "code",
   "execution_count": 2,
   "metadata": {},
   "outputs": [
    {
     "ename": "NameError",
     "evalue": "name 'serial' is not defined",
     "output_type": "error",
     "traceback": [
      "\u001b[0;31m---------------------------------------------------------------------------\u001b[0m",
      "\u001b[0;31mNameError\u001b[0m                                 Traceback (most recent call last)",
      "\u001b[0;32m<ipython-input-2-ff6a9aeab0ec>\u001b[0m in \u001b[0;36m<module>\u001b[0;34m\u001b[0m\n\u001b[0;32m----> 1\u001b[0;31m \u001b[0mPuerto_arduino\u001b[0m \u001b[0;34m=\u001b[0m \u001b[0mserial\u001b[0m\u001b[0;34m.\u001b[0m\u001b[0mSerial\u001b[0m\u001b[0;34m(\u001b[0m\u001b[0;34m'/dev/ttyUSB0'\u001b[0m\u001b[0;34m,\u001b[0m \u001b[0;36m9600\u001b[0m\u001b[0;34m,\u001b[0m\u001b[0mtimeout\u001b[0m\u001b[0;34m=\u001b[0m\u001b[0;36m1\u001b[0m\u001b[0;34m)\u001b[0m\u001b[0;34m\u001b[0m\u001b[0;34m\u001b[0m\u001b[0m\n\u001b[0m\u001b[1;32m      2\u001b[0m \u001b[0mPuerto_arduino\u001b[0m\u001b[0;34m.\u001b[0m\u001b[0mopen\u001b[0m\u001b[0;34m(\u001b[0m\u001b[0;34m)\u001b[0m\u001b[0;34m\u001b[0m\u001b[0;34m\u001b[0m\u001b[0m\n",
      "\u001b[0;31mNameError\u001b[0m: name 'serial' is not defined"
     ]
    }
   ],
   "source": [
    "Puerto_arduino = serial.Serial('/dev/ttyUSB0', 9600,timeout=1)\n",
    "Puerto_arduino.open()"
   ]
  },
  {
   "cell_type": "code",
   "execution_count": null,
   "metadata": {},
   "outputs": [],
   "source": [
    "Puerto_arduino.is_open"
   ]
  },
  {
   "cell_type": "markdown",
   "metadata": {},
   "source": [
    "#### El siguiente código nos ayuda a visualizar que efectivamente recibimos datos procedentes del arduino:"
   ]
  },
  {
   "cell_type": "code",
   "execution_count": 3,
   "metadata": {},
   "outputs": [
    {
     "ename": "NameError",
     "evalue": "name 'serial' is not defined",
     "output_type": "error",
     "traceback": [
      "\u001b[0;31m---------------------------------------------------------------------------\u001b[0m",
      "\u001b[0;31mNameError\u001b[0m                                 Traceback (most recent call last)",
      "\u001b[0;32m<ipython-input-3-d0cd1b57f855>\u001b[0m in \u001b[0;36m<module>\u001b[0;34m\u001b[0m\n\u001b[0;32m----> 1\u001b[0;31m \u001b[0mPuerto_arduino\u001b[0m \u001b[0;34m=\u001b[0m \u001b[0mserial\u001b[0m\u001b[0;34m.\u001b[0m\u001b[0mSerial\u001b[0m\u001b[0;34m(\u001b[0m\u001b[0;34m'/dev/ttyUSB0'\u001b[0m\u001b[0;34m,\u001b[0m \u001b[0;36m9600\u001b[0m\u001b[0;34m,\u001b[0m\u001b[0mtimeout\u001b[0m\u001b[0;34m=\u001b[0m\u001b[0;36m1\u001b[0m\u001b[0;34m)\u001b[0m\u001b[0;34m\u001b[0m\u001b[0;34m\u001b[0m\u001b[0m\n\u001b[0m\u001b[1;32m      2\u001b[0m \u001b[0mValor_muestreado\u001b[0m \u001b[0;34m=\u001b[0m \u001b[0mPuerto_arduino\u001b[0m\u001b[0;34m.\u001b[0m\u001b[0mreadline\u001b[0m\u001b[0;34m(\u001b[0m\u001b[0;34m)\u001b[0m\u001b[0;34m\u001b[0m\u001b[0;34m\u001b[0m\u001b[0m\n\u001b[1;32m      3\u001b[0m \u001b[0mprint\u001b[0m\u001b[0;34m(\u001b[0m\u001b[0mValor_muestreado\u001b[0m\u001b[0;34m)\u001b[0m\u001b[0;34m\u001b[0m\u001b[0;34m\u001b[0m\u001b[0m\n\u001b[1;32m      4\u001b[0m \u001b[0mPuerto_arduino\u001b[0m\u001b[0;34m.\u001b[0m\u001b[0mclose\u001b[0m\u001b[0;34m(\u001b[0m\u001b[0;34m)\u001b[0m\u001b[0;34m\u001b[0m\u001b[0;34m\u001b[0m\u001b[0m\n",
      "\u001b[0;31mNameError\u001b[0m: name 'serial' is not defined"
     ]
    }
   ],
   "source": [
    "Puerto_arduino = serial.Serial('/dev/ttyUSB0', 9600,timeout=1)\n",
    "Valor_muestreado = Puerto_arduino.readline()\n",
    "print(Valor_muestreado)\n",
    "Puerto_arduino.close()"
   ]
  },
  {
   "cell_type": "markdown",
   "metadata": {},
   "source": [
    "# Funciones propuestas a utilizar."
   ]
  },
  {
   "cell_type": "markdown",
   "metadata": {},
   "source": [
    "## Función numpy.fft.rfft"
   ]
  },
  {
   "cell_type": "markdown",
   "metadata": {},
   "source": [
    "Esta función definida dentro de la librería de numpy tiene la siguiente estructura:\n",
    "***numpy.fft.rfft(a, n=None, axis=-1, norm=None)*** donde en primer lugar, la entrada **a** es un array, en nuestro posiblemente podramos insertar un array que contenga a todos los datos que buscamos muestrear. La entrada **n** es el número de puntos que se encuentran a lo largo del eje que vamos a utilizar para calcular la transformada, normalmente es proporcional a la entrada **a**, si por alguna razón es menor, entonces la entrada **a** disminuye hasta alcanzar el número de puntos requeridos, lo mismo ocurre en el caso de que sea mayor, la entrada **a** se completa colocando 0's en los espacios restantes. El resto de entradas no son relevantes para el uso que pretendemos darle, por lo tanto las dejamos como predeterminadas. \n",
    "Lo que la función retorna es un array que cuenta con entradas complejas, que indican los valores transformados. Si el valor de n es par (n es el número de datos agrupados dentro del array de entrada) entonces la longitud del eje sobre el cual se dio la transformación es $\\frac{n}{2}+1$. Si el número de datos proporcionados es impar, entonces la longitud de este eje es $\\frac{n+1}{2}$"
   ]
  },
  {
   "cell_type": "markdown",
   "metadata": {},
   "source": [
    "## Función numpy.ftt.ftt"
   ]
  },
  {
   "cell_type": "markdown",
   "metadata": {},
   "source": [
    "Cuenta con una estructura similar respecto a la anterior: **numpy.fft.fft(a, n=None, axis=-1, norm=None)**, sin embargo, en este caso el array de entrada **a** puede ser complejo; **n** es la longitud del eje en el cual vamos a representar los datos de salida, la variación entre este y la longitud de entrada se compensa recortándola o agregando ceros, por lo tanto, es mejor mantenerla como predeterminada. Podemos definir además el eje sobre el cual vamos a realizar la transformada discreta, además de normalizar los valores, sin embargo, no es de nuestro interés actualmente. La salida consiste de un array complejo con los valores resultantes de calcular la transformada discreta a lo largo del eje predeterminado."
   ]
  },
  {
   "cell_type": "markdown",
   "metadata": {},
   "source": [
    "## Función scipy.fftpack.fft"
   ]
  },
  {
   "cell_type": "markdown",
   "metadata": {},
   "source": [
    "La función tiene la siguiente estructura **scipy.fftpack.fft(x, n=None, axis=-1, overwrite_x=False)** donde el elemento **x** corresponde a la entrada ya sea real o compleja, claramente en forma de un array. El elemento **n**, de forma análoga a los dos casos anteriores, indica la longitud de la salida, es decir, de la transformada discreta de fourier. El parámetro **axis** hace alusión al eje conforme al cual calculamos la transformada discreta de Fourier. Finalmente, el único parámetro desconocido es **overwrite_x**, el cual al tener carácter verdadero puede ocasionar que los datos contenidos en *x* sean destruidos, por lo general se mantiene con un carácter falso. \n",
    "\n",
    "Retorna un array complejo, sin embargo, está organizado de modo que los terminos de frecuencia positiva son presentados primero (en las primeras $\\frac{n}{2}$ posiciones), mientras que los términos de frecuencia negativa están representados en el resto de entradas. Por lo tanto, si administramos una transformada de 8 puntos, las frecuencias se organizan de la siguiente forma: [0,1,2,3,-4,-3,-2,-1]. Podemos reorganizar el array de frecuencias con el comando fftshitf. \n",
    "\n",
    "Retomando las cuestiones de la transformada discreta de fourier, recalcamos que si la señal discreta que entra es positiva, entonces la señal en el dominio de la frecuencia sería simetrica, de modo que cuando se calcula la transformada discreta de fourier a una entrada totalmente real, solamente se calcula la mitad de los valores, e incluso en algunos casos únicamente se grafica la respuesta en frecuencias positivas. "
   ]
  },
  {
   "cell_type": "markdown",
   "metadata": {},
   "source": [
    "# Código:"
   ]
  },
  {
   "cell_type": "markdown",
   "metadata": {},
   "source": [
    "Primero, empleando la conexión arduino-python vamos a obtener los valores de la señal de ECG y a almacenarlos en una lista:"
   ]
  },
  {
   "cell_type": "code",
   "execution_count": null,
   "metadata": {},
   "outputs": [],
   "source": [
    "Lista_valores_muestreados=[]\n",
    "Puerto_arduino = serial.Serial('/dev/ttyUSB0', 9600,timeout=10)\n",
    "Valor_muestreado = Puerto_arduino.readline()\n",
    "Lista_valores_muestreados.append(Valor_muestreado)\n",
    "Puerto_arduino.close()"
   ]
  },
  {
   "cell_type": "markdown",
   "metadata": {},
   "source": [
    "Vamos a guardar los datos en un archivo con el objetivo de generar una base de datos que pueda ser compartida o utilizada en un futuro. "
   ]
  },
  {
   "cell_type": "code",
   "execution_count": null,
   "metadata": {},
   "outputs": [],
   "source": [
    "Archivo_texto = open(\"Datos muestreados con ayuda de arduino (sin aplicar transformada discreta de Fourier.txt\",\"w\")\n",
    "Archivo_texto.write(\"Amplitud de la señal\")\n",
    "for i in Lista_valores_muestreados:\n",
    "    Archivo_texto.write(\"Valor de la amplitud es %f \\r \\n\" %i)\n",
    "Archivo_texto.close()\n"
   ]
  },
  {
   "cell_type": "markdown",
   "metadata": {},
   "source": [
    "Una vez que tenemos los valores muestreados que corresponden a nuestra señal de tiempo discreto vamos a emplear la Transformada Discreta de Fourier en su forma más veloz: Transformada Rápida de Fourier. \n",
    "\n",
    "Empleamos los datos provenientes de nuestra base de datos. "
   ]
  },
  {
   "cell_type": "code",
   "execution_count": null,
   "metadata": {},
   "outputs": [],
   "source": [
    "Valores_almacenados = open(\"Datos muestreados con ayuda de arduino (sin aplicar transformada discreta de Fourier.txt\",\"r\")"
   ]
  },
  {
   "cell_type": "markdown",
   "metadata": {},
   "source": [
    "Vamos a calcular la Transformada Rápida de Fourier con las 3 funciones propuestas."
   ]
  },
  {
   "cell_type": "code",
   "execution_count": null,
   "metadata": {},
   "outputs": [],
   "source": [
    "Transformada_Rápida_Fourier_1 = numpy.fft.rfft(Valores_almacenados)\n",
    "\n",
    "Transformada_Rápida_Fourier_2 = numpy.ftt.ftt(Valores_almacenados)\n",
    "\n",
    "Transformada_Rápida_Fourier_3 = scipy.fftpack.fft(Valores_almacenados) "
   ]
  },
  {
   "cell_type": "markdown",
   "metadata": {},
   "source": [
    "Vamos a visualizar los coeficientes de desarrollo (que nos indican la aportación de cada frecuencia armónica en la conformación de nuestra señal) graficándolos con respecto a la frecuencia. Nosotros conocemos el valor de estos coeficientes de desarrollo, ya que se calcularon con ayuda de las tres funciones anteriores. \n",
    "\n",
    "Para graficar recordemos que la Transformada de Fourier repite sus valores cada que la frecuencia cumple un periodo de $2\\pi$, entonces el eje de la frecuencia encuentra su valor máxixo con el valor $2\\pi$. \n",
    "\n",
    "Buscamos observar el papel que juegan cada uno de los armónicos de la frecuencia fundamental en la formación de la señal, por lo tanto, calculamos la frecuencia fundamental: $w_{0}=\\frac{2\\pi}{N}$ con N el número de muestras. \n",
    "\n",
    "Sabemos que los armónicos son los N-ésimos múltiplos enteros de la frecuencia fundamental, por lo tanto, para generar el eje de frecuencia:   \n"
   ]
  },
  {
   "cell_type": "code",
   "execution_count": null,
   "metadata": {},
   "outputs": [],
   "source": [
    "def Establecemos_el_eje_de_frecuencia(Transformada_Discreta_Fourier_de_los_datos):\n",
    "    #Establecemos la cantidad de coeficientes de desarrollo. \n",
    "    Cantidad_coeficientes_de_desarrollo=len(Transformada_Discreta_Fourier_de_los_datos)\n",
    "    #Establecemos la frecuencia fundamental w0:\n",
    "    Frecuencia_fundamental= 2*pi/Cantidad_coeficientes_de_desarrollo\n",
    "    Eje_de_frecuencia = linspace(0,2*pi,Frecuencia_fundamental)\n",
    "    return array(Eje_de_frecuencia) "
   ]
  },
  {
   "cell_type": "markdown",
   "metadata": {},
   "source": [
    "Ahora podemos proceder a graficar las Transformadas de Fourier previamente calculadas:"
   ]
  },
  {
   "cell_type": "code",
   "execution_count": null,
   "metadata": {},
   "outputs": [],
   "source": [
    "Eje_de_frecuencia_1= Establecemos_el_eje_de_frecuencia(Transformada_Rápida_Fourier_1)\n",
    "\n",
    "plot(Eje_de_frecuencia_1,Transformada_Rápida_Fourier_1)\n",
    "title('Transformada Rápida de Fourier mediante numpy.fft.rfft')\n",
    "xlabel('Frecuencias armónicas [w]')\n",
    "ylabel('Magnitud del coeficiente de desarrollo')\n",
    "\n",
    "Eje_de_frecuencia_2= Establecemos_el_eje_de_frecuencia(Transformada_Rápida_Fourier_2)\n",
    "\n",
    "plot(Eje_de_frecuencia_2,Transformada_Rápida_Fourier_2)\n",
    "title('Transformada Rápida de Fourier mediante numpy.fft.fft')\n",
    "xlabel('Frecuencias armónicas [w]')\n",
    "ylabel('Magnitud del coeficiente de desarrollo')\n",
    "\n",
    "Eje_de_frecuencia_3= Establecemos_el_eje_de_frecuencia(Transformada_Rápida_Fourier_3)\n",
    "\n",
    "plot(Eje_de_frecuencia_3,Transformada_Rápida_Fourier_3)\n",
    "title('Transformada Rápida de Fourier mediante scipy.fftpack.fft')\n",
    "xlabel('Frecuencias armónicas [w]')\n",
    "ylabel('Magnitud del coeficiente de desarrollo')\n"
   ]
  },
  {
   "cell_type": "markdown",
   "metadata": {},
   "source": [
    "En el caso de que no contemos con una señal almacenada podemos emplear un registro previo, por ejemplo, el registro de ECG de 5 minutos."
   ]
  },
  {
   "cell_type": "code",
   "execution_count": null,
   "metadata": {},
   "outputs": [],
   "source": [
    "ECG=np.array([1.000000000000000000e+00,9.003241658210754395e-01,3.585899472236633301e-01,5.145867168903350830e-02,4.659643396735191345e-02,1.268233358860015869e-01,1.333063244819641113e-01,1.191247999668121338e-01,1.106158867478370667e-01,1.130470037460327148e-01,1.065640226006507874e-01,1.069692075252532959e-01,1.158833056688308716e-01,1.223662868142127991e-01,1.223662868142127991e-01,1.195299848914146423e-01,1.158833056688308716e-01,1.223662868142127991e-01,1.260129660367965698e-01,1.337115019559860229e-01,1.349270641803741455e-01,1.426256150007247925e-01,1.511345207691192627e-01,1.584278792142868042e-01,1.636953055858612061e-01,1.738249659538269043e-01,1.888168603181838989e-01,2.078606188297271729e-01,2.309562414884567261e-01,2.585089206695556641e-01,2.945705056190490723e-01,3.257698416709899902e-01,3.626418113708496094e-01,3.982982039451599121e-01,4.294975697994232178e-01,4.493516981601715088e-01,4.509724378585815430e-01,4.189627170562744141e-01,3.727714717388153076e-01,3.103727698326110840e-01,2.500000000000000000e-01,2.042139321565628052e-01,1.689627170562744141e-01,1.474878489971160889e-01,1.304700225591659546e-01,1.243922188878059387e-01,1.175040528178215027e-01,1.166936755180358887e-01,1.158833056688308716e-01,1.187196075916290283e-01,1.154781207442283630e-01,1.138573735952377319e-01,1.195299848914146423e-01,1.166936755180358887e-01,1.227714717388153076e-01,1.207455396652221680e-01,1.166936755180358887e-01,1.227714717388153076e-01,1.264181584119796753e-01,1.316855698823928833e-01,1.418152302503585815e-01,1.393841207027435303e-01,1.450567245483398438e-01,1.434359848499298096e-01,1.410048604011535645e-01,1.405996829271316528e-01,1.381685584783554077e-01,1.369529962539672852e-01,1.320907622575759888e-01,1.284440904855728149e-01,1.284440904855728149e-01,1.280388981103897095e-01,1.252025961875915527e-01,1.223662868142127991e-01,1.170988678932189941e-01,1.126418188214302063e-01,1.130470037460327148e-01,1.276337057352066040e-01,1.653160452842712402e-01,1.794975697994232178e-01,1.612641811370849609e-01,1.766612678766250610e-01,1.827390640974044800e-01,1.746353358030319214e-01,1.515397131443023682e-01,1.478930264711380005e-01,1.349270641803741455e-01,1.227714717388153076e-01,1.069692075252532959e-01,9.805510193109512329e-02,9.440843015909194946e-02,8.914100378751754761e-02,8.914100378751754761e-02,8.873581886291503906e-02,9.076175093650817871e-02,8.589951694011688232e-02,8.589951694011688232e-02,8.914100378751754761e-02,8.427876979112625122e-02,5.794165283441543579e-02,0.000000000000000000e+00,1.162884905934333801e-01,3.095623850822448730e-01,8.342787623405456543e-01,9.643436074256896973e-01,5.615883469581604004e-01,8.144246041774749756e-02,3.241490945219993591e-02,1.126418188214302063e-01,1.523500829935073853e-01,1.357374340295791626e-01,1.247974038124084473e-01,1.235818490386009216e-01,1.235818490386009216e-01,1.158833056688308716e-01,1.154781207442283630e-01,1.166936755180358887e-01,1.247974038124084473e-01,1.280388981103897095e-01,1.300648301839828491e-01,1.268233358860015869e-01,1.296596378087997437e-01,1.361426264047622681e-01,1.000000000000000000e+00,9.003241658210754395e-01,3.585899472236633301e-01,5.145867168903350830e-02,4.659643396735191345e-02,1.268233358860015869e-01,1.333063244819641113e-01,1.191247999668121338e-01,1.106158867478370667e-01,1.130470037460327148e-01,1.065640226006507874e-01,1.069692075252532959e-01,1.158833056688308716e-01,1.223662868142127991e-01,1.223662868142127991e-01,1.195299848914146423e-01,1.158833056688308716e-01,1.223662868142127991e-01,1.260129660367965698e-01,1.337115019559860229e-01,1.349270641803741455e-01,1.426256150007247925e-01,1.511345207691192627e-01,1.584278792142868042e-01,1.636953055858612061e-01,1.738249659538269043e-01,1.888168603181838989e-01,2.078606188297271729e-01,2.309562414884567261e-01,2.585089206695556641e-01,2.945705056190490723e-01,3.257698416709899902e-01,3.626418113708496094e-01,3.982982039451599121e-01,4.294975697994232178e-01,4.493516981601715088e-01,4.509724378585815430e-01,4.189627170562744141e-01,3.727714717388153076e-01,3.103727698326110840e-01,2.500000000000000000e-01,2.042139321565628052e-01,1.689627170562744141e-01,1.474878489971160889e-01,1.304700225591659546e-01,1.243922188878059387e-01,1.175040528178215027e-01,1.166936755180358887e-01,1.158833056688308716e-01,1.187196075916290283e-01,1.154781207442283630e-01,1.138573735952377319e-01,1.195299848914146423e-01,1.166936755180358887e-01,1.227714717388153076e-01,1.207455396652221680e-01,1.166936755180358887e-01,1.227714717388153076e-01,1.264181584119796753e-01,1.316855698823928833e-01,1.418152302503585815e-01,1.393841207027435303e-01,1.450567245483398438e-01,1.434359848499298096e-01,1.410048604011535645e-01,1.405996829271316528e-01,1.381685584783554077e-01,1.369529962539672852e-01,1.320907622575759888e-01,1.284440904855728149e-01,1.284440904855728149e-01,1.280388981103897095e-01,1.252025961875915527e-01,1.223662868142127991e-01,1.170988678932189941e-01,1.126418188214302063e-01,1.130470037460327148e-01,1.276337057352066040e-01,1.653160452842712402e-01,1.794975697994232178e-01,1.612641811370849609e-01,1.766612678766250610e-01,1.827390640974044800e-01,1.746353358030319214e-01,1.515397131443023682e-01,1.478930264711380005e-01,1.349270641803741455e-01,1.227714717388153076e-01,1.069692075252532959e-01,9.805510193109512329e-02,9.440843015909194946e-02,8.914100378751754761e-02,8.914100378751754761e-02,8.873581886291503906e-02,9.076175093650817871e-02,8.589951694011688232e-02,8.589951694011688232e-02,8.914100378751754761e-02,8.427876979112625122e-02,5.794165283441543579e-02,0.000000000000000000e+00,1.162884905934333801e-01,3.095623850822448730e-01,8.342787623405456543e-01,9.643436074256896973e-01,5.615883469581604004e-01,8.144246041774749756e-02,3.241490945219993591e-02,1.126418188214302063e-01,1.523500829935073853e-01,1.357374340295791626e-01,1.247974038124084473e-01,1.235818490386009216e-01,1.235818490386009216e-01,1.158833056688308716e-01,1.154781207442283630e-01,1.166936755180358887e-01,1.247974038124084473e-01,1.280388981103897095e-01,1.300648301839828491e-01,1.268233358860015869e-01,1.296596378087997437e-01,1.361426264047622681e-01,1.000000000000000000e+00,9.003241658210754395e-01,3.585899472236633301e-01,5.145867168903350830e-02,4.659643396735191345e-02,1.268233358860015869e-01,1.333063244819641113e-01,1.191247999668121338e-01,1.106158867478370667e-01,1.130470037460327148e-01,1.065640226006507874e-01,1.069692075252532959e-01,1.158833056688308716e-01,1.223662868142127991e-01,1.223662868142127991e-01,1.195299848914146423e-01,1.158833056688308716e-01,1.223662868142127991e-01,1.260129660367965698e-01,1.337115019559860229e-01,1.349270641803741455e-01,1.426256150007247925e-01,1.511345207691192627e-01,1.584278792142868042e-01,1.636953055858612061e-01,1.738249659538269043e-01,1.888168603181838989e-01,2.078606188297271729e-01,2.309562414884567261e-01,2.585089206695556641e-01,2.945705056190490723e-01,3.257698416709899902e-01,3.626418113708496094e-01,3.982982039451599121e-01,4.294975697994232178e-01,4.493516981601715088e-01,4.509724378585815430e-01,4.189627170562744141e-01,3.727714717388153076e-01,3.103727698326110840e-01,2.500000000000000000e-01,2.042139321565628052e-01,1.689627170562744141e-01,1.474878489971160889e-01,1.304700225591659546e-01,1.243922188878059387e-01,1.175040528178215027e-01,1.166936755180358887e-01,1.158833056688308716e-01,1.187196075916290283e-01,1.154781207442283630e-01,1.138573735952377319e-01,1.195299848914146423e-01,1.166936755180358887e-01,1.227714717388153076e-01,1.207455396652221680e-01,1.166936755180358887e-01,1.227714717388153076e-01,1.264181584119796753e-01,1.316855698823928833e-01,1.418152302503585815e-01,1.393841207027435303e-01,1.450567245483398438e-01,1.434359848499298096e-01,1.410048604011535645e-01,1.405996829271316528e-01,1.381685584783554077e-01,1.369529962539672852e-01,1.320907622575759888e-01,1.284440904855728149e-01,1.284440904855728149e-01,1.280388981103897095e-01,1.252025961875915527e-01,1.223662868142127991e-01,1.170988678932189941e-01,1.126418188214302063e-01,1.130470037460327148e-01,1.276337057352066040e-01,1.653160452842712402e-01,1.794975697994232178e-01,1.612641811370849609e-01,1.766612678766250610e-01,1.827390640974044800e-01,1.746353358030319214e-01,1.515397131443023682e-01,1.478930264711380005e-01,1.349270641803741455e-01,1.227714717388153076e-01,1.069692075252532959e-01,9.805510193109512329e-02,9.440843015909194946e-02,8.914100378751754761e-02,8.914100378751754761e-02,8.873581886291503906e-02,9.076175093650817871e-02,8.589951694011688232e-02,8.589951694011688232e-02,8.914100378751754761e-02,8.427876979112625122e-02,5.794165283441543579e-02,0.000000000000000000e+00,1.162884905934333801e-01,3.095623850822448730e-01,8.342787623405456543e-01,9.643436074256896973e-01,5.615883469581604004e-01,8.144246041774749756e-02,3.241490945219993591e-02,1.126418188214302063e-01,1.523500829935073853e-01,1.357374340295791626e-01,1.247974038124084473e-01,1.235818490386009216e-01,1.235818490386009216e-01,1.158833056688308716e-01,1.154781207442283630e-01,1.166936755180358887e-01,1.247974038124084473e-01,1.280388981103897095e-01,1.300648301839828491e-01,1.268233358860015869e-01,1.296596378087997437e-01,1.361426264047622681e-01,1.000000000000000000e+00,9.003241658210754395e-01,3.585899472236633301e-01,5.145867168903350830e-02,4.659643396735191345e-02,1.268233358860015869e-01,1.333063244819641113e-01,1.191247999668121338e-01,1.106158867478370667e-01,1.130470037460327148e-01,1.065640226006507874e-01,1.069692075252532959e-01,1.158833056688308716e-01,1.223662868142127991e-01,1.223662868142127991e-01,1.195299848914146423e-01,1.158833056688308716e-01,1.223662868142127991e-01,1.260129660367965698e-01,1.337115019559860229e-01,1.349270641803741455e-01,1.426256150007247925e-01,1.511345207691192627e-01,1.584278792142868042e-01,1.636953055858612061e-01,1.738249659538269043e-01,1.888168603181838989e-01,2.078606188297271729e-01,2.309562414884567261e-01,2.585089206695556641e-01,2.945705056190490723e-01,3.257698416709899902e-01,3.626418113708496094e-01,3.982982039451599121e-01,4.294975697994232178e-01,4.493516981601715088e-01,4.509724378585815430e-01,4.189627170562744141e-01,3.727714717388153076e-01,3.103727698326110840e-01,2.500000000000000000e-01,2.042139321565628052e-01,1.689627170562744141e-01,1.474878489971160889e-01,1.304700225591659546e-01,1.243922188878059387e-01,1.175040528178215027e-01,1.166936755180358887e-01,1.158833056688308716e-01,1.187196075916290283e-01,1.154781207442283630e-01,1.138573735952377319e-01,1.195299848914146423e-01,1.166936755180358887e-01,1.227714717388153076e-01,1.207455396652221680e-01,1.166936755180358887e-01,1.227714717388153076e-01,1.264181584119796753e-01,1.316855698823928833e-01,1.418152302503585815e-01,1.393841207027435303e-01,1.450567245483398438e-01,1.434359848499298096e-01,1.410048604011535645e-01,1.405996829271316528e-01,1.381685584783554077e-01,1.369529962539672852e-01,1.320907622575759888e-01,1.284440904855728149e-01,1.284440904855728149e-01,1.280388981103897095e-01,1.252025961875915527e-01,1.223662868142127991e-01,1.170988678932189941e-01,1.126418188214302063e-01,1.130470037460327148e-01,1.276337057352066040e-01,1.653160452842712402e-01,1.794975697994232178e-01,1.612641811370849609e-01,1.766612678766250610e-01,1.827390640974044800e-01,1.746353358030319214e-01,1.515397131443023682e-01,1.478930264711380005e-01,1.349270641803741455e-01,1.227714717388153076e-01,1.069692075252532959e-01,9.805510193109512329e-02,9.440843015909194946e-02,8.914100378751754761e-02,8.914100378751754761e-02,8.873581886291503906e-02,9.076175093650817871e-02,8.589951694011688232e-02,8.589951694011688232e-02,8.914100378751754761e-02,8.427876979112625122e-02,5.794165283441543579e-02,0.000000000000000000e+00,1.162884905934333801e-01,3.095623850822448730e-01,8.342787623405456543e-01,9.643436074256896973e-01,5.615883469581604004e-01,8.144246041774749756e-02,3.241490945219993591e-02,1.126418188214302063e-01,1.523500829935073853e-01,1.357374340295791626e-01,1.247974038124084473e-01,1.235818490386009216e-01,1.235818490386009216e-01,1.158833056688308716e-01,1.154781207442283630e-01,1.166936755180358887e-01,1.247974038124084473e-01,1.280388981103897095e-01,1.300648301839828491e-01,1.268233358860015869e-01,1.296596378087997437e-01,1.361426264047622681e-01,1.000000000000000000e+00,9.003241658210754395e-01,3.585899472236633301e-01,5.145867168903350830e-02,4.659643396735191345e-02,1.268233358860015869e-01,1.333063244819641113e-01,1.191247999668121338e-01,1.106158867478370667e-01,1.130470037460327148e-01,1.065640226006507874e-01,1.069692075252532959e-01,1.158833056688308716e-01,1.223662868142127991e-01,1.223662868142127991e-01,1.195299848914146423e-01,1.158833056688308716e-01,1.223662868142127991e-01,1.260129660367965698e-01,1.337115019559860229e-01,1.349270641803741455e-01,1.426256150007247925e-01,1.511345207691192627e-01,1.584278792142868042e-01,1.636953055858612061e-01,1.738249659538269043e-01,1.888168603181838989e-01,2.078606188297271729e-01,2.309562414884567261e-01,2.585089206695556641e-01,2.945705056190490723e-01,3.257698416709899902e-01,3.626418113708496094e-01,3.982982039451599121e-01,4.294975697994232178e-01,4.493516981601715088e-01,4.509724378585815430e-01,4.189627170562744141e-01,3.727714717388153076e-01,3.103727698326110840e-01,2.500000000000000000e-01,2.042139321565628052e-01,1.689627170562744141e-01,1.474878489971160889e-01,1.304700225591659546e-01,1.243922188878059387e-01,1.175040528178215027e-01,1.166936755180358887e-01,1.158833056688308716e-01,1.187196075916290283e-01,1.154781207442283630e-01,1.138573735952377319e-01,1.195299848914146423e-01,1.166936755180358887e-01,1.227714717388153076e-01,1.207455396652221680e-01,1.166936755180358887e-01,1.227714717388153076e-01,1.264181584119796753e-01,1.316855698823928833e-01,1.418152302503585815e-01,1.393841207027435303e-01,1.450567245483398438e-01,1.434359848499298096e-01,1.410048604011535645e-01,1.405996829271316528e-01,1.381685584783554077e-01,1.369529962539672852e-01,1.320907622575759888e-01,1.284440904855728149e-01,1.284440904855728149e-01,1.280388981103897095e-01,1.252025961875915527e-01,1.223662868142127991e-01,1.170988678932189941e-01,1.126418188214302063e-01,1.130470037460327148e-01,1.276337057352066040e-01,1.653160452842712402e-01,1.794975697994232178e-01,1.612641811370849609e-01,1.766612678766250610e-01,1.827390640974044800e-01,1.746353358030319214e-01,1.515397131443023682e-01,1.478930264711380005e-01,1.349270641803741455e-01,1.227714717388153076e-01,1.069692075252532959e-01,9.805510193109512329e-02,9.440843015909194946e-02,8.914100378751754761e-02,8.914100378751754761e-02,8.873581886291503906e-02,9.076175093650817871e-02,8.589951694011688232e-02,8.589951694011688232e-02,8.914100378751754761e-02,8.427876979112625122e-02,5.794165283441543579e-02,0.000000000000000000e+00,1.162884905934333801e-01,3.095623850822448730e-01,8.342787623405456543e-01,9.643436074256896973e-01,5.615883469581604004e-01,8.144246041774749756e-02,3.241490945219993591e-02,1.126418188214302063e-01,1.523500829935073853e-01,1.357374340295791626e-01,1.247974038124084473e-01,1.235818490386009216e-01,1.235818490386009216e-01,1.158833056688308716e-01,1.154781207442283630e-01,1.166936755180358887e-01,1.247974038124084473e-01,1.280388981103897095e-01,1.300648301839828491e-01,1.268233358860015869e-01,1.296596378087997437e-01,1.361426264047622681e-01,1.000000000000000000e+00,9.003241658210754395e-01,3.585899472236633301e-01,5.145867168903350830e-02,4.659643396735191345e-02,1.268233358860015869e-01,1.333063244819641113e-01,1.191247999668121338e-01,1.106158867478370667e-01,1.130470037460327148e-01,1.065640226006507874e-01,1.069692075252532959e-01,1.158833056688308716e-01,1.223662868142127991e-01,1.223662868142127991e-01,1.195299848914146423e-01,1.158833056688308716e-01,1.223662868142127991e-01,1.260129660367965698e-01,1.337115019559860229e-01,1.349270641803741455e-01,1.426256150007247925e-01,1.511345207691192627e-01,1.584278792142868042e-01,1.636953055858612061e-01,1.738249659538269043e-01,1.888168603181838989e-01,2.078606188297271729e-01,2.309562414884567261e-01,2.585089206695556641e-01,2.945705056190490723e-01,3.257698416709899902e-01,3.626418113708496094e-01,3.982982039451599121e-01,4.294975697994232178e-01,4.493516981601715088e-01,4.509724378585815430e-01,4.189627170562744141e-01,3.727714717388153076e-01,3.103727698326110840e-01,2.500000000000000000e-01,2.042139321565628052e-01,1.689627170562744141e-01,1.474878489971160889e-01,1.304700225591659546e-01,1.243922188878059387e-01,1.175040528178215027e-01,1.166936755180358887e-01,1.158833056688308716e-01,1.187196075916290283e-01,1.154781207442283630e-01,1.138573735952377319e-01,1.195299848914146423e-01,1.166936755180358887e-01,1.227714717388153076e-01,1.207455396652221680e-01,1.166936755180358887e-01,1.227714717388153076e-01,1.264181584119796753e-01,1.316855698823928833e-01,1.418152302503585815e-01,1.393841207027435303e-01,1.450567245483398438e-01,1.434359848499298096e-01,1.410048604011535645e-01,1.405996829271316528e-01,1.381685584783554077e-01,1.369529962539672852e-01,1.320907622575759888e-01,1.284440904855728149e-01,1.284440904855728149e-01,1.280388981103897095e-01,1.252025961875915527e-01,1.223662868142127991e-01,1.170988678932189941e-01,1.126418188214302063e-01,1.130470037460327148e-01,1.276337057352066040e-01,1.653160452842712402e-01,1.794975697994232178e-01,1.612641811370849609e-01,1.766612678766250610e-01,1.827390640974044800e-01,1.746353358030319214e-01,1.515397131443023682e-01,1.478930264711380005e-01,1.349270641803741455e-01,1.227714717388153076e-01,1.069692075252532959e-01,9.805510193109512329e-02,9.440843015909194946e-02,8.914100378751754761e-02,8.914100378751754761e-02,8.873581886291503906e-02,9.076175093650817871e-02,8.589951694011688232e-02,8.589951694011688232e-02,8.914100378751754761e-02,8.427876979112625122e-02,5.794165283441543579e-02,0.000000000000000000e+00,1.162884905934333801e-01,3.095623850822448730e-01,8.342787623405456543e-01,9.643436074256896973e-01,5.615883469581604004e-01,8.144246041774749756e-02,3.241490945219993591e-02,1.126418188214302063e-01,1.523500829935073853e-01,1.357374340295791626e-01,1.247974038124084473e-01,1.235818490386009216e-01,1.235818490386009216e-01,1.158833056688308716e-01,1.154781207442283630e-01,1.166936755180358887e-01,1.247974038124084473e-01,1.280388981103897095e-01,1.300648301839828491e-01,1.268233358860015869e-01,1.296596378087997437e-01,1.361426264047622681e-01,1.000000000000000000e+00,9.003241658210754395e-01,3.585899472236633301e-01,5.145867168903350830e-02,4.659643396735191345e-02,1.268233358860015869e-01,1.333063244819641113e-01,1.191247999668121338e-01,1.106158867478370667e-01,1.130470037460327148e-01,1.065640226006507874e-01,1.069692075252532959e-01,1.158833056688308716e-01,1.223662868142127991e-01,1.223662868142127991e-01,1.195299848914146423e-01,1.158833056688308716e-01,1.223662868142127991e-01,1.260129660367965698e-01,1.337115019559860229e-01,1.349270641803741455e-01,1.426256150007247925e-01,1.511345207691192627e-01,1.584278792142868042e-01,1.636953055858612061e-01,1.738249659538269043e-01,1.888168603181838989e-01,2.078606188297271729e-01,2.309562414884567261e-01,2.585089206695556641e-01,2.945705056190490723e-01,3.257698416709899902e-01,3.626418113708496094e-01,3.982982039451599121e-01,4.294975697994232178e-01,4.493516981601715088e-01,4.509724378585815430e-01,4.189627170562744141e-01,3.727714717388153076e-01,3.103727698326110840e-01,2.500000000000000000e-01,2.042139321565628052e-01,1.689627170562744141e-01,1.474878489971160889e-01,1.304700225591659546e-01,1.243922188878059387e-01,1.175040528178215027e-01,1.166936755180358887e-01,1.158833056688308716e-01,1.187196075916290283e-01,1.154781207442283630e-01,1.138573735952377319e-01,1.195299848914146423e-01,1.166936755180358887e-01,1.227714717388153076e-01,1.207455396652221680e-01,1.166936755180358887e-01,1.227714717388153076e-01,1.264181584119796753e-01,1.316855698823928833e-01,1.418152302503585815e-01,1.393841207027435303e-01,1.450567245483398438e-01,1.434359848499298096e-01,1.410048604011535645e-01,1.405996829271316528e-01,1.381685584783554077e-01,1.369529962539672852e-01,1.320907622575759888e-01,1.284440904855728149e-01,1.284440904855728149e-01,1.280388981103897095e-01,1.252025961875915527e-01,1.223662868142127991e-01,1.170988678932189941e-01,1.126418188214302063e-01,1.130470037460327148e-01,1.276337057352066040e-01,1.653160452842712402e-01,1.794975697994232178e-01,1.612641811370849609e-01,1.766612678766250610e-01,1.827390640974044800e-01,1.746353358030319214e-01,1.515397131443023682e-01,1.478930264711380005e-01,1.349270641803741455e-01,1.227714717388153076e-01,1.069692075252532959e-01,9.805510193109512329e-02,9.440843015909194946e-02,8.914100378751754761e-02,8.914100378751754761e-02,8.873581886291503906e-02,9.076175093650817871e-02,8.589951694011688232e-02,8.589951694011688232e-02,8.914100378751754761e-02,8.427876979112625122e-02,5.794165283441543579e-02,0.000000000000000000e+00,1.162884905934333801e-01,3.095623850822448730e-01,8.342787623405456543e-01,9.643436074256896973e-01,5.615883469581604004e-01,8.144246041774749756e-02,3.241490945219993591e-02,1.126418188214302063e-01,1.523500829935073853e-01,1.357374340295791626e-01,1.247974038124084473e-01,1.235818490386009216e-01,1.235818490386009216e-01,1.158833056688308716e-01,1.154781207442283630e-01,1.166936755180358887e-01,1.247974038124084473e-01,1.280388981103897095e-01,1.300648301839828491e-01,1.268233358860015869e-01,1.296596378087997437e-01,1.361426264047622681e-01,1.000000000000000000e+00,9.003241658210754395e-01,3.585899472236633301e-01,5.145867168903350830e-02,4.659643396735191345e-02,1.268233358860015869e-01,1.333063244819641113e-01,1.191247999668121338e-01,1.106158867478370667e-01,1.130470037460327148e-01,1.065640226006507874e-01,1.069692075252532959e-01,1.158833056688308716e-01,1.223662868142127991e-01,1.223662868142127991e-01,1.195299848914146423e-01,1.158833056688308716e-01,1.223662868142127991e-01,1.260129660367965698e-01,1.337115019559860229e-01,1.349270641803741455e-01,1.426256150007247925e-01,1.511345207691192627e-01,1.584278792142868042e-01,1.636953055858612061e-01,1.738249659538269043e-01,1.888168603181838989e-01,2.078606188297271729e-01,2.309562414884567261e-01,2.585089206695556641e-01,2.945705056190490723e-01,3.257698416709899902e-01,3.626418113708496094e-01,3.982982039451599121e-01,4.294975697994232178e-01,4.493516981601715088e-01,4.509724378585815430e-01,4.189627170562744141e-01,3.727714717388153076e-01,3.103727698326110840e-01,2.500000000000000000e-01,2.042139321565628052e-01,1.689627170562744141e-01,1.474878489971160889e-01,1.304700225591659546e-01,1.243922188878059387e-01,1.175040528178215027e-01,1.166936755180358887e-01,1.158833056688308716e-01,1.187196075916290283e-01,1.154781207442283630e-01,1.138573735952377319e-01,1.195299848914146423e-01,1.166936755180358887e-01,1.227714717388153076e-01,1.207455396652221680e-01,1.166936755180358887e-01,1.227714717388153076e-01,1.264181584119796753e-01,1.316855698823928833e-01,1.418152302503585815e-01,1.393841207027435303e-01,1.450567245483398438e-01,1.434359848499298096e-01,1.410048604011535645e-01,1.405996829271316528e-01,1.381685584783554077e-01,1.369529962539672852e-01,1.320907622575759888e-01,1.284440904855728149e-01,1.284440904855728149e-01,1.280388981103897095e-01,1.252025961875915527e-01,1.223662868142127991e-01,1.170988678932189941e-01,1.126418188214302063e-01,1.130470037460327148e-01,1.276337057352066040e-01,1.653160452842712402e-01,1.794975697994232178e-01,1.612641811370849609e-01,1.766612678766250610e-01,1.827390640974044800e-01,1.746353358030319214e-01,1.515397131443023682e-01,1.478930264711380005e-01,1.349270641803741455e-01,1.227714717388153076e-01,1.069692075252532959e-01,9.805510193109512329e-02,9.440843015909194946e-02,8.914100378751754761e-02,8.914100378751754761e-02,8.873581886291503906e-02,9.076175093650817871e-02,8.589951694011688232e-02,8.589951694011688232e-02,8.914100378751754761e-02,8.427876979112625122e-02,5.794165283441543579e-02,0.000000000000000000e+00,1.162884905934333801e-01,3.095623850822448730e-01,8.342787623405456543e-01,9.643436074256896973e-01,5.615883469581604004e-01,8.144246041774749756e-02,3.241490945219993591e-02,1.126418188214302063e-01,1.523500829935073853e-01,1.357374340295791626e-01,1.247974038124084473e-01,1.235818490386009216e-01,1.235818490386009216e-01,1.158833056688308716e-01,1.154781207442283630e-01,1.166936755180358887e-01,1.247974038124084473e-01,1.280388981103897095e-01,1.300648301839828491e-01,1.268233358860015869e-01,1.296596378087997437e-01,1.361426264047622681e-01])"
   ]
  },
  {
   "cell_type": "code",
   "execution_count": 53,
   "metadata": {},
   "outputs": [],
   "source": [
    "ECG1 = open(\"Datos muestreados con ayuda de Arduino sin aplicar transformada discreta de Fourier3.txt\",\"r\")\n",
    "Valor=ECG1.read()\n",
    "ECG1.close\n",
    "#print(Valor)\n",
    "\n",
    "ECG2=[]\n",
    "with open('Datos muestreados con ayuda de Arduino sin aplicar transformada discreta de Fourier3.txt') as lineas:\n",
    "    for linea in lineas:\n",
    "        ECG2.append(linea)"
   ]
  },
  {
   "cell_type": "code",
   "execution_count": 54,
   "metadata": {},
   "outputs": [
    {
     "data": {
      "text/plain": [
       "(0, 4)"
      ]
     },
     "execution_count": 54,
     "metadata": {},
     "output_type": "execute_result"
    },
    {
     "data": {
      "image/png": "[encoded data removed]",
      "text/plain": [
       "<matplotlib.figure.Figure at 0x7ff535aa61d0>"
      ]
     },
     "metadata": {
      "needs_background": "light"
     },
     "output_type": "display_data"
    }
   ],
   "source": [
    "Números=[\"1\",\"2\",\"3\",\"4\",\"5\",\"6\",\"7\",\"8\",\"9\",\"0\",\".\"]\n",
    "ECG3=[]\n",
    "for i in ECG2:\n",
    "    i2=[]\n",
    "    if (ECG2.index(i)%2)==0:\n",
    "        for j in i:\n",
    "            if j in Números:\n",
    "                i2.append(j)\n",
    "        Num=i2[0]+i2[1]+i2[2]+i2[3]+i2[4]+i2[5]+i2[6]+i2[7]\n",
    "        ECG3.append(Num)    \n",
    "ECG4=[]\n",
    "for i in ECG3:\n",
    "    b=float(i)\n",
    "    ECG4.append(b)\n",
    "tiempo=linspace(0,300,len(ECG4))\n",
    "plot(tiempo,ECG4)\n",
    "xlim(0,4)"
   ]
  },
  {
   "cell_type": "code",
   "execution_count": 55,
   "metadata": {},
   "outputs": [],
   "source": [
    "#print(ECG4)"
   ]
  },
  {
   "cell_type": "code",
   "execution_count": 56,
   "metadata": {},
   "outputs": [
    {
     "name": "stdout",
     "output_type": "stream",
     "text": [
      "[ 2.87  2.77  2.76 ...,  2.76  2.56  2.35]\n"
     ]
    }
   ],
   "source": [
    "ECG5=np.array(ECG4)\n",
    "print(ECG5)"
   ]
  },
  {
   "cell_type": "code",
   "execution_count": 57,
   "metadata": {},
   "outputs": [
    {
     "name": "stdout",
     "output_type": "stream",
     "text": [
      "[  7.23719500e+04 +0.j           1.36541094e+01-27.87602734j\n",
      "   8.82723490e+00-17.28644203j ...,  -1.26764843e+00 +8.23702483j\n",
      "   9.16200208e+00 -6.84824391j   1.41983896e+01 -1.49138737j]\n"
     ]
    }
   ],
   "source": [
    "Transformada_Rápida_Fourier_1 = np.fft.rfft(ECG5)\n",
    "Transformada_Rápida_Fourier_3 = scipy.fftpack.fft(ECG5) \n",
    "\n",
    "print(Transformada_Rápida_Fourier_1)"
   ]
  },
  {
   "cell_type": "code",
   "execution_count": 59,
   "metadata": {},
   "outputs": [
    {
     "data": {
      "text/plain": [
       "[<matplotlib.lines.Line2D at 0x7ff535695898>]"
      ]
     },
     "execution_count": 59,
     "metadata": {},
     "output_type": "execute_result"
    },
    {
     "data": {
      "image/png": "[encoded data removed]",
      "text/plain": [
       "<matplotlib.figure.Figure at 0x7ff5357edf28>"
      ]
     },
     "metadata": {
      "needs_background": "light"
     },
     "output_type": "display_data"
    }
   ],
   "source": [
    "T1=2*(Transformada_Rápida_Fourier_1)/len(ECG5)\n",
    "T11=[]\n",
    "for i in range(1,len(T1)):\n",
    "    T11.append(T1[i])\n",
    "Frecuencias=fftfreq(len(ECG5))\n",
    "MA=Frecuencias>0\n",
    "B=Frecuencias[MA]\n",
    "len(B)\n",
    "len(T11)\n",
    "plot(B,T11)"
   ]
  },
  {
   "cell_type": "code",
   "execution_count": null,
   "metadata": {},
   "outputs": [],
   "source": []
  },
  {
   "cell_type": "markdown",
   "metadata": {},
   "source": [
    "A continuación vamos a definir los tiempos en los que tomamos las muestras, es decir, los instantes de muestreo. "
   ]
  },
  {
   "cell_type": "code",
   "execution_count": 60,
   "metadata": {},
   "outputs": [
    {
     "data": {
      "text/plain": [
       "29999"
      ]
     },
     "execution_count": 60,
     "metadata": {},
     "output_type": "execute_result"
    }
   ],
   "source": [
    "Periodo_de_muestreo=300/len(ECG4)\n",
    "Instantes_de_muestreo=np.linspace(0,300,len(ECG4))\n",
    "len(Instantes_de_muestreo)"
   ]
  },
  {
   "cell_type": "markdown",
   "metadata": {},
   "source": [
    "Ahora vamos a analizar la señal de Electrocardiograma (ECG), y vamos a encontrar la máxima amplitud de la señal (Pico R), y en base a este valor vamos a buscar los demás máximos en la señal de ECG (el resto de picos R)"
   ]
  },
  {
   "cell_type": "code",
   "execution_count": 72,
   "metadata": {},
   "outputs": [],
   "source": [
    "def Maximo_en_un_intervalo(lista):\n",
    "    j=0\n",
    "    posición=0\n",
    "    for i in range(0,len(lista)): \n",
    "        if lista[i]>j:\n",
    "            j=lista[i] \n",
    "        elif lista[i]<j:\n",
    "            j=j\n",
    "    return j\n",
    "    "
   ]
  },
  {
   "cell_type": "code",
   "execution_count": 73,
   "metadata": {},
   "outputs": [],
   "source": [
    "def Detector_de_máximo(Lista,Máximo,TOLERANCIA):\n",
    "    Posiciones_maximos=[]\n",
    "    for i in range(0,len(Lista)):\n",
    "        if abs(Máximo-Lista[i])<TOLERANCIA:\n",
    "            Posiciones_maximos.append(i)\n",
    "        else:\n",
    "            continue           \n",
    "    return Posiciones_maximos"
   ]
  },
  {
   "cell_type": "code",
   "execution_count": 74,
   "metadata": {},
   "outputs": [
    {
     "name": "stdout",
     "output_type": "stream",
     "text": [
      "4.26\n",
      "[22, 23, 88, 89, 116, 183, 209, 210, 211, 294, 295, 352, 438, 522, 548, 549, 550, 625, 626, 684, 710, 775, 801, 802, 883, 884, 885, 946, 972, 1038, 1065, 1151, 1152, 1153, 1213, 1214, 1240, 1241, 1329, 1330, 1331, 1413, 1414, 1476, 1564, 1590, 1591, 1592, 1675, 1676, 1737, 1738, 1764, 1826, 1852, 1853, 1854, 1855, 1935, 1936, 1937, 1938, 2019, 2079, 2105, 2169, 2195, 2196, 2197, 2198, 2281, 2282, 2283, 2348, 2466, 2467, 2468, 2549, 2550, 2551, 2607, 2716, 2717, 2719, 2794, 2795, 2796, 2797, 2850, 2876, 2877, 2939, 3058, 3059, 3060, 3061, 3120, 3146, 3147, 3148, 3213, 3214, 3240, 3307, 3334, 3336, 3424, 3425, 3489, 3490, 3581, 3608, 3609, 3610, 3692, 3693, 3749, 3750, 3776, 3837, 3947, 3948, 3949, 4003, 4004, 4031, 4091, 4209, 4210, 4269, 4295, 4296, 4358, 4385, 4470, 4471, 4472, 4473, 4529, 4557, 4699, 4788, 4814, 4815, 4816, 4869, 4895, 4896, 4897, 4976, 4977, 4978, 5052, 5053, 5184, 5274, 5300, 5386, 5387, 5388, 5446, 5447, 5536, 5627, 5654, 5655, 5656, 5739, 5740, 5804, 5895, 5921, 5922, 5923, 5981, 6008, 6009, 6010, 6070, 6158, 6184, 6185, 6186, 6247, 6273, 6274, 6275, 6337, 6338, 6364, 6431, 6457, 6526, 6552, 6553, 6554, 6555, 6642, 6643, 6644, 6708, 6709, 6735, 6736, 6827, 6828, 6829, 6912, 6913, 6914, 6974, 6975, 7002, 7090, 7091, 7092, 7093, 7149, 7175, 7176, 7177, 7178, 7238, 7239, 7266, 7332, 7333, 7359, 7360, 7447, 7448, 7449, 7451, 7510, 7537, 7601, 7627, 7628, 7715, 7716, 7717, 7718, 7797, 7798, 7856, 7883, 7970, 7971, 7972, 8027, 8053, 8142, 8143, 8231, 8232, 8233, 8293, 8319, 8320, 8321, 8322, 8404, 8405, 8406, 8488, 8489, 8573, 8574, 8575, 8632, 8633, 8659, 8750, 8751, 8752, 8837, 8838, 8839, 8840, 8926, 8927, 9077, 9104, 9166, 9192, 9193, 9194, 9271, 9272, 9273, 9334, 9426, 9453, 9454, 9513, 9539, 9540, 9541, 9604, 9630, 9724, 9725, 9726, 9808, 9809, 9881, 10098, 10099, 10125, 10191, 10218, 10284, 10310, 10311, 10312, 10313, 10376, 10404, 10474, 10574, 10575, 10602, 10675, 10701, 10702, 10703, 10704, 10774, 10800, 10801, 10802, 10871, 10897, 10898, 10899, 10969, 10995, 10996, 10997, 10998, 11067, 11094, 11095, 11096, 11163, 11189, 11190, 11191, 11192, 11285, 11286, 11287, 11355, 11382, 11383, 11474, 11475, 11476, 11477, 11540, 11566, 11567, 11568, 11569, 11661, 11662, 11663, 11730, 11756, 11757, 11758, 11759, 11821, 11847, 11848, 11849, 11850, 11916, 11943, 11944, 12006, 12033, 12034, 12035, 12036, 12090, 12117, 12119, 12182, 12208, 12209, 12210, 12273, 12274, 12300, 12301, 12364, 12391, 12392, 12393, 12471, 12472, 12473, 12527, 12616, 12643, 12706, 12733, 12734, 12735, 12736, 12794, 12795, 12822, 12885, 12886, 12912, 12975, 13002, 13003, 13004, 13086, 13087, 13152, 13153, 13180, 13181, 13248, 13249, 13276, 13277, 13366, 13367, 13368, 13369, 13429, 13456, 13519, 13546, 13547, 13609, 13635, 13636, 13637, 13638, 13719, 13720, 13721, 13781, 13808, 13874, 13902, 13903, 13967, 13993, 13994, 13995, 13996, 14148, 14414, 14441, 14535, 14536, 14537, 14615, 14616, 14617, 14692, 14693, 14769, 14770, 14848, 14849, 14850, 14934, 14935, 14936, 15094, 15123, 15191, 15192, 15219, 15286, 15313, 15314, 15315, 15377, 15404, 15405, 15469, 15496, 15497, 15498, 15580, 15581, 15582, 15663, 15750, 15751, 15837, 15895, 15921, 15922, 15923, 15924, 15970, 15996, 15997, 15998, 15999, 16061, 16062, 16063, 16171, 16197, 16198, 16272, 16273, 16326, 16352, 16353, 16354, 16355, 16437, 16438, 16439, 16440, 16497, 16523, 16524, 16525, 16587, 16613, 16614, 16615, 16616, 16680, 16706, 16707, 16708, 16794, 16795, 16796, 16797, 16798, 16882, 16883, 16884, 16943, 16969, 16970, 16971, 16972, 17055, 17056, 17057, 17058, 17141, 17142, 17143, 17206, 17207, 17233, 17234, 17235, 17302, 17328, 17329, 17330, 17419, 17420, 17421, 17422, 17483, 17509, 17512, 17573, 17600, 17601, 17684, 17685, 17686, 17687, 17741, 17768, 17830, 17831, 17857, 17919, 17946, 17947, 17948, 18006, 18096, 18123, 18124, 18192, 18219, 18283, 18309, 18310, 18311, 18312, 18371, 18399, 18464, 18491, 18492, 18493, 18585, 18586, 18587, 18588, 18653, 18680, 18681, 18682, 18745, 18771, 18772, 18773, 18774, 18829, 18855, 18856, 18857, 18858, 18859, 18934, 18935, 19015, 19016, 19017, 19100, 19101, 19102, 19103, 19176, 19336, 19420, 19421, 19504, 19505, 19506, 19507, 19584, 19585, 19586, 19669, 19670, 19671, 19756, 19757, 19758, 19812, 19838, 19839, 19840, 19841, 19919, 19920, 19921, 20003, 20004, 20089, 20090, 20091, 20169, 20170, 20171, 20172, 20230, 20256, 20424, 20426, 20427, 20486, 20512, 20513, 20514, 20572, 20599, 20600, 20601, 20681, 20682, 20766, 20767, 20828, 20854, 20855, 20856, 20944, 20945, 21030, 21031, 21032, 21033, 21190, 21191, 21192, 21271, 21272, 21273, 21274, 21349, 21429, 21430, 21431, 21488, 21514, 21515, 21516, 21517, 21574, 21600, 21601, 21602, 21603, 21604, 21656, 21682, 21683, 21684, 21685, 21768, 21769, 21828, 21854, 21855, 21941, 21942, 21943, 21944, 21945, 22028, 22029, 22030, 22094, 22095, 22190, 22217, 22218, 22307, 22308, 22372, 22373, 22488, 22489, 22490, 22491, 22570, 22571, 22572, 22654, 22655, 22737, 22738, 22739, 22791, 22817, 22818, 22819, 22820, 22873, 22900, 22958, 22984, 22985, 23072, 23073, 23074, 23154, 23155, 23242, 23402, 23462, 23554, 23647, 23673, 23674, 23675, 23765, 23766, 23767, 23768, 23819, 23845, 23846, 23847, 23848, 23929, 24011, 24012, 24013, 24014, 24092, 24093, 24169, 24247, 24248, 24323, 24324, 24325, 24398, 24399, 24451, 24452, 24477, 24478, 24479, 24480, 24481, 24557, 24625, 24627, 24889, 24964, 25015, 25041, 25042, 25261, 25262, 25340, 25403, 25498, 25525, 25588, 25615, 25616, 25682, 25710, 25777, 25778, 25877, 25878, 25904, 25905, 25979, 26005, 26078, 26104, 26105, 26106, 26174, 26201, 26202, 26203, 26271, 26298, 26299, 26367, 26393, 26394, 26395, 26396, 26490, 26491, 26492, 26560, 26586, 26587, 26588, 26684, 26685, 26686, 26754, 26781, 26782, 26846, 26872, 26873, 26874, 26875, 26959, 26960, 27049, 27050, 27116, 27143, 27144, 27145, 27232, 27233, 27234, 27235, 27318, 27384, 27385, 27505, 27506, 27507, 27568, 27569, 27660, 27661, 27688, 27781, 27782, 27783, 27784, 27840, 27866, 27867, 27868, 27931, 27957, 27958, 27959, 27960, 28026, 28054, 28055, 28121, 28148, 28149, 28215, 28216, 28338, 28339, 28340, 28404, 28431, 28432, 28433, 28496, 28614, 28615, 28616, 28707, 28708, 28709, 28710, 28766, 28793, 28794, 28795, 28855, 28856, 28882, 28884, 28952, 29048, 29076, 29077, 29145, 29146, 29172, 29242, 29243, 29269, 29270, 29271, 29365, 29366, 29443, 29444, 29445, 29528, 29615, 29616, 29706, 29707, 29708, 29793, 29794, 29795, 29796, 29862, 29985, 29986, 29987, 29988]\n"
     ]
    }
   ],
   "source": [
    "Amplitud_pico_R = Maximo_en_un_intervalo(ECG4)\n",
    "print(Amplitud_pico_R)\n",
    "Picos_R = Detector_de_máximo(ECG4,Amplitud_pico_R,0.4)\n",
    "print(Picos_R)"
   ]
  },
  {
   "cell_type": "markdown",
   "metadata": {},
   "source": [
    "Una vez que encontramos los tiempos en los que existen los picos R, hay que tomar en cuenta que en muchas ocasiones, esos tiempos corresponden a un mismo complejo QRS, así que si los tiempos están muy cercanos entre sí vamos a suponer que se trata de la misma señal, y procedemos a encontrar el máximo calculando el promedio de esos datos cercanos. Vamos a calcular los puntos cercanos y su promedio."
   ]
  },
  {
   "cell_type": "code",
   "execution_count": 75,
   "metadata": {},
   "outputs": [],
   "source": [
    "def tiempos_cercanos(C):\n",
    "    LISTA=[]\n",
    "    LISTA2=[]\n",
    "    for i in C:\n",
    "        a=C.index(i)\n",
    "        for j in range(a+1,len(C)):\n",
    "            lista=[]\n",
    "            lista2=[]\n",
    "            if abs(C[a]-C[j])<=1:\n",
    "                lista.append(C[a])\n",
    "                lista.append(C[j])\n",
    "                LISTA.append(lista)\n",
    "            else:\n",
    "                continue\n",
    "    return LISTA"
   ]
  },
  {
   "cell_type": "code",
   "execution_count": 76,
   "metadata": {},
   "outputs": [],
   "source": [
    "def intervalos_R(lista):\n",
    "    E=[]\n",
    "    for i in range(0,len(lista)):\n",
    "        if i < (len(lista)-1):\n",
    "            B=lista[i+1]\n",
    "            for j in lista[i]:\n",
    "                if j in B:\n",
    "                    C=B+lista[i]\n",
    "                    C1=[]\n",
    "                    for k in C: \n",
    "                        if k not in C1:\n",
    "                            C1.append(k)\n",
    "                    C1.sort()\n",
    "                    if C1 not in E:\n",
    "                        E.append(C1)\n",
    "                    continue\n",
    "                else: \n",
    "                    continue\n",
    "        else: \n",
    "            continue \n",
    "    return E"
   ]
  },
  {
   "cell_type": "code",
   "execution_count": 77,
   "metadata": {},
   "outputs": [],
   "source": [
    "def tiempos_solitarios(lista):\n",
    "    LISTA=[]\n",
    "    for i in range(0,len(lista)-1):\n",
    "        if i == 0:\n",
    "            if abs(lista[i]-lista[i+1])>2:\n",
    "                LISTA.append(lista[i])\n",
    "        if 0<i<len(lista):\n",
    "            if abs(lista[i]-lista[i-1])>2 and abs(lista[i]-lista[i+1])>2:\n",
    "                LISTA.append(lista[i])\n",
    "    return LISTA"
   ]
  },
  {
   "cell_type": "code",
   "execution_count": 78,
   "metadata": {},
   "outputs": [
    {
     "ename": "IndexError",
     "evalue": "only integers, slices (`:`), ellipsis (`...`), numpy.newaxis (`None`) and integer or boolean arrays are valid indices",
     "output_type": "error",
     "traceback": [
      "\u001b[0;31m---------------------------------------------------------------------------\u001b[0m",
      "\u001b[0;31mIndexError\u001b[0m                                Traceback (most recent call last)",
      "\u001b[0;32m<ipython-input-78-904302f54f84>\u001b[0m in \u001b[0;36m<module>\u001b[0;34m\u001b[0m\n\u001b[1;32m      5\u001b[0m \u001b[0mTiempos_2\u001b[0m\u001b[0;34m=\u001b[0m\u001b[0mpromedio_tiempo\u001b[0m\u001b[0;34m(\u001b[0m\u001b[0mTiempos_1\u001b[0m\u001b[0;34m)\u001b[0m\u001b[0;34m\u001b[0m\u001b[0;34m\u001b[0m\u001b[0m\n\u001b[1;32m      6\u001b[0m \u001b[0;31m#print(Tiempos_2)\u001b[0m\u001b[0;34m\u001b[0m\u001b[0;34m\u001b[0m\u001b[0;34m\u001b[0m\u001b[0m\n\u001b[0;32m----> 7\u001b[0;31m \u001b[0mTiempos_3\u001b[0m\u001b[0;34m=\u001b[0m\u001b[0mRelación_temporal\u001b[0m\u001b[0;34m(\u001b[0m\u001b[0mTiempos_2\u001b[0m\u001b[0;34m,\u001b[0m\u001b[0mInstantes_de_muestreo\u001b[0m\u001b[0;34m)\u001b[0m\u001b[0;34m\u001b[0m\u001b[0;34m\u001b[0m\u001b[0m\n\u001b[0m\u001b[1;32m      8\u001b[0m \u001b[0;31m#print(Tiempos_3)\u001b[0m\u001b[0;34m\u001b[0m\u001b[0;34m\u001b[0m\u001b[0;34m\u001b[0m\u001b[0m\n\u001b[1;32m      9\u001b[0m \u001b[0mTiempos_4\u001b[0m\u001b[0;34m=\u001b[0m\u001b[0mtiempos_solitarios\u001b[0m\u001b[0;34m(\u001b[0m\u001b[0mPicos_R\u001b[0m\u001b[0;34m)\u001b[0m\u001b[0;34m\u001b[0m\u001b[0;34m\u001b[0m\u001b[0m\n",
      "\u001b[0;32m<ipython-input-69-80e85b4dfee7>\u001b[0m in \u001b[0;36mRelación_temporal\u001b[0;34m(lista1, lista2)\u001b[0m\n\u001b[1;32m      2\u001b[0m     \u001b[0mLista3\u001b[0m\u001b[0;34m=\u001b[0m\u001b[0;34m[\u001b[0m\u001b[0;34m]\u001b[0m\u001b[0;34m\u001b[0m\u001b[0;34m\u001b[0m\u001b[0m\n\u001b[1;32m      3\u001b[0m     \u001b[0;32mfor\u001b[0m \u001b[0mi\u001b[0m \u001b[0;32min\u001b[0m \u001b[0mlista1\u001b[0m\u001b[0;34m:\u001b[0m\u001b[0;34m\u001b[0m\u001b[0;34m\u001b[0m\u001b[0m\n\u001b[0;32m----> 4\u001b[0;31m         \u001b[0mLista3\u001b[0m\u001b[0;34m.\u001b[0m\u001b[0mappend\u001b[0m\u001b[0;34m(\u001b[0m\u001b[0mlista2\u001b[0m\u001b[0;34m[\u001b[0m\u001b[0mi\u001b[0m\u001b[0;34m]\u001b[0m\u001b[0;34m)\u001b[0m\u001b[0;34m\u001b[0m\u001b[0;34m\u001b[0m\u001b[0m\n\u001b[0m\u001b[1;32m      5\u001b[0m     \u001b[0;32mreturn\u001b[0m \u001b[0mLista3\u001b[0m\u001b[0;34m\u001b[0m\u001b[0;34m\u001b[0m\u001b[0m\n",
      "\u001b[0;31mIndexError\u001b[0m: only integers, slices (`:`), ellipsis (`...`), numpy.newaxis (`None`) and integer or boolean arrays are valid indices"
     ]
    }
   ],
   "source": [
    "Tiempos_0=tiempos_cercanos(Picos_R)\n",
    "#print(Tiempos_0)\n",
    "Tiempos_1=intervalos_R(Tiempos_0)\n",
    "#print(Tiempos_1)\n",
    "Tiempos_2=promedio_tiempo(Tiempos_1)\n",
    "#print(Tiempos_2)\n",
    "Tiempos_3=Relación_temporal(Tiempos_2,Instantes_de_muestreo)\n",
    "#print(Tiempos_3)\n",
    "Tiempos_4=tiempos_solitarios(Picos_R)\n",
    "#print(Tiempos_4)\n",
    "Tiempos_5=Relación_temporal(Tiempos_4,Instantes_de_muestreo)\n",
    "#print(Tiempos_5)\n",
    "\n",
    "\n",
    "Tiempo_total=Tiempos_3+Tiempos_5\n",
    "Tiempo_total.sort()\n",
    "print(Tiempo_total)\n",
    "Tiempo_total_2=[]\n",
    "for i in Tiempo_total:\n",
    "    b=(1000*float(i))\n",
    "    Tiempo_total_2.append(b)\n"
   ]
  },
  {
   "cell_type": "markdown",
   "metadata": {},
   "source": [
    "En estos tiempos encontramos los picos R, podemos encontrar en base a estos tiempos los intervalos RR, es decir, el intervalo de tiempo entre 2 picos R. "
   ]
  },
  {
   "cell_type": "code",
   "execution_count": 79,
   "metadata": {},
   "outputs": [],
   "source": [
    "def Intervalos_RRRRR(lista):\n",
    "    INTERVALOSR=[]\n",
    "    for i in range(0,len(lista)-1):\n",
    "        tiempo=lista[i+1]-lista[i]\n",
    "        INTERVALOSR.append(tiempo)\n",
    "    plot(INTERVALOSR)\n",
    "    title('Tacograma')\n",
    "    return INTERVALOSR"
   ]
  },
  {
   "cell_type": "code",
   "execution_count": 80,
   "metadata": {},
   "outputs": [
    {
     "ename": "NameError",
     "evalue": "name 'Tiempo_total_2' is not defined",
     "output_type": "error",
     "traceback": [
      "\u001b[0;31m---------------------------------------------------------------------------\u001b[0m",
      "\u001b[0;31mNameError\u001b[0m                                 Traceback (most recent call last)",
      "\u001b[0;32m<ipython-input-80-181285a1f52d>\u001b[0m in \u001b[0;36m<module>\u001b[0;34m\u001b[0m\n\u001b[0;32m----> 1\u001b[0;31m \u001b[0mIntervalos_R_ECG\u001b[0m\u001b[0;34m=\u001b[0m\u001b[0mIntervalos_RRRRR\u001b[0m\u001b[0;34m(\u001b[0m\u001b[0mTiempo_total_2\u001b[0m\u001b[0;34m)\u001b[0m\u001b[0;34m\u001b[0m\u001b[0;34m\u001b[0m\u001b[0m\n\u001b[0m\u001b[1;32m      2\u001b[0m \u001b[0;32mfor\u001b[0m \u001b[0mi\u001b[0m \u001b[0;32min\u001b[0m \u001b[0mIntervalos_R_ECG\u001b[0m\u001b[0;34m:\u001b[0m\u001b[0;34m\u001b[0m\u001b[0;34m\u001b[0m\u001b[0m\n\u001b[1;32m      3\u001b[0m     \u001b[0mFrecuencia_cardíaca\u001b[0m\u001b[0;34m=\u001b[0m\u001b[0;36m1\u001b[0m\u001b[0;34m/\u001b[0m\u001b[0mi\u001b[0m\u001b[0;34m\u001b[0m\u001b[0;34m\u001b[0m\u001b[0m\n\u001b[1;32m      4\u001b[0m     \u001b[0mprint\u001b[0m\u001b[0;34m(\u001b[0m\u001b[0mFrecuencia_cardíaca\u001b[0m\u001b[0;34m)\u001b[0m\u001b[0;34m\u001b[0m\u001b[0;34m\u001b[0m\u001b[0m\n\u001b[1;32m      5\u001b[0m \u001b[0;31m#print(Intervalos_R_ECG)\u001b[0m\u001b[0;34m\u001b[0m\u001b[0;34m\u001b[0m\u001b[0;34m\u001b[0m\u001b[0m\n",
      "\u001b[0;31mNameError\u001b[0m: name 'Tiempo_total_2' is not defined"
     ]
    }
   ],
   "source": [
    "Intervalos_R_ECG=Intervalos_RRRRR(Tiempo_total_2)\n",
    "for i in Intervalos_R_ECG:\n",
    "    Frecuencia_cardíaca=1/i\n",
    "    print(Frecuencia_cardíaca)\n",
    "#print(Intervalos_R_ECG)\n",
    "plot(Intervalos_R_ECG)\n"
   ]
  },
  {
   "cell_type": "markdown",
   "metadata": {},
   "source": [
    "## Recursos de consulta:"
   ]
  },
  {
   "cell_type": "markdown",
   "metadata": {},
   "source": [
    "https://pythonhosted.org/pyserial/shortintro.html \n",
    "\n",
    "https://docs.scipy.org/doc/numpy/reference/generated/numpy.fft.rfft.html#numpy.fft.rfft\n",
    "\n",
    "https://docs.scipy.org/doc/numpy/reference/generated/numpy.fft.fft.html#numpy.fft.fft\n",
    "\n",
    "Alicia Denis. (2015). Señales y sistemas. Fundamentos matemáticos. Buenos Aires, Argentina: UNSAM Edita. \n",
    "\n",
    "Variabilidad de la frecuencia cardíaca: Concepto, medidas y relación con aspectos clínicos, Gil Rodas,Archivo de medicina del deporte, volumen XXV, 2008. http://archivosdemedicinadeldeporte.com/articulos/upload/Variabilidad_41_123.pdf. Consultado el 13/Mayo/2019"
   ]
  },
  {
   "cell_type": "markdown",
   "metadata": {},
   "source": [
    "## Apéndices:"
   ]
  },
  {
   "cell_type": "markdown",
   "metadata": {},
   "source": [
    "El siguiente código nos ayudará a encontrar el valor máximo de amplitud que alcanza la señal de ECG. "
   ]
  },
  {
   "cell_type": "code",
   "execution_count": 81,
   "metadata": {},
   "outputs": [],
   "source": [
    "def Maximo_en_un_intervalo(lista):\n",
    "    j=0\n",
    "    posición=0\n",
    "    for i in range(0,len(lista)): \n",
    "        if lista[i]>j:\n",
    "            j=lista[i] \n",
    "        elif lista[i]<j:\n",
    "            j=j\n",
    "    return j\n",
    "    "
   ]
  },
  {
   "cell_type": "markdown",
   "metadata": {},
   "source": [
    "El valor máximo de la señal de ECG es 1, es decir, el pico R de mayor amplitud. Ahora, a lo largo de la señal vamos a buscar en qué tiempos encontramos un valor de amplitud similar. "
   ]
  },
  {
   "cell_type": "code",
   "execution_count": 82,
   "metadata": {},
   "outputs": [],
   "source": [
    "def Detector_de_máximo(Lista,Máximo,TOLERANCIA):\n",
    "    Posiciones_maximos=[]\n",
    "    for i in range(0,len(Lista)):\n",
    "        if abs(Máximo-Lista[i])<TOLERANCIA:\n",
    "            Posiciones_maximos.append(i)\n",
    "        else:\n",
    "            continue           \n",
    "    return Posiciones_maximos"
   ]
  },
  {
   "cell_type": "markdown",
   "metadata": {},
   "source": [
    "Los valores son los valores en los cuales podemos encontrar un máximo, pero no implica que correspondan a complejos PQR distintos, obviamente los valores que corresponden a complejos diferentes están separados en el intervalo temporal en más de 1 segundo. Por ello, vamos a distinguir los valores que corresponden a ciclos distintos, y a calcular un promedio entre los valores. "
   ]
  },
  {
   "cell_type": "code",
   "execution_count": 83,
   "metadata": {},
   "outputs": [],
   "source": [
    "def tiempos_cercanos(C):\n",
    "    LISTA=[]\n",
    "    LISTA2=[]\n",
    "    for i in C:\n",
    "        a=C.index(i)\n",
    "        for j in range(a+1,len(C)):\n",
    "            lista=[]\n",
    "            lista2=[]\n",
    "            if abs(C[a]-C[j])<=1:\n",
    "                lista.append(C[a])\n",
    "                lista.append(C[j])\n",
    "                LISTA.append(lista)\n",
    "            else:\n",
    "                continue\n",
    "    return LISTA"
   ]
  },
  {
   "cell_type": "code",
   "execution_count": 85,
   "metadata": {},
   "outputs": [
    {
     "ename": "NameError",
     "evalue": "name 'D' is not defined",
     "output_type": "error",
     "traceback": [
      "\u001b[0;31m---------------------------------------------------------------------------\u001b[0m",
      "\u001b[0;31mNameError\u001b[0m                                 Traceback (most recent call last)",
      "\u001b[0;32m<ipython-input-85-1750b73f6370>\u001b[0m in \u001b[0;36m<module>\u001b[0;34m\u001b[0m\n\u001b[0;32m----> 1\u001b[0;31m \u001b[0mB\u001b[0m\u001b[0;34m=\u001b[0m\u001b[0mtiempos_solitarios\u001b[0m\u001b[0;34m(\u001b[0m\u001b[0mD\u001b[0m\u001b[0;34m)\u001b[0m\u001b[0;34m\u001b[0m\u001b[0;34m\u001b[0m\u001b[0m\n\u001b[0m\u001b[1;32m      2\u001b[0m \u001b[0mprint\u001b[0m\u001b[0;34m(\u001b[0m\u001b[0mB\u001b[0m\u001b[0;34m)\u001b[0m\u001b[0;34m\u001b[0m\u001b[0;34m\u001b[0m\u001b[0m\n",
      "\u001b[0;31mNameError\u001b[0m: name 'D' is not defined"
     ]
    }
   ],
   "source": [
    "B=tiempos_solitarios(D)\n",
    "print(B)"
   ]
  },
  {
   "cell_type": "code",
   "execution_count": 66,
   "metadata": {},
   "outputs": [
    {
     "ename": "TypeError",
     "evalue": "'numpy.float64' object is not iterable",
     "output_type": "error",
     "traceback": [
      "\u001b[0;31m---------------------------------------------------------------------------\u001b[0m",
      "\u001b[0;31mTypeError\u001b[0m                                 Traceback (most recent call last)",
      "\u001b[0;32m<ipython-input-66-18c33485bb1e>\u001b[0m in \u001b[0;36m<module>\u001b[0;34m\u001b[0m\n\u001b[0;32m----> 1\u001b[0;31m \u001b[0mC1\u001b[0m\u001b[0;34m=\u001b[0m\u001b[0mintervalos_R\u001b[0m\u001b[0;34m(\u001b[0m\u001b[0mB\u001b[0m\u001b[0;34m)\u001b[0m\u001b[0;34m\u001b[0m\u001b[0;34m\u001b[0m\u001b[0m\n\u001b[0m\u001b[1;32m      2\u001b[0m \u001b[0mprint\u001b[0m\u001b[0;34m(\u001b[0m\u001b[0mC1\u001b[0m\u001b[0;34m)\u001b[0m\u001b[0;34m\u001b[0m\u001b[0;34m\u001b[0m\u001b[0m\n",
      "\u001b[0;32m<ipython-input-48-e5653b178f3b>\u001b[0m in \u001b[0;36mintervalos_R\u001b[0;34m(lista)\u001b[0m\n\u001b[1;32m      4\u001b[0m         \u001b[0;32mif\u001b[0m \u001b[0mi\u001b[0m \u001b[0;34m<\u001b[0m \u001b[0;34m(\u001b[0m\u001b[0mlen\u001b[0m\u001b[0;34m(\u001b[0m\u001b[0mlista\u001b[0m\u001b[0;34m)\u001b[0m\u001b[0;34m-\u001b[0m\u001b[0;36m1\u001b[0m\u001b[0;34m)\u001b[0m\u001b[0;34m:\u001b[0m\u001b[0;34m\u001b[0m\u001b[0;34m\u001b[0m\u001b[0m\n\u001b[1;32m      5\u001b[0m             \u001b[0mB\u001b[0m\u001b[0;34m=\u001b[0m\u001b[0mlista\u001b[0m\u001b[0;34m[\u001b[0m\u001b[0mi\u001b[0m\u001b[0;34m+\u001b[0m\u001b[0;36m1\u001b[0m\u001b[0;34m]\u001b[0m\u001b[0;34m\u001b[0m\u001b[0;34m\u001b[0m\u001b[0m\n\u001b[0;32m----> 6\u001b[0;31m             \u001b[0;32mfor\u001b[0m \u001b[0mj\u001b[0m \u001b[0;32min\u001b[0m \u001b[0mlista\u001b[0m\u001b[0;34m[\u001b[0m\u001b[0mi\u001b[0m\u001b[0;34m]\u001b[0m\u001b[0;34m:\u001b[0m\u001b[0;34m\u001b[0m\u001b[0;34m\u001b[0m\u001b[0m\n\u001b[0m\u001b[1;32m      7\u001b[0m                 \u001b[0;32mif\u001b[0m \u001b[0mj\u001b[0m \u001b[0;32min\u001b[0m \u001b[0mB\u001b[0m\u001b[0;34m:\u001b[0m\u001b[0;34m\u001b[0m\u001b[0;34m\u001b[0m\u001b[0m\n\u001b[1;32m      8\u001b[0m                     \u001b[0mC\u001b[0m\u001b[0;34m=\u001b[0m\u001b[0mB\u001b[0m\u001b[0;34m+\u001b[0m\u001b[0mlista\u001b[0m\u001b[0;34m[\u001b[0m\u001b[0mi\u001b[0m\u001b[0;34m]\u001b[0m\u001b[0;34m\u001b[0m\u001b[0;34m\u001b[0m\u001b[0m\n",
      "\u001b[0;31mTypeError\u001b[0m: 'numpy.float64' object is not iterable"
     ]
    }
   ],
   "source": [
    "C1=intervalos_R(B)\n",
    "print(C1)"
   ]
  },
  {
   "cell_type": "code",
   "execution_count": 64,
   "metadata": {},
   "outputs": [
    {
     "ename": "NameError",
     "evalue": "name 'C1' is not defined",
     "output_type": "error",
     "traceback": [
      "\u001b[0;31m---------------------------------------------------------------------------\u001b[0m",
      "\u001b[0;31mNameError\u001b[0m                                 Traceback (most recent call last)",
      "\u001b[0;32m<ipython-input-64-f3a04d3b3ce5>\u001b[0m in \u001b[0;36m<module>\u001b[0;34m\u001b[0m\n\u001b[0;32m----> 1\u001b[0;31m \u001b[0mv\u001b[0m\u001b[0;34m=\u001b[0m\u001b[0mpromedio_tiempo\u001b[0m\u001b[0;34m(\u001b[0m\u001b[0mC1\u001b[0m\u001b[0;34m)\u001b[0m\u001b[0;34m\u001b[0m\u001b[0;34m\u001b[0m\u001b[0m\n\u001b[0m\u001b[1;32m      2\u001b[0m \u001b[0mprint\u001b[0m\u001b[0;34m(\u001b[0m\u001b[0mv\u001b[0m\u001b[0;34m)\u001b[0m\u001b[0;34m\u001b[0m\u001b[0;34m\u001b[0m\u001b[0m\n\u001b[1;32m      3\u001b[0m \u001b[0mRelación_temporal\u001b[0m\u001b[0;34m(\u001b[0m\u001b[0mv\u001b[0m\u001b[0;34m,\u001b[0m\u001b[0mtiempo\u001b[0m\u001b[0;34m)\u001b[0m\u001b[0;34m\u001b[0m\u001b[0;34m\u001b[0m\u001b[0m\n",
      "\u001b[0;31mNameError\u001b[0m: name 'C1' is not defined"
     ]
    }
   ],
   "source": [
    "v=promedio_tiempo(C1)\n",
    "print(v)\n",
    "Relación_temporal(v,tiempo)"
   ]
  },
  {
   "cell_type": "code",
   "execution_count": null,
   "metadata": {},
   "outputs": [],
   "source": [
    "lista=tiempos_distantes(C)\n",
    "lista2=tiempos_solitarios(C)\n",
    "lista4=Relación_temporal(lista2,tiempo)\n",
    "lista3=promedio_tiempo(lista)\n",
    "lista3.extend(lista4)\n",
    "print(lista3)\n",
    "lista3.sort()\n",
    "print(lista3)\n"
   ]
  },
  {
   "cell_type": "code",
   "execution_count": 19,
   "metadata": {},
   "outputs": [],
   "source": [
    "def Intervalos_RRRRR(lista):\n",
    "    INTERVALOSR=[]\n",
    "    for i in range(0,len(lista)-1):\n",
    "        tiempo=lista[i+1]-lista[i]\n",
    "        INTERVALOSR.append(tiempo)\n",
    "    plot(INTERVALOSR)\n",
    "    title('Tacograma')\n",
    "    ylim(-2,2)\n",
    "    return INTERVALOSR"
   ]
  },
  {
   "cell_type": "code",
   "execution_count": null,
   "metadata": {},
   "outputs": [],
   "source": [
    "Intervalos_RRRRR(lista3)"
   ]
  },
  {
   "cell_type": "code",
   "execution_count": 20,
   "metadata": {},
   "outputs": [],
   "source": [
    "def intervalos_R(lista):\n",
    "    E=[]\n",
    "    for i in range(0,len(lista)):\n",
    "        if i < (len(lista)-1):\n",
    "            B=lista[i+1]\n",
    "            for j in lista[i]:\n",
    "                if j in B:\n",
    "                    C=B+lista[i]\n",
    "                    C1=[]\n",
    "                    for k in C: \n",
    "                        if k not in C1:\n",
    "                            C1.append(k)\n",
    "                    C1.sort()\n",
    "                    if C1 not in E:\n",
    "                        E.append(C1)\n",
    "                    continue\n",
    "                else: \n",
    "                    continue\n",
    "        else: \n",
    "            continue \n",
    "    return E"
   ]
  },
  {
   "cell_type": "code",
   "execution_count": null,
   "metadata": {},
   "outputs": [],
   "source": [
    "R=[0,1,2,3,50,120,121,122,123,124,136,167,180,190,191,210,211,212,213]"
   ]
  },
  {
   "cell_type": "code",
   "execution_count": 68,
   "metadata": {},
   "outputs": [],
   "source": [
    "def tiempos_solitarios(lista):\n",
    "    LISTA=[]\n",
    "    for i in range(0,len(lista)-1):\n",
    "        if i == 0:\n",
    "            if abs(lista[i]-lista[i+1])>2:\n",
    "                LISTA.append(lista[i])\n",
    "        if 0<i<len(lista):\n",
    "            if abs(lista[i]-lista[i-1])>2 and abs(lista[i]-lista[i+1])>2:\n",
    "                LISTA.append(lista[i])\n",
    "    return LISTA"
   ]
  },
  {
   "cell_type": "code",
   "execution_count": null,
   "metadata": {},
   "outputs": [],
   "source": [
    "tiempos_solitarios(R)"
   ]
  },
  {
   "cell_type": "code",
   "execution_count": null,
   "metadata": {},
   "outputs": [],
   "source": [
    "R1=tiempos_distantes(R)\n",
    "R2=intervalos_R(R1)\n",
    "R3=intervalos_R(R2)\n",
    "R4=intervalos_R(R3)\n",
    "print(R4)"
   ]
  },
  {
   "cell_type": "code",
   "execution_count": 69,
   "metadata": {},
   "outputs": [],
   "source": [
    "def Relación_temporal(lista1,lista2):\n",
    "    Lista3=[]\n",
    "    for i in lista1:\n",
    "        Lista3.append(lista2[i])\n",
    "    return Lista3"
   ]
  },
  {
   "cell_type": "code",
   "execution_count": null,
   "metadata": {},
   "outputs": [],
   "source": [
    "Relación_temporal(C,tiempo)"
   ]
  },
  {
   "cell_type": "code",
   "execution_count": 70,
   "metadata": {},
   "outputs": [],
   "source": [
    "def promedio_tiempo(LISTA):\n",
    "    T=[]\n",
    "    for i in LISTA:\n",
    "        t=0\n",
    "        for j in i:\n",
    "            t=t+j\n",
    "        t=t/len(i)\n",
    "        T.append(t)\n",
    "    return T"
   ]
  },
  {
   "cell_type": "code",
   "execution_count": null,
   "metadata": {},
   "outputs": [],
   "source": [
    "promedio_tiempo(A)"
   ]
  },
  {
   "cell_type": "code",
   "execution_count": null,
   "metadata": {},
   "outputs": [],
   "source": [
    "\n",
    "    "
   ]
  },
  {
   "cell_type": "code",
   "execution_count": null,
   "metadata": {},
   "outputs": [],
   "source": [
    "ECG2=np.array([1.000000000000000000e+00,9.003241658210754395e-01,3.585899472236633301e-01,5.145867168903350830e-02,4.659643396735191345e-02,1.268233358860015869e-01,1.333063244819641113e-01,1.191247999668121338e-01,1.106158867478370667e-01,1.130470037460327148e-01,1.065640226006507874e-01,1.069692075252532959e-01,1.158833056688308716e-01,1.223662868142127991e-01,1.223662868142127991e-01,1.195299848914146423e-01,1.158833056688308716e-01,1.223662868142127991e-01,1.260129660367965698e-01,1.337115019559860229e-01,1.349270641803741455e-01,1.426256150007247925e-01,1.511345207691192627e-01,1.584278792142868042e-01,1.636953055858612061e-01,1.738249659538269043e-01,1.888168603181838989e-01,2.078606188297271729e-01,2.309562414884567261e-01,2.585089206695556641e-01,2.945705056190490723e-01,3.257698416709899902e-01,3.626418113708496094e-01,3.982982039451599121e-01,4.294975697994232178e-01,4.493516981601715088e-01,4.509724378585815430e-01,4.189627170562744141e-01,3.727714717388153076e-01,3.103727698326110840e-01,2.500000000000000000e-01,2.042139321565628052e-01,1.689627170562744141e-01,1.474878489971160889e-01,1.304700225591659546e-01,1.243922188878059387e-01,1.175040528178215027e-01,1.166936755180358887e-01,1.158833056688308716e-01,1.187196075916290283e-01,1.154781207442283630e-01,1.138573735952377319e-01,1.195299848914146423e-01,1.166936755180358887e-01,1.227714717388153076e-01,1.207455396652221680e-01,1.166936755180358887e-01,1.227714717388153076e-01,1.264181584119796753e-01,1.316855698823928833e-01,1.418152302503585815e-01,1.393841207027435303e-01,1.450567245483398438e-01,1.434359848499298096e-01,1.410048604011535645e-01,1.405996829271316528e-01,1.381685584783554077e-01,1.369529962539672852e-01,1.320907622575759888e-01,1.284440904855728149e-01,1.284440904855728149e-01,1.280388981103897095e-01,1.252025961875915527e-01,1.223662868142127991e-01,1.170988678932189941e-01,1.126418188214302063e-01,1.130470037460327148e-01,1.276337057352066040e-01,1.653160452842712402e-01,1.794975697994232178e-01,1.612641811370849609e-01,1.766612678766250610e-01,1.827390640974044800e-01,1.746353358030319214e-01,1.515397131443023682e-01,1.478930264711380005e-01,1.349270641803741455e-01,1.227714717388153076e-01,1.069692075252532959e-01,9.805510193109512329e-02,9.440843015909194946e-02,8.914100378751754761e-02,8.914100378751754761e-02,8.873581886291503906e-02,9.076175093650817871e-02,8.589951694011688232e-02,8.589951694011688232e-02,8.914100378751754761e-02,8.427876979112625122e-02,5.794165283441543579e-02,0.000000000000000000e+00,1.162884905934333801e-01,3.095623850822448730e-01,8.342787623405456543e-01,9.643436074256896973e-01,5.615883469581604004e-01,8.144246041774749756e-02,3.241490945219993591e-02,1.126418188214302063e-01,1.523500829935073853e-01,1.357374340295791626e-01,1.247974038124084473e-01,1.235818490386009216e-01,1.235818490386009216e-01,1.158833056688308716e-01,1.154781207442283630e-01,1.166936755180358887e-01,1.247974038124084473e-01,1.280388981103897095e-01,1.300648301839828491e-01,1.268233358860015869e-01,1.296596378087997437e-01,1.361426264047622681e-01,1.000000000000000000e+00,9.003241658210754395e-01,3.585899472236633301e-01,5.145867168903350830e-02,4.659643396735191345e-02,1.268233358860015869e-01,1.333063244819641113e-01,1.191247999668121338e-01,1.106158867478370667e-01,1.130470037460327148e-01,1.065640226006507874e-01,1.069692075252532959e-01,1.158833056688308716e-01,1.223662868142127991e-01,1.223662868142127991e-01,1.195299848914146423e-01,1.158833056688308716e-01,1.223662868142127991e-01,1.260129660367965698e-01,1.337115019559860229e-01,1.349270641803741455e-01,1.426256150007247925e-01,1.511345207691192627e-01,1.584278792142868042e-01,1.636953055858612061e-01,1.738249659538269043e-01,1.888168603181838989e-01,2.078606188297271729e-01,2.309562414884567261e-01,2.585089206695556641e-01,2.945705056190490723e-01,3.257698416709899902e-01,3.626418113708496094e-01,3.982982039451599121e-01,4.294975697994232178e-01,4.493516981601715088e-01,4.509724378585815430e-01,4.189627170562744141e-01,3.727714717388153076e-01,3.103727698326110840e-01,2.500000000000000000e-01,2.042139321565628052e-01,1.689627170562744141e-01,1.474878489971160889e-01,1.304700225591659546e-01,1.243922188878059387e-01,1.175040528178215027e-01,1.166936755180358887e-01,1.158833056688308716e-01,1.187196075916290283e-01,1.154781207442283630e-01,1.138573735952377319e-01,1.195299848914146423e-01,1.166936755180358887e-01,1.227714717388153076e-01,1.207455396652221680e-01,1.166936755180358887e-01,1.227714717388153076e-01,1.264181584119796753e-01,1.316855698823928833e-01,1.418152302503585815e-01,1.393841207027435303e-01,1.450567245483398438e-01,1.434359848499298096e-01,1.410048604011535645e-01,1.405996829271316528e-01,1.381685584783554077e-01,1.369529962539672852e-01,1.320907622575759888e-01,1.284440904855728149e-01,1.284440904855728149e-01,1.280388981103897095e-01,1.252025961875915527e-01,1.223662868142127991e-01,1.170988678932189941e-01,1.126418188214302063e-01,1.130470037460327148e-01,1.276337057352066040e-01,1.653160452842712402e-01,1.794975697994232178e-01,1.612641811370849609e-01,1.766612678766250610e-01,1.827390640974044800e-01,1.746353358030319214e-01,1.515397131443023682e-01,1.478930264711380005e-01,1.349270641803741455e-01,1.227714717388153076e-01,1.069692075252532959e-01,9.805510193109512329e-02,9.440843015909194946e-02,8.914100378751754761e-02,8.914100378751754761e-02,8.873581886291503906e-02,9.076175093650817871e-02,8.589951694011688232e-02,8.589951694011688232e-02,8.914100378751754761e-02,8.427876979112625122e-02,5.794165283441543579e-02,0.000000000000000000e+00,1.162884905934333801e-01,3.095623850822448730e-01,8.342787623405456543e-01,9.643436074256896973e-01,5.615883469581604004e-01,8.144246041774749756e-02,3.241490945219993591e-02,1.126418188214302063e-01,1.523500829935073853e-01,1.357374340295791626e-01,1.247974038124084473e-01,1.235818490386009216e-01,1.235818490386009216e-01,1.158833056688308716e-01,1.154781207442283630e-01,1.166936755180358887e-01,1.247974038124084473e-01,1.280388981103897095e-01,1.300648301839828491e-01,1.268233358860015869e-01,1.296596378087997437e-01,1.361426264047622681e-01])"
   ]
  },
  {
   "cell_type": "code",
   "execution_count": null,
   "metadata": {},
   "outputs": [],
   "source": [
    "Transformada_Rápida_Fourier_1 = np.fft.rfft(ECG1)"
   ]
  },
  {
   "cell_type": "code",
   "execution_count": null,
   "metadata": {},
   "outputs": [],
   "source": [
    "plot(real(Transformada_Rápida_Fourier_1)/len(Transformada_Rápida_Fourier_1))"
   ]
  },
  {
   "cell_type": "code",
   "execution_count": null,
   "metadata": {},
   "outputs": [],
   "source": [
    "Datos=[]\n",
    "import csv\n",
    "with open('ptbdb_abnormal.csv') as File:\n",
    "    reader=csv.reader(File, delimiter=',',quotechar=',',\n",
    "                     quoting=csv.QUOTE_MINIMAL)\n",
    "    for row in reader:\n",
    "        Datos.append(row)"
   ]
  },
  {
   "cell_type": "code",
   "execution_count": null,
   "metadata": {},
   "outputs": [],
   "source": [
    "Datos[0].extend(Datos[1])\n",
    "D11=[]\n",
    "for i in Datos[0]:\n",
    "    D11.append(float(i))\n",
    "plot(D11)\n"
   ]
  },
  {
   "cell_type": "code",
   "execution_count": null,
   "metadata": {},
   "outputs": [],
   "source": [
    "D=[]\n",
    "for i in Datos[7]:\n",
    "    a=float(i)\n",
    "    D.append(a)\n",
    "plot(D)"
   ]
  },
  {
   "cell_type": "code",
   "execution_count": null,
   "metadata": {},
   "outputs": [],
   "source": [
    "plot(D)"
   ]
  },
  {
   "cell_type": "code",
   "execution_count": null,
   "metadata": {},
   "outputs": [],
   "source": [
    "Datos2=[]\n",
    "import csv\n",
    "with open('ptbdb_normal.csv') as File:\n",
    "    reader=csv.reader(File, delimiter=',',quotechar=',',\n",
    "                     quoting=csv.QUOTE_MINIMAL)\n",
    "    for row in reader:\n",
    "        Datos2.append(row)"
   ]
  },
  {
   "cell_type": "code",
   "execution_count": null,
   "metadata": {},
   "outputs": [],
   "source": [
    "D111=[]\n",
    "for i in Datos[1]:\n",
    "    D111.append(float(i))\n",
    "plot(D11)"
   ]
  },
  {
   "cell_type": "markdown",
   "metadata": {},
   "source": [
    "Programa para calcular la transformada de fourier a la base de datos:"
   ]
  },
  {
   "cell_type": "code",
   "execution_count": null,
   "metadata": {},
   "outputs": [],
   "source": [
    "import random\n",
    "import numpy as np\n",
    "import pylab as plt\n",
    "import os\n",
    "import scipy\n",
    "from decimal import *\n",
    "import numpy"
   ]
  },
  {
   "cell_type": "code",
   "execution_count": null,
   "metadata": {},
   "outputs": [],
   "source": [
    "arange(111)"
   ]
  },
  {
   "cell_type": "code",
   "execution_count": null,
   "metadata": {},
   "outputs": [],
   "source": [
    "type(B)"
   ]
  },
  {
   "cell_type": "code",
   "execution_count": null,
   "metadata": {},
   "outputs": [],
   "source": [
    "#Primero tenemos nuestros datos. Considerando que ya hicimos el proceso de importar. \n",
    "#ECG1=np.array()\n",
    "#Número_de_muestras=len(ECG1)\n",
    "#Intervalo de muestreo=0.001\n",
    "#Tiempototaldemuestreo=Numerodemuestras*Intervalodemuestreo=linspace(0,int(Numerodemuestras*Intervalodemuestreo),Intervalodemuestreo)\n",
    "#Tiempomaximo=Numerodemuestras*intervalodemuestreo\n",
    "\n",
    "\n",
    "\n"
   ]
  }
 ],
 "metadata": {
  "kernelspec": {
   "display_name": "Python 3",
   "language": "python",
   "name": "python3"
  },
  "language_info": {
   "codemirror_mode": {
    "name": "ipython",
    "version": 3
   },
   "file_extension": ".py",
   "mimetype": "text/x-python",
   "name": "python",
   "nbconvert_exporter": "python",
   "pygments_lexer": "ipython3",
   "version": "3.6.7"
  }
 },
 "nbformat": 4,
 "nbformat_minor": 2
}
