{
 "cells": [
  {
   "cell_type": "markdown",
   "metadata": {},
   "source": [
    "# Proyecto 2\n"
   ]
  },
  {
   "cell_type": "code",
   "execution_count": 1,
   "metadata": {},
   "outputs": [],
   "source": [
    "def primos(n):\n",
    "    print(n)\n",
    "    return"
   ]
  },
  {
   "cell_type": "code",
   "execution_count": 2,
   "metadata": {},
   "outputs": [
    {
     "name": "stdout",
     "output_type": "stream",
     "text": [
      "3\n"
     ]
    }
   ],
   "source": [
    "primos(3)"
   ]
  },
  {
   "cell_type": "code",
   "execution_count": 96,
   "metadata": {},
   "outputs": [],
   "source": [
    "def primos(n):\n",
    "    a=2\n",
    "    b=5\n",
    "    if n == 0:\n",
    "        print(\"NO ES PRIMO\")\n",
    "    elif n == 1: \n",
    "        print(\"NO ES PRIMO\")\n",
    "    elif n == 2: \n",
    "        print(\"ES PRIMO\")\n",
    "    elif n > 2: \n",
    "        \n",
    "        while a < n:\n",
    "            if n % a == 0: \n",
    "                b=0\n",
    "                a = n+1\n",
    "            else: \n",
    "                a = a+1\n",
    "                b = 1\n",
    "            \n",
    "        if b == 0:\n",
    "            print(\"NO ES PRIMO\")\n",
    "        elif b == 1:\n",
    "            print(\"ES PRIMO\")\n",
    "    return"
   ]
  },
  {
   "cell_type": "code",
   "execution_count": 149,
   "metadata": {},
   "outputs": [
    {
     "name": "stdout",
     "output_type": "stream",
     "text": [
      "ES PRIMO\n"
     ]
    }
   ],
   "source": [
    "primos(271)"
   ]
  },
  {
   "cell_type": "code",
   "execution_count": 147,
   "metadata": {},
   "outputs": [],
   "source": [
    "def factores(n):\n",
    "    listafactores = []\n",
    "    a=1\n",
    "    while a <= n+1:\n",
    "        if n % a == 0:\n",
    "            listafactores.append(a)\n",
    "            a = a+1\n",
    "        else: \n",
    "            a = a+1\n",
    "    \n",
    "    print(listafactores)\n",
    "    print(listafactores[-2])\n",
    "    return"
   ]
  },
  {
   "cell_type": "code",
   "execution_count": 178,
   "metadata": {},
   "outputs": [],
   "source": [
    "def primoshasta(u):\n",
    "    tablaprimos = []\n",
    "    for i in range(u):\n",
    "        a, b = 2, 2 \n",
    "        if i == 0:\n",
    "            b=0\n",
    "        elif  i == 1:\n",
    "            b=0\n",
    "        elif i == 2:\n",
    "            b=1\n",
    "        elif i > 2:\n",
    "            while a <= (i-1):\n",
    "                primoss=i%a\n",
    "                if primoss == 0: \n",
    "                    a=i\n",
    "                    b=0\n",
    "                else:\n",
    "                    a=a+1\n",
    "                    b=1\n",
    "        if b == 1:\n",
    "            tablaprimos.append(i)\n",
    "    print(tablaprimos)\n",
    "    \n",
    "   \n",
    "    return    \n",
    "    "
   ]
  },
  {
   "cell_type": "code",
   "execution_count": 187,
   "metadata": {},
   "outputs": [
    {
     "name": "stdout",
     "output_type": "stream",
     "text": [
      "[2, 3, 5, 7, 11, 13, 17, 19, 23, 29, 31, 37, 41, 43, 47, 53, 59, 61, 67, 71, 73, 79, 83]\n"
     ]
    }
   ],
   "source": [
    "primoshasta(87)"
   ]
  },
  {
   "cell_type": "code",
   "execution_count": 207,
   "metadata": {},
   "outputs": [],
   "source": [
    "def primosgemelos(n):\n",
    "    tablaprimos2 = []\n",
    "    for i in range(n):\n",
    "        a, b, g, h = 2, 2, 2, 2 \n",
    "        if i == 0:\n",
    "            b=0\n",
    "        elif  i == 1:\n",
    "            b=0\n",
    "        elif i == 2:\n",
    "            b=1\n",
    "        elif i > 2:\n",
    "            while a <= (i-1):\n",
    "                primoss=i%a\n",
    "                if primoss == 0: \n",
    "                    a=i\n",
    "                    b=0\n",
    "                else:\n",
    "                    a=a+1\n",
    "                    b=1\n",
    "        if b == 1:\n",
    "            tablaprimos2.append(i) \n",
    "    \n",
    "    for i in range(2,len(tablaprimos2)):\n",
    "        if (tablaprimos2[i]) - (tablaprimos2[i-1]) == 2:\n",
    "            g=1\n",
    "        else:\n",
    "            g=0\n",
    "        if (tablaprimos2[i+1]) - (tablaprimos2[i]) == 2:\n",
    "            h=1\n",
    "        else:\n",
    "            h=0\n",
    "        \n",
    "        if g == 0 and h == 0: \n",
    "            tablaprimos2.remove(tablaprimos2[i-1])\n",
    "    print(tablaprimos2)\n",
    "    \n",
    "        \n",
    "    "
   ]
  },
  {
   "cell_type": "code",
   "execution_count": 208,
   "metadata": {},
   "outputs": [
    {
     "ename": "IndexError",
     "evalue": "list index out of range",
     "output_type": "error",
     "traceback": [
      "\u001b[0;31m---------------------------------------------------------------------------\u001b[0m",
      "\u001b[0;31mIndexError\u001b[0m                                Traceback (most recent call last)",
      "\u001b[0;32m<ipython-input-208-d81624a16047>\u001b[0m in \u001b[0;36m<module>\u001b[0;34m\u001b[0m\n\u001b[0;32m----> 1\u001b[0;31m \u001b[0mprimosgemelos\u001b[0m\u001b[0;34m(\u001b[0m\u001b[0;36m98\u001b[0m\u001b[0;34m)\u001b[0m\u001b[0;34m\u001b[0m\u001b[0;34m\u001b[0m\u001b[0m\n\u001b[0m",
      "\u001b[0;32m<ipython-input-207-86b6d3321f18>\u001b[0m in \u001b[0;36mprimosgemelos\u001b[0;34m(n)\u001b[0m\n\u001b[1;32m     22\u001b[0m \u001b[0;34m\u001b[0m\u001b[0m\n\u001b[1;32m     23\u001b[0m     \u001b[0;32mfor\u001b[0m \u001b[0mi\u001b[0m \u001b[0;32min\u001b[0m \u001b[0mrange\u001b[0m\u001b[0;34m(\u001b[0m\u001b[0;36m2\u001b[0m\u001b[0;34m,\u001b[0m\u001b[0mlen\u001b[0m\u001b[0;34m(\u001b[0m\u001b[0mtablaprimos2\u001b[0m\u001b[0;34m)\u001b[0m\u001b[0;34m)\u001b[0m\u001b[0;34m:\u001b[0m\u001b[0;34m\u001b[0m\u001b[0;34m\u001b[0m\u001b[0m\n\u001b[0;32m---> 24\u001b[0;31m         \u001b[0;32mif\u001b[0m \u001b[0;34m(\u001b[0m\u001b[0mtablaprimos2\u001b[0m\u001b[0;34m[\u001b[0m\u001b[0mi\u001b[0m\u001b[0;34m]\u001b[0m\u001b[0;34m)\u001b[0m \u001b[0;34m-\u001b[0m \u001b[0;34m(\u001b[0m\u001b[0mtablaprimos2\u001b[0m\u001b[0;34m[\u001b[0m\u001b[0mi\u001b[0m\u001b[0;34m-\u001b[0m\u001b[0;36m1\u001b[0m\u001b[0;34m]\u001b[0m\u001b[0;34m)\u001b[0m \u001b[0;34m==\u001b[0m \u001b[0;36m2\u001b[0m\u001b[0;34m:\u001b[0m\u001b[0;34m\u001b[0m\u001b[0;34m\u001b[0m\u001b[0m\n\u001b[0m\u001b[1;32m     25\u001b[0m             \u001b[0mg\u001b[0m\u001b[0;34m=\u001b[0m\u001b[0;36m1\u001b[0m\u001b[0;34m\u001b[0m\u001b[0;34m\u001b[0m\u001b[0m\n\u001b[1;32m     26\u001b[0m         \u001b[0;32melse\u001b[0m\u001b[0;34m:\u001b[0m\u001b[0;34m\u001b[0m\u001b[0;34m\u001b[0m\u001b[0m\n",
      "\u001b[0;31mIndexError\u001b[0m: list index out of range"
     ]
    }
   ],
   "source": [
    "primosgemelos(98)"
   ]
  },
  {
   "cell_type": "code",
   "execution_count": 211,
   "metadata": {},
   "outputs": [],
   "source": [
    "def factores2(n):\n",
    "    listafactores = []\n",
    "    a=1\n",
    "    while a <= n+1:\n",
    "        if n % a == 0:\n",
    "            listafactores.append(a)\n",
    "            a = a+1\n",
    "        else: \n",
    "            a = a+1\n",
    "    \n",
    "    print(listafactores)\n",
    "    return"
   ]
  },
  {
   "cell_type": "code",
   "execution_count": 227,
   "metadata": {},
   "outputs": [
    {
     "name": "stdout",
     "output_type": "stream",
     "text": [
      "[1, 7]\n"
     ]
    }
   ],
   "source": [
    "factores2(7)"
   ]
  },
  {
   "cell_type": "code",
   "execution_count": 265,
   "metadata": {},
   "outputs": [],
   "source": [
    "def factoresencomun(n,m):\n",
    "    listafactores = []\n",
    "    comun = []\n",
    "    listafactores2 = []\n",
    "    a=1\n",
    "    b=1\n",
    "    \n",
    "    while a <= n+1:\n",
    "        if n % a == 0:\n",
    "            listafactores.append(a)\n",
    "            a = a+1\n",
    "        else: \n",
    "            a = a+1\n",
    "    \n",
    "    listafactores2 = []\n",
    "\n",
    "    while b <= m+1:\n",
    "        if m % b == 0:\n",
    "            listafactores2.append(b)\n",
    "            b = b+1\n",
    "        else: \n",
    "            b = b+1\n",
    "\n",
    "    \n",
    "    for factorc in listafactores:\n",
    "        if factorc in listafactores2:\n",
    "            comun.append(factorc)\n",
    "    print(comun)\n",
    "    return \n",
    "    \n"
   ]
  },
  {
   "cell_type": "code",
   "execution_count": 268,
   "metadata": {},
   "outputs": [
    {
     "name": "stdout",
     "output_type": "stream",
     "text": [
      "[1, 3, 9]\n"
     ]
    }
   ],
   "source": [
    "factoresencomun(72,81)"
   ]
  },
  {
   "cell_type": "code",
   "execution_count": null,
   "metadata": {},
   "outputs": [],
   "source": []
  },
  {
   "cell_type": "code",
   "execution_count": null,
   "metadata": {},
   "outputs": [],
   "source": []
  }
 ],
 "metadata": {
  "kernelspec": {
   "display_name": "Python 3",
   "language": "python",
   "name": "python3"
  },
  "language_info": {
   "codemirror_mode": {
    "name": "ipython",
    "version": 3
   },
   "file_extension": ".py",
   "mimetype": "text/x-python",
   "name": "python",
   "nbconvert_exporter": "python",
   "pygments_lexer": "ipython3",
   "version": "3.6.7"
  }
 },
 "nbformat": 4,
 "nbformat_minor": 2
}
