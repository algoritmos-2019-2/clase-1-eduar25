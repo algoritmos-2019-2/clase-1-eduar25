{
 "cells": [
  {
   "cell_type": "markdown",
   "metadata": {},
   "source": [
    "# Proyecto 2\n"
   ]
  },
  {
   "cell_type": "code",
   "execution_count": 1,
   "metadata": {},
   "outputs": [],
   "source": [
    "def primos(n):\n",
    "    print(n)\n",
    "    return"
   ]
  },
  {
   "cell_type": "code",
   "execution_count": 2,
   "metadata": {},
   "outputs": [
    {
     "name": "stdout",
     "output_type": "stream",
     "text": [
      "3\n"
     ]
    }
   ],
   "source": [
    "primos(3)"
   ]
  },
  {
   "cell_type": "code",
   "execution_count": 96,
   "metadata": {},
   "outputs": [],
   "source": [
    "def primos(n):\n",
    "    a=2\n",
    "    b=5\n",
    "    if n == 0:\n",
    "        print(\"NO ES PRIMO\")\n",
    "    elif n == 1: \n",
    "        print(\"NO ES PRIMO\")\n",
    "    elif n == 2: \n",
    "        print(\"ES PRIMO\")\n",
    "    elif n > 2: \n",
    "        \n",
    "        while a < n:\n",
    "            if n % a == 0: \n",
    "                b=0\n",
    "                a = n+1\n",
    "            else: \n",
    "                a = a+1\n",
    "                b = 1\n",
    "            \n",
    "        if b == 0:\n",
    "            print(\"NO ES PRIMO\")\n",
    "        elif b == 1:\n",
    "            print(\"ES PRIMO\")\n",
    "    return"
   ]
  },
  {
   "cell_type": "code",
   "execution_count": 149,
   "metadata": {},
   "outputs": [
    {
     "name": "stdout",
     "output_type": "stream",
     "text": [
      "ES PRIMO\n"
     ]
    }
   ],
   "source": [
    "primos(271)"
   ]
  },
  {
   "cell_type": "code",
   "execution_count": 147,
   "metadata": {},
   "outputs": [],
   "source": [
    "def factores(n):\n",
    "    listafactores = []\n",
    "    a=1\n",
    "    while a <= n+1:\n",
    "        if n % a == 0:\n",
    "            listafactores.append(a)\n",
    "            a = a+1\n",
    "        else: \n",
    "            a = a+1\n",
    "    \n",
    "    print(listafactores)\n",
    "    print(listafactores[-2])\n",
    "    return"
   ]
  },
  {
   "cell_type": "code",
   "execution_count": 178,
   "metadata": {},
   "outputs": [],
   "source": [
    "def primoshasta(u):\n",
    "    tablaprimos = []\n",
    "    for i in range(u):\n",
    "        a, b = 2, 2 \n",
    "        if i == 0:\n",
    "            b=0\n",
    "        elif  i == 1:\n",
    "            b=0\n",
    "        elif i == 2:\n",
    "            b=1\n",
    "        elif i > 2:\n",
    "            while a <= (i-1):\n",
    "                primoss=i%a\n",
    "                if primoss == 0: \n",
    "                    a=i\n",
    "                    b=0\n",
    "                else:\n",
    "                    a=a+1\n",
    "                    b=1\n",
    "        if b == 1:\n",
    "            tablaprimos.append(i)\n",
    "    print(tablaprimos)\n",
    "    \n",
    "   \n",
    "    return    \n",
    "    "
   ]
  },
  {
   "cell_type": "code",
   "execution_count": 187,
   "metadata": {},
   "outputs": [
    {
     "name": "stdout",
     "output_type": "stream",
     "text": [
      "[2, 3, 5, 7, 11, 13, 17, 19, 23, 29, 31, 37, 41, 43, 47, 53, 59, 61, 67, 71, 73, 79, 83]\n"
     ]
    }
   ],
   "source": [
    "primoshasta(87)"
   ]
  },
  {
   "cell_type": "code",
   "execution_count": 17,
   "metadata": {},
   "outputs": [],
   "source": [
    "def primosgemelos(n):\n",
    "    tablaprimos2 = []\n",
    "    tablaprimos3 = []\n",
    "    for i in range(n):\n",
    "        a, b = 2, 2  \n",
    "        if i == 0:\n",
    "            b=0\n",
    "        elif  i == 1:\n",
    "            b=0\n",
    "        elif i == 2:\n",
    "            b=1\n",
    "        elif i > 2:\n",
    "            while a <= (i-1):\n",
    "                primoss=i%a\n",
    "                if primoss == 0: \n",
    "                    a=i\n",
    "                    b=0\n",
    "                else:\n",
    "                    a=a+1\n",
    "                    b=1\n",
    "        if b == 1:\n",
    "            tablaprimos2.append(i) \n",
    "    \n",
    "    print(tablaprimos2)\n",
    "    \n",
    "    for i in range(0,len(tablaprimos2)-1):\n",
    "        if tablaprimos2[i+1] - tablaprimos2[i] == 2: \n",
    "            tablaprimos3.append((tablaprimos2[i], tablaprimos2[i+1]))\n",
    "        else: \n",
    "            continue\n",
    "            \n",
    "    print(tablaprimos3)\n",
    "    return\n",
    "            \n",
    "        \n",
    "    "
   ]
  },
  {
   "cell_type": "code",
   "execution_count": 18,
   "metadata": {},
   "outputs": [
    {
     "name": "stdout",
     "output_type": "stream",
     "text": [
      "[2, 3, 5, 7, 11, 13, 17, 19, 23, 29, 31, 37, 41, 43, 47, 53, 59, 61, 67, 71, 73, 79, 83, 89, 97]\n",
      "[(3, 5), (5, 7), (11, 13), (17, 19), (29, 31), (41, 43), (59, 61), (71, 73)]\n"
     ]
    }
   ],
   "source": [
    "primosgemelos(98)"
   ]
  },
  {
   "cell_type": "code",
   "execution_count": 211,
   "metadata": {},
   "outputs": [],
   "source": [
    "def factores2(n):\n",
    "    listafactores = []\n",
    "    a=1\n",
    "    while a <= n+1:\n",
    "        if n % a == 0:\n",
    "            listafactores.append(a)\n",
    "            a = a+1\n",
    "        else: \n",
    "            a = a+1\n",
    "    \n",
    "    print(listafactores)\n",
    "    return"
   ]
  },
  {
   "cell_type": "code",
   "execution_count": null,
   "metadata": {},
   "outputs": [],
   "source": [
    "factores2(89)"
   ]
  },
  {
   "cell_type": "code",
   "execution_count": 8,
   "metadata": {},
   "outputs": [],
   "source": [
    "def factoresencomun(n,m):\n",
    "    listafactores = []\n",
    "    comun = []\n",
    "    listafactores2 = []\n",
    "    a=1\n",
    "    b=1\n",
    "    \n",
    "    while a <= n+1:\n",
    "        if n % a == 0:\n",
    "            listafactores.append(a)\n",
    "            a = a+1\n",
    "        else: \n",
    "            a = a+1\n",
    "    \n",
    "    listafactores2 = []\n",
    "\n",
    "    while b <= m+1:\n",
    "        if m % b == 0:\n",
    "            listafactores2.append(b)\n",
    "            b = b+1\n",
    "        else: \n",
    "            b = b+1\n",
    "\n",
    "    \n",
    "    for factorc in listafactores:\n",
    "        if factorc in listafactores2:\n",
    "            comun.append(factorc)\n",
    "    print(comun)\n",
    "    print(comun[1])\n",
    "    print(comun[-1])\n",
    "    return \n",
    "    \n"
   ]
  },
  {
   "cell_type": "code",
   "execution_count": 9,
   "metadata": {},
   "outputs": [
    {
     "name": "stdout",
     "output_type": "stream",
     "text": [
      "[1, 2, 3, 4, 6, 8, 12, 24]\n",
      "2\n",
      "24\n"
     ]
    }
   ],
   "source": [
    "factoresencomun(24,120)"
   ]
  },
  {
   "cell_type": "code",
   "execution_count": 12,
   "metadata": {},
   "outputs": [],
   "source": [
    "def mincommul(n,m):\n",
    "    listafactores = []\n",
    "    comun = []\n",
    "    listafactores2 = []\n",
    "    a=1\n",
    "    b=1\n",
    "    \n",
    "    while a <= n+1:\n",
    "        if n % a == 0:\n",
    "            listafactores.append(a)\n",
    "            a = a+1\n",
    "        else: \n",
    "            a = a+1\n",
    "    \n",
    "    listafactores2 = []\n",
    "\n",
    "    while b <= m+1:\n",
    "        if m % b == 0:\n",
    "            listafactores2.append(b)\n",
    "            b = b+1\n",
    "        else: \n",
    "            b = b+1\n",
    "\n",
    "    \n",
    "    for factorc in listafactores:\n",
    "        if factorc in listafactores2:\n",
    "            comun.append(factorc)\n",
    "    print(comun[1])\n",
    "    return "
   ]
  },
  {
   "cell_type": "code",
   "execution_count": null,
   "metadata": {},
   "outputs": [],
   "source": [
    "def maxcommul(n,m):\n",
    "    listafactores = []\n",
    "    comun = []\n",
    "    listafactores2 = []\n",
    "    a=1\n",
    "    b=1\n",
    "    \n",
    "    while a <= n+1:\n",
    "        if n % a == 0:\n",
    "            listafactores.append(a)\n",
    "            a = a+1\n",
    "        else: \n",
    "            a = a+1\n",
    "    \n",
    "    listafactores2 = []\n",
    "\n",
    "    while b <= m+1:\n",
    "        if m % b == 0:\n",
    "            listafactores2.append(b)\n",
    "            b = b+1\n",
    "        else: \n",
    "            b = b+1\n",
    "\n",
    "    \n",
    "    for factorc in listafactores:\n",
    "        if factorc in listafactores2:\n",
    "            comun.append(factorc)\n",
    "   \n",
    "    print(comun[-1])\n",
    "    return"
   ]
  },
  {
   "cell_type": "code",
   "execution_count": 3,
   "metadata": {},
   "outputs": [],
   "source": [
    "def descomposicionpotencia(n):\n",
    "    a=2\n",
    "    b=1\n",
    "    potencias = []\n",
    "    while n!=1:\n",
    "        if n % a == 0:\n",
    "            potencias.append(a)\n",
    "            n = n/a\n",
    "        else:\n",
    "            a=a+1\n",
    "            \n",
    "    print(potencias)\n",
    "    return\n",
    "           \n",
    "    \n",
    "        "
   ]
  },
  {
   "cell_type": "code",
   "execution_count": 6,
   "metadata": {},
   "outputs": [
    {
     "name": "stdout",
     "output_type": "stream",
     "text": [
      "[2, 2, 2, 2, 2, 5]\n"
     ]
    }
   ],
   "source": [
    "descomposicionpotencia(160)"
   ]
  },
  {
   "cell_type": "code",
   "execution_count": null,
   "metadata": {},
   "outputs": [],
   "source": []
  }
 ],
 "metadata": {
  "kernelspec": {
   "display_name": "Python 3",
   "language": "python",
   "name": "python3"
  },
  "language_info": {
   "codemirror_mode": {
    "name": "ipython",
    "version": 3
   },
   "file_extension": ".py",
   "mimetype": "text/x-python",
   "name": "python",
   "nbconvert_exporter": "python",
   "pygments_lexer": "ipython3",
   "version": "3.6.7"
  }
 },
 "nbformat": 4,
 "nbformat_minor": 2
}
