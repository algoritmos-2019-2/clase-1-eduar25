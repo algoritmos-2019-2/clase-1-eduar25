{
 "cells": [
  {
   "cell_type": "markdown",
   "metadata": {},
   "source": [
    "# Diagnóstico preliminar de cardiopatías mediante el índice de variabilidad de frecuencia cardíaca obtenido mediante el análisis frecuencial de Fourier sobre una señal de ECG. "
   ]
  },
  {
   "cell_type": "markdown",
   "metadata": {},
   "source": [
    "**Elaborado por: Camacho López Rubén Eequiel// Flores Luna Luis Eduardo // Pozos Castillos Vincent Tristán**"
   ]
  },
  {
   "cell_type": "markdown",
   "metadata": {},
   "source": [
    "## Resumen: \n",
    "Se establece una conexión entre Arduino y Python con el objetivo de aplicar la transformada rápida de Fourier a una señal discreta con el objetivo de llevar a cabo su análisis en el dominio frecuencial. La señal sometida a este estudio provino de un ECG, de modo que se pudo estimar la frecuencia cardiaca y la variación de la frecuencia cardíaca (VFC). Se calcularon varios parámetros temporales y frecuenciales relacionados con la VFC que son de importancia en el diagnóstico de cardiopatías y en la evaluación del papel del Sistema Nervioso Autónomo. "
   ]
  },
  {
   "cell_type": "markdown",
   "metadata": {},
   "source": [
    "## Motivación: \n",
    "\n",
    "En la época actual resulta un poco intuitivo que el análisis de datos que proporcionan los sistemas digitales es más rápido que el que podemos realizar mediante medios analógicos. Por ello, la introducción a un lenguaje de programación es fundamental, \"transformando así la postura ante la resolución de alguna problemática\". \n",
    "\n",
    "La motivación de este proyecto está relacionada con el diagnóstico de anomalías en la actividad cardiaca, patologías como diabetes mellitus y síndrome de fatiga crónica, además de la valoración del funcionamiento del SNA, para ello se calcula la variabilidad de la frecuencia cardiaca, índice del cual se derivan parámetros necesarios para una evaluación no invasiva, contribuyendo así en un diagnóstico oportuno. "
   ]
  },
  {
   "cell_type": "markdown",
   "metadata": {},
   "source": [
    "## Estructura general del trabajo. "
   ]
  },
  {
   "cell_type": "markdown",
   "metadata": {},
   "source": [
    "A lo largo del trabajo se presenta:\n",
    "\n",
    "**1.Concepto de Frecuencia Cardíaca e Índice de Variabilidad Cardíaca**\n",
    "\n",
    "**2.Conceptos previos al tratamiento de Fourier, Transformada de Fourier, Transformada Discreta de Fourier, Transformada Rápida de Fourier**\n",
    "\n",
    "**3.Conexión Arduino-Python**\n",
    "\n",
    "**4.Filtrado de señal de ECG, Reconocimiento de los picos R, Estimación de los intervalos RR**\n",
    "\n",
    "**5.Tacograma, Estimación de parámetros temporales y frecuenciales relacionados a VFC**\n"
   ]
  },
  {
   "cell_type": "markdown",
   "metadata": {},
   "source": [
    "## Frecuencia cardiaca e Índice de variabilidad de frecuencia cardíaca."
   ]
  },
  {
   "cell_type": "markdown",
   "metadata": {},
   "source": [
    "### Frecuencia cardíaca\n",
    "\n",
    "El corazón se encarga de bombear la sangre a través del sistema circulatorio hacia los distintos tejidos presentes en el cuerpo, con el objetivo de dotarlos de nutrimentos y $O_{2}$, a la par que se recolectan desechos y $CO_{2}$. El proceso de contracción cardíaca se conoce como ciclo cardiaco e involucra las siguientes fases: \n",
    "\n",
    "#### Ciclo cardíaco\n",
    "\n",
    "1. Surge un potencial de acción en el Nodo Sinoatrial (SA) por efecto de las células marcapasos. \n",
    "2. El impulso se transmite a lo largo del circuito atrial a través del Has de Bachmann, de modo que se genera la contracción de esta cavidad. El impulso se transmite en la región atrial hasta llegar al Nodo Atrioventricular (AV). \n",
    "3. El impulso atraviesa el Nodo Atrioventricular y se distribuye por el Has de His. \n",
    "4. El impulso se transmite a través de toda la camara ventrícular gracias a las fibras de Purkinje, lo que genera la contracción en esta cavidad, y la posterior expulsión sanguínea. \n",
    "\n",
    "Los impulsos y potenciales de acción anteriormente mencionados son impulsos eléctricos. De modo que pueden ser detectados (con ayuda de electrodos) y representados en términos del tiempo y su voltaje elétrico asociado: este es el trabajo de la electrocardiografía. \n",
    "\n",
    "Las señales provenientes de un electromiograma, o mejor conocidas como señales ECG, representan la actividad eléctrica relacionada con el ciclo cardíaco, de modo que en una señal típica de ECG se pueden distinguir las distintas etapas del ciclo cardíaco relacionándolas con los diferentes tipos de ondas que conforman una señal de ECG: Onda P, Complejo QRS, Onda T. \n",
    "\n",
    "El complejo QRS está relacionado con la contracción de la camara ventrícular y la posterior expulsión de sangre, además de que es la parte de la señal de ECG que presenta una mayor amplitud (mayor voltaje), por ello, si queremos conocer el tiempo entre dos contracciones ventrículares (dos expulsiones de sangre) basta con reconocer los puntos R entre dos señales asociadas a ciclos cardíacos consecutivos. \n",
    "\n",
    "La frecuencia cardiaca representa la cantidad de contracciones cardíacas que se dan durante un minuto. La frecuencia cardíaca normal oscila entre 50 y 100 pulsaciones por minuto, aunque condiciones como el ejercicio alteran el valor de frecuencia cardíaca. Se calcula a partir del conocimiento del periodo cardíaco (Intervalo de tiempo entre dos ondas R consecutivas, intervalo R-R)\n"
   ]
  },
  {
   "cell_type": "markdown",
   "metadata": {},
   "source": [
    "### Variabilidad de frecuencia cardíaca.\n",
    "\n",
    "Sin embargo,  el periodo cardíaco, o intervalo R-R, varía entre contracciones cardiacas sucesivas. Puede ser que el intervalo R-R entre la primer contracción y la segunda tenga un valor de 859ms, mientras que el intervalo R-R relacionado entre la segunda y la tercera contracción tiene un valor de 793ms, de modo que podemos obtener frecuencias cardiacas diferentes en esos dos intervalos: 70 pulsaciones por minuto y 76 pulsaciones por minuto. \n",
    "\n",
    "**La variabilidad de frecuencia cardiaca mide justamente la variación de la duración de los intervalos R-R, y nos permite vislumbrar la diferencia entre las frecuencias correspondiente a un intervalo con respecto a la frecuencia cardiaca media.** \n",
    "\n",
    "Normalmente la variabilidad de frecuencia cardíaca representa la relación existente entre el Sistema Nervioso Autónomo (Sistema Nervioso Simpático (SNS) y Parasimpático (SNP)) y el Sistema Cardiovascular.\n",
    "\n",
    "Donde el SNP puede disminuir la frecuencia cardiaca auxiliandose con impulsos eléctricos de alta frecuencia, mientras que el SNP aumenta la frecuencia cardiaca por medio de impulsos eléctricos de baja frecuencia. La frecuencia cardíaca, la carga de trabajo necesaria realizar alguna acción, y la variabilidad de  frecuencia cardiaca se relacionan de forma inversamente proporcional, es decir, mientras más esfuerzo se realiza, la frecuencia cardíaca aumenta y la variabilidad de frecuencia cardíaca disminuye. \n",
    "\n",
    "**La variabilidad de frecuencia cardíaca está sujeta a la acción de varios factores, por ejemplo:**\n",
    "\n",
    "Sistema Nervioso Central: Emociones, procesos mentales, estrés.\n",
    "\n",
    "Sistema Respiratorio\n",
    "\n",
    "Factores que afectan a la Frecuencia cardíaca por si misma: edad, género, posición del cuerpo, hora del día, ingesta de alcohol, tabaco, medicaciones. \n",
    "\n",
    "El análisis de la variabilidad de frecuencia cardíaca nos puede brindar información con respecto al pronóstico, patogénesis y tratamiento de enfermedades relacionadas a patologías cardiovasculares, diabetes mellius, sindrome de fatiga crónica; así como información relacionada con la adaptación al estrés, y al esfuerzo físico.\n",
    "\n",
    "#### Obtención de la VFC.\n",
    "\n",
    "Se emplea un registro de ECG con duración de 24 horas (**Registro Holter**) durante el cual una persona realiza sus actividades cotidianas, se usa con el fin de cuantificar el riesgo de una persona a padecer alguna enfermedad como diabetes mellitus, sindrome de fática crónica, etc. En ocasiones, si se busca valorar la adaptación al esfuerzo físico se emplean aparatos portátiles para registrar la señal de ECG aún en condiciones de ejercicio. Empleando métodos computacionales se calcula la duración de cada intervalo RR correspondiente a la respectiva contracción. \n",
    "\n",
    "#### Tacogramas\n",
    "\n",
    "La manera más sencilla de representar la VFC es graficar la magnitud de los intervalos R-R (en milisegundos) en el eje vertical, mientras que en el eje horizontal representamos el tiempo transcurrido.\n",
    "\n",
    "#### Parámetros temporales y frecuenciales relacionados a VFC.\n",
    "\n",
    "Los parámetros que se presentan a continuación no se pueden relacionar de  una manera sencilla con las diferentes cardiopatías y patologías como diabetes mellitus, sindrome de fatiga crónica, de forma que nos permita hacer un diagnóstico directo y conciso, sin embargo, para especialistas pueden brindar información relevante. \n",
    "\n",
    "#### Parámetros temporales:\n",
    "\n",
    "**RRSD**: Es la desviación estandar de los valores de los intervalos R-R, y se conoce como **Variabilidad Total**\n",
    "\n",
    "**RMSSD**: Calculamos la diferencia entre dos intervalos RR consecutivos, se eleva al cuadrado y se calcula la raíz cuadrada del valor medio de su suma. Al realizar la diferencia entre intervalos consecutivos sirve como un indicador de las variaciones en periodos cortos. Recordando que el SNP actúa de manera rápida disminuyendo la FC, a diferencia del SNS que tarda cerca de 20-30 contracciones en modificar la FC, **podemos asociar al RMSSD con la actividad del SNP**.\n",
    "\n",
    "Existen otros parámetros temporales, pero en realidad es muy difícil asociar alguno de sus valores con la actividad del sistema SNP o SNS, sabemos que ayudan a cuantificar la acción del Sistema Nervioso Autónomo, pero analizar esa relación no es uno de los propositos de este trabajo. \n",
    "Se sugiere además que estos parámetros pueden ayudar a clasificar el riesgo de morbi-mortalidad, especialmente en casos cardiovasculares. \n",
    "\n",
    "#### Parámetros frecuenciales\n",
    "\n",
    "El análisis frecuencial necesario para calcular este tipo de parámetros normalmente se hace con ayuda de la Transformada de Fourier, y se realiza en señales ECG con 5 minutos de duración. \n",
    "La señal de VFC que representamos mediante el tacograma puede descomponer su potencia en varias frecuenciales, las cuales se encuentran en el rango de 0 a 0,4Hz, y se relacionan con algún aspecto del Sistema Nervioso Autónomo. \n",
    "\n",
    "Las frecuencias **ULF : inferiores a 0,003Hz** se conocen como frecuencias ultra bajas, las cuales son más visibles mientras mayor es la duración de la señal de ECG. \n",
    "\n",
    "Las frecuencias **VLF:0.003Hz-0.04Hz** se conocen como frecuencias muy bajas y se relacionan con el efecto de hormonas, así como las influencias vaso-motoras y termoreguladoras y del sistema renina-angiotensina-aldosterona.\n",
    "\n",
    "Las frecuencias **LF:0.04Hz-0.15Hz** se conocen como frecuencias bajas y se relacionan con la actividad del SNA (en especial la del SNS), además de la actividad baroreceptora. \n",
    "\n",
    "Las frecuencias **HF:0.15Hz-0.4Hz** se conocen como altas frecuencias y están relacionadas con la actividad del SNS. \n",
    "\n",
    "La frecuencia respiratoria tiene un papel importante al relacionar las frecuencias con el papel de ciertos sistemas corporales, por ejemplo, con bajas frecuencias respiratorias podemos asociar el efecto del SNP en las frecuencias bajas  \n"
   ]
  },
  {
   "cell_type": "markdown",
   "metadata": {},
   "source": [
    "## Conceptos previos para comprender mejor la transformada de Fourier."
   ]
  },
  {
   "cell_type": "markdown",
   "metadata": {},
   "source": [
    "#### Series numéricas.\n",
    "Cuando se nos presenta una lista de números ordenada como por ejemplo: $1,3,5,7,9...$ o $\\frac{1}{2},\\frac{2}{3},\\frac{3}{4},..$ nos es fácil deducir cuál es el término siguiente ya que estas secuencias obedecen una \"ley de formación\". Cuando describimos una sucesión numérica es importante asignar la ley de formación que la rige. Cada uno de los términos de la sucesión se caracteriza por un numéro natural *k* que indica su posición en la lista. Así, con ayuda de la ley de formación nos es sencillo determinar el valor del término que ocupa la posición enésima dentro de la sucesión. \n",
    "\n",
    "Por ejemplo, sea: \n",
    "$a_{k}=\\frac{1}{k^{2}}$, la sucesión que representa es: $1,\\frac{1}{4},\\frac{1}{9},\\frac{1}{16},...$\n",
    "\n",
    "Sea una sucesión numérica infinita la cual contiene los elementos $a_{1}, a_{2}, a_{3}, a_{4},..., a_{k}, ... $ podemos emplear a estos términos para construir *sumas parciales*, las cuales son de la forma: \n",
    "\n",
    "$S_{1}=a_{1}$\n",
    "\n",
    "$S_{2}=a_{1}+a_{2}$\n",
    "\n",
    "$S_{3}=a_{1}+a_{2}+a_{3}$\n",
    "\n",
    "$S_{k}= a_{1}+a_{2}+a_{3}+...+a_{k}$\n",
    "\n",
    "A partir de esta idea de sumas parciales podemos definir, partiendo de una sucesión numérica con elementos $a_{1}, a_{2}, a_{3}, a_{4},..., a_{k}, ... $ a una **serie numérica** como: \n",
    "\n",
    "$S=lim_{k tiende a infinito}{S_{k}}= a_{1}+a_{2}+a_{3}+...=\\sum_{k=1}^{infinito}a_{k}$\n",
    "\n",
    "Apesar de que se trata de una suma no podemos calcularla término a término, ya que posee elementos infinitos, sin embargo podemos estimar el resultado por otros métodos. Podría parecer que la suma de elementos infinitos tiende necesariamente a ser un valor infinito, mas no siempre es así. \n",
    "\n",
    "Por ejemplo, de la sucesión: $\\frac{1}{2},\\frac{1}{4},\\frac{1}{8},\\frac{1}{16}$ podemos formar a las sumas parciales: \n",
    "\n",
    "$S_{1}=\\frac{1}{2}$\n",
    "\n",
    "$S_{2}=\\frac{1}{2}+\\frac{1}{4}=\\frac{3}{4}$\n",
    "\n",
    "$S_{3}=\\frac{1}{2}+\\frac{1}{4}+\\frac{1}{8}=\\frac{7}{8}$\n",
    "\n",
    "De manera que la suma tienda a infinito, el valor de $S$ será igual a 1, decimos entonces que la serie numérica converge a 1. \n",
    "Sin embargo, no siempre es sencillo determinar un valor exacto al cual converge una serie, o si es que por lo menos converge (el caso contrario se conoce como que la serie diverge). Una condición necesaria para que una serie converja (no siempre suficiente) es la siguiente: \n",
    "\"*Para que una serie numérica converja es necesario que su término general tienda a cero*\". \n",
    "Esta condición basta para indicar que una serie diverge (si no se cumple), pero no siempre garantiza que una serie converja. \n",
    "\n",
    "Existen varios criterios que nos ayudan a discernir entre una serie numérica convergente y divergente, por ejemplo: \n",
    "\n",
    "**Criterio de Leibniz**\n",
    "\n",
    "**Criterio de comparación**\n",
    "\n",
    "**Criterio de la integral**\n",
    "\n",
    "**Criterio del cociente**\n",
    "\n",
    "#### Series de potencias.\n",
    "\n",
    "En el caso de las series numéricas la ley de formación dependía únicamente de un valor: la posición del elemento en la sucesión. Las series de funciones son aquellas en las cuales los términos dependen de una o más variables. Por ejemplo:\n",
    "$\\sum_{k=0}^{infinito}\\frac{x^{k}}{k+1}=1+\\frac{x}{2}+\\frac{x^{2}}{3}+\\frac{x^{3}}{4}+...$. Nótese que al asignar valores distintos de X obtenemos varias series numéricas distintas. \n",
    "Sea $x=2$, entonces la serie numérica que se obtiene es: $1+\\frac{2}{2}+\\frac{4}{3}+\\frac{8}{4}+...$\n",
    "Claramente el comportamiento de la serie de potencias depende del valor X que le asignemos, por ejemplo, si en lugar de asignar $X=2$, asignamos el valor $X=-1$ obtenemos una serie alternada: $1-\\frac{1}{2}+\\frac{1}{3}-\\frac{1}{4}+...$, una región de interés es el intervalo de valores de X que al ser sustituidos en la expresión de la serie de potencias generan series numéricas convergentes, esa región se conoce como intervalo de convergencia. \n",
    "\n",
    "En general, una serie de potencias de x es una expresión de la forma: \n",
    "\n",
    "$\\sum_{k=0}^{infinito}c_{k}x_{k} = c_{0}+c_{1}x+c_{2}x^{2}+c_{3}x^{3}+...$ es decir, trabajamos con una serie de potencias positivas de x, observemos además que estos coeficientes $c_{k}$ deberán estar dados por una expresión general (ley de formación) que dependa de su posición en la serie (k), así como en el caso de las series numéricas. \n",
    "\n",
    "Esta serie de potencias tiene infinitos términos, sin embargo, si nos tomamos los primeros K+1 elementos, habremos contruido un polinomio de orden K. \n",
    "\n",
    "$P_{k}(x)=\\sum_{k=0}^{K}c_{k}x_{k}=c_{0}+c_{1}x+c_{2}x^{2}+...+c_{k}x_{k}$\n",
    "\n",
    "Ahora, así como una serie numérica converge a un valor numérico, la serie de potencias converge a una función, es decir, podemos aproximar una función mediante una serie de potencias pero esta aproximación solamente será válida dentro del intervalo de convergencia (de otro modo, no podemos asegurar la convergencia de la serie). Otro aspecto fundamental es que la aproximación aumenta conforme mayor sea el grado del polinomio generado por la serie de potencias\n",
    "\n",
    "Por ejemplo, en los polinomios de Mac Laurin se requiere que la función f(x) que queremos aproximar sea continua, con derivadas continuas hasta orden *k*, y la aproximación es únicamente válida para valores cercanos a 0, además de que las derivadas de f(x) evaluadas en 0 sean iguales a las derivadas del polinomio evaluadas en 0. Algunas polinomios de Mac Laurin son: \n",
    "\n",
    "$e(x)=1+x+\\frac{1}{2!}x^{2}+\\frac{1}{3!}x^{3}+...+\\frac{1}{n!}x^{n}+...$\n",
    "\n",
    "$sen(x)=x-\\frac{x_{3}}{3!}+\\frac{x_{5}}{5!}-\\frac{x_{7}}{7!}+...$\n",
    "\n",
    "En el caso de los polinomios de Mac Laurin contamos con una base para generar la aproximación, se trata de las potencias positivas de x. En el caso de la Serie de Fourier, vamos a emplear como base para nuestra aproximació a las funciones seno y coseno armónicamente relacionadas. (pronto discutiremos el concepto de armónicamente relacionadas)\n",
    "\n",
    "#### Series de Fourier\n",
    "\n",
    "Una función es periódica cuando cumple $f(t)=f(t+T)$ donde T es el periodo de la función, las funciones trigonométricas poseen un periodo de $2\\pi$, de modo que $cos(wT)=cos(w(t+T))=cos((wt)+wT)$ entonces $wT=2\\pi$, de modo que definimos a esta cantidad w como la frecuencia de la función $w=\\frac{2\\pi}{T}$. \n",
    "\n",
    "Si consideramos una familia de funciones:\n",
    "\n",
    "$f_{1}=cos(w_{0}t)$,  $f_{2}=cos(2w_{0}t)$,  $f_{3}=cos(3w_{0}t)$, ..., $f_{k}=cos(kw_{0}t)$, podemos observar que en la primera función, la frecuencia es $w_{0}$, mientras que en la segunda es $2w_{0}$, la tercera es $3w_{0}$, y así sucesivamente, de modo que podemos definir a $w_{0}$ como la frecuencia fundamental y sus múltiplos $kw_{0}$ se consideran sus armónicas, de modo que bajo esta relación podemos afirmar que la familia de funciones están relacionadas armónicamente. \n",
    "\n",
    "Vamos a emplear estas familias de funciones relacionadas armónicamente como la base para generar aproximaciones de funciones. Fue J.B. Fourier quien formuló: *cualquier función periódica se puede representar mediante series de senos y cosenos relacionadas armónicamente.* Por lo tanto, para una función f(t) con periodo T, considerando la base infinita de funciones $1,cos(w_{0}t),cos(2w_{0}t),...,sen(w_{0}t),sen(2w_{0}t),...,$ podemos aproximarla mediante un polinomio conocido como **serie trigonométrica de Fourier de  f(t)**:\n",
    "\n",
    "$f(t)= \\frac{a_{0}}{2} + a_{1}cos{w_{0}t}+a_{2}cos{2w_{0}t}+a_{3}cos{3w_{0}t}+a_{4}cos{4w_{0}t}+...+ b_{1}sen{w_{0}t}+b_{2}sen{2w_{0}t}+b_{3}sen{3w_{0}t}+b_{4}sen{4w_{0}t}+...$\n",
    "\n",
    "$f(t)= \\frac{a_{0}}{2} + \\sum_{k=1}^{\\infty}a_{k}cos(kw_{0}t)+b_{k}sen({kw_{0}t})$\n",
    "\n",
    "donde los coeficientes $a_{k}$ y $b_{k}$ representa los coeficientes de Fourier, y nos dicen qué tanto aporta cada frecuencia $kw_{0}$ en el desarrollo de la función $f(t)$. Por analogía podemos pensar que cualquier función se puede aproximar usando los \"mismos ingredientes\", son los coeficientes de Fourier los que nos brindan la cantidad necesaria de cada uno. \n",
    "\n",
    "Los coeficientes de Fourier están determinados por:\n",
    "\n",
    "$a_{k}=\\frac{2}{T}\\int_{0}^{T}f(t)cos(kw_{0}t)dt$\n",
    "\n",
    "$b_{k}=\\frac{2}{T}\\int_{0}^{T}f(t)sin(kw_{0}t)dt$\n",
    "\n",
    "Consideremos ahora un conjunto finito de series de senos y cosenos con la cual vamos a formar la aproximación a nuestra función:\n",
    "\n",
    "$1,cos(w_{0}t),cos(2w_{0}t),cos(3w_{0}t),...,cos(Nw_{0}t), sin(w_{0}t),sin(2w_{0}t),sin(3w_{0}t),...,sin(Nw_{0}t)$\n",
    "\n",
    "que al emplearla para generar nuestra serie de Fourier nos da:\n",
    "\n",
    "$f(t)= \\frac{a_{0}}{2} + \\sum_{k=1}^{N}a_{k}cos(kw_{0}t)+b_{k}sen({kw_{0}t})$ donde N es un número cualquiera, no sé, quizá el número de muestras. \n",
    "\n",
    "#### ¿TEOREMA DE PARSEVAL?\n",
    "\n",
    "Se puede evaluar qué tan buena es nuestra aproximación calculando el error cuadrático medio: \n",
    "\n",
    "$\\delta_{N}^{2}=\\int_{T}(f(t)-S_{N})^{2}dt$, se puede demostrar (pero no lo haremos aquí) que este error disminuye cuando aumenta el valor N (el cual recordamos, tal vez pueda ser el número de muestras *guiño, guiño*). \n",
    "\n",
    "#### Forma compleja de la serie de Fourier\n",
    "\n",
    "Por comodidad, podemos expresar la serie de Fourier mediante una combinación lineal de senos y cosenos armonicamente relacionados o, empleando la relación de Euler, en su forma compleja.\n",
    "\n",
    "La relación de Euler es: \n",
    "\n",
    "$e^{i\\theta}=cos(\\theta)+isin(\\theta)$ de modo que:\n",
    "\n",
    "$f(t)=\\sum_{k=-\\infty}^{\\infty}(\\frac{a_{k}-ib_{k}}{2})e^{ikw_{0}t}$ definimos $c_{k}=\\frac{a_{k}-ib_{k}}{2}$ donde $c_{0}=\\frac{a_{0}}{2}$, de modo que podemos representar a la función como: \n",
    "\n",
    "$f(t)=c_{0}+\\sum_{k=-\\infty}^{\\infty}c_{k}e^{ikw_{0}t}$ \n",
    "\n",
    "**Se puede descomponer una señal periódica en funciones de exponenciales armonicamente relacionadas, donde cada valor de** $e^{ikw_{0}t}$ **para un k entero representa a un armónico distinto de la frecuencia fundamental, y donde** $c_{k}$ **sigue representando el peso que este armónico tiene en la aproximación de la función.**\n",
    "\n",
    "De esta forma, para observar el comportamiento de la serie de Fourier en forma compleja (al ser un número complejo) calculamos su módulo y su argumento, y observamos su evolución mientras avanza la frecuencia (múltiplos de la frecuencia fundamental $w_{0}$). \n",
    "\n",
    "Podría parecer que la Serie de Fourier únicamente se restringe a funciones periódicas, sin embargo, si una función f(t) no está definida en todo el eje real y únicamente lo está para un intervalo $[a,b]$, podemos considerar que tiene un periodo de $T=b-a$ y suponer que el comportamiento se repite a lo largo de todo el eje real para poder aplicar la aproximación mediante una serie de funciones exponenciales armónicamente relacionadas. "
   ]
  },
  {
   "cell_type": "markdown",
   "metadata": {},
   "source": [
    "## Transformada de Fourier"
   ]
  },
  {
   "cell_type": "markdown",
   "metadata": {},
   "source": [
    "Claramente, muchas funciones $f(t)$ no son periódicas y ya están definidas en un intervalo del eje real, por lo tanto, la idea de usar las series de Fourier no resulta viable, de modo que entra en escena la transformada de Fourier. \n",
    "\n",
    "De las series de Fourier recordemos que podemos graficar el comportamiento de las componentes exponenciales complejas de la aproximación (modulo y argumento) con respecto a la frecuencia, la cual solamente puede tomar valores como múltiplos de la frecuencia fundamental $w$. \n",
    "\n",
    "Al incrementar el valor del periodo (T) entonces el valor de la frecuencia fundamental $w$ es menor, es decir, en el eje de la frecuencia encontraremos una menor distancia entre un punto y otro. Podemos considerar a los coeficientes $c_{k}$ como funciones que dependan de una variable independiente, en este caso, la frecuencia ($F(w)$). \n",
    "\n",
    "De modo que podemos percibir que el espectro (dependiente de la frecuencia) luce cada vez más como una función continua y no una discreta, ya que la frecuencia fundamental (interespaciado en el eje de la variable independiente) se vuelve muy pequeña, al mismo tiempo que la señal pasa de ser periódica a una señal aperiódica.\n",
    "\n",
    "La nueva función $F(w)$ dependiente de la frecuencia se calcula: \n",
    "\n",
    "$F(w)=\\int_{-\\infty}^{\\infty}f(t)e^{-iwt}dt$ y se conoce como **Transformada de Fourier de f(t)**\n",
    "\n",
    "Y los coeficientes de $c_{k}$ se calculan como: \n",
    "\n",
    "$c_{k}=\\frac{1}{T}\\int_{-\\infty}^{\\infty}f(t)e^{-ikw_{0}t}dt = \\frac{1}{T}F(kw_{0})$\n",
    "\n",
    "Por lo tanto, la \"Serie de Fourier\" se vería de la forma: \n",
    "\n",
    "$f(t)=\\sum_{-\\infty}^{\\infty}\\frac{1}{T}F(kw_{0})e^{ikw_{0}t}$ como $\\frac{1}{T}=\\frac{w_{0}}{2\\pi}$ entonces \n",
    "\n",
    "$f(t)=\\frac{1}{2\\pi}\\sum_{-\\infty}^{\\infty}\\frac{1}{T}F(kw_{0})e^{ikw_{0}t}w_{0}$ como al aumentar el periodo, $w_{0}$ se vuelve infinitesimal $dw$ entonces la expresión queda de la forma: \n",
    "\n",
    "$f(t)=\\frac{1}{2\\pi}\\int_{-\\infty}^{\\infty}F(w)e^{iwt}dw$ y se conoce como **Transformada inversa de Fourier**\n",
    "\n",
    "Ambas expresiones representan el mismo fenómeno y contienen la misma información, siendo una la aproximación muy precisa de la otra, simplemente que una se encuentra en el dominio del tiempo mientras la otra se encuentra en el dominio de la frecuencia. \n",
    "\n",
    "La transformada de Fourier presenta varias propiedades, dentro de las cuales encontramos: \n",
    "\n",
    "**Propiedad de desplazamiento en el tiempo**\n",
    "\n",
    "**Propiedad de desplazamiento en la frecuencia**\n",
    "\n",
    "**Propiedad de Linealidad**\n",
    "\n",
    "**Propiedad de simetría**\n",
    "\n",
    "Otra propiedad importante es la propiedad de **Conjugación**, que se deriva del caracter par e impar de las funciones coseno y seno, respectivamente (que están relacionadas con la exponencial de la transformada de Fourier), es que el módulo $|F(w)|=|F(-w)|$ y que el argumento $arg(F(-w))=-arg(F(w))$, es decir, el módulo de $F(w)$ es una función par y el argumento de $F(w)$ es una función impar. \n",
    "\n",
    "La gráfica del módulo $|F(w)|$ con respecto a $w$ se conoce como **espectro de amplitud de f(t)**\n",
    "\n",
    "La gráfica del argumento $arg(F(w))$ se conoce como **espectro de fase de f(t)**\n",
    "\n",
    "\n",
    "#### Desarrollo de Fourier de funciones periódicas en tiempo discreto.\n",
    "\n",
    "La diferencia entre una señal continua y discreta es que la primera está definida en todos los valores reales dentro de un intervalo, por ejemplo, el intervalo del tiempo $f(t)$; por otro lado, la señal discreta solamente está definida en valores $f[kt]$ con $k=1,2,3,4,...,N$. \n",
    "\n",
    "Así como una señal continua se considera periódica cuando cumple: $f(t)=f(t+T)$, y decimos que su periodo es $T$, una función de tiempo discreto se considera periódica cuando cumple $f[n]=f[n+N]$ y decimos que $N$ es su periodo.\n",
    "\n",
    "Para una función de tiempo discreto también podemos calcular su desarrollo de Fourier, recordando que **la serie de fourier para una señal continua en tiempo continuo** es: \n",
    "\n",
    "$f(t)=c_{0}+\\sum_{k=-\\infty}^{\\infty}c_{k}e^{ikw_{0}t}$, de forma análoga podemos obtener la representación para una función en el dominio del tiempo discreto. \n",
    "\n",
    "Empecemos definiendo el análogo para: $e^{ikw_{0}t}$ que simplemente sería: $e^{ikw_{0}n}$ definida para valores $k=1,2,3,4,..., $donde $w_{0}$ ahora es de la forma: $w=\\frac{2\\pi}{N}$, igual que en el caso de tiempo continuo, este valor representa **la aportación de cada una de las frecuencias armónicas a nuestra señal**. \n",
    "\n",
    "A diferencia de las señales de tiempo continuo, si buscamos la aportación de la frecuencia armónica $w_{0}$ y la aportación de la frecuencia armónica $(N+1)w_{0}$ observamos que: \n",
    "\n",
    "Evaluando con la armónica $w_{0}$ se obtiene: $e^{i1w_{0}n}=e^{i1(\\frac{2\\pi}{N})n}$ \n",
    "\n",
    "Evaluando con la armónica $(N+1)w_{0}$ se obtiene $e^{i(N+1)w_{0}n}= e^{i1w_{0}n} + e^{iNw_{0}n} =  e^{i1(\\frac{2\\pi}{N})n} + e^{iN(\\frac{2\\pi}{N})n} = e^{i1(\\frac{2\\pi}{N})n} + e^{i(2\\pi)n} = e^{i1(\\frac{2\\pi}{N})n}$ que no es más que la aportación de la armónica $w_{0}$. \n",
    "\n",
    "Concluimos que la aportación de cada frecuencia armónica se repite luego de la N-ésima aportación, de modo que además de ser una función periódica en el dominio del tiempo discreto, también es periódica en el dominio de la frecuencia, ya que sólo hay N armónicas diferentes, y no infinitas armónicas como el caso continuo. \n",
    "\n",
    "Los valores $c_{k}$ pasan a adquirir la siguiente estructura:\n",
    "\n",
    "$c_{k}=\\frac{1}{N}\\sum_{n=0}^{N-1}f[n]e^{-ikw_{0}n}$ donde el coeficiente también posee el carácter periódico anteriormente presentado, es decir: $c_{k}=c_{k+N}$\n",
    "\n",
    "Esto es incluso intuitivo, ya que si la exponencial compleja, que representa una frecuencia armónica en específico, se repite cada N términos, el coeficiente de desarrollo que describe cuánto aporta esta frecuencia armónica a nuestra aproximación también se debe repetir cada N términos.\n",
    "\n",
    "**Podemos definir finalmente que el desarrollo de Fourier para una función periódica discreta está dado por:** \n",
    "\n",
    "$f[n]=\\sum_{k=<N>} c_{k}e^{ikw_{0}n}$ **donde el subindice de la suma implica que podemos tomar cualquier secuencia de N valores, ya que los valores dentro de la suma (en este caso finita) se repiten fuera de esta secuencia.**\n",
    "\n"
   ]
  },
  {
   "cell_type": "markdown",
   "metadata": {},
   "source": [
    "## Transformada de Fourier en Tiempo discreto"
   ]
  },
  {
   "cell_type": "markdown",
   "metadata": {},
   "source": [
    "El desarrollo de Fourier visto anteriormente fue para funciones periódicas en el tiempo discreto, y la Transformada de Fourier está definida para funciones aperiódicas en el tiempo continuo, vamos ahora a tratar con funciones aperiódicas en el tiempo discreto, esto con ayuda de la Transformada de Fourier en tiempo discreto. \n",
    "\n",
    "Al igual que hicimos con la transformada de Fourier partiendo de las series de fourier, podemos describir a la transformada de fourier en tiempo discreto partiendo del Tratamiento de fourier en tiempo discreto. \n",
    "\n",
    "Supongamos una señal dada por L puntos, los cuales se encuentran en un intervalo [a,b], podemos suponer que la señal es una función periódica de periodo N, donde $N>L$, de modo que podemos aplicar el tratamiento anterior: \n",
    "\n",
    "$f[n]=\\sum_{k=<N>}c_{k}e^{ikw_{0}n}$ con $n=0,1,2,3,4,...,N-1$ y los coeficientes de desarrollo están dados como \n",
    "$c_{k}=\\frac{1}{N}\\sum_{k=<N>}f[n]e^{-ikw_{0}n}$. Si graficamos estos coeficientes con respecto a la frecuencia notamos que el eje que representa a la frecuencia está dado por $w_{0},2w_{0},3w_{0},...,2\\pi$, donde $w_{0}$ es la frecuencia fundamental. Nótese que a diferencia de la transformada de Fourier en tiempo continuo, este intervalo es finito. \n",
    "\n",
    "Podemos pensar que los valores $c_{k}$ se obtienen de muestrear (tomar los valores que posee una función continua en ciertos tiempos) una función dependiente de la variable continua $w$, es decir, la función $F(w)$ es la envolvente de los puntos que representan a $c_{k}$. Esta función es: \n",
    "\n",
    "$F(w)=\\sum_{-\\infty}^{\\infty}f[n]e^{-iwn}$ la cual se conoce como **Transformada de Fourier en tiempo discreto **\n",
    "\n",
    "de modo que los coeficientes $c_{k}$ están determinados como: $c_{k}=\\frac{1}{N}F(kw_{0})$, como $\\frac{1}{N}=\\frac{w_{0}}{2\\pi}$ entonces la expresión para $f[n]$ es:\n",
    "\n",
    "$f[n]=\\frac{1}{2\\pi}\\sum_{k=<N>}w_{0}F(kw_{0})e^{ikw_{0}n}$ con $n=<N>$. Si aumentamos el número de valores N, hasta que tienda a infinito, entonces la frecuencia va a hacerse infinitesimal, de modo que la suma pasará a ser una integral sobre un intervalo de amplitud $2\\pi$ ya que luego de ese valor, la transformada de Fourier en tiempo discreto repite sus valores, recordemos que presenta periodicidad en la frecuencia.\n",
    "\n",
    "La función adquiere la forma: $f[n]=\\frac{1}{2\\pi}\\int_{2\\pi}F(w)e^{iwn}dw$ y se le conoce como la **Antitransformada de Fourier en tiempo discreto**\n",
    "\n",
    "La Transformada de Fourier en tiempo discreto cumple con algunas propiedades como son:\n",
    "\n",
    "**Periodicidad en frecuencia**\n",
    "\n",
    "**Linealidad**\n",
    "\n",
    "**Desplazamiento en el tiempo**\n",
    "\n",
    "**Desplazamiento en la frecuencia**\n",
    "\n",
    "**Conjugación**: Según la cual, si $f[n]$ es una función real, entonces su transformada discreta de fourier (compleja) cumple $|F(-w)|=|F(w)|$ y $Arg(F(-w))=-Arg(F(w))$, como en el caso de la Transformada de Fourier.\n",
    "\n",
    "Tanto la transformada de Fourier en tiempo discreto $F(w)$ como la señal de tiempo discreto $f[n]$ representan el mismo fénomeno aunque desde dominios diferentes: tiempo y frecuencia. \n"
   ]
  },
  {
   "cell_type": "markdown",
   "metadata": {},
   "source": [
    "## Transformada Discreta de Fourier"
   ]
  },
  {
   "cell_type": "markdown",
   "metadata": {},
   "source": [
    "Cuando nosotros buscamos analizar una señal en el dominio de la frecuencia buscamos procesarla por medio de métodos computacionales, sin embargo, luego de aplicar la Transformada de Fourier obtenemos alguna función continua en el dominio de la frecuencia $F(w)$ que debido a su carácter continuo es incapaz de analizarse por los métodos computacionales. \n",
    "\n",
    "La Transformada de Fourier en tiempo discreto nos arroja una función $F(w)$, continua en base a la frecuencia y de periodo $2\\pi$, el método de la transformada discreta de Fourier consiste en discretizar este función tomando únicamente N muestras equiespaciadas en el intervalo $[0,2\\pi]$, de modo que vamos a tomar una muestra cada que se avance $2\\pi/N$ (frecuencia fundamental $w_{0}$) en el eje de la frecuencia. \n",
    "\n",
    "De modo que la transformada de fourier en tiempo discreto: $F(w)=\\sum_{-\\infty}^{\\infty}f[n]e^{-iwn}$ pasa a ser de la forma: \n",
    "\n",
    "$F(\\frac{2k\\pi}{N})=\\sum_{n=0}^{N-1}f[n]e^{-ik(2\\pi/N)n}$ o visto de otra manera: \n",
    "\n",
    "$F(kw_{0})=\\sum_{n=0}^{N-1}f[n]e^{-ik(w_{0})n}$ de modo que se ve que los valores que adquiere la transformada discreta dependen de k, donde $k=0,1,2,3,...,N-1$ \n",
    "\n",
    "El cálculo de la transformada discreta de fourier para N valores está constituido por $N^{2}$ productos complejos y $N(N-1)$ sumas complejas. "
   ]
  },
  {
   "cell_type": "markdown",
   "metadata": {},
   "source": [
    "## Transformada rápida de Fourier."
   ]
  },
  {
   "cell_type": "markdown",
   "metadata": {},
   "source": [
    "En el año de 1965, Cooley y Turkey generaron un método para reducir la cantidad de calculos, recibe el nombre de Transformada Rápida de Fourier. Ilustremos el proceso de una Transformada Discreta de Fourier mediante un ejemplo:\n",
    "\n",
    "-Calcule la transformadad de fourier discreta para una secuencia de 4 muestras. \n",
    "\n",
    "Sabemos que la expresión para calcular la transformada está determinada como: \n",
    "\n",
    "$F[\\omega] = \\sum_{N=0}^{N-1}f{(t)}e^{-j\\omega(\\frac{2\\pi}{N}t)}$, entonces:\n",
    "\n",
    "Con \n",
    "\n",
    "$F(0)=f(0)e^{\\frac{-j(0)(0)\\pi}{2}} + f(1)e^{\\frac{-j(0)(1)\\pi}{2}} + f(2)e^{\\frac{-j(0)(2)\\pi}{2}} + f(3)e^{\\frac{-j(0)(3)\\pi}{2}}$\n",
    "\n",
    "$F(1)=f(0)e^{\\frac{-j(1)(0)\\pi}{2}} + f(1)e^{\\frac{-j(1)(1)\\pi}{2}} + f(2)e^{\\frac{-j(1)(2)\\pi}{2}} + f(3)e^{\\frac{-j(1)(3)\\pi}{2}}$\n",
    "\n",
    "$F(2)=f(0)e^{\\frac{-j(2)(0)\\pi}{2}} + f(1)e^{\\frac{-j(2)(1)\\pi}{2}} + f(2)e^{\\frac{-j(2)(2)\\pi}{2}} + f(3)e^{\\frac{-j(2)(3)\\pi}{2}}$\n",
    "\n",
    "$F(3)=f(0)e^{\\frac{-j(3)(0)\\pi}{2}} + f(1)e^{\\frac{-j(3)(1)\\pi}{2}} + f(2)e^{\\frac{-j(3)(2)\\pi}{2}} + f(3)e^{\\frac{-j(3)(3)\\pi}{2}}$\n",
    "\n",
    "Se puede organizar de forma matricial:\n",
    "\n",
    "$\\begin{bmatrix} F(0) \\\\ F(1) \\\\F(2)\\\\ F(3)\\\\\\end{bmatrix} = \\begin{bmatrix} 1 & 1 & 1 & 1 \\\\ 1 & e^{-j\\pi /2} &  e^{-j\\pi} &  e^{-j3\\pi /2}\\\\ 1 & e^{-j\\pi } &  e^{-j2\\pi} &  e^{-j3\\pi} \\\\ 1 & e^{-j3\\pi /2} &  e^{-j3\\pi} &  e^{-j9\\pi /2} \\\\\\end{bmatrix}  \\begin{bmatrix} f(0)\\\\f(1) \\\\ f(2)\\\\f(3)\\\\\\end{bmatrix}$\n",
    "\n",
    "donde luego de aplicar la condición de periodicidad: $e^{-j\\pi k(n)/2} = e^{-j\\pi k(n+N)/2}$ entonces podemos expresar la relación matricial anterior como: \n",
    "\n",
    "$\\begin{bmatrix} F(0) \\\\ F(1) \\\\F(2)\\\\ F(3)\\\\\\end{bmatrix} = \\begin{bmatrix} 1 & 1 & 1 & 1 \\\\ 1 & -j & -1 & j \\\\ 1 & -1 & 1 & -1 \\\\ 1 & j & -1 & -j \\\\\\end{bmatrix}  \\begin{bmatrix} f(0)\\\\f(1) \\\\ f(2)\\\\f(3)\\\\\\end{bmatrix}$ \n",
    "\n",
    "$F(0) = f(0) + f(1) + f(2) + f(3) = (f(0) + f(2)) + (f(1) + f(3))$\n",
    "\n",
    "$F(1) = f(0) - jf(1) -f(2) + jf(3) = (f(0)-f(2)) -j (f(1)-f(3))$\n",
    "\n",
    "$F(2) = f(0) - f(1) + f(2) - f(3) = (f(0) + f(2)) - (f(1) + f(3))$\n",
    "\n",
    "$F(3) = f(0) + jf(1) - f(2) -j f(3) = (f(0)-f(2)) +j (f(1)-f(3))$\n",
    "\n",
    "donde es evidente que los terminos relacionados entre $F(0)$ y $F(2)$ son los mismos, solo separados con un signo negativo entre ellos, del mismo modo ocurre con los terminos relacionados entre $F(1)$ y $F(3)$.\n",
    "Así, el número de calculos realizados disminuyen ya que algunos se repiten. \n",
    "\n",
    "Entonces es claro que dos elementos de la Transformada Discreta de Fourier son parecidos si son de indice par, así como lo son dos elementos de indice impar. Por lo tanto, el método de la Transformada Rápida de Fourier consiste en dividir el calculo de los elementos de la transformada discreta en dos calculos: los de elementos pares, y los elementos impares, este proceso recibe el nombre de *decimación en el tiempo*.\n",
    "\n",
    "Como consecuencia de las decimaciones en el tiempo encontramos *ecuaciones de conexión* las cuales relacionan las dos submuetras con las muestras de las cuales provienen. El proceso de las decimaciones en el tiempo se lleva a cabo una y otra vez hasta que ya no se pueda dividir más, y luego, con ayuda de las ecuaciones de conexión, recuperamos los resultados de aplicar una transformada discreta de fourier, claramente con la ventaja de la velocidad. \n",
    "\n",
    "Normalmente, este proceso de decimaciones se representa mediante un esquema de mariposa, y se realiza un total de $log_{2}N$ veces. Por lo tanto, aunque no es muy evidente, es posible demostrar que el número de multiplicaciones necesarias para este método es $\\frac{N}{2}log_{2}N$. Que claramente, es mucho más rápido que la Transformada Discreta de Fourier típica. "
   ]
  },
  {
   "cell_type": "markdown",
   "metadata": {},
   "source": [
    "## Conexión Arduino-Python. "
   ]
  },
  {
   "cell_type": "code",
   "execution_count": 1,
   "metadata": {},
   "outputs": [],
   "source": [
    "from numpy import *\n",
    "from serial import *\n",
    "from pylab import *\n",
    "import scipy.fftpack\n",
    "import matplotlib.pyplot as plt\n"
   ]
  },
  {
   "cell_type": "markdown",
   "metadata": {},
   "source": [
    "Normalmente la comunicación PySerial se puede referenciar mediante la siguiente sintaxis: **ser.readline()** o en otras ocasiones como **serial.readline()**, además para definir esta comunicación también necesitamos definir el puerto y la velocidad de transmisión. El puerto hace alusión al puerto mediante el cual se lleva la comunicación, por ejemplo: **'/dev/ttyUSB0'**, o COM4 en el caso de Windows. Es importante especificar que en el caso de Linux, el puerto **'/dev/ttyUSB0'** tiene la terminación **USB0** en lugar de la típica **S0,S1,S2,...,S255** debido a que se está empleando un conversor USB-Serie, ya que muchas veces los equipos no cuentan con la entrada serie.\n",
    "\n",
    "La velocidad de transmisión tiene un valor por lo general de **9600** aunque existen otros valores como 50, 75, 110, 134, 150, 200, 300, 600, 1200, 1800, 2400, 4800, 9600, 19200, 38400, 57600, 115200, se emplean dependiendo de la situación. \n",
    "\n",
    "Para inicializar un puerto es necesario importar la libreria ***serial***, luego de ello vamos a emplear el comando ***serial.Serial*** el cual funciona bajo los siguientes parametros: **init(port, baudrate, bytesize=EIGHTBITS,timeout)**\n",
    "donde el puerto se específica en el apartado de *port*, la velocidad de transmisión se determina en la sección *baudrate*, en la sección bytesize se especifíca el número de bits con los que se describen los datos, el valor predeterminado es de 8. Finalmente también se puede establecer un tiempo de espera de la lectura, específicado en la sección *timeout*.\n",
    "\n",
    "El timeout se puede definir de tres formas:\n",
    "\n",
    " timeout = None: En este modo (predeterminado, por cierto) el puerto espera de forma indefinida hasta que aparezca un dato que satisfaga el bytesize (8 de forma predeterminada). \n",
    "    \n",
    "timeout = 0: En este modo, se encargará de devolver ceros hasta que aparezca un valor que satisfaga el bytesize.\n",
    "\n",
    "timeout = x: Este valor x solamente puede ser un float. Cuando llega un valor que cumple el bytesize lo devuelve inmdiatamente, si se da el caso de que no reciba un valor que satisfaga el bytesize, luego de que el tiempo (determinado por x) se agote, devuelve todo los bytes que ha recibido. \n",
    "\n"
   ]
  },
  {
   "cell_type": "markdown",
   "metadata": {},
   "source": [
    "Una vez que definimos un \"objeto PySerial\" especificando el puerto, la velocidad de muestreo, y un determinado timeout:\n",
    "\n",
    "**Puerto= serial.Serial('/dev/ttyS1', 19200, timeout=1)**\n",
    "\n",
    "podemos aplicar una serie de comandos, como por ejemplo: \n",
    "\n",
    "**Puerto.name**, que nos indica el nombre del puerto que estamos empleando. \n",
    "\n",
    "**Puerto.write('texto')** A través del comando podemos escribir algún valor.\n",
    "\n",
    "**Puerto.read()** Nos permite leer un único byte. \n",
    "\n",
    "**Puerto.read(float)** Nos permite leer un total de \"float\" bytes. \n",
    "\n",
    "**Puerto.readline()** Se encarga de leer una línea completa de información, y nos brinda un string.\n",
    "\n",
    "**PUerto.close()** Se encarga de cerrar el puerto.            "
   ]
  },
  {
   "cell_type": "markdown",
   "metadata": {},
   "source": [
    "Es necesario que se defina un tiempo de espera, ya que al encontrarse de forma predeterminada en None, se queda esperando indefinidamente hasta que reciba un valor que cumpla con el bitesize; en el caso de aplicar la función **Puerto.readline()**, al no recibir una línea de información se quedará en un estado estacionario."
   ]
  },
  {
   "cell_type": "markdown",
   "metadata": {},
   "source": [
    "#### El siguiente código sirve simplemente para asegurarnos que existe una conexión entre el arduino y nuestro espacio de trabajo:"
   ]
  },
  {
   "cell_type": "code",
   "execution_count": 2,
   "metadata": {},
   "outputs": [
    {
     "ename": "NameError",
     "evalue": "name 'serial' is not defined",
     "output_type": "error",
     "traceback": [
      "\u001b[0;31m---------------------------------------------------------------------------\u001b[0m",
      "\u001b[0;31mNameError\u001b[0m                                 Traceback (most recent call last)",
      "\u001b[0;32m<ipython-input-2-ff6a9aeab0ec>\u001b[0m in \u001b[0;36m<module>\u001b[0;34m\u001b[0m\n\u001b[0;32m----> 1\u001b[0;31m \u001b[0mPuerto_arduino\u001b[0m \u001b[0;34m=\u001b[0m \u001b[0mserial\u001b[0m\u001b[0;34m.\u001b[0m\u001b[0mSerial\u001b[0m\u001b[0;34m(\u001b[0m\u001b[0;34m'/dev/ttyUSB0'\u001b[0m\u001b[0;34m,\u001b[0m \u001b[0;36m9600\u001b[0m\u001b[0;34m,\u001b[0m\u001b[0mtimeout\u001b[0m\u001b[0;34m=\u001b[0m\u001b[0;36m1\u001b[0m\u001b[0;34m)\u001b[0m\u001b[0;34m\u001b[0m\u001b[0;34m\u001b[0m\u001b[0m\n\u001b[0m\u001b[1;32m      2\u001b[0m \u001b[0mPuerto_arduino\u001b[0m\u001b[0;34m.\u001b[0m\u001b[0mopen\u001b[0m\u001b[0;34m(\u001b[0m\u001b[0;34m)\u001b[0m\u001b[0;34m\u001b[0m\u001b[0;34m\u001b[0m\u001b[0m\n",
      "\u001b[0;31mNameError\u001b[0m: name 'serial' is not defined"
     ]
    }
   ],
   "source": [
    "Puerto_arduino = serial.Serial('/dev/ttyUSB0', 9600,timeout=1)\n",
    "Puerto_arduino.open()"
   ]
  },
  {
   "cell_type": "code",
   "execution_count": null,
   "metadata": {},
   "outputs": [],
   "source": [
    "Puerto_arduino.is_open"
   ]
  },
  {
   "cell_type": "markdown",
   "metadata": {},
   "source": [
    "#### El siguiente código nos ayuda a visualizar que efectivamente recibimos datos procedentes del arduino:"
   ]
  },
  {
   "cell_type": "code",
   "execution_count": 3,
   "metadata": {},
   "outputs": [
    {
     "ename": "NameError",
     "evalue": "name 'serial' is not defined",
     "output_type": "error",
     "traceback": [
      "\u001b[0;31m---------------------------------------------------------------------------\u001b[0m",
      "\u001b[0;31mNameError\u001b[0m                                 Traceback (most recent call last)",
      "\u001b[0;32m<ipython-input-3-d0cd1b57f855>\u001b[0m in \u001b[0;36m<module>\u001b[0;34m\u001b[0m\n\u001b[0;32m----> 1\u001b[0;31m \u001b[0mPuerto_arduino\u001b[0m \u001b[0;34m=\u001b[0m \u001b[0mserial\u001b[0m\u001b[0;34m.\u001b[0m\u001b[0mSerial\u001b[0m\u001b[0;34m(\u001b[0m\u001b[0;34m'/dev/ttyUSB0'\u001b[0m\u001b[0;34m,\u001b[0m \u001b[0;36m9600\u001b[0m\u001b[0;34m,\u001b[0m\u001b[0mtimeout\u001b[0m\u001b[0;34m=\u001b[0m\u001b[0;36m1\u001b[0m\u001b[0;34m)\u001b[0m\u001b[0;34m\u001b[0m\u001b[0;34m\u001b[0m\u001b[0m\n\u001b[0m\u001b[1;32m      2\u001b[0m \u001b[0mValor_muestreado\u001b[0m \u001b[0;34m=\u001b[0m \u001b[0mPuerto_arduino\u001b[0m\u001b[0;34m.\u001b[0m\u001b[0mreadline\u001b[0m\u001b[0;34m(\u001b[0m\u001b[0;34m)\u001b[0m\u001b[0;34m\u001b[0m\u001b[0;34m\u001b[0m\u001b[0m\n\u001b[1;32m      3\u001b[0m \u001b[0mprint\u001b[0m\u001b[0;34m(\u001b[0m\u001b[0mValor_muestreado\u001b[0m\u001b[0;34m)\u001b[0m\u001b[0;34m\u001b[0m\u001b[0;34m\u001b[0m\u001b[0m\n\u001b[1;32m      4\u001b[0m \u001b[0mPuerto_arduino\u001b[0m\u001b[0;34m.\u001b[0m\u001b[0mclose\u001b[0m\u001b[0;34m(\u001b[0m\u001b[0;34m)\u001b[0m\u001b[0;34m\u001b[0m\u001b[0;34m\u001b[0m\u001b[0m\n",
      "\u001b[0;31mNameError\u001b[0m: name 'serial' is not defined"
     ]
    }
   ],
   "source": [
    "Puerto_arduino = serial.Serial('/dev/ttyUSB0', 9600,timeout=1)\n",
    "Valor_muestreado = Puerto_arduino.readline()\n",
    "print(Valor_muestreado)\n",
    "Puerto_arduino.close()"
   ]
  },
  {
   "cell_type": "markdown",
   "metadata": {},
   "source": [
    "# Funciones propuestas a utilizar."
   ]
  },
  {
   "cell_type": "markdown",
   "metadata": {},
   "source": [
    "## Función numpy.fft.rfft"
   ]
  },
  {
   "cell_type": "markdown",
   "metadata": {},
   "source": [
    "Esta función definida dentro de la librería de numpy tiene la siguiente estructura:\n",
    "***numpy.fft.rfft(a, n=None, axis=-1, norm=None)*** donde en primer lugar, la entrada **a** es un array, en nuestro posiblemente podramos insertar un array que contenga a todos los datos que buscamos muestrear. La entrada **n** es el número de puntos que se encuentran a lo largo del eje que vamos a utilizar para calcular la transformada, normalmente es proporcional a la entrada **a**, si por alguna razón es menor, entonces la entrada **a** disminuye hasta alcanzar el número de puntos requeridos, lo mismo ocurre en el caso de que sea mayor, la entrada **a** se completa colocando 0's en los espacios restantes. El resto de entradas no son relevantes para el uso que pretendemos darle, por lo tanto las dejamos como predeterminadas. \n",
    "Lo que la función retorna es un array que cuenta con entradas complejas, que indican los valores transformados. Si el valor de n es par (n es el número de datos agrupados dentro del array de entrada) entonces la longitud del eje sobre el cual se dio la transformación es $\\frac{n}{2}+1$. Si el número de datos proporcionados es impar, entonces la longitud de este eje es $\\frac{n+1}{2}$"
   ]
  },
  {
   "cell_type": "markdown",
   "metadata": {},
   "source": [
    "## Función numpy.ftt.ftt"
   ]
  },
  {
   "cell_type": "markdown",
   "metadata": {},
   "source": [
    "Cuenta con una estructura similar respecto a la anterior: **numpy.fft.fft(a, n=None, axis=-1, norm=None)**, sin embargo, en este caso el array de entrada **a** puede ser complejo; **n** es la longitud del eje en el cual vamos a representar los datos de salida, la variación entre este y la longitud de entrada se compensa recortándola o agregando ceros, por lo tanto, es mejor mantenerla como predeterminada. Podemos definir además el eje sobre el cual vamos a realizar la transformada discreta, además de normalizar los valores, sin embargo, no es de nuestro interés actualmente. La salida consiste de un array complejo con los valores resultantes de calcular la transformada discreta a lo largo del eje predeterminado."
   ]
  },
  {
   "cell_type": "markdown",
   "metadata": {},
   "source": [
    "## Función scipy.fftpack.fft"
   ]
  },
  {
   "cell_type": "markdown",
   "metadata": {},
   "source": [
    "La función tiene la siguiente estructura **scipy.fftpack.fft(x, n=None, axis=-1, overwrite_x=False)** donde el elemento **x** corresponde a la entrada ya sea real o compleja, claramente en forma de un array. El elemento **n**, de forma análoga a los dos casos anteriores, indica la longitud de la salida, es decir, de la transformada discreta de fourier. El parámetro **axis** hace alusión al eje conforme al cual calculamos la transformada discreta de Fourier. Finalmente, el único parámetro desconocido es **overwrite_x**, el cual al tener carácter verdadero puede ocasionar que los datos contenidos en *x* sean destruidos, por lo general se mantiene con un carácter falso. \n",
    "\n",
    "Retorna un array complejo, sin embargo, está organizado de modo que los terminos de frecuencia positiva son presentados primero (en las primeras $\\frac{n}{2}$ posiciones), mientras que los términos de frecuencia negativa están representados en el resto de entradas. Por lo tanto, si administramos una transformada de 8 puntos, las frecuencias se organizan de la siguiente forma: [0,1,2,3,-4,-3,-2,-1]. Podemos reorganizar el array de frecuencias con el comando fftshitf. \n",
    "\n",
    "Retomando las cuestiones de la transformada discreta de fourier, recalcamos que si la señal discreta que entra es positiva, entonces la señal en el dominio de la frecuencia sería simetrica, de modo que cuando se calcula la transformada discreta de fourier a una entrada totalmente real, solamente se calcula la mitad de los valores, e incluso en algunos casos únicamente se grafica la respuesta en frecuencias positivas. "
   ]
  },
  {
   "cell_type": "markdown",
   "metadata": {},
   "source": [
    "# Código:"
   ]
  },
  {
   "cell_type": "markdown",
   "metadata": {},
   "source": [
    "Primero, empleando la conexión arduino-python vamos a obtener los valores de la señal de ECG y a almacenarlos en una lista:"
   ]
  },
  {
   "cell_type": "code",
   "execution_count": null,
   "metadata": {},
   "outputs": [],
   "source": [
    "Lista_valores_muestreados=[]\n",
    "Puerto_arduino = serial.Serial('/dev/ttyUSB0', 9600,timeout=10)\n",
    "Valor_muestreado = Puerto_arduino.readline()\n",
    "Lista_valores_muestreados.append(Valor_muestreado)\n",
    "Puerto_arduino.close()"
   ]
  },
  {
   "cell_type": "markdown",
   "metadata": {},
   "source": [
    "Vamos a guardar los datos en un archivo con el objetivo de generar una base de datos que pueda ser compartida o utilizada en un futuro. "
   ]
  },
  {
   "cell_type": "code",
   "execution_count": null,
   "metadata": {},
   "outputs": [],
   "source": [
    "Archivo_texto = open(\"Datos muestreados con ayuda de arduino (sin aplicar transformada discreta de Fourier.txt\",\"w\")\n",
    "Archivo_texto.write(\"Amplitud de la señal\")\n",
    "for i in Lista_valores_muestreados:\n",
    "    Archivo_texto.write(\"Valor de la amplitud es %f \\r \\n\" %i)\n",
    "Archivo_texto.close()\n"
   ]
  },
  {
   "cell_type": "markdown",
   "metadata": {},
   "source": [
    "Una vez que tenemos los valores muestreados que corresponden a nuestra señal de tiempo discreto vamos a emplear la Transformada Discreta de Fourier en su forma más veloz: Transformada Rápida de Fourier. \n",
    "\n",
    "Empleamos los datos provenientes de nuestra base de datos. "
   ]
  },
  {
   "cell_type": "code",
   "execution_count": null,
   "metadata": {},
   "outputs": [],
   "source": [
    "Valores_almacenados = open(\"Datos muestreados con ayuda de arduino (sin aplicar transformada discreta de Fourier.txt\",\"r\")"
   ]
  },
  {
   "cell_type": "markdown",
   "metadata": {},
   "source": [
    "Vamos a calcular la Transformada Rápida de Fourier con las 3 funciones propuestas."
   ]
  },
  {
   "cell_type": "code",
   "execution_count": null,
   "metadata": {},
   "outputs": [],
   "source": [
    "Transformada_Rápida_Fourier_1 = numpy.fft.rfft(Valores_almacenados)\n",
    "\n",
    "Transformada_Rápida_Fourier_2 = numpy.ftt.ftt(Valores_almacenados)\n",
    "\n",
    "Transformada_Rápida_Fourier_3 = scipy.fftpack.fft(Valores_almacenados) "
   ]
  },
  {
   "cell_type": "markdown",
   "metadata": {},
   "source": [
    "Vamos a visualizar los coeficientes de desarrollo (que nos indican la aportación de cada frecuencia armónica en la conformación de nuestra señal) graficándolos con respecto a la frecuencia. Nosotros conocemos el valor de estos coeficientes de desarrollo, ya que se calcularon con ayuda de las tres funciones anteriores. \n",
    "\n",
    "Para graficar recordemos que la Transformada de Fourier repite sus valores cada que la frecuencia cumple un periodo de $2\\pi$, entonces el eje de la frecuencia encuentra su valor máxixo con el valor $2\\pi$. \n",
    "\n",
    "Buscamos observar el papel que juegan cada uno de los armónicos de la frecuencia fundamental en la formación de la señal, por lo tanto, calculamos la frecuencia fundamental: $w_{0}=\\frac{2\\pi}{N}$ con N el número de muestras. \n",
    "\n",
    "Sabemos que los armónicos son los N-ésimos múltiplos enteros de la frecuencia fundamental, por lo tanto, para generar el eje de frecuencia:   \n"
   ]
  },
  {
   "cell_type": "code",
   "execution_count": null,
   "metadata": {},
   "outputs": [],
   "source": [
    "def Establecemos_el_eje_de_frecuencia(Transformada_Discreta_Fourier_de_los_datos):\n",
    "    #Establecemos la cantidad de coeficientes de desarrollo. \n",
    "    Cantidad_coeficientes_de_desarrollo=len(Transformada_Discreta_Fourier_de_los_datos)\n",
    "    #Establecemos la frecuencia fundamental w0:\n",
    "    Frecuencia_fundamental= 2*pi/Cantidad_coeficientes_de_desarrollo\n",
    "    Eje_de_frecuencia = linspace(0,2*pi,Frecuencia_fundamental)\n",
    "    return array(Eje_de_frecuencia) "
   ]
  },
  {
   "cell_type": "markdown",
   "metadata": {},
   "source": [
    "Ahora podemos proceder a graficar las Transformadas de Fourier previamente calculadas:"
   ]
  },
  {
   "cell_type": "code",
   "execution_count": null,
   "metadata": {},
   "outputs": [],
   "source": [
    "Eje_de_frecuencia_1= Establecemos_el_eje_de_frecuencia(Transformada_Rápida_Fourier_1)\n",
    "\n",
    "plot(Eje_de_frecuencia_1,Transformada_Rápida_Fourier_1)\n",
    "title('Transformada Rápida de Fourier mediante numpy.fft.rfft')\n",
    "xlabel('Frecuencias armónicas [w]')\n",
    "ylabel('Magnitud del coeficiente de desarrollo')\n",
    "\n",
    "Eje_de_frecuencia_2= Establecemos_el_eje_de_frecuencia(Transformada_Rápida_Fourier_2)\n",
    "\n",
    "plot(Eje_de_frecuencia_2,Transformada_Rápida_Fourier_2)\n",
    "title('Transformada Rápida de Fourier mediante numpy.fft.fft')\n",
    "xlabel('Frecuencias armónicas [w]')\n",
    "ylabel('Magnitud del coeficiente de desarrollo')\n",
    "\n",
    "Eje_de_frecuencia_3= Establecemos_el_eje_de_frecuencia(Transformada_Rápida_Fourier_3)\n",
    "\n",
    "plot(Eje_de_frecuencia_3,Transformada_Rápida_Fourier_3)\n",
    "title('Transformada Rápida de Fourier mediante scipy.fftpack.fft')\n",
    "xlabel('Frecuencias armónicas [w]')\n",
    "ylabel('Magnitud del coeficiente de desarrollo')\n"
   ]
  },
  {
   "cell_type": "markdown",
   "metadata": {},
   "source": [
    "En el caso de que no contemos con una señal almacenada podemos emplear un registro previo, por ejemplo, el registro de ECG de 5 minutos."
   ]
  },
  {
   "cell_type": "code",
   "execution_count": null,
   "metadata": {},
   "outputs": [],
   "source": [
    "ECG=np.array([1.000000000000000000e+00,9.003241658210754395e-01,3.585899472236633301e-01,5.145867168903350830e-02,4.659643396735191345e-02,1.268233358860015869e-01,1.333063244819641113e-01,1.191247999668121338e-01,1.106158867478370667e-01,1.130470037460327148e-01,1.065640226006507874e-01,1.069692075252532959e-01,1.158833056688308716e-01,1.223662868142127991e-01,1.223662868142127991e-01,1.195299848914146423e-01,1.158833056688308716e-01,1.223662868142127991e-01,1.260129660367965698e-01,1.337115019559860229e-01,1.349270641803741455e-01,1.426256150007247925e-01,1.511345207691192627e-01,1.584278792142868042e-01,1.636953055858612061e-01,1.738249659538269043e-01,1.888168603181838989e-01,2.078606188297271729e-01,2.309562414884567261e-01,2.585089206695556641e-01,2.945705056190490723e-01,3.257698416709899902e-01,3.626418113708496094e-01,3.982982039451599121e-01,4.294975697994232178e-01,4.493516981601715088e-01,4.509724378585815430e-01,4.189627170562744141e-01,3.727714717388153076e-01,3.103727698326110840e-01,2.500000000000000000e-01,2.042139321565628052e-01,1.689627170562744141e-01,1.474878489971160889e-01,1.304700225591659546e-01,1.243922188878059387e-01,1.175040528178215027e-01,1.166936755180358887e-01,1.158833056688308716e-01,1.187196075916290283e-01,1.154781207442283630e-01,1.138573735952377319e-01,1.195299848914146423e-01,1.166936755180358887e-01,1.227714717388153076e-01,1.207455396652221680e-01,1.166936755180358887e-01,1.227714717388153076e-01,1.264181584119796753e-01,1.316855698823928833e-01,1.418152302503585815e-01,1.393841207027435303e-01,1.450567245483398438e-01,1.434359848499298096e-01,1.410048604011535645e-01,1.405996829271316528e-01,1.381685584783554077e-01,1.369529962539672852e-01,1.320907622575759888e-01,1.284440904855728149e-01,1.284440904855728149e-01,1.280388981103897095e-01,1.252025961875915527e-01,1.223662868142127991e-01,1.170988678932189941e-01,1.126418188214302063e-01,1.130470037460327148e-01,1.276337057352066040e-01,1.653160452842712402e-01,1.794975697994232178e-01,1.612641811370849609e-01,1.766612678766250610e-01,1.827390640974044800e-01,1.746353358030319214e-01,1.515397131443023682e-01,1.478930264711380005e-01,1.349270641803741455e-01,1.227714717388153076e-01,1.069692075252532959e-01,9.805510193109512329e-02,9.440843015909194946e-02,8.914100378751754761e-02,8.914100378751754761e-02,8.873581886291503906e-02,9.076175093650817871e-02,8.589951694011688232e-02,8.589951694011688232e-02,8.914100378751754761e-02,8.427876979112625122e-02,5.794165283441543579e-02,0.000000000000000000e+00,1.162884905934333801e-01,3.095623850822448730e-01,8.342787623405456543e-01,9.643436074256896973e-01,5.615883469581604004e-01,8.144246041774749756e-02,3.241490945219993591e-02,1.126418188214302063e-01,1.523500829935073853e-01,1.357374340295791626e-01,1.247974038124084473e-01,1.235818490386009216e-01,1.235818490386009216e-01,1.158833056688308716e-01,1.154781207442283630e-01,1.166936755180358887e-01,1.247974038124084473e-01,1.280388981103897095e-01,1.300648301839828491e-01,1.268233358860015869e-01,1.296596378087997437e-01,1.361426264047622681e-01,1.000000000000000000e+00,9.003241658210754395e-01,3.585899472236633301e-01,5.145867168903350830e-02,4.659643396735191345e-02,1.268233358860015869e-01,1.333063244819641113e-01,1.191247999668121338e-01,1.106158867478370667e-01,1.130470037460327148e-01,1.065640226006507874e-01,1.069692075252532959e-01,1.158833056688308716e-01,1.223662868142127991e-01,1.223662868142127991e-01,1.195299848914146423e-01,1.158833056688308716e-01,1.223662868142127991e-01,1.260129660367965698e-01,1.337115019559860229e-01,1.349270641803741455e-01,1.426256150007247925e-01,1.511345207691192627e-01,1.584278792142868042e-01,1.636953055858612061e-01,1.738249659538269043e-01,1.888168603181838989e-01,2.078606188297271729e-01,2.309562414884567261e-01,2.585089206695556641e-01,2.945705056190490723e-01,3.257698416709899902e-01,3.626418113708496094e-01,3.982982039451599121e-01,4.294975697994232178e-01,4.493516981601715088e-01,4.509724378585815430e-01,4.189627170562744141e-01,3.727714717388153076e-01,3.103727698326110840e-01,2.500000000000000000e-01,2.042139321565628052e-01,1.689627170562744141e-01,1.474878489971160889e-01,1.304700225591659546e-01,1.243922188878059387e-01,1.175040528178215027e-01,1.166936755180358887e-01,1.158833056688308716e-01,1.187196075916290283e-01,1.154781207442283630e-01,1.138573735952377319e-01,1.195299848914146423e-01,1.166936755180358887e-01,1.227714717388153076e-01,1.207455396652221680e-01,1.166936755180358887e-01,1.227714717388153076e-01,1.264181584119796753e-01,1.316855698823928833e-01,1.418152302503585815e-01,1.393841207027435303e-01,1.450567245483398438e-01,1.434359848499298096e-01,1.410048604011535645e-01,1.405996829271316528e-01,1.381685584783554077e-01,1.369529962539672852e-01,1.320907622575759888e-01,1.284440904855728149e-01,1.284440904855728149e-01,1.280388981103897095e-01,1.252025961875915527e-01,1.223662868142127991e-01,1.170988678932189941e-01,1.126418188214302063e-01,1.130470037460327148e-01,1.276337057352066040e-01,1.653160452842712402e-01,1.794975697994232178e-01,1.612641811370849609e-01,1.766612678766250610e-01,1.827390640974044800e-01,1.746353358030319214e-01,1.515397131443023682e-01,1.478930264711380005e-01,1.349270641803741455e-01,1.227714717388153076e-01,1.069692075252532959e-01,9.805510193109512329e-02,9.440843015909194946e-02,8.914100378751754761e-02,8.914100378751754761e-02,8.873581886291503906e-02,9.076175093650817871e-02,8.589951694011688232e-02,8.589951694011688232e-02,8.914100378751754761e-02,8.427876979112625122e-02,5.794165283441543579e-02,0.000000000000000000e+00,1.162884905934333801e-01,3.095623850822448730e-01,8.342787623405456543e-01,9.643436074256896973e-01,5.615883469581604004e-01,8.144246041774749756e-02,3.241490945219993591e-02,1.126418188214302063e-01,1.523500829935073853e-01,1.357374340295791626e-01,1.247974038124084473e-01,1.235818490386009216e-01,1.235818490386009216e-01,1.158833056688308716e-01,1.154781207442283630e-01,1.166936755180358887e-01,1.247974038124084473e-01,1.280388981103897095e-01,1.300648301839828491e-01,1.268233358860015869e-01,1.296596378087997437e-01,1.361426264047622681e-01,1.000000000000000000e+00,9.003241658210754395e-01,3.585899472236633301e-01,5.145867168903350830e-02,4.659643396735191345e-02,1.268233358860015869e-01,1.333063244819641113e-01,1.191247999668121338e-01,1.106158867478370667e-01,1.130470037460327148e-01,1.065640226006507874e-01,1.069692075252532959e-01,1.158833056688308716e-01,1.223662868142127991e-01,1.223662868142127991e-01,1.195299848914146423e-01,1.158833056688308716e-01,1.223662868142127991e-01,1.260129660367965698e-01,1.337115019559860229e-01,1.349270641803741455e-01,1.426256150007247925e-01,1.511345207691192627e-01,1.584278792142868042e-01,1.636953055858612061e-01,1.738249659538269043e-01,1.888168603181838989e-01,2.078606188297271729e-01,2.309562414884567261e-01,2.585089206695556641e-01,2.945705056190490723e-01,3.257698416709899902e-01,3.626418113708496094e-01,3.982982039451599121e-01,4.294975697994232178e-01,4.493516981601715088e-01,4.509724378585815430e-01,4.189627170562744141e-01,3.727714717388153076e-01,3.103727698326110840e-01,2.500000000000000000e-01,2.042139321565628052e-01,1.689627170562744141e-01,1.474878489971160889e-01,1.304700225591659546e-01,1.243922188878059387e-01,1.175040528178215027e-01,1.166936755180358887e-01,1.158833056688308716e-01,1.187196075916290283e-01,1.154781207442283630e-01,1.138573735952377319e-01,1.195299848914146423e-01,1.166936755180358887e-01,1.227714717388153076e-01,1.207455396652221680e-01,1.166936755180358887e-01,1.227714717388153076e-01,1.264181584119796753e-01,1.316855698823928833e-01,1.418152302503585815e-01,1.393841207027435303e-01,1.450567245483398438e-01,1.434359848499298096e-01,1.410048604011535645e-01,1.405996829271316528e-01,1.381685584783554077e-01,1.369529962539672852e-01,1.320907622575759888e-01,1.284440904855728149e-01,1.284440904855728149e-01,1.280388981103897095e-01,1.252025961875915527e-01,1.223662868142127991e-01,1.170988678932189941e-01,1.126418188214302063e-01,1.130470037460327148e-01,1.276337057352066040e-01,1.653160452842712402e-01,1.794975697994232178e-01,1.612641811370849609e-01,1.766612678766250610e-01,1.827390640974044800e-01,1.746353358030319214e-01,1.515397131443023682e-01,1.478930264711380005e-01,1.349270641803741455e-01,1.227714717388153076e-01,1.069692075252532959e-01,9.805510193109512329e-02,9.440843015909194946e-02,8.914100378751754761e-02,8.914100378751754761e-02,8.873581886291503906e-02,9.076175093650817871e-02,8.589951694011688232e-02,8.589951694011688232e-02,8.914100378751754761e-02,8.427876979112625122e-02,5.794165283441543579e-02,0.000000000000000000e+00,1.162884905934333801e-01,3.095623850822448730e-01,8.342787623405456543e-01,9.643436074256896973e-01,5.615883469581604004e-01,8.144246041774749756e-02,3.241490945219993591e-02,1.126418188214302063e-01,1.523500829935073853e-01,1.357374340295791626e-01,1.247974038124084473e-01,1.235818490386009216e-01,1.235818490386009216e-01,1.158833056688308716e-01,1.154781207442283630e-01,1.166936755180358887e-01,1.247974038124084473e-01,1.280388981103897095e-01,1.300648301839828491e-01,1.268233358860015869e-01,1.296596378087997437e-01,1.361426264047622681e-01,1.000000000000000000e+00,9.003241658210754395e-01,3.585899472236633301e-01,5.145867168903350830e-02,4.659643396735191345e-02,1.268233358860015869e-01,1.333063244819641113e-01,1.191247999668121338e-01,1.106158867478370667e-01,1.130470037460327148e-01,1.065640226006507874e-01,1.069692075252532959e-01,1.158833056688308716e-01,1.223662868142127991e-01,1.223662868142127991e-01,1.195299848914146423e-01,1.158833056688308716e-01,1.223662868142127991e-01,1.260129660367965698e-01,1.337115019559860229e-01,1.349270641803741455e-01,1.426256150007247925e-01,1.511345207691192627e-01,1.584278792142868042e-01,1.636953055858612061e-01,1.738249659538269043e-01,1.888168603181838989e-01,2.078606188297271729e-01,2.309562414884567261e-01,2.585089206695556641e-01,2.945705056190490723e-01,3.257698416709899902e-01,3.626418113708496094e-01,3.982982039451599121e-01,4.294975697994232178e-01,4.493516981601715088e-01,4.509724378585815430e-01,4.189627170562744141e-01,3.727714717388153076e-01,3.103727698326110840e-01,2.500000000000000000e-01,2.042139321565628052e-01,1.689627170562744141e-01,1.474878489971160889e-01,1.304700225591659546e-01,1.243922188878059387e-01,1.175040528178215027e-01,1.166936755180358887e-01,1.158833056688308716e-01,1.187196075916290283e-01,1.154781207442283630e-01,1.138573735952377319e-01,1.195299848914146423e-01,1.166936755180358887e-01,1.227714717388153076e-01,1.207455396652221680e-01,1.166936755180358887e-01,1.227714717388153076e-01,1.264181584119796753e-01,1.316855698823928833e-01,1.418152302503585815e-01,1.393841207027435303e-01,1.450567245483398438e-01,1.434359848499298096e-01,1.410048604011535645e-01,1.405996829271316528e-01,1.381685584783554077e-01,1.369529962539672852e-01,1.320907622575759888e-01,1.284440904855728149e-01,1.284440904855728149e-01,1.280388981103897095e-01,1.252025961875915527e-01,1.223662868142127991e-01,1.170988678932189941e-01,1.126418188214302063e-01,1.130470037460327148e-01,1.276337057352066040e-01,1.653160452842712402e-01,1.794975697994232178e-01,1.612641811370849609e-01,1.766612678766250610e-01,1.827390640974044800e-01,1.746353358030319214e-01,1.515397131443023682e-01,1.478930264711380005e-01,1.349270641803741455e-01,1.227714717388153076e-01,1.069692075252532959e-01,9.805510193109512329e-02,9.440843015909194946e-02,8.914100378751754761e-02,8.914100378751754761e-02,8.873581886291503906e-02,9.076175093650817871e-02,8.589951694011688232e-02,8.589951694011688232e-02,8.914100378751754761e-02,8.427876979112625122e-02,5.794165283441543579e-02,0.000000000000000000e+00,1.162884905934333801e-01,3.095623850822448730e-01,8.342787623405456543e-01,9.643436074256896973e-01,5.615883469581604004e-01,8.144246041774749756e-02,3.241490945219993591e-02,1.126418188214302063e-01,1.523500829935073853e-01,1.357374340295791626e-01,1.247974038124084473e-01,1.235818490386009216e-01,1.235818490386009216e-01,1.158833056688308716e-01,1.154781207442283630e-01,1.166936755180358887e-01,1.247974038124084473e-01,1.280388981103897095e-01,1.300648301839828491e-01,1.268233358860015869e-01,1.296596378087997437e-01,1.361426264047622681e-01,1.000000000000000000e+00,9.003241658210754395e-01,3.585899472236633301e-01,5.145867168903350830e-02,4.659643396735191345e-02,1.268233358860015869e-01,1.333063244819641113e-01,1.191247999668121338e-01,1.106158867478370667e-01,1.130470037460327148e-01,1.065640226006507874e-01,1.069692075252532959e-01,1.158833056688308716e-01,1.223662868142127991e-01,1.223662868142127991e-01,1.195299848914146423e-01,1.158833056688308716e-01,1.223662868142127991e-01,1.260129660367965698e-01,1.337115019559860229e-01,1.349270641803741455e-01,1.426256150007247925e-01,1.511345207691192627e-01,1.584278792142868042e-01,1.636953055858612061e-01,1.738249659538269043e-01,1.888168603181838989e-01,2.078606188297271729e-01,2.309562414884567261e-01,2.585089206695556641e-01,2.945705056190490723e-01,3.257698416709899902e-01,3.626418113708496094e-01,3.982982039451599121e-01,4.294975697994232178e-01,4.493516981601715088e-01,4.509724378585815430e-01,4.189627170562744141e-01,3.727714717388153076e-01,3.103727698326110840e-01,2.500000000000000000e-01,2.042139321565628052e-01,1.689627170562744141e-01,1.474878489971160889e-01,1.304700225591659546e-01,1.243922188878059387e-01,1.175040528178215027e-01,1.166936755180358887e-01,1.158833056688308716e-01,1.187196075916290283e-01,1.154781207442283630e-01,1.138573735952377319e-01,1.195299848914146423e-01,1.166936755180358887e-01,1.227714717388153076e-01,1.207455396652221680e-01,1.166936755180358887e-01,1.227714717388153076e-01,1.264181584119796753e-01,1.316855698823928833e-01,1.418152302503585815e-01,1.393841207027435303e-01,1.450567245483398438e-01,1.434359848499298096e-01,1.410048604011535645e-01,1.405996829271316528e-01,1.381685584783554077e-01,1.369529962539672852e-01,1.320907622575759888e-01,1.284440904855728149e-01,1.284440904855728149e-01,1.280388981103897095e-01,1.252025961875915527e-01,1.223662868142127991e-01,1.170988678932189941e-01,1.126418188214302063e-01,1.130470037460327148e-01,1.276337057352066040e-01,1.653160452842712402e-01,1.794975697994232178e-01,1.612641811370849609e-01,1.766612678766250610e-01,1.827390640974044800e-01,1.746353358030319214e-01,1.515397131443023682e-01,1.478930264711380005e-01,1.349270641803741455e-01,1.227714717388153076e-01,1.069692075252532959e-01,9.805510193109512329e-02,9.440843015909194946e-02,8.914100378751754761e-02,8.914100378751754761e-02,8.873581886291503906e-02,9.076175093650817871e-02,8.589951694011688232e-02,8.589951694011688232e-02,8.914100378751754761e-02,8.427876979112625122e-02,5.794165283441543579e-02,0.000000000000000000e+00,1.162884905934333801e-01,3.095623850822448730e-01,8.342787623405456543e-01,9.643436074256896973e-01,5.615883469581604004e-01,8.144246041774749756e-02,3.241490945219993591e-02,1.126418188214302063e-01,1.523500829935073853e-01,1.357374340295791626e-01,1.247974038124084473e-01,1.235818490386009216e-01,1.235818490386009216e-01,1.158833056688308716e-01,1.154781207442283630e-01,1.166936755180358887e-01,1.247974038124084473e-01,1.280388981103897095e-01,1.300648301839828491e-01,1.268233358860015869e-01,1.296596378087997437e-01,1.361426264047622681e-01,1.000000000000000000e+00,9.003241658210754395e-01,3.585899472236633301e-01,5.145867168903350830e-02,4.659643396735191345e-02,1.268233358860015869e-01,1.333063244819641113e-01,1.191247999668121338e-01,1.106158867478370667e-01,1.130470037460327148e-01,1.065640226006507874e-01,1.069692075252532959e-01,1.158833056688308716e-01,1.223662868142127991e-01,1.223662868142127991e-01,1.195299848914146423e-01,1.158833056688308716e-01,1.223662868142127991e-01,1.260129660367965698e-01,1.337115019559860229e-01,1.349270641803741455e-01,1.426256150007247925e-01,1.511345207691192627e-01,1.584278792142868042e-01,1.636953055858612061e-01,1.738249659538269043e-01,1.888168603181838989e-01,2.078606188297271729e-01,2.309562414884567261e-01,2.585089206695556641e-01,2.945705056190490723e-01,3.257698416709899902e-01,3.626418113708496094e-01,3.982982039451599121e-01,4.294975697994232178e-01,4.493516981601715088e-01,4.509724378585815430e-01,4.189627170562744141e-01,3.727714717388153076e-01,3.103727698326110840e-01,2.500000000000000000e-01,2.042139321565628052e-01,1.689627170562744141e-01,1.474878489971160889e-01,1.304700225591659546e-01,1.243922188878059387e-01,1.175040528178215027e-01,1.166936755180358887e-01,1.158833056688308716e-01,1.187196075916290283e-01,1.154781207442283630e-01,1.138573735952377319e-01,1.195299848914146423e-01,1.166936755180358887e-01,1.227714717388153076e-01,1.207455396652221680e-01,1.166936755180358887e-01,1.227714717388153076e-01,1.264181584119796753e-01,1.316855698823928833e-01,1.418152302503585815e-01,1.393841207027435303e-01,1.450567245483398438e-01,1.434359848499298096e-01,1.410048604011535645e-01,1.405996829271316528e-01,1.381685584783554077e-01,1.369529962539672852e-01,1.320907622575759888e-01,1.284440904855728149e-01,1.284440904855728149e-01,1.280388981103897095e-01,1.252025961875915527e-01,1.223662868142127991e-01,1.170988678932189941e-01,1.126418188214302063e-01,1.130470037460327148e-01,1.276337057352066040e-01,1.653160452842712402e-01,1.794975697994232178e-01,1.612641811370849609e-01,1.766612678766250610e-01,1.827390640974044800e-01,1.746353358030319214e-01,1.515397131443023682e-01,1.478930264711380005e-01,1.349270641803741455e-01,1.227714717388153076e-01,1.069692075252532959e-01,9.805510193109512329e-02,9.440843015909194946e-02,8.914100378751754761e-02,8.914100378751754761e-02,8.873581886291503906e-02,9.076175093650817871e-02,8.589951694011688232e-02,8.589951694011688232e-02,8.914100378751754761e-02,8.427876979112625122e-02,5.794165283441543579e-02,0.000000000000000000e+00,1.162884905934333801e-01,3.095623850822448730e-01,8.342787623405456543e-01,9.643436074256896973e-01,5.615883469581604004e-01,8.144246041774749756e-02,3.241490945219993591e-02,1.126418188214302063e-01,1.523500829935073853e-01,1.357374340295791626e-01,1.247974038124084473e-01,1.235818490386009216e-01,1.235818490386009216e-01,1.158833056688308716e-01,1.154781207442283630e-01,1.166936755180358887e-01,1.247974038124084473e-01,1.280388981103897095e-01,1.300648301839828491e-01,1.268233358860015869e-01,1.296596378087997437e-01,1.361426264047622681e-01,1.000000000000000000e+00,9.003241658210754395e-01,3.585899472236633301e-01,5.145867168903350830e-02,4.659643396735191345e-02,1.268233358860015869e-01,1.333063244819641113e-01,1.191247999668121338e-01,1.106158867478370667e-01,1.130470037460327148e-01,1.065640226006507874e-01,1.069692075252532959e-01,1.158833056688308716e-01,1.223662868142127991e-01,1.223662868142127991e-01,1.195299848914146423e-01,1.158833056688308716e-01,1.223662868142127991e-01,1.260129660367965698e-01,1.337115019559860229e-01,1.349270641803741455e-01,1.426256150007247925e-01,1.511345207691192627e-01,1.584278792142868042e-01,1.636953055858612061e-01,1.738249659538269043e-01,1.888168603181838989e-01,2.078606188297271729e-01,2.309562414884567261e-01,2.585089206695556641e-01,2.945705056190490723e-01,3.257698416709899902e-01,3.626418113708496094e-01,3.982982039451599121e-01,4.294975697994232178e-01,4.493516981601715088e-01,4.509724378585815430e-01,4.189627170562744141e-01,3.727714717388153076e-01,3.103727698326110840e-01,2.500000000000000000e-01,2.042139321565628052e-01,1.689627170562744141e-01,1.474878489971160889e-01,1.304700225591659546e-01,1.243922188878059387e-01,1.175040528178215027e-01,1.166936755180358887e-01,1.158833056688308716e-01,1.187196075916290283e-01,1.154781207442283630e-01,1.138573735952377319e-01,1.195299848914146423e-01,1.166936755180358887e-01,1.227714717388153076e-01,1.207455396652221680e-01,1.166936755180358887e-01,1.227714717388153076e-01,1.264181584119796753e-01,1.316855698823928833e-01,1.418152302503585815e-01,1.393841207027435303e-01,1.450567245483398438e-01,1.434359848499298096e-01,1.410048604011535645e-01,1.405996829271316528e-01,1.381685584783554077e-01,1.369529962539672852e-01,1.320907622575759888e-01,1.284440904855728149e-01,1.284440904855728149e-01,1.280388981103897095e-01,1.252025961875915527e-01,1.223662868142127991e-01,1.170988678932189941e-01,1.126418188214302063e-01,1.130470037460327148e-01,1.276337057352066040e-01,1.653160452842712402e-01,1.794975697994232178e-01,1.612641811370849609e-01,1.766612678766250610e-01,1.827390640974044800e-01,1.746353358030319214e-01,1.515397131443023682e-01,1.478930264711380005e-01,1.349270641803741455e-01,1.227714717388153076e-01,1.069692075252532959e-01,9.805510193109512329e-02,9.440843015909194946e-02,8.914100378751754761e-02,8.914100378751754761e-02,8.873581886291503906e-02,9.076175093650817871e-02,8.589951694011688232e-02,8.589951694011688232e-02,8.914100378751754761e-02,8.427876979112625122e-02,5.794165283441543579e-02,0.000000000000000000e+00,1.162884905934333801e-01,3.095623850822448730e-01,8.342787623405456543e-01,9.643436074256896973e-01,5.615883469581604004e-01,8.144246041774749756e-02,3.241490945219993591e-02,1.126418188214302063e-01,1.523500829935073853e-01,1.357374340295791626e-01,1.247974038124084473e-01,1.235818490386009216e-01,1.235818490386009216e-01,1.158833056688308716e-01,1.154781207442283630e-01,1.166936755180358887e-01,1.247974038124084473e-01,1.280388981103897095e-01,1.300648301839828491e-01,1.268233358860015869e-01,1.296596378087997437e-01,1.361426264047622681e-01,1.000000000000000000e+00,9.003241658210754395e-01,3.585899472236633301e-01,5.145867168903350830e-02,4.659643396735191345e-02,1.268233358860015869e-01,1.333063244819641113e-01,1.191247999668121338e-01,1.106158867478370667e-01,1.130470037460327148e-01,1.065640226006507874e-01,1.069692075252532959e-01,1.158833056688308716e-01,1.223662868142127991e-01,1.223662868142127991e-01,1.195299848914146423e-01,1.158833056688308716e-01,1.223662868142127991e-01,1.260129660367965698e-01,1.337115019559860229e-01,1.349270641803741455e-01,1.426256150007247925e-01,1.511345207691192627e-01,1.584278792142868042e-01,1.636953055858612061e-01,1.738249659538269043e-01,1.888168603181838989e-01,2.078606188297271729e-01,2.309562414884567261e-01,2.585089206695556641e-01,2.945705056190490723e-01,3.257698416709899902e-01,3.626418113708496094e-01,3.982982039451599121e-01,4.294975697994232178e-01,4.493516981601715088e-01,4.509724378585815430e-01,4.189627170562744141e-01,3.727714717388153076e-01,3.103727698326110840e-01,2.500000000000000000e-01,2.042139321565628052e-01,1.689627170562744141e-01,1.474878489971160889e-01,1.304700225591659546e-01,1.243922188878059387e-01,1.175040528178215027e-01,1.166936755180358887e-01,1.158833056688308716e-01,1.187196075916290283e-01,1.154781207442283630e-01,1.138573735952377319e-01,1.195299848914146423e-01,1.166936755180358887e-01,1.227714717388153076e-01,1.207455396652221680e-01,1.166936755180358887e-01,1.227714717388153076e-01,1.264181584119796753e-01,1.316855698823928833e-01,1.418152302503585815e-01,1.393841207027435303e-01,1.450567245483398438e-01,1.434359848499298096e-01,1.410048604011535645e-01,1.405996829271316528e-01,1.381685584783554077e-01,1.369529962539672852e-01,1.320907622575759888e-01,1.284440904855728149e-01,1.284440904855728149e-01,1.280388981103897095e-01,1.252025961875915527e-01,1.223662868142127991e-01,1.170988678932189941e-01,1.126418188214302063e-01,1.130470037460327148e-01,1.276337057352066040e-01,1.653160452842712402e-01,1.794975697994232178e-01,1.612641811370849609e-01,1.766612678766250610e-01,1.827390640974044800e-01,1.746353358030319214e-01,1.515397131443023682e-01,1.478930264711380005e-01,1.349270641803741455e-01,1.227714717388153076e-01,1.069692075252532959e-01,9.805510193109512329e-02,9.440843015909194946e-02,8.914100378751754761e-02,8.914100378751754761e-02,8.873581886291503906e-02,9.076175093650817871e-02,8.589951694011688232e-02,8.589951694011688232e-02,8.914100378751754761e-02,8.427876979112625122e-02,5.794165283441543579e-02,0.000000000000000000e+00,1.162884905934333801e-01,3.095623850822448730e-01,8.342787623405456543e-01,9.643436074256896973e-01,5.615883469581604004e-01,8.144246041774749756e-02,3.241490945219993591e-02,1.126418188214302063e-01,1.523500829935073853e-01,1.357374340295791626e-01,1.247974038124084473e-01,1.235818490386009216e-01,1.235818490386009216e-01,1.158833056688308716e-01,1.154781207442283630e-01,1.166936755180358887e-01,1.247974038124084473e-01,1.280388981103897095e-01,1.300648301839828491e-01,1.268233358860015869e-01,1.296596378087997437e-01,1.361426264047622681e-01])"
   ]
  },
  {
   "cell_type": "code",
   "execution_count": 49,
   "metadata": {},
   "outputs": [],
   "source": [
    "ECG1 = open(\"Datos muestreados con ayuda de Arduino sin aplicar transformada discreta de Fourier2.txt\",\"r\")\n",
    "Valor=ECG1.read()\n",
    "ECG1.close\n",
    "#print(Valor)\n",
    "\n",
    "ECG2=[]\n",
    "with open('Datos muestreados con ayuda de Arduino sin aplicar transformada discreta de Fourier1.txt') as lineas:\n",
    "    for linea in lineas:\n",
    "        ECG2.append(linea)"
   ]
  },
  {
   "cell_type": "code",
   "execution_count": 50,
   "metadata": {},
   "outputs": [
    {
     "data": {
      "text/plain": [
       "(0, 20)"
      ]
     },
     "execution_count": 50,
     "metadata": {},
     "output_type": "execute_result"
    },
    {
     "data": {
      "image/png": "[encoded data removed]",
      "text/plain": [
       "<matplotlib.figure.Figure at 0x7f3c774957f0>"
      ]
     },
     "metadata": {
      "needs_background": "light"
     },
     "output_type": "display_data"
    }
   ],
   "source": [
    "Números=[\"1\",\"2\",\"3\",\"4\",\"5\",\"6\",\"7\",\"8\",\"9\",\"0\",\".\"]\n",
    "ECG3=[]\n",
    "for i in ECG2:\n",
    "    i2=[]\n",
    "    if (ECG2.index(i)%2)==0:\n",
    "        for j in i:\n",
    "            if j in Números:\n",
    "                i2.append(j)\n",
    "        Num=i2[0]+i2[1]+i2[2]+i2[3]+i2[4]+i2[5]+i2[6]+i2[7]\n",
    "        ECG3.append(Num)    \n",
    "ECG4=[]\n",
    "for i in ECG3:\n",
    "    b=float(i)\n",
    "    ECG4.append(b)\n",
    "tiempo=linspace(0,300,len(ECG4))\n",
    "plot(tiempo,ECG4)\n",
    "xlim(0,20)"
   ]
  },
  {
   "cell_type": "code",
   "execution_count": 52,
   "metadata": {},
   "outputs": [
    {
     "name": "stdout",
     "output_type": "stream",
     "text": [
      "[1.21, 0.65, 1.57, 1.55, 1.72, 1.11, 1.09, 0.96, 1.14, 1.23, 1.15, 1.39, 1.55, 1.17, 1.51, 0.69, 1.2, 1.45, 0.85, 1.53, 0.89, 1.3, 1.36, 1.2, 1.41, 0.68, 0.68, 1.24, 1.1, 1.02, 0.95, 1.25, 1.51, 2.18, 1.49, 0.82, 1.62, 0.5, 1.46, 1.62, 1.7, 0.66, 1.46, 0.86, 1.58, 1.47, 0.65, 1.22, 0.65, 0.67, 0.8, 0.86, 1.04, 1.15, 1.37, 1.38, 0.79, 1.49, 1.09, 1.57, 1.41, 0.71, 0.7, 0.7, 1.17, 0.68, 1.12, 0.73, 1.4, 1.62, 1.46, 1.17, 1.11, 1.38, 1.68, 1.48, 1.2, 0.88, 0.66, 0.7, 1.61, 1.55, 1.14, 0.66, 0.89, 1.31, 0.8, 1.47, 0.69, 0.65, 1.64, 1.67, 1.6, 1.61, 0.99, 0.83, 1.65, 0.82, 1.11, 1.64, 1.47, 0.85, 1.27, 1.72, 0.66, 1.27, 1.21, 0.75, 1.07, 1.45, 1.15, 0.67, 1.69, 0.68, 1.5, 0.61, 0.67, 1.14, 1.53, 2.13, 1.45, 1.04, 1.02, 1.7, 1.52, 0.86, 1.63, 0.85, 1.44, 1.25, 0.78, 1.17, 1.25, 0.64, 0.7, 0.96, 0.74, 1.68, 0.7, 1.32, 1.65, 1.71, 1.15, 1.57, 0.99, 1.3, 0.73, 1.57, 0.78, 1.33, 0.94, 0.98, 0.98, 1.06, 1.52, 1.6, 1.65, 1.47, 1.52, 1.01, 1.36, 1.47, 1.45, 1.13, 1.14, 1.44, 1.38, 1.3, 1.64, 1.22, 1.62, 0.75, 1.47, 0.62, 1.16, 1.47, 1.41, 1.55, 1.38, 1.17, 1.62, 1.52, 1.04, 1.09, 1.11, 0.67, 0.86, 0.92, 0.7, 1.55, 1.77, 1.02, 1.15, 1.14, 1.74, 1.38, 1.04, 0.69, 1.73, 0.71, 0.53, 0.55, 2.17, 2.36, 1.88, 1.43, 1.28, 0.85, 1.62, 1.36, 0.66, 0.82, 1.18, 1.02, 0.8, 1.62, 0.76, 1.17, 1.24, 1.54, 1.47, 1.59, 1.03, 1.1, 1.76, 1.05, 0.7, 1.66, 1.24, 1.36, 1.68, 1.48, 0.81, 0.82, 1.03, 1.65, 0.68, 1.65, 1.64, 1.29, 1.25, 1.46, 1.66, 1.05, 0.74, 0.71, 0.89, 0.71, 0.65, 0.63, 1.38, 1.01, 1.56, 1.17, 1.06, 0.95, 1.29, 1.5, 0.99, 0.84, 1.41, 0.58, 0.62, 0.81, 0.72, 1.21, 0.9, 0.85, 1.24, 1.48, 0.68, 0.8, 1.42, 1.7, 1.56, 0.64, 0.76, 0.45, 1.28, 1.77, 1.95, 1.62, 1.16, 1.25, 1.66, 1.34, 1.66, 1.62, 0.65, 0.91, 1.62, 1.71, 1.45, 1.66, 1.61, 1.6, 1.23, 1.75, 1.09, 0.69, 1.24, 1.28, 1.76, 0.72, 1.59, 0.71, 1.5, 1.71, 1.66, 1.65, 1.38, 0.64, 0.67, 1.12, 1.71, 1.36, 0.72, 1.55, 0.96, 0.65, 1.74, 1.77, 0.86, 0.71, 1.66, 0.87, 0.91, 0.68, 1.44, 1.27, 1.56, 1.76, 1.12, 1.74, 1.57, 0.68, 1.5, 0.96, 1.31, 1.35, 1.23, 0.7, 1.02, 1.13, 1.32, 1.33, 0.89, 1.73, 1.22, 0.74, 1.82, 1.38, 1.36, 1.55, 1.76, 1.3, 1.1, 1.55, 0.63, 1.47, 1.66, 1.71, 1.45, 1.6, 1.64, 1.04, 1.01, 0.87, 0.7, 1.09, 1.72, 1.78, 1.49, 0.77, 1.58, 0.78, 1.24, 1.74, 1.75, 1.63, 1.27, 1.11, 0.84, 0.96, 1.46, 1.24, 1.3, 0.77, 0.75, 0.8, 1.74, 1.35, 0.73, 0.66, 1.57, 0.9, 0.65, 1.11, 1.74, 1.64, 1.76, 1.6, 1.24, 0.93, 1.43, 1.41, 1.47, 1.42, 1.66, 1.17, 1.17, 0.69, 0.68, 1.58, 1.4, 0.88, 1.41, 1.73, 0.66, 1.48, 0.81, 0.89, 0.75, 1.09, 1.17, 1.52, 1.35, 1.13, 0.68, 1.09, 1.4, 1.58, 0.71, 0.76, 0.98, 1.3, 1.74, 1.29, 1.5, 0.51, 1.48, 1.95, 2.01, 1.51, 0.65, 1.52, 0.62, 1.62, 1.44, 1.12, 1.46, 1.62, 1.71, 1.15, 0.8, 1.57, 1.01, 0.94, 1.57, 1.73, 1.08, 1.78, 1.81, 0.82, 0.89, 1.17, 1.34, 1.74, 0.79, 1.01, 1.2, 1.14, 1.49, 0.65, 0.7, 1.1, 1.62, 0.85, 1.18, 1.33, 0.98, 1.16, 1.54, 0.7, 0.85, 1.27, 1.72, 0.88, 1.69, 1.23, 0.64, 1.53, 0.89, 1.72, 0.78, 1.16, 0.93, 1.59, 0.68, 1.47, 0.99, 0.94, 1.03, 1.09, 1.09, 1.3, 1.34, 1.17, 0.67, 0.7, 1.69, 0.7, 0.74, 1.08, 1.02, 1.62, 1.65, 1.16, 0.65, 0.82, 1.6, 1.34, 0.66, 1.16, 0.8, 1.59, 2.4, 1.08, 1.14, 1.37, 1.43, 1.11, 1.09, 0.87, 0.63, 1.02, 1.18, 0.81, 0.79, 0.8, 1.22, 0.66, 1.15, 0.73, 1.0, 1.47, 1.22, 1.0, 1.09, 0.87, 1.74, 1.01, 1.22, 0.92, 1.0, 0.84, 1.26, 0.84, 0.75, 0.89, 1.71, 1.2, 1.72, 1.72, 0.93, 1.52, 1.61, 1.03, 1.12, 1.3, 0.7, 0.95, 1.32, 1.51, 0.85, 0.79, 0.75, 1.4, 1.22, 1.69, 0.65, 0.84, 1.4, 1.48, 1.6, 1.05, 1.02, 1.67, 0.65, 0.68, 1.64, 1.47, 1.49, 0.76, 0.95, 1.77, 1.0, 0.8, 1.58, 1.62, 0.78, 0.92, 0.65, 1.23, 0.92, 0.54, 0.67, 1.68, 2.42, 1.01, 0.61, 0.67, 1.3, 1.37, 1.18, 1.57, 1.43, 1.55, 0.63, 0.83, 0.61, 1.07, 1.42, 1.49, 0.94, 1.39, 1.52, 1.18, 1.69, 1.74, 1.53, 1.51, 0.89, 1.78, 1.18, 1.59, 1.68, 1.74, 1.63, 1.15, 0.71, 1.49, 1.24, 0.62, 1.55, 1.25, 0.64, 1.37, 0.9, 1.2, 0.66, 0.71, 1.61, 1.61, 1.69, 0.66, 1.31, 1.11, 1.67, 1.71, 1.11, 0.65, 1.07, 0.72, 0.79, 0.63, 1.0, 0.65, 1.59, 1.5, 1.37, 0.82, 1.74, 1.32, 1.4, 0.74, 1.2, 1.68, 1.72, 0.77, 1.16, 1.29, 1.27, 1.04, 1.1, 1.46, 1.62, 0.81, 0.93, 0.95, 1.36, 2.08, 1.63, 1.21, 1.45, 1.15, 1.62, 0.87, 1.21, 1.64, 1.09, 1.4, 1.67, 0.86, 0.97, 1.11, 1.67, 1.2, 1.61, 1.32, 0.92, 1.36, 0.83, 1.75, 1.59, 1.54, 1.17, 1.66, 1.65, 1.02, 1.39, 1.47, 1.71, 0.81, 1.73, 0.82, 0.76, 0.7, 1.28, 1.63, 0.66, 0.84, 1.31, 0.75, 1.69, 0.67, 0.73, 1.61, 1.15, 1.27, 1.32, 0.88, 1.69, 1.57, 0.76, 0.82, 0.93, 1.17, 0.89, 1.41, 1.23, 1.31, 1.35, 1.44, 1.53, 1.0, 1.55, 0.87, 0.88, 1.15, 1.76, 1.51, 1.73, 1.02, 1.28, 1.29, 0.84, 1.41, 1.61, 1.51, 1.62, 0.98, 2.49, 1.45, 1.22, 1.57, 0.6, 0.91, 1.06, 1.57, 1.68, 0.95, 0.89, 0.77, 1.02, 1.57, 1.22, 0.62, 0.78, 0.73, 0.9, 1.61, 0.79, 1.63, 0.78, 1.14, 0.73, 1.48, 1.78, 1.28, 1.48, 0.72, 1.19, 0.64, 0.66, 1.1, 0.57, 1.53, 1.24, 1.39, 1.7, 1.12, 1.38, 0.71, 1.33, 0.88, 1.1, 1.67, 1.53, 1.69, 1.47, 1.29, 1.63, 1.04, 1.67, 0.79, 0.86, 1.06, 1.01, 1.09, 0.61, 0.71, 1.08, 1.02, 0.99, 1.44, 1.71, 0.64, 0.64, 0.95, 0.66, 1.61, 1.07, 0.57, 1.3, 1.01, 1.23, 1.4, 1.07, 0.95, 0.71, 1.12, 0.64, 2.09, 1.94, 1.58, 1.18, 0.91, 0.69, 1.08, 0.94, 1.33, 1.57, 1.52, 1.39, 0.8, 1.49, 0.57, 0.55, 1.1, 1.32, 0.74, 0.75, 1.66, 1.2, 1.18, 0.87, 1.26, 1.21, 1.28, 1.7, 0.83, 0.73, 1.47, 1.45, 1.49, 1.56, 1.45, 1.1, 1.27, 0.68, 0.94, 0.65, 0.82, 1.67, 1.28, 0.74, 0.93, 0.9, 1.74, 1.61, 1.4, 1.17, 1.05, 0.86, 1.56, 1.58, 0.91, 1.69, 0.84, 0.75, 1.7, 1.7, 0.61, 0.91, 1.53, 1.6, 0.94, 1.22, 0.74, 1.47, 1.05, 0.96, 1.67, 0.93, 0.74, 1.49, 0.65, 1.19, 0.79, 0.89, 0.44, 1.33, 1.92, 1.76, 1.94, 0.78, 0.75, 0.77, 1.42, 0.63, 1.23, 0.72, 1.39, 0.7, 1.62, 0.61, 1.33, 1.18, 0.65, 1.68, 1.58, 0.88, 1.72, 1.07, 1.53, 1.09, 1.74, 1.67, 1.74, 1.75, 1.05, 1.32, 0.65, 1.44, 1.46, 1.68, 0.94, 1.49, 1.29, 0.71, 0.62, 1.17, 0.62, 0.99, 1.33, 1.19, 1.26, 1.12, 1.68, 0.84, 1.4, 0.92, 1.34, 0.87, 1.03, 1.62, 1.21, 0.99, 0.64, 0.78, 0.73, 0.69, 0.86, 0.59, 1.52, 1.05, 1.61, 1.36, 1.01, 1.4, 1.77, 0.72, 0.81, 1.7, 1.54, 0.6, 1.44, 0.7, 0.8, 1.01, 1.05, 1.08, 0.9, 1.66, 2.02, 1.04, 0.56, 0.58, 1.09, 0.57, 0.69, 0.95, 1.08, 0.87, 1.32, 0.95, 1.45, 1.39, 1.68, 0.64, 0.65, 0.86, 0.65, 0.86, 0.76, 1.29, 1.76, 1.67, 1.63, 1.77, 1.3, 1.19, 1.71, 1.35, 0.87, 1.33, 1.43, 1.65, 0.73, 1.15, 1.02, 0.81, 1.52, 0.87, 0.76, 0.63, 0.9, 1.62, 1.58, 1.66, 1.15, 0.89, 1.32, 1.18, 1.05, 1.37, 1.37, 0.76, 0.62, 1.6, 1.68, 1.7, 1.25, 1.21, 0.78, 1.7, 0.79, 1.42, 1.68, 1.09, 0.65, 0.87, 1.57, 0.78, 1.66, 0.8, 0.7, 1.95, 2.29, 1.87, 1.02, 1.0, 1.31, 0.73, 0.59, 0.93, 1.19, 0.91, 1.31, 1.52, 1.05, 1.68, 1.65, 0.71, 1.61, 1.0, 1.74, 1.25, 1.03, 0.73, 1.27, 1.16, 1.34, 1.47, 1.3, 0.94, 1.58, 0.72, 0.69, 1.69, 1.74, 1.69, 1.08, 0.72, 1.2, 0.91, 1.02, 0.75, 1.26, 0.86, 0.64, 0.67, 1.41, 0.95, 1.6, 0.66, 1.67, 0.79, 1.49, 0.67, 0.74, 1.23, 0.94, 1.03, 1.75, 1.34, 1.1, 1.51, 1.39, 1.02, 1.77, 0.9, 1.71, 1.63, 1.75, 1.49, 1.11, 1.33, 1.04, 1.2, 0.47, 1.52, 2.11, 2.08, 1.23, 1.18, 1.49, 1.18, 1.66, 0.61, 0.86, 1.7, 1.31, 1.4, 1.64, 1.37, 0.75, 0.8, 1.16, 1.25, 1.53, 1.35, 1.1, 1.68, 0.99, 1.39, 1.2, 1.7, 1.21, 1.48, 1.69, 1.06, 1.43, 1.62, 1.29, 1.54, 0.61, 1.03, 1.65, 1.53, 1.13, 1.57, 1.63, 1.42, 1.72, 1.09, 1.48, 1.43, 1.73, 0.86, 0.76, 1.04, 0.77, 0.78, 1.51, 1.71, 1.15, 1.71, 0.81, 1.63, 1.24, 1.48, 0.89, 0.74, 0.83, 1.71, 1.74, 1.28, 1.02, 1.5, 1.27, 0.99, 1.45, 1.6, 0.94, 0.59, 1.5, 2.66, 1.61, 1.35, 1.09, 1.4, 1.12, 0.92, 1.39, 1.04, 1.61, 1.03, 1.04, 0.72, 1.62, 1.34, 1.05, 0.7, 1.09, 1.72, 1.05, 1.62, 1.49, 1.42, 0.74, 0.77, 1.18, 1.0, 1.45, 1.05, 1.07, 1.56, 1.7, 0.71, 1.52, 1.64, 1.25, 1.01, 1.72, 1.12, 1.66, 1.65, 1.47, 1.32, 1.68, 1.19, 0.78, 1.64, 0.68, 1.29, 1.62, 0.97, 0.84, 0.71, 1.35, 1.26, 1.01, 1.72, 1.11, 1.15, 0.97, 1.41, 1.29, 1.75, 1.63, 1.71, 1.69, 1.01, 1.38, 0.73, 1.0, 1.38, 1.56, 1.39, 1.52, 1.32, 1.16, 2.08, 1.82, 1.35, 0.83, 1.09, 1.3, 0.77, 1.67, 1.57, 0.96, 0.64, 1.0, 0.98, 1.13, 1.73, 1.0, 1.08, 1.73, 1.49, 1.08, 0.92, 1.65, 1.0, 1.88, 0.87, 1.3, 1.72, 1.31, 0.83, 0.82, 1.26, 1.39, 1.31, 1.44, 1.64, 1.48, 0.66, 0.68, 1.09, 1.17, 1.21, 1.0, 0.89, 1.65, 0.62, 0.75, 1.71, 1.29, 1.49, 1.11, 1.03, 1.01, 0.8, 1.7, 0.85, 1.11, 0.62, 0.72, 1.01, 1.42, 0.71, 1.19, 1.24, 1.48, 0.72, 1.36, 1.11, 0.96, 1.71, 0.7, 0.67, 1.0, 1.46, 0.77, 1.1, 0.9, 2.64, 1.33, 0.64, 0.83, 1.51, 0.86, 1.46, 0.78, 1.09, 0.71, 1.65, 1.65, 1.7, 0.65, 1.17, 0.69, 1.2, 0.64, 0.79, 0.97, 1.49, 1.28, 1.37, 0.78, 1.05, 1.52, 1.77, 1.73, 0.77, 1.19, 1.01, 1.17, 0.79, 1.11, 0.83, 1.63, 1.73, 0.59, 0.61, 1.05, 1.18, 0.67, 0.75, 1.37, 0.99, 1.59, 1.57, 0.82, 1.17, 1.19, 0.75, 1.7, 1.34, 0.61, 1.6, 1.07, 1.3, 1.47, 0.89, 0.75, 0.62, 0.86, 0.94, 1.06, 1.53, 1.35, 1.27, 1.71, 1.4, 0.7, 1.19, 0.62, 0.99, 1.43, 1.43, 1.09, 0.94, 0.67, 0.97, 1.46, 1.73, 1.78, 0.63, 0.65, 0.67, 0.79, 1.32, 1.34, 0.57, 0.75, 1.05, 0.58, 0.67, 0.97, 0.63, 1.6, 1.13, 1.34, 1.09, 1.55, 1.75, 1.78, 0.96, 1.43, 0.77, 1.79, 1.41, 1.74, 0.75, 0.97, 0.71, 0.74, 1.67, 0.62, 0.81, 1.47, 1.24, 1.46, 0.81, 1.3, 0.93, 0.71, 1.38, 1.39, 0.84, 1.45, 1.26, 1.44, 1.48, 0.85, 1.61, 1.64, 1.07, 1.15, 1.14, 1.18, 1.51, 1.17, 0.65, 0.86, 0.85, 0.61, 0.95, 1.43, 1.17, 1.32, 1.2, 0.88, 1.83, 0.76, 0.87, 0.76, 1.59, 1.39, 0.84, 0.71, 1.12, 1.16, 1.32, 1.53, 0.79, 2.59, 1.59, 1.23, 1.39, 0.71, 0.62, 1.21, 1.3, 1.15, 1.08, 1.01, 0.78, 1.56, 0.72, 1.45, 1.63, 0.91, 1.78, 1.3, 1.58, 0.61, 1.81, 1.53, 1.34, 1.52, 0.73, 1.04, 1.0, 0.99, 1.64, 1.16, 0.88, 1.72, 1.55, 1.55, 1.23, 1.34, 0.97, 1.32, 0.72, 1.13, 1.64, 0.65, 0.73, 1.72, 1.03, 1.19, 1.6, 1.14, 1.64, 1.14, 1.52, 1.36, 1.58, 0.8, 1.03, 1.49, 1.06, 0.67, 0.85, 0.71, 1.17, 0.74, 0.95, 0.79, 0.64, 1.11, 1.09, 1.48, 1.78, 1.44, 1.55, 1.17, 0.65, 1.29, 1.0, 0.88, 1.0, 0.94, 1.12, 0.94, 1.56, 0.87, 2.41, 1.13, 1.34, 0.64, 0.67, 0.73, 1.47, 1.12, 0.95, 1.41, 1.0, 0.95, 1.42, 1.37, 1.51, 0.98, 1.44, 1.1, 0.67, 1.48, 1.5, 0.98, 0.84, 1.41, 0.89, 1.78, 0.81, 0.78, 1.57, 0.63, 0.77, 1.09, 0.62, 0.62, 1.15, 0.9, 1.57, 0.65, 1.68, 1.71, 1.12, 1.47, 1.53, 1.71, 0.81, 0.65, 0.9, 1.21, 0.77, 1.7, 1.14, 1.68, 1.11, 1.69, 0.61, 1.54, 1.07, 1.37, 1.14, 1.06, 0.79, 1.02, 0.62, 1.68, 1.02, 1.73, 1.16, 1.49, 0.67, 0.7, 1.46, 1.57, 0.64, 1.68, 1.69, 1.59, 1.65, 0.69, 1.68, 0.78, 1.23, 0.81, 1.3, 0.85, 2.35, 1.58, 1.81, 1.16, 1.62, 1.53, 1.14, 0.7, 1.58, 1.69, 1.02, 1.27, 1.16, 0.59, 1.57, 0.83, 0.79, 1.4, 1.72, 0.78, 1.73, 1.42, 1.75, 0.77, 0.85, 1.46, 0.75, 1.53, 1.63, 0.73, 0.85, 1.14, 1.69, 1.35, 1.15, 1.14, 0.59, 1.37, 0.63, 1.64, 0.91, 1.68, 0.83, 1.5, 0.6, 0.84, 0.72, 1.37, 1.39, 1.34, 0.96, 0.65, 0.73, 1.69, 1.26, 0.87, 1.54, 0.61, 1.0, 1.02, 1.62, 1.24, 1.57, 1.43, 1.69, 1.15, 0.62, 1.0, 0.65, 1.61, 1.03, 1.53, 1.27, 0.92, 1.33, 0.66, 1.45, 1.28, 1.37, 1.69, 0.78, 0.73, 0.79, 0.72, 1.33, 0.87, 1.63, 1.89, 0.88, 1.24, 0.8, 0.83, 1.56, 1.23, 1.41, 1.2, 0.97, 0.68, 0.63, 1.72, 0.69, 0.66, 1.24, 0.79, 1.03, 1.08, 0.81, 1.4, 1.68, 1.33, 1.21, 0.78, 1.81, 1.65, 1.18, 0.63, 0.78, 0.63, 1.53, 0.65, 0.64, 0.69, 1.17, 1.52, 1.65, 1.12, 1.66, 1.7, 1.22, 1.57, 1.1, 1.47, 1.51, 1.42, 0.65, 1.69, 1.64, 1.57, 1.49, 1.28, 0.62, 0.71, 1.42, 1.68, 0.98, 0.74, 1.67, 1.6, 1.58, 0.92, 1.75, 1.31, 1.73, 1.06, 1.08, 0.65, 1.59, 1.37, 0.76, 0.65, 0.97, 0.64, 0.83, 0.68, 0.98, 0.64, 0.67, 1.12, 1.43, 1.15, 0.55, 0.62, 1.93, 1.78, 1.8, 0.71, 0.89, 1.21, 0.97, 1.65, 0.65, 0.77, 1.47, 0.64, 0.77, 1.2, 0.9, 1.43, 1.0, 1.73, 0.78, 1.31, 0.69, 0.66, 1.41, 0.7, 1.78, 1.44, 1.78, 1.67, 0.92, 0.72, 1.37, 0.66, 1.73, 1.14, 0.69, 1.34, 0.9, 0.85, 0.64, 0.64, 0.98, 1.57, 1.04, 0.77, 1.02, 0.66, 1.08, 1.09, 1.43, 1.24, 1.7, 1.09, 0.69, 0.62, 1.0, 0.97, 1.59, 0.73, 1.67, 1.17, 1.33, 1.49, 1.53, 1.16, 1.23, 0.74, 0.6, 0.92, 0.96, 1.72, 1.39, 1.31, 0.67, 1.61, 1.23, 1.19, 1.55, 1.52, 1.08, 1.32, 1.13, 0.61, 1.53, 1.17, 1.44, 1.76, 1.27, 0.66, 0.54, 0.78, 1.32, 1.34, 0.63, 0.74, 1.49, 0.71, 1.1, 1.44, 1.58, 0.91, 0.65, 1.71, 0.66, 1.24, 1.48, 1.15, 0.73, 1.74, 1.36, 1.81, 1.45, 1.45, 1.73, 1.48, 0.71, 0.59, 1.09, 0.66, 0.79, 1.09, 0.65, 0.86, 1.03, 1.7, 1.11, 1.41, 0.68, 1.31, 1.78, 1.17, 0.64, 0.68, 1.55, 1.35, 1.01, 1.24, 0.68, 0.74, 0.66, 0.74, 1.02, 1.45, 0.82, 0.93, 1.45, 1.07, 1.22, 1.28, 1.37, 1.69, 0.75, 1.16, 0.88, 1.44, 1.64, 1.79, 0.62, 1.37, 0.88, 0.56, 0.93, 1.72, 1.71, 1.1, 1.41, 0.83, 1.38, 1.66, 1.61, 0.83, 1.11, 1.15, 1.66, 1.45, 1.25, 0.82, 1.45, 1.64, 0.89, 1.48, 1.0, 1.2, 0.83, 1.06, 1.51, 0.76, 1.69, 1.23, 0.66, 1.38, 0.72, 1.06, 1.09, 0.63, 1.05, 0.61, 0.62, 0.95, 1.56, 1.66, 1.16, 0.69, 0.98, 0.95, 1.24, 0.79, 1.02, 1.47, 1.36, 1.63, 0.97, 1.09, 1.0, 0.7, 1.44, 1.25, 1.6, 1.52, 0.8, 1.44, 1.52, 0.64, 1.66, 0.63, 0.73, 0.86, 1.07, 0.68, 1.76, 1.66, 0.66, 1.48, 1.41, 1.01, 0.68, 1.6, 1.67, 1.55, 1.44, 1.63, 1.49, 0.64, 1.24, 1.17, 0.58, 1.16, 0.57, 1.36, 1.26, 0.86, 1.24, 1.13, 1.13, 0.62, 0.83, 0.72, 0.86, 1.68, 0.65, 1.65, 0.96, 1.49, 0.87, 1.77, 1.19, 1.57, 1.24, 1.41, 1.56, 1.47, 1.16, 0.83, 0.63, 1.66, 0.9, 0.88, 0.81, 0.82, 1.74, 0.65, 0.99, 1.56, 0.92, 1.54, 1.58, 1.64, 0.98, 1.69, 0.99, 0.88, 1.68, 0.66, 1.28, 1.06, 0.69, 1.13, 1.5, 0.75, 1.26, 0.93, 0.92, 1.0, 1.47, 1.41, 0.77, 1.09, 1.61, 0.74, 1.09, 1.46, 0.71, 1.51, 1.13, 0.67, 0.73, 0.92, 0.97, 2.5, 1.02, 1.44, 0.56, 1.59, 1.5, 0.97, 1.52, 1.56, 0.77, 0.74, 0.87, 1.1, 1.73, 1.07, 0.94, 1.01, 0.97, 0.68, 1.51, 1.22, 1.48, 1.52, 1.21, 1.12, 1.32, 1.67, 1.8, 1.48, 1.19, 1.01, 0.63, 1.26, 1.1, 1.2, 0.66, 1.05, 1.44, 1.14, 0.65, 1.13, 0.66, 1.38, 1.68, 1.19, 0.78, 1.09, 1.59, 1.49, 0.64, 0.69, 1.48, 1.02, 1.65, 0.76, 1.37, 0.66, 1.72, 0.67, 0.73, 1.75, 0.7, 1.0, 1.58, 0.95, 1.54, 1.4, 1.66, 1.6, 0.68, 1.01, 1.66, 0.79, 0.6, 1.88, 2.44, 1.36, 1.18, 1.24, 1.13, 1.65, 1.13, 1.42, 1.15, 1.14, 1.13, 0.65, 1.07, 0.91, 1.66, 1.07, 1.67, 1.68, 1.39, 1.13, 1.21, 0.94, 0.82, 1.21, 0.72, 1.74, 1.46, 1.38, 0.76, 1.34, 0.73, 0.73, 0.66, 0.62, 1.21, 1.6, 1.02, 1.08, 0.97, 1.56, 0.91, 1.59, 0.79, 1.44, 1.54, 1.7, 0.67, 0.84, 1.64, 0.88, 0.69, 1.01, 1.31, 1.3, 0.87, 1.67, 1.74, 1.63, 0.66, 0.65, 1.7, 1.65, 0.62, 0.93, 1.64, 0.64, 0.71, 0.9, 2.15, 1.33, 1.68, 1.25, 0.73, 0.85, 0.66, 1.31, 0.74, 0.65, 1.57, 0.65, 1.74, 1.71, 0.69, 1.72, 1.19, 1.39, 1.07, 0.83, 1.63, 1.59, 1.53, 1.78, 1.75, 0.73, 1.42, 0.99, 0.88, 0.78, 1.69, 1.32, 1.36, 0.84, 1.56, 0.9, 0.67, 0.72, 0.84, 0.71, 1.58, 1.22, 0.92, 1.25, 0.96, 0.68, 1.24, 1.05, 1.24, 0.91, 1.06, 1.46, 1.51, 0.64, 1.62, 0.75, 0.96, 1.47, 0.88, 0.98, 1.05, 1.53, 1.55, 1.24, 1.69, 1.24, 1.18, 0.86, 1.89, 2.06, 1.66, 1.39, 1.44, 0.76, 0.93, 1.09, 0.94, 1.04, 1.67, 1.27, 0.64, 0.61, 1.61, 1.13, 1.36, 1.42, 0.79, 0.94, 1.52, 1.51, 0.99, 1.15, 1.59, 1.17, 1.33, 0.84, 1.38, 0.99, 1.19, 0.6, 0.58, 1.02, 0.7, 0.73, 1.5, 1.49, 0.64, 1.52, 1.47, 0.57, 1.11, 0.85, 1.0, 0.59, 1.41, 1.08, 1.66, 0.57, 0.88, 1.61, 1.49, 0.95, 1.61, 0.97, 1.74, 1.27, 1.55, 1.05, 0.64, 0.76, 0.83, 0.74, 1.33, 1.03, 0.95, 0.9, 0.84, 1.92, 1.73, 1.57, 1.04, 1.27, 0.97, 1.61, 0.89, 1.41, 1.37, 1.64, 1.28, 0.87, 1.65, 0.79, 1.47, 1.09, 1.25, 1.66, 1.03, 0.71, 0.83, 1.44, 1.25, 1.18, 0.95, 0.86, 1.62, 1.39, 1.11, 1.52, 1.08, 1.07, 1.65, 0.65, 1.41, 1.59, 1.52, 1.19, 1.41, 1.53, 1.12, 1.6, 0.75, 1.48, 0.66, 1.2, 1.64, 1.25, 0.77, 0.93, 1.21, 0.92, 1.03, 1.37, 0.68, 0.63, 0.63, 1.2, 1.17, 1.09, 1.16, 1.68, 1.34, 1.66, 1.49, 0.55, 1.14, 1.91, 2.09, 0.61, 0.85, 0.88, 0.83, 1.6, 0.8, 1.15, 1.63, 1.33, 1.68, 1.64, 1.36, 1.09, 1.69, 0.64, 1.48, 1.4, 0.95, 1.32, 1.63, 1.14, 1.28, 1.52, 0.82, 1.36, 1.48, 0.62, 0.68, 1.5, 1.55, 0.78, 1.66, 1.27, 0.93, 0.7, 1.66, 0.92, 0.6, 1.06, 1.55, 1.41, 1.72, 1.5, 1.71, 1.71, 0.79, 0.65, 0.66, 1.41, 1.29, 1.0, 1.77, 1.15, 0.91, 1.45, 0.96, 1.04, 1.72, 1.11, 1.19, 1.64, 1.41, 1.66, 0.92, 1.41, 0.71, 1.52, 1.49, 1.13, 1.16, 1.09, 1.08, 0.93, 1.6, 1.05, 1.24, 0.77, 1.71, 1.02, 1.6, 0.72, 1.26, 1.33, 0.77, 1.12, 0.66, 1.28, 0.75, 1.8, 1.14, 1.52, 0.75, 0.84, 0.72, 1.49, 1.58, 1.25, 1.54, 1.1, 0.87, 0.9, 1.21, 0.93, 0.68, 1.6, 1.7, 1.67, 0.95, 1.63, 1.44, 1.72, 1.04, 1.72, 1.65, 1.09, 1.44, 1.46, 1.34, 1.06, 1.59, 0.74, 1.38, 0.75, 1.38, 1.48, 0.73, 1.37, 1.54, 0.79, 1.07, 0.66, 1.46, 0.69, 0.72, 0.96, 0.54, 1.09, 2.21, 1.98, 1.0, 1.62, 0.62, 1.03, 1.44, 1.64, 1.67, 1.44, 1.57, 1.59, 0.74, 0.68, 1.42, 0.74, 0.97, 0.76, 0.87, 1.74, 1.7, 0.71, 1.15, 0.74, 0.94, 1.65, 0.86, 0.7, 1.71, 1.75, 0.96, 1.74, 1.04, 1.56, 1.73, 1.67, 1.42, 0.77, 0.95, 1.06, 1.72, 1.37, 0.66, 0.92, 0.64, 0.94, 1.49, 0.82, 1.3, 1.51, 1.22, 1.3, 1.45, 0.74, 0.94, 1.72, 1.24, 1.07, 1.76, 0.77, 1.08, 0.77, 1.42, 1.07, 1.3, 0.65, 1.69, 0.84, 1.17, 0.64, 1.96, 1.45, 0.93, 1.1, 1.4, 1.12, 0.77, 1.17, 0.68, 0.63, 0.7, 1.43, 1.25, 1.34, 1.49, 1.12, 0.66, 1.17, 1.27, 1.23, 1.14, 1.34, 1.08, 0.76, 1.19, 0.81, 1.33, 1.65, 1.78, 0.65, 1.64, 1.47, 0.94, 0.85, 1.45, 1.1, 1.31, 0.87, 1.33, 1.0, 0.98, 1.73, 1.46, 0.82, 0.85, 1.73, 1.65, 1.24, 1.33, 1.02, 0.69, 1.56, 1.76, 1.43, 1.01, 1.81, 0.96, 1.02, 0.78, 1.72, 1.38, 1.72, 1.36, 1.18, 0.69, 0.99, 0.96, 1.46, 0.86, 1.76, 2.15, 1.64, 0.72, 1.35, 1.7, 1.38, 0.94, 1.4, 0.69, 1.72, 1.47, 0.81, 0.7, 1.17, 0.73, 1.71, 1.73, 0.7, 0.9, 0.87, 0.97, 1.53, 0.75, 1.54, 1.3, 1.74, 1.31, 0.95, 0.76, 0.95, 1.3, 0.6, 1.34, 0.76, 1.35, 0.7, 0.89, 1.69, 1.14, 1.3, 1.53, 1.69, 1.14, 1.05, 1.43, 1.32, 0.82, 0.75, 1.67, 0.67, 1.65, 0.7, 1.1, 0.72, 1.66, 1.55, 0.81, 1.78, 0.66, 1.04, 0.99, 0.82, 1.42, 0.9, 1.22, 1.58, 0.68, 1.3, 0.8, 0.51, 2.51, 2.29, 1.04, 0.49, 0.55, 1.3, 1.01, 0.66, 0.63, 1.24, 1.66, 1.68, 1.19, 1.19, 1.54, 1.41, 1.7, 0.9, 1.76, 0.76, 1.46, 0.76, 1.13, 0.88, 1.02, 0.91, 0.73, 1.04, 1.0, 0.66, 1.54, 1.64, 1.23, 0.82, 0.76, 0.67, 1.68, 1.08, 0.78, 1.43, 0.65, 0.66, 0.91, 1.36, 1.42, 0.65, 0.61, 1.71, 0.7, 1.69, 0.64, 1.69, 0.86, 1.56, 0.7, 1.0, 1.65, 0.73, 1.11, 1.76, 1.46, 1.74, 1.55, 1.23, 0.94, 1.0, 0.94, 1.45, 0.74, 1.64, 1.48, 1.39, 2.32, 1.68, 1.22, 0.75, 1.11, 0.87, 1.18, 1.68, 1.64, 1.71, 1.32, 0.64, 1.18, 1.0, 1.6, 1.67, 1.54, 1.24, 0.8, 0.97, 1.22, 0.97, 1.63, 1.69, 1.67, 1.52, 1.21, 1.7, 1.08, 1.25, 1.69, 0.88, 0.97, 1.51, 1.04, 0.82, 1.62, 1.12, 1.39, 1.14, 1.7, 1.17, 1.55, 1.64, 1.17, 1.1, 0.67, 1.72, 1.31, 1.69, 0.76, 1.04, 0.65, 1.06, 0.91, 1.63, 1.44, 1.42, 0.9, 1.52, 0.9, 1.55, 1.5, 1.54, 0.9, 1.02, 0.66, 0.6, 1.0, 1.0, 1.58, 0.74, 1.03, 1.57, 1.81, 1.28, 0.64, 0.64, 0.95, 1.23, 1.02, 1.21, 1.1, 0.84, 0.63, 0.91, 1.19, 0.82, 1.54, 1.68, 0.83, 1.65, 1.05, 0.76, 1.42, 1.62, 1.25, 0.96, 1.11, 1.34, 1.15, 1.11, 1.44, 0.73, 0.88, 0.9, 1.33, 0.87, 0.91, 1.57, 0.8, 0.69, 1.7, 1.58, 1.65, 0.67, 1.42, 0.61, 0.65, 0.9, 0.82, 0.67, 1.18, 1.28, 0.65, 1.11, 0.96, 1.29, 0.92, 1.64, 1.63, 1.65, 0.66, 0.85, 1.44, 1.16, 0.99, 1.68, 1.12, 1.31, 0.64, 1.34, 1.65, 0.66, 1.53, 0.57, 1.36, 1.59, 1.91, 1.38, 1.06, 1.31, 1.3, 1.23, 0.91, 1.06, 1.34, 0.96, 1.55, 0.77, 0.71, 1.4, 1.52, 1.0, 1.26, 1.51, 0.65, 1.52, 1.42, 1.82, 1.32, 1.15, 0.71, 1.22, 1.74, 1.3, 1.52, 1.11, 1.52, 1.31, 1.04, 1.65, 0.71, 1.38, 1.69, 1.46, 1.24, 0.94, 1.25, 1.27, 1.4, 1.67, 0.98, 0.65, 1.34, 1.5, 1.64, 1.69, 1.09, 1.21, 1.54, 1.79, 0.95, 1.48, 0.68, 0.65, 1.03, 1.47, 1.2, 1.74, 0.79, 0.87, 0.59, 1.6, 1.62, 1.3, 1.36, 0.58, 0.54, 1.37, 1.68, 1.66, 1.48, 1.63, 1.51, 0.69, 1.69, 0.89, 1.71, 1.05, 0.94, 1.44, 1.68, 1.58, 1.23, 1.39, 0.84, 1.02, 1.22, 1.71, 0.91, 1.11, 0.9, 1.21, 1.46, 1.62, 0.89, 0.72, 1.5, 0.65, 1.07, 1.57, 1.21, 1.21, 0.73, 1.71, 0.72, 1.2, 1.69, 0.83, 0.62, 0.69, 1.34, 1.05, 1.04, 1.53, 0.74, 0.66, 1.26, 1.32, 1.64, 0.61, 1.3, 1.57, 1.23, 0.85, 0.96, 0.51, 1.12, 2.73, 2.1, 1.65, 1.36, 1.26, 0.91, 1.09, 1.3, 1.55, 1.2, 0.73, 0.95, 1.04, 1.42, 0.62, 1.69, 1.66, 1.42, 0.91, 1.01, 0.89, 1.71, 1.56, 0.7, 0.9, 0.77, 1.18, 0.68, 1.3, 0.84, 0.64, 1.44, 1.17, 1.38, 0.67, 1.38, 1.67, 1.25, 0.95, 1.21, 1.45, 1.34, 1.11, 1.64, 1.25, 1.33, 0.67, 1.63, 0.69, 1.71, 1.12, 1.79, 0.68, 1.65, 0.66, 1.59, 0.79, 1.1, 0.95, 1.09, 1.09, 1.68, 0.71, 1.15, 1.51, 2.4, 1.64, 0.72, 0.88, 1.08, 0.61, 0.71, 0.9, 1.05, 0.61, 0.92, 0.79, 1.51, 0.7, 1.48, 1.56, 1.25, 0.86, 0.66, 1.61, 1.58, 1.24, 1.77, 0.71, 1.1, 0.95, 1.32, 1.66, 1.0, 0.62, 0.6, 0.59, 0.65, 1.51, 1.33, 0.9, 0.99, 0.96, 1.1, 1.13, 0.72, 0.85, 0.71, 0.82, 0.67, 0.69, 1.12, 0.6, 1.41, 1.76, 1.3, 0.72, 0.93, 1.6, 1.05, 0.63, 0.82, 1.66, 1.38, 0.74, 0.65, 1.66, 1.49, 0.59, 1.87, 2.31, 2.17, 1.41, 0.53, 1.51, 1.51, 0.86, 1.52, 0.83, 1.27, 1.38, 1.66, 0.71, 1.33, 0.97, 1.19, 0.94, 1.63, 0.69, 1.31, 0.63, 1.64, 0.65, 1.73, 0.92, 0.75, 1.32, 1.71, 1.68, 1.39, 0.62, 0.87, 0.63, 1.71, 1.39, 1.29, 1.67, 0.95, 0.67, 1.01, 1.23, 0.82, 0.63, 1.28, 1.35, 0.62, 1.2, 0.8, 0.65, 1.35, 1.73, 1.08, 1.76, 1.77, 1.68, 0.76, 0.96, 1.26, 0.86, 1.24, 1.34, 0.62, 1.39, 0.9, 1.52, 1.73, 2.83, 2.15, 0.62, 0.46, 0.94, 0.79, 0.97, 0.64, 1.03, 1.5, 0.58, 1.24, 0.83, 0.87, 1.04, 0.62, 1.2, 1.51, 1.04, 0.66, 1.14, 0.72, 1.7, 1.29, 1.24, 1.32, 1.68, 1.54, 1.14, 1.56, 0.89, 1.5, 1.12, 1.31, 1.23, 1.71, 1.5, 0.84, 0.63, 1.14, 0.88, 1.67, 0.78, 1.56, 0.68, 1.68, 1.64, 1.5, 0.84, 1.4, 1.47, 1.62, 0.71, 0.89, 0.8, 1.23, 1.63, 1.29, 1.32, 1.18, 0.66, 0.78, 1.2, 0.77, 1.27, 2.42, 2.5, 0.88, 0.7, 0.99, 1.04, 0.74, 1.19, 0.6, 1.45, 1.46, 1.55, 0.69, 1.16, 0.67, 1.06, 1.64, 0.98, 1.22, 1.52, 0.74, 1.06, 1.67, 1.66, 1.74, 0.77, 1.27, 1.65, 1.21, 1.5, 0.67, 1.69, 0.74, 1.45, 0.9, 0.99, 1.3, 0.91, 1.34, 0.69, 1.58, 1.2, 0.84, 0.65, 1.16, 0.64, 0.71, 0.6, 1.67, 0.65, 1.19, 1.68, 0.97, 0.93, 1.63, 1.07, 0.7, 1.33, 0.81, 1.01, 1.11, 1.28, 0.66, 1.21, 0.71, 1.63, 2.71, 2.3, 0.75, 1.52, 1.53, 1.43, 1.5, 1.65, 0.63, 1.68, 1.45, 1.36, 0.79, 1.08, 1.22, 0.71, 0.79, 0.81, 0.74, 1.09, 1.0, 1.51, 0.64, 1.17, 1.26, 1.01, 0.96, 1.01, 1.52, 1.53, 1.08, 1.02, 1.38, 0.69, 0.78, 1.41, 1.36, 1.02, 1.49, 0.65, 0.66, 1.43, 1.54, 1.63, 1.24, 1.38, 1.16, 1.01, 1.61, 0.72, 1.16, 1.08, 0.74, 0.91, 0.63, 1.66, 0.7, 0.71, 0.82, 1.1, 1.64, 1.72, 1.1, 0.65, 1.16, 2.35, 1.36, 1.75, 0.63, 0.87, 1.63, 1.03, 0.86, 1.15, 1.64, 0.79, 0.91, 1.0, 1.19, 1.01, 1.43, 0.64, 0.88, 1.64, 0.88, 1.68, 1.14, 0.77, 0.71, 1.22, 1.4, 1.28, 1.66, 1.3, 1.05, 1.72, 1.73, 1.08, 0.9, 1.4, 1.19, 1.73, 1.36, 1.33, 0.78, 1.62, 1.01, 0.95, 1.42, 1.77, 1.64, 1.7, 0.76, 1.35, 1.69, 1.52, 1.64, 0.83, 0.87, 1.44, 1.37, 1.22, 1.39, 1.1, 1.62, 1.59, 0.8, 1.26, 1.97, 1.64, 0.82, 1.38, 0.56, 0.73, 1.06, 0.69, 1.35, 1.19, 0.88, 1.45, 0.9, 1.7, 0.62, 1.73, 1.53, 1.15, 0.75, 1.33, 0.92, 1.23, 1.57, 1.33, 1.45, 0.93, 1.56, 1.72, 1.44, 1.34, 1.65, 0.97, 1.62, 1.12, 0.73, 0.96, 1.49, 1.52, 1.0, 1.64, 0.95, 1.42, 1.2, 0.91, 0.87, 1.6, 0.84, 1.45, 1.28, 1.47, 0.7, 1.11, 1.1, 1.06, 0.94, 0.67, 0.97, 1.01, 1.74, 1.29, 0.95, 0.9, 1.18, 0.82, 1.94, 2.62, 0.94, 1.49, 0.88, 0.67, 1.64, 0.92, 1.48, 1.02, 1.26, 0.99, 1.48, 0.59, 1.52, 0.83, 1.5, 1.01, 0.73, 1.47, 1.73, 1.62, 0.89, 1.72, 1.17, 0.86, 1.16, 1.67, 0.91, 1.7, 1.68, 1.58, 1.5, 1.12, 0.69, 1.66, 0.66, 1.2, 0.86, 1.74, 0.79, 1.09, 1.46, 0.75, 1.43, 0.58, 1.52, 0.65, 1.66, 0.71, 0.86, 1.67, 1.29, 0.79, 1.1, 1.69, 0.75, 0.74, 0.68, 0.61, 0.84, 0.91, 1.32, 1.31, 0.86, 1.39, 2.58, 1.74, 0.56, 1.49, 0.6, 1.18, 1.14, 1.72, 1.69, 1.14, 0.97, 1.66, 1.62, 0.77, 0.74, 1.16, 0.66, 1.03, 1.11, 1.53, 1.78, 1.09, 0.75, 1.5, 1.23, 0.69, 0.67, 1.0, 0.95, 1.39, 0.79, 0.7, 1.12, 0.6, 0.72, 1.06, 1.67, 1.7, 1.63, 1.13, 0.71, 0.66, 0.8, 1.2, 0.68, 1.17, 1.71, 1.49, 1.64, 0.73, 1.24, 0.78, 0.73, 1.18, 1.25, 1.55, 0.95, 1.44, 1.26, 1.65, 0.7, 0.96, 0.74, 0.72, 1.65, 1.18, 0.68, 1.24, 1.53, 0.5, 1.73, 1.58, 1.19, 1.21, 0.63, 1.23, 1.35, 0.6, 0.85, 1.03, 0.72, 1.21, 1.66, 1.57, 1.15, 0.71, 0.77, 1.2, 0.83, 0.93, 0.74, 1.23, 0.81, 1.35, 0.8, 1.74, 0.68, 1.28, 1.69, 1.64, 1.27, 1.42, 1.7, 1.69, 1.51, 0.95, 0.87, 1.19, 1.37, 1.56, 1.34, 1.57, 1.45, 0.75, 0.87, 1.13, 0.81, 1.74, 1.06, 1.2, 0.92, 0.79, 0.74, 0.65, 1.77, 1.28, 0.71, 1.72, 1.18, 1.64, 0.78, 1.41, 1.28, 1.55, 1.48, 0.8, 1.3, 1.5, 1.53, 0.88, 0.89, 0.78, 0.47, 1.22, 2.61, 1.75, 0.76, 0.8, 1.38, 1.14, 0.92, 0.63, 0.97, 0.6, 1.36, 0.71, 1.59, 1.55, 0.6, 1.07, 1.4, 1.67, 0.72, 1.13, 1.74, 1.04, 0.69, 0.78, 0.74, 1.43, 1.52, 1.12, 1.66, 1.13, 0.63, 0.84, 1.65, 0.6, 1.1, 1.16, 0.9, 1.54, 1.17, 1.45, 1.37, 1.72, 1.72, 0.68, 1.15, 0.73, 1.18, 0.7, 0.98, 0.85, 0.67, 1.4, 0.77, 0.89, 0.87, 1.75, 1.69, 1.21, 1.18, 1.33, 1.19, 0.79, 0.87, 0.98, 1.29, 1.65, 1.31, 1.03, 1.02, 1.24, 1.65, 1.68, 0.88, 0.73, 0.89, 1.08, 0.48, 1.19, 2.04, 1.41, 1.6, 1.6, 1.57, 0.78, 1.66, 1.13, 1.22, 1.03, 1.54, 1.17, 0.74, 1.32, 0.83, 0.77, 1.32, 1.57, 0.82, 1.14, 0.79, 1.59, 0.76, 0.69, 1.04, 1.19, 0.67, 1.75, 0.75, 0.73, 1.16, 0.8, 1.22, 1.24, 1.13, 1.65, 1.17, 0.59, 0.72, 0.7, 0.99, 0.75, 0.86, 0.63, 1.26, 1.49, 1.62, 1.11, 1.57, 1.39, 0.71, 1.01, 1.63, 1.75, 1.41, 1.1, 1.47, 1.72, 0.82, 1.58, 1.56, 0.67, 1.03, 1.64, 1.34, 0.87, 1.7, 0.87, 0.9, 1.06, 1.23, 1.69, 1.47, 1.28, 1.67, 0.68, 1.53, 1.14, 0.91, 1.19, 1.71, 1.33, 0.83, 0.85, 1.25, 1.36, 0.91, 1.31, 1.29, 0.71, 1.66, 2.08, 1.81, 0.62, 0.51, 0.96, 1.58, 1.27, 0.81, 1.3, 0.73, 0.9, 1.5, 0.91, 0.91, 1.27, 1.67, 0.64, 1.02, 1.0, 1.75, 1.53, 1.75, 0.68, 0.77, 0.99, 0.76, 1.62, 1.26, 0.72, 1.21, 1.5, 1.02, 0.99, 1.58, 1.27, 1.1, 0.63, 1.61, 0.57, 1.59, 1.14, 0.71, 1.37, 1.0, 1.05, 1.19, 1.31, 1.6, 0.66, 1.46, 1.64, 1.54, 1.29, 1.18, 1.01, 0.91, 1.71, 1.1, 0.95, 0.63, 1.11, 1.29, 0.65, 1.0, 0.63, 0.67, 0.72, 0.99, 1.28, 0.89, 1.08, 1.43, 1.46, 1.22, 0.71, 1.26, 1.7, 1.67, 1.71, 0.96, 1.0, 0.86, 0.77, 0.68, 1.29, 1.74, 1.3, 1.17, 0.75, 1.02, 0.65, 1.31, 0.92, 0.66, 1.06, 0.52, 1.57, 2.08, 2.14, 0.9, 0.81, 0.68, 1.25, 1.19, 0.93, 0.62, 0.68, 0.94, 1.35, 0.62, 1.63, 1.16, 0.73, 1.67, 0.68, 1.03, 1.26, 1.53, 0.97, 0.9, 0.78, 1.12, 0.94, 1.21, 1.48, 1.73, 1.32, 0.82, 0.63, 0.93, 1.52, 1.69, 1.67, 1.6, 0.67, 1.29, 0.98, 0.72, 0.87, 1.32, 1.05, 0.74, 1.46, 0.65, 0.62, 1.09, 1.65, 1.69, 1.28, 1.02, 1.19, 1.28, 1.27, 0.79, 0.97, 1.34, 1.04, 1.28, 1.25, 1.21, 0.68, 1.68, 1.19, 1.08, 1.18, 1.35, 1.77, 1.54, 1.24, 1.11, 0.98, 0.64, 1.72, 1.09, 0.82, 1.74, 0.66, 1.41, 0.95, 0.92, 2.56, 2.17, 1.72, 1.55, 0.67, 1.16, 0.61, 1.44, 1.23, 0.78, 1.45, 1.2, 0.88, 1.69, 1.27, 0.81, 1.04, 1.13, 1.42, 0.68, 1.1, 1.52, 1.26, 1.74, 0.77, 1.35, 0.69, 1.63, 0.87, 1.44, 0.61, 1.1, 0.62, 1.66, 1.04, 0.85, 1.66, 1.64, 1.48, 1.72, 0.87, 1.73, 0.84, 0.69, 0.74, 0.7, 1.3, 1.36, 1.23, 1.49, 1.61, 0.83, 1.6, 0.61, 1.16, 0.78, 1.03, 1.59, 1.6, 1.32, 1.42, 1.47, 0.89, 1.3, 1.7, 1.53, 1.49, 0.86, 1.66, 1.49, 1.05, 1.51, 1.7, 0.61, 0.92, 0.71, 1.12, 1.29, 1.46, 1.72, 1.16, 0.94, 1.13, 0.66, 1.43, 0.65, 1.42, 1.28, 0.58, 0.85, 0.81, 1.8, 1.28, 1.15, 1.25, 1.4, 1.16, 0.71, 1.66, 1.56, 1.46, 1.44, 1.51, 0.85, 1.19, 1.24, 1.49, 1.41, 1.6, 1.16, 1.72, 1.72, 1.27, 1.09, 1.25, 1.54, 1.81, 1.28, 0.73, 1.74, 1.01, 1.26, 0.63, 1.11, 1.39, 0.58, 1.4, 0.61, 0.91, 1.33, 0.75, 1.54, 0.99, 0.65, 1.59, 0.7, 1.41, 1.05, 1.38, 1.66, 0.62, 0.91, 0.86, 1.57, 1.55, 1.03, 1.09, 0.87, 1.38, 1.48, 0.75, 0.81, 1.05, 1.26, 1.69, 1.17, 1.32, 1.67, 1.02, 1.2, 1.6, 1.63, 1.28, 0.82, 0.98, 0.68, 0.72, 0.98, 1.47, 1.18, 0.78, 0.75, 1.65, 1.39, 1.76, 0.81, 1.02, 1.71, 1.66, 0.93, 1.52, 1.52, 1.14, 0.95, 1.45, 1.47, 1.41, 1.22, 1.32, 0.54, 1.12, 0.99, 0.64, 1.32, 1.19, 0.89, 0.63, 1.27, 0.64, 1.15, 1.22, 0.91, 1.16, 1.45, 0.95, 0.7, 1.54, 0.8, 1.69, 0.71, 1.3, 1.19, 1.56, 0.87, 0.96, 0.79, 0.79, 1.43, 1.5, 1.31, 1.27, 0.62, 0.91, 0.82, 1.27, 0.64, 1.55, 1.35, 1.14, 1.72, 1.09, 1.58, 0.69, 0.62, 0.76, 1.46, 1.68, 1.35, 1.52, 1.06, 0.65, 0.84, 1.67, 1.11, 0.86, 0.86, 1.11, 0.96, 0.99, 0.82, 0.59, 1.01, 0.92, 1.01, 1.24, 1.43, 1.03, 1.62, 1.71, 1.2, 1.37, 1.45, 1.7, 1.07, 0.98, 1.61, 0.79, 1.61, 1.12, 0.67, 0.76, 1.53, 0.85, 0.99, 1.76, 0.75, 0.59, 0.79, 0.75, 2.51, 1.32, 1.58, 1.22, 0.58, 1.56, 1.32, 1.49, 0.64, 0.64, 1.67, 1.4, 1.1, 0.62, 1.06, 0.65, 0.67, 0.75, 0.9, 1.59, 1.26, 1.41, 1.74, 1.59, 1.02, 1.79, 1.43, 1.18, 1.72, 1.4, 0.65, 1.67, 0.83, 1.05, 0.94, 0.64, 0.73, 1.33, 1.0, 1.5, 0.92, 1.35, 1.16, 1.55, 1.25, 1.3, 1.67, 0.91, 1.68, 1.59, 1.49, 0.86, 1.4, 1.2, 1.24, 1.02, 1.42, 1.07, 1.61, 1.44, 0.74, 0.61, 1.46, 1.18, 1.49, 1.54, 1.05, 1.7, 0.63, 0.76, 1.75, 1.07, 1.1, 0.63, 1.38, 1.4, 1.31, 1.63, 0.72, 1.54, 1.16, 0.64, 0.65, 0.95, 1.0, 0.66, 0.99, 1.16, 0.59, 1.02, 1.3, 1.8, 0.94, 0.56, 1.03, 0.9, 0.59, 1.54, 1.39, 1.64, 1.28, 1.47, 1.73, 1.59, 0.88, 1.66, 1.59, 0.8, 1.57, 1.11, 1.65, 1.16, 1.37, 1.64, 1.81, 1.04, 1.43, 0.72, 0.77, 0.64, 1.0, 0.64, 1.61, 1.13, 1.66, 0.97, 0.88, 1.39, 0.83, 1.0, 0.77, 0.87, 1.44, 0.77, 1.04, 1.7, 0.87, 0.65, 1.6, 1.09, 1.3, 0.7, 1.36, 1.63, 1.3, 0.97, 0.9, 0.86, 1.31, 1.55, 1.39, 1.13, 0.78, 1.02, 1.41, 0.74, 1.44, 0.76, 1.74, 0.68, 1.04, 1.19, 1.3, 1.48, 0.91, 0.86, 1.19, 0.75, 0.9, 0.69, 1.42, 0.66, 1.34, 1.11, 1.28, 1.48, 1.52, 0.66, 1.08, 2.49, 2.19, 1.56, 0.61, 1.35, 1.64, 0.65, 0.83, 0.94, 0.63, 0.76, 1.09, 0.79, 1.46, 0.83, 0.74, 1.64, 1.29, 0.87, 1.47, 0.74, 1.77, 1.13, 0.84, 1.79, 1.34, 1.53, 1.75, 0.76, 1.72, 1.17, 1.27, 0.76, 1.06, 0.77, 1.58, 1.53, 0.75, 0.79, 1.22, 1.42, 0.73, 1.63, 0.98, 1.27, 1.57, 1.25, 1.62, 1.1, 1.6, 1.29, 0.66, 1.67, 1.66, 1.59, 1.59, 1.26, 1.5, 1.26, 1.3, 1.08, 1.49, 1.4, 1.26, 0.76, 1.01, 0.87, 1.27, 0.87, 1.64, 0.64, 1.51, 1.42, 1.71, 1.33, 0.72, 0.91, 0.91, 1.43, 0.97, 1.12, 1.34, 1.72, 0.63, 0.89, 1.52, 0.67, 2.1, 2.2, 1.81, 1.61, 1.34, 0.59, 1.38, 0.7, 1.64, 0.75, 0.63, 0.67, 0.85, 0.92, 1.58, 0.64, 0.94, 0.79, 1.14, 1.01, 0.65, 0.75, 1.32, 1.48, 1.59, 1.46, 1.35, 0.86, 1.33, 0.92, 0.64, 0.99, 1.6, 0.97, 1.3, 0.66, 0.9, 1.69, 0.83, 1.73, 1.13, 1.57, 1.72, 1.42, 1.72, 0.63, 1.02, 1.53, 1.42, 1.08, 1.52, 0.78, 1.17, 0.73, 0.78, 1.52, 0.85, 1.26, 1.66, 1.68, 1.09, 1.1, 1.13, 1.12, 0.65, 1.21, 1.32, 1.64, 1.16, 1.39, 0.67, 1.67, 1.78, 1.8, 1.19, 1.37, 1.07, 1.35, 1.21, 0.97, 1.4, 1.62, 1.25, 1.3, 0.46, 1.17, 1.71, 1.94, 1.28, 0.84, 1.3, 1.51, 0.78, 1.35, 1.12, 0.7, 0.64, 0.84, 1.09, 1.16, 0.78, 0.86, 0.84, 1.15, 1.07, 0.81, 1.04, 0.91, 0.93, 1.66, 1.24, 0.93, 1.44, 1.61, 1.21, 1.52, 1.69, 1.41, 1.25, 1.67, 0.85, 0.69, 1.65, 1.65, 0.84, 0.69, 1.66, 0.89, 1.39, 0.65, 1.23, 1.43, 1.51, 1.63, 0.64, 0.67, 0.77, 0.76, 1.66, 1.58, 1.19, 1.43, 1.71, 1.33, 1.27, 1.73, 0.73, 0.82, 0.72, 1.02, 0.72, 1.43, 0.7, 1.52, 1.39, 1.66, 1.5, 1.72, 1.11, 0.75, 1.32, 0.97, 1.73, 1.73, 1.3, 1.05, 1.12, 0.72, 1.21, 1.55, 1.76, 1.65, 1.52, 1.16, 1.16, 0.64, 1.7, 1.25, 0.72, 1.26, 0.88, 0.63, 0.66, 1.03, 1.02, 0.71, 1.08, 1.28, 0.98, 1.28, 0.99, 1.46, 1.54, 0.68, 0.79, 1.74, 1.38, 1.34, 0.72, 1.4, 0.98, 0.65, 1.64, 0.99, 1.44, 1.56, 1.14, 1.4, 0.87, 0.95, 1.58, 1.52, 0.85, 0.96, 0.76, 1.17, 1.02, 0.64, 0.94, 1.55, 0.83, 1.08, 0.65, 0.58, 1.38, 1.02, 1.51, 0.93, 0.86, 1.28, 1.68, 0.82, 0.74, 1.14, 1.59, 1.65, 1.42, 1.53, 0.79, 0.88, 1.46, 1.29, 1.29, 1.35, 1.35, 1.7, 0.6, 0.67, 0.91, 1.4, 1.67, 0.66, 1.48, 1.26, 0.85, 1.72, 1.41, 0.6, 0.59, 1.62, 1.56, 1.66, 0.8, 1.37, 0.92, 1.65, 1.15, 0.83, 0.73, 1.27, 1.62, 1.5, 1.34, 0.75, 0.58, 1.26, 1.65, 1.59, 1.03, 0.94, 1.32, 1.58, 1.4, 1.47, 1.38, 0.75, 0.79, 0.94, 0.67, 0.82, 1.31, 0.77, 1.3, 1.69, 0.83, 1.64, 1.41, 0.84, 0.92, 1.2, 1.26, 1.02, 1.7, 1.28, 1.63, 1.21, 1.67, 1.66, 1.15, 0.92, 1.39, 0.62, 0.86, 1.02, 0.85, 0.73, 1.6, 1.72, 1.71, 0.82, 1.65, 1.22, 0.75, 1.75, 1.17, 1.62, 1.1, 1.04, 0.8, 1.32, 1.71, 1.09, 0.86, 1.2, 1.61, 1.19, 0.89, 1.74, 2.2, 0.86, 0.54, 0.59, 0.75, 0.63, 1.16, 1.51, 0.82, 1.27, 1.36, 1.01, 1.35, 1.24, 0.88, 1.67, 0.63, 1.57, 0.64, 1.2, 1.09, 1.71, 1.44, 0.99, 1.05, 1.74, 1.78, 1.32, 1.74, 0.77, 1.53, 1.41, 1.11, 0.93, 0.83, 0.64, 1.56, 1.24, 1.46, 0.94, 1.59, 0.9, 1.26, 0.9, 1.6, 1.72, 1.26, 1.14, 1.67, 1.23, 0.64, 0.97, 1.3, 0.67, 0.65, 1.08, 1.45, 1.73, 1.41, 0.66, 1.04, 0.82, 1.67, 1.39, 1.36, 1.63, 1.09, 1.74, 1.35, 1.51, 1.52, 0.79, 0.98, 0.77, 0.99, 1.37, 1.66, 0.78, 1.5, 0.77, 1.44, 2.15, 1.21, 1.61, 0.48, 1.41, 1.56, 1.53, 0.97, 1.16, 1.05, 0.69, 1.16, 0.62, 0.96, 0.97, 1.15, 0.69, 1.6, 1.01, 1.39, 1.74, 1.8, 1.76, 1.06, 0.77, 1.28, 1.75, 0.89, 0.85, 1.66, 1.53, 1.71, 1.55, 1.14, 1.36, 0.98, 0.7, 0.64, 1.66, 1.26, 0.92, 0.65, 1.35, 0.61, 1.17, 0.65, 0.7, 1.12, 1.69, 1.24, 0.79, 1.72, 1.14, 1.41, 0.88, 0.73, 0.9, 0.68, 1.48, 1.05, 1.71, 1.5, 1.12, 1.17, 1.7, 0.78, 1.66, 1.47, 1.56, 1.76, 1.17, 1.04, 0.81, 1.28, 1.22, 1.61, 0.67, 0.72, 0.65, 0.96, 0.7, 1.44, 0.86, 1.14, 2.37, 1.55, 1.8, 1.57, 1.55, 0.75, 1.46, 1.29, 1.52, 0.85, 1.35, 1.03, 1.01, 1.69, 1.33, 0.71, 0.69, 1.67, 0.98, 1.16, 0.81, 1.59, 1.08, 1.79, 0.98, 0.77, 0.74, 0.85, 0.95, 0.72, 1.1, 1.01, 0.62, 0.63, 0.77, 0.83, 1.19, 0.96, 0.95, 1.69, 1.72, 0.84, 1.57, 0.85, 0.89, 0.82, 1.63, 1.06, 1.53, 1.46, 0.65, 0.91, 1.47, 1.24, 0.82, 0.97, 1.47, 0.95, 0.72, 1.37, 1.26, 1.66, 1.65, 1.03, 1.31, 0.95, 0.8, 1.17, 0.92, 1.52, 0.82, 1.11, 0.81, 1.29, 0.79, 0.88, 1.65, 0.67, 0.79, 1.27, 1.41, 0.71, 1.08, 1.16, 0.66, 1.4, 1.33, 1.54, 1.0, 1.32, 0.65, 0.64, 1.14, 0.72, 1.23, 0.8, 0.69, 1.35, 1.42, 1.15, 1.22, 1.6, 0.9, 1.72, 1.74, 0.66, 1.63, 0.71, 1.75, 1.74, 1.5, 1.75, 1.3, 1.79, 1.7, 1.03, 1.68, 0.69, 0.68, 0.92, 1.69, 1.13, 1.24, 1.0, 1.71, 1.5, 1.14, 1.11, 1.48, 1.36, 1.2, 0.97, 0.71, 1.45, 1.19, 1.15, 1.22, 0.97, 0.87, 1.22, 1.51, 0.64, 0.66, 0.96, 0.88, 1.68, 0.97, 1.05, 1.06, 0.84, 1.21, 1.57, 1.42, 1.18, 0.9, 1.49, 1.67, 1.65, 1.72, 0.9, 0.73, 0.8, 0.73, 1.12, 1.6, 1.09, 0.99, 1.13, 1.44, 1.62, 0.55, 0.53, 0.78, 2.61, 1.46, 1.01, 0.87, 0.99, 0.79, 1.36, 0.94, 0.62, 0.67, 0.62, 1.56, 0.91, 0.89, 1.72, 0.62, 0.79, 0.75, 1.53, 0.73, 1.68, 0.74, 1.52, 1.35, 1.15, 1.33, 1.5, 1.3, 1.67, 1.52, 0.67, 1.31, 1.32, 1.02, 1.09, 1.0, 0.64, 0.81, 1.15, 0.62, 0.82, 1.08, 1.49, 0.97, 1.18, 1.37, 0.98, 1.56, 1.2, 0.77, 1.51, 1.53, 0.97, 1.04, 0.65, 1.12, 1.73, 1.72, 1.01, 1.67, 1.2, 1.03, 1.57, 1.43, 1.07, 0.99, 1.22, 1.17, 1.72, 0.69, 1.25, 0.97, 0.72, 1.76, 1.69, 1.71, 1.67, 0.77, 1.74, 1.06, 0.88, 0.96, 1.69, 1.74, 1.05, 1.19, 0.49, 1.79, 2.63, 2.12, 1.66, 0.68, 0.91, 1.14, 1.5, 0.69, 0.91, 1.03, 1.08, 0.63, 1.38, 1.5, 0.75, 0.91, 1.4, 1.37, 1.44, 1.15, 0.77, 1.61, 0.78, 1.16, 1.5, 1.82, 1.8, 1.18, 0.8, 0.69, 0.62, 1.43, 1.61, 1.55, 0.97, 1.57, 1.01, 0.78, 1.6, 1.32, 1.28, 1.08, 0.82, 1.52, 1.6, 1.5, 1.12, 1.0, 0.68, 1.21, 1.41, 1.59, 1.51, 1.46, 0.84, 1.69, 0.69, 1.72, 0.97, 1.7, 1.09, 1.56, 0.75, 0.82, 1.01, 1.44, 1.41, 1.4, 1.42, 1.42, 1.36, 0.71, 1.27, 1.75, 1.25, 1.78, 0.95, 1.13, 0.83, 0.72, 0.86, 0.78, 1.34, 0.83, 0.78, 0.83, 0.6, 1.48, 2.23, 2.19, 0.91, 1.23, 1.56, 1.34, 0.88, 1.31, 0.64, 1.13, 1.59, 1.4, 0.64, 0.9, 1.22, 1.13, 1.1, 0.62, 1.09, 1.71, 1.39, 0.67, 1.13, 1.2, 1.46, 0.72, 1.05, 1.79, 1.64, 0.66, 0.95, 0.67, 1.22, 0.62, 0.63, 1.34, 1.68, 1.48, 1.68, 1.46, 1.47, 0.62, 0.68, 1.73, 1.09, 1.34, 1.26, 1.32, 1.44, 1.57, 1.71, 1.08, 1.32, 0.67, 0.95, 1.7, 1.41, 1.64, 1.24, 0.85, 0.65, 0.81, 0.67, 1.2, 1.45, 1.35, 0.65, 0.72, 1.06, 1.3, 1.21, 0.64, 0.76, 0.93, 1.38, 1.55, 0.82, 1.64, 1.18, 1.53, 1.01, 1.17, 1.05, 1.5, 0.61, 1.18, 0.82, 1.17, 0.94, 2.1, 2.44, 1.48, 1.39, 1.16, 0.66, 1.64, 1.58, 0.87, 1.36, 1.71, 1.65, 1.36, 1.3, 0.62, 1.48, 1.65, 1.66, 1.33, 1.59, 1.24, 0.98, 0.89, 1.08, 1.26, 0.94, 0.73, 1.2, 0.76, 1.56, 1.56, 1.47, 1.26, 0.63, 1.43, 0.75, 1.21, 1.53, 0.77, 1.25, 1.14, 1.23, 0.75, 1.28, 0.74, 0.94, 1.57, 1.54, 0.71, 0.8, 1.69, 1.18, 0.79, 0.86, 0.82, 0.85, 1.5, 1.13, 1.39, 0.89, 0.97, 1.57, 1.14, 0.84, 1.68, 0.66, 0.89, 1.11, 0.65, 0.89, 1.52, 1.0, 1.3, 1.48, 1.57, 0.62, 1.75, 1.63, 1.23, 1.74, 1.07, 0.68, 1.71, 1.23, 1.55, 1.61, 1.49, 1.43, 1.09, 2.3, 1.52, 1.77, 1.19, 0.77, 1.69, 1.66, 1.17, 0.64, 0.65, 0.75, 0.71, 1.13, 0.65, 0.88, 1.69, 0.71, 0.63, 0.94, 1.55, 0.91, 0.9, 0.77, 1.54, 0.77, 1.63, 1.76, 1.54, 0.67, 0.73, 0.89, 1.48, 1.43, 1.2, 0.9, 1.32, 1.5, 1.71, 1.69, 1.61, 1.47, 1.34, 1.71, 0.65, 1.09, 1.04, 0.64, 0.93, 1.2, 0.69, 0.63, 1.17, 1.08, 0.78, 0.94, 0.94, 1.48, 0.69, 1.07, 0.81, 1.64, 0.74, 1.73, 0.71, 0.64, 1.04, 0.63, 0.87, 0.61, 1.06, 1.18, 1.14, 1.2, 0.8, 1.31, 1.23, 0.83, 1.58, 1.58, 0.99, 0.77, 1.59, 1.68, 1.18, 0.54, 1.39, 1.16, 2.36, 1.48, 0.65, 1.41, 0.72, 1.58, 0.97, 1.21, 0.64, 0.84, 0.81, 0.93, 1.51, 0.63, 1.05, 1.38, 1.07, 1.47, 0.7, 0.65, 1.18, 1.03, 0.74, 1.75, 1.67, 1.44, 1.14, 1.66, 1.27, 0.84, 1.15, 1.58, 1.09, 0.63, 1.63, 1.01, 1.39, 0.87, 1.02, 0.64, 1.2, 1.73, 0.63, 1.15, 1.0, 0.87, 1.31, 1.24, 0.61, 1.15, 1.21, 1.59, 1.73, 0.78, 1.47, 1.17, 1.09, 1.74, 1.4, 0.72, 0.64, 1.68, 1.24, 1.17, 0.66, 1.12, 0.62, 1.52, 0.99, 1.47, 1.64, 1.45, 1.14, 0.73, 0.86, 1.19, 1.43, 1.69, 1.03, 0.68, 1.21, 1.15, 1.52, 1.56, 0.84, 0.87, 2.1, 2.15, 0.86, 1.01, 1.6, 1.44, 1.35, 1.13, 1.21, 0.6, 1.68, 1.2, 1.62, 1.34, 1.08, 1.08, 1.13, 1.5, 1.23, 1.0, 0.84, 1.72, 0.77, 0.83, 1.43, 1.34, 0.99, 1.58, 1.06, 1.56, 1.51, 1.09, 0.92, 1.58, 0.77, 1.65, 1.52, 1.39, 0.72, 1.27, 0.91, 1.34, 0.85, 1.57, 1.39, 1.14, 1.71, 0.75, 0.66, 1.71, 0.9, 0.67, 0.63, 0.73, 0.97, 1.11, 1.07, 0.97, 1.52, 1.7, 0.88, 1.54, 1.29, 0.82, 1.07, 0.88, 1.53, 1.37, 1.57, 1.51, 1.53, 1.58, 1.2, 0.87, 0.64, 0.76, 1.18, 1.17, 0.81, 0.66, 1.39, 2.01, 1.4, 1.9, 1.16, 1.1, 1.6, 0.68, 0.88, 1.69, 1.63, 1.45, 1.68, 0.9, 0.63, 0.77, 0.66, 0.75, 1.13, 0.89, 1.58, 0.95, 0.77, 1.14, 1.38, 0.76, 1.59, 1.06, 1.47, 1.64, 0.84, 1.36, 1.4, 1.33, 1.67, 1.0, 1.57, 1.21, 1.02, 1.54, 1.46, 1.51, 0.9, 0.97, 1.73, 0.92, 1.57, 0.96, 1.53, 1.33, 1.47, 1.56, 0.85, 1.41, 1.0, 1.25, 1.11, 1.65, 1.41, 1.51, 0.91, 0.89, 1.1, 1.19, 1.19, 1.56, 1.15, 1.03, 1.51, 0.97, 1.77, 0.75, 1.0, 1.15, 1.75, 0.9, 0.7, 1.71, 0.98, 1.13, 0.93, 0.57, 1.53, 2.01, 1.05, 1.49, 1.34, 0.79, 1.6, 0.62, 1.62, 1.11, 1.26, 1.21, 1.52, 1.67, 0.84, 0.97, 1.39, 1.22, 1.7, 1.54, 1.3, 0.85, 1.77, 1.12, 1.06, 0.77, 0.76, 0.94, 1.76, 1.69, 0.71, 1.26, 0.84, 1.47, 1.13, 1.39, 1.06, 0.71, 1.11, 0.6, 1.23, 1.28, 0.61, 1.59, 0.9, 1.59, 1.72, 1.65, 0.69, 1.16, 0.89, 1.68, 1.18, 1.39, 0.63, 1.27, 0.83, 1.09, 0.59, 0.65, 0.68, 1.65, 0.68, 0.61, 1.45, 0.8, 0.97, 1.74, 1.72, 1.74, 0.69, 1.05, 0.89, 0.9, 1.38, 1.73, 1.35, 1.8, 0.65, 1.7, 1.02, 0.66, 0.68, 1.13, 1.5, 1.66, 0.52, 0.9, 1.51, 0.88, 1.27, 0.79, 1.13, 1.49, 1.69, 1.69, 1.53, 0.99, 0.84, 1.18, 1.22, 0.68, 1.17, 1.11, 0.75, 1.09, 1.32, 0.99, 1.38, 1.42, 1.65, 1.1, 1.4, 1.02, 1.0, 0.88, 0.8, 1.31, 0.62, 1.62, 1.55, 1.61, 1.12, 1.1, 0.72, 0.82, 1.7, 1.26, 1.15, 1.1, 1.73, 0.72, 0.7, 1.45, 0.83, 1.13, 1.73, 1.28, 1.18, 1.74, 0.67, 1.21, 0.99, 1.29, 0.7, 1.3, 1.47, 1.75, 0.99, 0.67, 0.72, 0.82, 0.79, 1.0, 1.21, 1.58, 1.46, 0.51, 1.12, 1.64, 1.51, 1.8, 0.76, 0.56, 1.57, 1.3, 0.92, 1.19, 0.92, 1.73, 1.65, 0.58, 0.6, 1.75, 1.39, 0.75, 1.02, 1.11, 1.3, 1.44, 1.68, 1.49, 1.36, 0.81, 1.14, 1.56, 0.78, 0.88, 1.65, 1.31, 1.33, 1.21, 1.26, 1.42, 0.87, 1.68, 1.07, 1.36, 0.82, 0.69, 1.13, 1.72, 1.5, 1.12, 0.95, 1.62, 1.0, 1.29, 1.33, 1.32, 0.78, 1.01, 1.63, 1.33, 0.79, 0.77, 1.38, 0.99, 1.49, 1.07, 1.0, 1.49, 1.49, 0.93, 1.52, 1.05, 0.83, 0.6, 0.58, 1.57, 0.9, 1.9, 2.54, 1.86, 1.56, 0.98, 0.52, 0.58, 1.62, 1.51, 1.29, 0.59, 0.7, 1.12, 1.2, 1.09, 1.06, 0.8, 0.82, 0.58, 1.19, 0.72, 1.06, 0.87, 0.91, 0.8, 1.73, 1.41, 0.89, 1.52, 1.16, 0.6, 1.2, 0.81, 1.12, 1.59, 0.72, 0.96, 0.85, 1.12, 1.56, 0.55, 0.89, 1.29, 1.64, 1.28, 0.66, 0.9, 1.35, 1.58, 1.15, 1.6, 1.18, 1.04, 0.79, 0.67, 1.22, 1.13, 0.93, 1.55, 1.0, 0.69, 1.07, 1.03, 0.65, 0.81, 0.7, 1.28, 1.08, 1.18, 0.57, 1.39, 0.76, 0.58, 1.17, 0.67, 1.3, 1.27, 1.45, 1.55, 1.5, 1.47, 1.23, 1.01, 0.62, 0.67, 1.24, 1.03, 1.21, 1.66, 1.13, 1.34, 0.99, 1.69, 0.78, 1.17, 1.14, 1.65, 0.92, 1.35, 1.18, 0.82, 1.72, 1.06, 0.98, 1.19, 0.81, 0.61, 0.78, 0.81, 1.52, 0.74, 0.56, 0.9, 0.82, 0.85, 0.74, 1.07, 0.57, 1.39, 1.56, 1.04, 1.46, 0.79, 1.42, 0.72, 0.78, 0.72, 1.33, 0.79, 0.89, 1.59, 1.14, 1.59, 0.67, 0.65, 0.63, 0.93, 0.71, 1.4, 1.51, 1.52, 1.56, 0.95, 1.41, 1.45, 0.89, 0.74, 1.72, 1.62, 0.96, 1.21, 1.07, 1.04, 1.11, 0.96, 0.92, 1.3, 1.47, 0.84, 1.42, 0.83, 1.58, 0.85, 1.65, 1.0, 1.21, 1.02, 1.75, 1.18, 0.91, 0.67, 1.14, 1.06, 0.98, 0.88, 1.59, 1.6, 1.66, 1.57, 0.96, 0.7, 0.64, 1.29, 0.69, 0.81, 1.67, 0.66, 0.73, 1.12, 0.75, 0.79, 1.32, 1.1, 1.32, 1.31, 0.86, 0.64, 1.39, 1.02, 1.07, 0.93, 0.97, 0.7, 1.49, 0.61, 1.55, 1.43, 0.67, 0.62, 1.65, 1.67, 1.56, 1.18, 1.09, 1.12, 0.62, 1.1, 0.79, 1.69, 1.32, 0.91, 0.84, 1.63, 0.65, 1.59, 0.79, 0.95, 1.09, 1.25, 0.75, 1.66, 0.82, 1.24, 0.85, 1.05, 1.12, 1.65, 0.69, 1.2, 1.34, 0.86, 1.54, 0.86, 1.03, 0.72, 1.7, 0.63, 1.19, 1.72, 1.73, 1.42, 1.17, 1.33, 0.81, 1.3, 1.67, 0.71, 0.93, 1.7, 1.66, 0.52, 1.57, 1.99, 2.02, 1.41, 0.51, 0.52, 0.76, 1.3, 1.3, 0.65, 1.3, 1.0, 1.69, 1.0, 1.05, 1.71, 0.8, 1.16, 1.72, 1.75, 0.74, 0.68, 0.94, 0.71, 1.67, 1.2, 0.73, 1.12, 0.76, 0.86, 1.56, 1.38, 0.87, 0.64, 0.59, 1.7, 1.66, 1.38, 1.34, 1.1, 0.82, 1.5, 1.22, 1.66, 1.01, 1.1, 0.73, 0.86, 0.88, 1.3, 0.96, 1.69, 1.68, 0.87, 1.63, 1.65, 1.72, 1.37, 0.79, 0.89, 1.68, 0.97, 1.0, 1.15, 1.57, 1.68, 1.25, 1.21, 1.14, 1.14, 0.87, 0.65, 0.79, 0.93, 1.74, 0.68, 0.86, 1.15, 0.9, 1.24, 0.88, 1.73, 1.74, 1.41, 1.42, 0.61, 1.24, 1.26, 2.03, 1.83, 0.71, 1.55, 1.09, 0.61, 1.39, 1.34, 1.27, 1.65, 1.69, 1.16, 1.45, 0.9, 0.65, 0.99, 0.79, 1.58, 1.75, 1.69, 1.36, 1.12, 0.69, 1.7, 0.93, 1.75, 1.47, 1.41, 0.74, 1.15, 0.63, 0.96, 0.64, 1.28, 0.74, 1.26, 1.29, 1.68, 1.21, 0.84, 1.34, 1.0, 1.47, 1.37, 1.08, 1.28, 0.64, 0.61, 1.73, 1.43, 1.55, 0.64, 1.15, 1.56, 1.62, 1.08, 1.28, 1.22, 0.71, 1.66, 1.3, 0.77, 0.66, 1.36, 1.19, 0.65, 1.63, 1.31, 1.7, 0.9, 1.16, 1.04, 1.17, 0.7, 1.15, 1.12, 1.35, 0.67, 0.87, 1.51, 0.8, 1.55, 1.52, 1.45, 0.86, 1.36, 1.58, 0.63, 0.66, 0.77, 0.67, 1.05, 0.63, 1.19, 1.7, 1.48, 0.76, 1.23, 1.07, 1.35, 1.23, 1.09, 0.81, 1.09, 1.66, 0.77, 0.79, 1.19, 1.3, 0.73, 1.1, 1.72, 0.9, 0.97, 1.25, 1.49, 1.06, 1.69, 0.6, 1.64, 1.66, 1.57, 0.87, 0.66, 1.57, 0.62, 1.5, 1.34, 1.39, 0.65, 1.65, 1.4, 1.63, 0.7, 1.38, 1.35, 0.64, 0.82, 1.29, 1.57, 1.01, 1.26, 0.65, 1.63, 1.42, 0.67, 1.31, 1.37, 1.38, 0.93, 1.43, 1.61, 1.64, 1.09, 1.28, 1.71, 0.64, 0.94, 1.3, 1.71, 0.64, 0.66, 0.94, 1.68, 1.6, 1.18, 0.59, 2.55, 1.46, 1.7, 0.87, 1.02, 0.64, 0.82, 0.65, 0.71, 0.83, 1.6, 1.63, 0.63, 1.21, 1.64, 1.65, 0.75, 1.64, 1.72, 1.35, 1.66, 0.72, 0.82, 0.82, 1.59, 1.56, 1.8, 1.47, 0.76, 1.1, 1.47, 0.82, 1.72, 1.49, 1.22, 0.93, 1.5, 1.29, 0.67, 0.82, 1.06, 1.04, 0.87, 1.06, 1.25, 1.1, 1.01, 1.32, 1.34, 1.41, 1.66, 1.1, 1.68, 1.08, 0.91, 1.15, 1.3, 0.91, 1.48, 1.58, 1.52, 0.67, 0.68, 1.0, 1.61, 1.1, 1.1, 0.85, 1.54, 0.96, 0.67, 0.74, 1.28, 1.35, 0.64, 0.81, 1.33, 0.74, 1.47, 0.73, 0.94, 1.65, 1.38, 0.72, 1.83, 1.56, 1.51, 0.77, 0.94, 0.61, 0.65, 0.78, 0.88, 1.09, 1.09, 0.97, 1.58, 0.93, 1.47, 1.31, 1.21, 0.68, 1.62, 1.33, 1.17, 1.27, 0.99, 1.09, 1.78, 1.64, 1.8, 0.95, 0.93, 1.26, 1.25, 0.86, 1.57, 1.68, 0.7, 0.7, 1.73, 0.79, 0.71, 1.25, 1.0, 1.02, 0.85, 1.3, 0.97, 1.55, 1.73, 1.22, 0.71, 1.75, 1.74, 1.49, 1.74, 1.44, 1.21, 1.5, 1.04, 0.76, 1.65, 1.7, 1.53, 1.67, 1.76, 1.74, 1.78, 0.69, 0.71, 0.91, 1.64, 1.34, 1.17, 0.98, 0.61, 1.68, 1.38, 1.4, 1.36, 1.3, 2.1, 1.3, 1.54, 0.98, 1.35, 0.65, 1.69, 0.59, 1.41, 1.2, 1.67, 1.16, 1.04, 0.99, 1.3, 0.7, 1.14, 1.57, 1.37, 1.02, 1.03, 1.06, 0.75, 1.12, 1.52, 1.53, 1.36, 1.1, 1.36, 0.82, 1.45, 1.51, 1.71, 1.09, 0.64, 1.71, 1.29, 0.87, 1.7, 0.83, 1.68, 0.93, 1.51, 1.59, 1.27, 0.69, 1.36, 1.51, 1.63, 1.65, 0.61, 1.69, 1.67, 0.89, 1.1, 1.59, 0.74, 0.82, 1.59, 0.63, 1.2, 1.5, 1.18, 1.17, 1.78, 0.69, 1.33, 0.75, 1.45, 0.85, 0.87, 1.13, 1.44, 1.21, 0.64, 1.21, 0.82, 1.62, 2.21, 1.28, 0.51, 0.56, 0.76, 1.64, 0.77, 1.6, 1.25, 0.74, 1.51, 1.68, 1.06, 1.27, 0.8, 1.58, 0.7, 1.07, 1.57, 1.15, 1.68, 1.3, 1.53, 1.33, 1.57, 1.77, 1.58, 0.65, 1.55, 1.68, 1.04, 0.92, 0.7, 0.96, 1.26, 1.62, 0.92, 0.9, 1.67, 1.36, 1.64, 1.4, 1.38, 1.5, 0.75, 1.69, 1.61, 1.63, 1.15, 0.82, 1.34, 0.79, 0.6, 0.65, 0.59, 1.53, 1.08, 1.58, 1.07, 1.0, 0.76, 1.16, 1.4, 1.36, 1.19, 0.69, 1.23, 1.72, 1.56, 1.46, 1.03, 1.13, 0.93, 0.88, 1.48, 1.09, 1.69, 1.68, 1.52, 0.84, 1.1, 0.86, 2.23, 1.2, 1.37, 0.85, 0.68, 1.08, 1.6, 0.74, 1.2, 1.01, 0.67, 1.56, 0.94, 0.7, 1.43, 0.68, 1.06, 1.49, 1.25, 1.3, 0.79, 1.53, 1.79, 0.76, 1.65, 0.83, 1.62, 1.34, 1.3, 1.23, 1.63, 1.51, 1.52, 1.12, 0.64, 1.34, 1.47, 1.19, 0.62, 1.08, 1.04, 1.03, 1.64, 0.72, 1.14, 0.64, 1.61, 1.08, 0.94, 1.07, 1.64, 1.17, 0.96, 1.63, 1.15, 1.57, 1.51, 1.67, 0.68, 1.64, 1.7, 1.49, 1.43, 0.9, 1.34, 1.55, 1.12, 0.96, 1.68, 1.64, 1.11, 1.73, 1.65, 0.88, 0.69, 1.7, 0.89, 0.7, 0.94, 1.54, 1.48, 0.66, 1.15, 1.12, 0.65, 0.8, 1.51, 2.08, 1.0, 0.7, 1.29, 1.58, 1.4, 1.15, 1.02, 1.57, 1.49, 1.28, 1.04, 1.27, 0.7, 1.09, 1.09, 0.63, 1.03, 1.38, 1.0, 1.65, 1.17, 0.88, 1.59, 1.08, 1.15, 1.39, 0.71, 1.09, 1.5, 1.71, 0.97, 0.8, 1.0, 1.14, 1.29, 0.77, 1.71, 0.83, 1.21, 0.78, 1.02, 0.97, 1.18, 1.14, 0.63, 1.26, 1.69, 0.81, 0.8, 1.57, 0.76, 1.7, 0.8, 1.39, 0.74, 1.59, 0.68, 1.28, 1.54, 1.51, 0.64, 1.5, 1.51, 1.71, 1.62, 1.55, 1.34, 1.27, 0.82, 1.47, 1.01, 0.74, 1.07, 1.71, 0.71, 0.93, 1.36, 1.69, 0.61, 1.64, 1.65, 1.54, 0.52, 1.29, 1.19, 1.76, 1.43, 0.56, 1.38, 0.73, 0.75, 0.72, 1.23, 1.59, 1.59, 0.75, 0.92, 0.59, 0.71, 1.04, 0.76, 1.68, 1.54, 1.56, 1.61, 0.66, 1.61, 1.38, 0.83, 1.12, 1.27, 1.71, 1.63, 1.54, 1.48, 1.46, 1.15, 1.39, 1.66, 1.3, 1.37, 0.91, 1.09, 1.54, 0.77, 0.83, 1.4, 0.9, 1.71, 1.03, 0.64, 1.06, 1.3, 0.9, 0.59, 1.35, 1.39, 0.61, 0.85, 0.84, 0.78, 1.04, 0.61, 1.7, 1.24, 1.05, 0.85, 1.16, 0.62, 1.47, 0.92, 1.39, 0.85, 1.32, 1.65, 1.73, 0.83, 0.99, 0.87, 1.1, 0.66, 1.06, 0.77, 0.97, 0.85, 0.95, 1.3, 1.06, 0.6, 0.5, 0.9, 2.57, 1.82, 0.61, 1.3, 1.47, 1.23, 0.62, 1.25, 1.31, 1.19, 1.47, 1.63, 0.98, 1.27, 1.31, 1.51, 0.75, 0.74, 1.47, 1.06, 1.75, 0.87, 0.79, 0.75, 0.89, 0.78, 1.6, 1.27, 1.09, 1.66, 0.63, 0.81, 0.64, 1.52, 1.68, 0.67, 1.21, 1.23, 0.92, 1.52, 0.74, 1.64, 0.64, 1.11, 1.12, 0.87, 1.55, 1.64, 1.31, 1.47, 1.69, 0.98, 1.69, 0.72, 1.24, 1.14, 0.91, 1.58, 1.25, 0.92, 0.65, 0.96, 1.55, 1.37, 1.6, 0.64, 0.98, 1.29, 0.76, 1.69, 1.69, 0.68, 0.98, 1.46, 0.83, 1.46, 0.65, 1.0, 1.01, 1.33, 1.62, 1.01, 1.42, 1.25, 1.09, 2.13, 1.61, 0.99, 1.49, 1.26, 1.23, 1.28, 0.94, 0.61, 1.65, 1.45, 0.63, 0.67, 1.71, 1.42, 0.65, 0.76, 1.12, 1.04, 0.87, 0.85, 1.14, 1.04, 1.02, 1.68, 1.49, 1.52, 0.68, 1.48, 0.97, 0.97, 1.69, 1.02, 1.13, 1.65, 1.0, 1.69, 0.92, 0.74, 1.64, 1.08, 1.73, 0.9, 1.61, 1.23, 0.62, 1.68, 0.66, 0.81, 0.87, 1.65, 0.77, 0.79, 1.09, 1.41, 1.34, 0.61, 0.67, 1.14, 1.62, 0.98, 1.57, 1.64, 1.21, 1.31, 1.46, 1.53, 0.92, 1.38, 1.55, 0.94, 1.48, 1.52, 0.89, 1.13, 0.93, 2.21, 2.02, 1.47, 0.98, 1.21, 1.5, 1.1, 0.77, 0.74, 1.65, 0.66, 1.71, 0.96, 1.33, 1.14, 0.62, 1.26, 1.16, 1.69, 1.66, 1.26, 1.59, 1.77, 1.21, 1.52, 1.23, 0.78, 0.77, 0.94, 1.7, 1.67, 0.64, 1.57, 0.72, 1.64, 0.89, 0.76, 1.19, 0.64, 1.08, 1.02, 0.77, 1.69, 0.9, 1.27, 0.74, 1.72, 0.85, 0.94, 0.98, 0.65, 1.13, 1.34, 1.61, 0.85, 0.85, 1.67, 0.92, 1.17, 1.7, 0.73, 1.22, 1.35, 0.84, 0.73, 1.06, 1.63, 1.01, 0.69, 0.9, 0.9, 1.13, 1.59, 2.58, 1.92, 0.83, 1.4, 1.12, 0.6, 1.43, 1.01, 1.57, 1.34, 1.64, 1.01, 1.67, 0.82, 0.62, 1.41, 0.75, 0.81, 1.19, 0.73, 1.41, 1.01, 1.24, 1.7, 1.7, 1.57, 1.42, 1.32, 0.8, 0.63, 0.7, 1.4, 1.65, 1.31, 1.11, 1.15, 1.1, 1.28, 1.47, 1.36, 0.59, 1.36, 0.83, 1.09, 0.71, 0.79, 1.17, 1.69, 1.18, 0.89, 0.72, 1.45, 1.71, 0.84, 1.02, 1.43, 0.73, 0.6, 1.04, 0.97, 1.52, 1.53, 1.16, 1.13, 1.38, 1.7, 0.68, 0.58, 1.44, 0.59, 1.19, 0.69, 0.68, 1.11, 0.54, 1.65, 2.55, 1.48, 1.14, 0.79, 0.88, 1.6, 1.65, 1.37, 1.33, 0.77, 1.58, 0.62, 1.63, 0.61, 1.67, 1.16, 0.79, 1.63, 1.51, 1.63, 0.77, 1.22, 1.76, 0.69, 0.85, 0.98, 1.63, 1.69, 1.09, 0.73, 1.58, 1.55, 0.6, 0.95, 1.3, 1.47, 1.6, 1.62, 1.19, 0.64, 0.62, 1.42, 1.61, 1.62, 1.66, 1.65, 1.5, 0.71, 0.85, 1.64, 1.58, 1.44, 1.5, 0.84, 1.13, 1.66, 1.44, 0.66, 0.74, 1.02, 1.52, 0.65, 1.19, 1.06, 1.45, 1.05, 1.29, 1.69, 1.54, 1.14, 1.19, 1.57, 1.56, 0.86, 0.89, 1.1, 0.81, 0.52, 0.5, 0.68, 1.68, 2.13, 1.2, 0.79, 0.89, 1.69, 1.31, 1.38, 1.4, 0.64, 0.87, 1.5, 1.02, 0.86, 1.54, 0.71, 1.61, 0.98, 1.39, 1.31, 1.03, 0.75, 1.68, 1.17, 0.79, 1.4, 0.79, 1.16, 1.49, 0.76, 1.2, 0.85, 0.6, 1.52, 0.64, 1.26, 1.11, 0.84, 1.62, 0.67, 0.63, 1.54, 1.5, 1.44, 0.76, 0.88, 0.85, 1.66, 0.79, 1.23, 1.31, 1.01, 1.66, 1.69, 1.69, 0.91, 1.04, 1.4, 0.78, 1.36, 0.83, 1.35, 1.22, 1.26, 0.67, 1.29, 0.76, 1.68, 0.6, 1.49, 0.73, 1.2, 0.75, 1.78, 1.09, 1.16, 0.64, 1.39, 1.22, 0.65, 1.27, 1.6, 1.37, 1.54, 0.85, 0.83, 1.21, 1.56, 1.9, 0.59, 0.71, 0.97, 0.78, 1.66, 0.68, 0.85, 1.56, 0.71, 1.43, 0.71, 0.8, 1.32, 1.06, 1.18, 1.72, 1.21, 0.83, 1.75, 1.64, 0.74, 1.72, 0.92, 0.81, 1.14, 1.42, 0.87, 1.57, 1.7, 1.24, 1.0, 0.92, 1.35, 0.63, 1.37, 0.71, 0.73, 1.31, 1.69, 0.97, 1.7, 0.82, 1.0, 1.06, 1.66, 1.48, 1.7, 1.52, 1.09, 1.04, 1.51, 0.98, 0.94, 0.73, 1.61, 0.63, 1.63, 0.67, 1.58, 0.64, 0.89, 1.16, 1.71, 0.67, 1.52, 0.88, 1.39, 0.93, 0.7, 1.24, 0.65, 1.46, 1.46, 1.35, 0.63, 0.94, 1.13, 1.48, 1.46, 0.72, 1.64, 1.36, 0.77, 0.97, 1.11, 1.14, 0.64, 0.63, 0.67, 0.7, 0.61, 1.15, 0.9, 1.03, 0.82, 1.06, 0.77, 0.71, 1.72, 1.5, 0.75, 1.06, 0.85, 1.69, 1.67, 1.05, 1.39, 1.71, 1.33, 0.93, 1.65, 1.22, 0.79, 1.14, 0.65, 0.62, 0.88, 0.73, 1.28, 1.66, 1.09, 1.67, 1.52, 0.63, 1.32, 1.61, 0.78, 1.52, 1.29, 1.07, 1.5, 0.7, 0.97, 0.94, 1.59, 0.9, 0.69, 0.91, 0.77, 1.02, 0.83, 1.51, 1.17, 1.61, 1.17, 1.67, 0.77, 1.73, 1.2, 1.44, 1.03, 0.97, 0.77, 1.23, 0.99, 1.33, 1.6, 0.62, 1.5, 0.78, 1.67, 0.79, 0.77, 1.49, 0.68, 0.96, 2.16, 1.54, 0.78, 1.48, 0.87, 1.58, 1.67, 1.61, 1.17, 1.69, 0.62, 1.23, 0.75, 1.63, 0.68, 1.11, 1.47, 0.96, 0.68, 1.69, 1.45, 0.8, 1.47, 0.78, 1.14, 1.83, 1.77, 1.53, 1.7, 1.36, 1.33, 1.46, 1.41, 0.59, 1.33, 0.69, 1.53, 0.62, 0.75, 1.2, 1.01, 1.7, 1.23, 0.72, 1.42, 1.71, 1.03, 0.61, 1.69, 0.64, 1.68, 1.37, 1.7, 1.4, 0.84, 1.51, 0.79, 0.76, 1.71, 0.89, 1.58, 1.46, 1.19, 0.95, 1.45, 1.49, 0.93, 0.72, 1.65, 0.81, 1.45, 0.62, 0.79, 1.09, 1.74, 0.72, 1.39, 1.09, 0.97, 1.11, 0.74, 0.61, 1.02, 1.5, 0.87, 1.46, 1.11, 1.42, 1.09, 2.19, 1.57, 1.53, 1.46, 1.33, 1.02, 1.35, 1.53, 1.68, 0.62, 1.38, 0.91, 1.18, 1.27, 0.75, 1.36, 1.48, 1.09, 1.01, 1.63, 1.59, 1.64, 1.39, 1.26, 1.5, 1.52, 1.02, 1.18, 1.75, 1.63, 0.79, 0.61, 0.97, 1.09, 1.27, 1.16, 1.04, 1.6, 1.16, 1.02, 1.25, 0.88, 1.43, 1.54, 1.55, 0.83, 0.77, 1.59, 1.52, 1.68, 1.54, 0.68, 1.4, 0.93, 1.32, 1.22, 0.8, 0.85, 1.44, 1.41, 0.64, 1.09, 0.67, 1.04, 1.64, 1.04, 0.72, 1.13, 0.8, 0.65, 1.17, 1.05, 1.6, 1.57, 0.81, 1.08, 1.75, 1.5, 1.64, 0.68, 1.44, 0.93, 1.21, 0.66, 0.73, 1.19, 1.63, 0.63, 0.48, 1.06, 1.09, 1.46, 1.39, 1.49, 1.08, 1.3, 1.67, 0.73, 1.56, 1.2, 1.13, 1.66, 0.73, 1.58, 1.21, 0.65, 0.66, 0.83, 0.59, 1.22, 0.56, 1.11, 1.55, 1.31, 1.52, 1.3, 1.3, 0.62, 0.67, 1.35, 1.27, 0.65, 0.8, 1.22, 0.54, 1.5, 1.73, 1.22, 0.67, 1.53, 0.72, 1.13, 0.97, 1.28, 0.91, 1.23, 0.92, 0.69, 0.78, 1.64, 1.62, 0.91, 0.88, 0.67, 1.22, 1.17, 0.83, 0.71, 0.62, 0.55, 1.04, 1.54, 1.07, 1.76, 1.36, 1.66, 1.01, 1.07, 0.94, 0.68, 1.34, 1.16, 1.21, 1.02, 0.87, 1.19, 1.41, 1.53, 1.06, 1.6, 1.71, 0.67, 0.6, 1.08, 0.8, 1.72, 2.43, 1.46, 1.17, 1.56, 1.19, 0.91, 0.71, 0.76, 0.85, 1.63, 0.85, 1.54, 0.94, 1.5, 1.11, 1.03, 1.06, 0.93, 0.81, 0.84, 1.09, 1.37, 0.94, 1.36, 1.35, 1.82, 1.29, 1.7, 1.12, 0.55, 1.45, 0.96, 1.18, 1.19, 0.53, 0.98, 1.53, 0.63, 1.27, 1.39, 0.84, 1.28, 0.81, 0.85, 1.74, 1.14, 1.76, 1.71, 0.8, 0.75, 0.83, 1.31, 0.9, 0.83, 1.66, 1.35, 1.09, 1.33, 1.62, 0.55, 1.53, 1.62, 1.52, 0.78, 1.65, 0.66, 0.85, 1.77, 1.77, 0.86, 1.72, 1.3, 1.45, 0.8, 0.55, 1.69, 0.72, 1.43, 1.01, 1.54, 0.53, 1.21, 2.09, 1.9, 1.48, 1.4, 0.94, 0.58, 1.28, 1.48, 1.21, 1.27, 1.52, 0.6, 1.04, 0.66, 0.67, 1.15, 0.63, 1.72, 0.77, 0.76, 1.38, 0.69, 1.46, 1.5, 0.87, 1.62, 1.8, 0.69, 0.87, 1.3, 0.59, 0.61, 1.11, 1.33, 1.17, 1.57, 0.89, 1.37, 0.73, 1.56, 0.69, 1.58, 1.3, 0.74, 1.76, 1.53, 1.01, 1.1, 1.19, 1.66, 0.92, 1.06, 0.74, 1.16, 0.79, 1.69, 1.09, 0.98, 0.63, 0.7, 0.86, 1.05, 1.26, 0.9, 0.62, 1.49, 0.72, 1.63, 1.26, 1.31, 0.71, 1.35, 1.26, 1.65, 1.2, 1.55, 0.74, 1.23, 0.71, 1.62, 0.57, 1.38, 2.02, 1.67, 1.92, 1.55, 1.34, 0.61, 1.57, 0.66, 0.71, 1.6, 1.3, 0.8, 0.95, 1.17, 1.58, 1.18, 1.28, 0.59, 0.92, 1.66, 0.81, 1.09, 1.1, 1.81, 1.71, 0.95, 1.55, 1.34, 1.68, 1.3, 0.64, 1.69, 1.15, 1.13, 0.95, 1.11, 0.92, 1.62, 1.45, 1.71, 1.53, 0.67, 0.61, 0.68, 0.84, 1.66, 1.14, 1.31, 0.61, 1.25, 0.81, 1.51, 0.94, 0.72, 1.38, 0.89, 0.61, 0.71, 0.7, 1.63, 0.84, 1.18, 0.83, 1.69, 0.72, 1.56, 0.91, 0.93, 1.19, 1.65, 1.52, 1.05, 0.71, 1.5, 0.66, 1.32, 0.94, 1.68, 1.62, 1.45, 1.27, 1.16, 1.14, 1.44, 2.26, 1.41, 1.04, 1.06, 1.0, 1.58, 1.56, 0.73, 1.53, 0.92, 1.5, 1.59, 1.12, 0.73, 1.25, 1.41, 1.25, 0.8, 1.06, 1.41, 0.85, 1.74, 1.47, 1.72, 0.99, 1.65, 0.88, 0.71, 1.63, 0.84, 0.64, 1.66, 1.38, 1.16, 1.27, 1.42, 1.63, 0.68, 0.87, 1.47, 0.68, 1.14, 0.69, 1.18, 1.47, 1.09, 0.75, 1.07, 1.6, 1.6, 1.41, 0.93, 1.54, 1.67, 0.96, 0.68, 1.2, 0.83, 1.65, 0.8, 0.86, 1.17, 1.1, 1.59, 0.69, 1.71, 1.19, 1.4, 0.74, 0.83, 1.06, 0.96, 0.65, 0.99, 0.65, 0.99, 1.36, 0.78, 1.53, 0.68, 1.58, 1.54, 1.09, 0.69, 1.29, 0.95, 1.59, 1.61, 0.86, 1.75, 1.75, 1.79, 1.76, 1.14, 0.85, 1.73, 1.39, 0.74, 1.27, 1.08, 1.29, 1.43, 1.75, 1.48, 1.39, 1.01, 1.83, 1.21, 1.09, 1.18, 1.72, 0.72, 0.68, 0.82, 1.53, 0.83, 1.19, 1.04, 1.34, 1.58, 0.84, 1.01, 0.68, 1.11, 1.7, 1.67, 1.51, 1.44, 1.74, 1.02, 1.04, 0.79, 0.67, 0.91, 0.68, 1.55, 1.12, 1.62, 0.84, 0.98, 0.97, 1.14, 0.78, 0.8, 1.18, 1.7, 1.7, 1.35, 1.21, 0.94, 1.0, 1.46, 0.68, 1.66, 1.53, 1.25, 1.22, 2.64, 1.13, 0.69, 0.9, 1.5, 1.01, 1.58, 1.51, 1.71, 0.82, 1.1, 1.67, 1.01, 0.82, 1.18, 1.27, 1.6, 0.94, 0.94, 0.79, 1.27, 0.8, 0.96, 1.3, 1.3, 1.28, 1.63, 1.37, 0.69, 1.11, 1.52, 1.0, 0.87, 1.56, 1.21, 0.67, 1.06, 1.57, 0.9, 0.6, 1.22, 1.64, 1.64, 0.75, 1.04, 0.76, 0.69, 1.67, 1.73, 1.56, 1.13, 1.38, 1.14, 1.13, 1.06, 1.25, 0.73, 0.63, 1.66, 1.37, 1.41, 1.39, 1.05, 1.64, 0.95, 0.67, 0.71, 1.09, 0.85, 1.74, 1.59, 1.72, 1.39, 0.62, 1.7, 1.23, 1.1, 1.65, 1.53, 0.87, 2.15, 2.0, 0.72, 0.67, 0.55, 1.2, 1.21, 0.66, 1.58, 1.51, 0.88, 0.79, 0.71, 1.73, 1.69, 0.64, 1.7, 0.64, 1.4, 1.73, 0.71, 1.39, 1.69, 1.01, 1.69, 1.33, 1.84, 1.53, 1.13, 1.51, 1.58, 1.35, 1.01, 1.18, 0.62, 1.38, 0.71, 1.47, 1.7, 0.63, 1.59, 1.07, 0.81, 0.65, 0.69, 1.46, 0.64, 0.98, 1.39, 0.72, 1.57, 1.48, 1.33, 1.01, 1.68, 0.72, 1.74, 0.83, 1.34, 0.63, 1.68, 1.67, 0.97, 0.84, 0.69, 0.83, 1.08, 1.56, 0.78, 0.7, 1.11, 1.51, 1.23, 1.41, 1.05, 0.78, 1.0, 1.71, 0.83, 1.49, 1.59, 1.32, 1.72, 1.98, 0.71, 0.65, 1.19, 1.11, 1.67, 1.1, 1.54, 0.73, 1.28, 0.89, 1.3, 0.75, 1.27, 0.85, 1.22, 0.85, 1.56, 1.54, 1.69, 0.76, 0.99, 1.46, 1.8, 1.42, 0.91, 1.77, 1.38, 1.01, 1.67, 1.28, 1.29, 1.53, 0.82, 1.44, 0.83, 0.63, 0.69, 1.55, 1.29, 1.23, 0.91, 0.83, 1.46, 0.7, 1.06, 0.73, 1.64, 1.4, 0.64, 0.98, 1.62, 0.72, 1.74, 1.46, 1.06, 1.66, 0.63, 0.66, 1.68, 0.62, 0.85, 1.58, 1.76, 0.69, 0.74, 1.49, 1.17, 1.0, 1.21, 1.12, 1.53, 1.14, 0.81, 1.74, 1.38, 1.51, 0.7, 1.54, 2.39, 0.77, 0.67, 1.06, 0.58, 1.63, 1.48, 1.29, 0.66, 0.81, 1.2, 0.9, 0.76, 1.13, 0.65, 1.19, 0.66, 0.67, 0.98, 0.77, 0.84, 1.27, 0.85, 1.74, 1.48, 1.44, 1.2, 0.72, 1.64, 1.66, 1.04, 1.39, 1.22, 1.68, 1.71, 1.68, 0.65, 1.67, 1.57, 0.6, 1.63, 1.55, 1.71, 1.57, 0.74, 1.22, 1.3, 0.72, 0.67, 1.09, 0.7, 1.32, 0.68, 1.62, 1.21, 1.56, 0.72, 0.62, 1.7, 1.33, 1.0, 1.76, 0.68, 1.1, 1.7, 1.05, 0.62, 1.74, 0.84, 0.7, 0.75, 1.6, 0.48, 0.93, 2.02, 1.83, 0.83, 1.41, 0.47, 1.04, 0.96, 1.1, 0.72, 0.74, 0.96, 1.16, 0.63, 1.48, 1.25, 1.04, 0.95, 1.7, 1.65, 1.0, 1.48, 0.88, 0.74, 1.33, 0.95, 1.58, 1.11, 0.94, 1.52, 1.35, 1.15, 0.87, 1.58, 0.85, 0.97, 1.64, 1.32, 1.48, 0.73, 0.6, 1.25, 0.65, 1.65, 0.79, 1.56, 0.69, 1.08, 1.15, 0.83, 1.61, 1.32, 1.06, 0.66, 1.7, 1.14, 0.66, 0.89, 1.4, 1.51, 1.24, 1.71, 1.56, 0.89, 1.47, 1.36, 1.74, 1.57, 1.54, 1.62, 1.5, 1.38, 1.22, 1.69, 1.4, 1.53, 1.01, 1.2, 1.08, 0.95, 0.98, 1.25, 1.99, 1.26, 1.55, 0.65, 1.29, 0.67, 1.58, 1.2, 1.31, 0.58, 1.74, 0.61, 0.84, 1.55, 1.11, 0.66, 1.64, 1.16, 0.95, 0.64, 0.66, 1.18, 0.99, 1.83, 1.83, 0.76, 1.82, 0.66, 1.03, 1.74, 1.48, 0.61, 1.56, 0.94, 1.69, 1.13, 0.83, 1.39, 0.94, 0.63, 1.04, 0.73, 1.7, 0.77, 1.45, 0.82, 1.6, 1.45, 1.13, 0.65, 1.41, 0.8, 0.9, 1.27, 0.6, 0.64, 1.69, 1.58, 0.79, 0.69, 1.08, 0.75, 1.13, 1.22, 0.82, 1.18, 1.1, 0.66, 1.61, 1.18, 1.16, 1.4, 1.21, 1.32, 0.72, 1.32, 0.93, 1.55, 0.74, 0.38, 0.25, 0.45, 1.6, 2.0, 1.93, 0.6, 0.49, 0.52, 1.51, 0.51, 0.65, 0.75, 0.97, 1.63, 1.5, 0.87, 0.68, 0.64, 1.74, 0.72, 0.89, 1.18, 1.54, 1.28, 1.07, 1.34, 1.66, 0.81, 1.25, 1.36, 1.68, 0.94, 1.16, 1.3, 1.71, 1.0, 1.04, 0.95, 0.61, 1.37, 0.75, 1.3, 1.64, 1.64, 1.63, 1.6, 1.63, 1.59, 0.76, 1.71, 1.41, 1.28, 1.06, 1.66, 1.17, 0.94, 0.9, 1.64, 1.56, 1.14, 1.74, 1.1, 1.59, 0.73, 0.69, 1.11, 1.71, 1.37, 1.12, 1.71, 1.03, 1.62, 0.98, 1.56, 1.03, 1.18, 1.69, 0.67, 1.21, 1.1, 1.0, 1.68, 1.73, 1.14, 0.69, 0.76, 0.47, 0.71, 1.61, 1.26, 1.04, 0.91, 0.63, 0.9, 1.45, 0.86, 0.62, 1.66, 1.27, 1.52, 1.3, 1.54, 0.79, 1.64, 1.55, 1.35, 1.24, 1.09, 0.96, 1.67, 1.14, 1.78, 1.75, 1.75, 1.29, 0.7, 1.65, 0.66, 0.63, 1.47, 1.5, 0.79, 1.62, 1.27, 1.07, 1.02, 1.17, 0.68, 1.54, 1.15, 0.59, 1.55, 0.84, 0.45, 1.3, 1.21, 1.71, 1.46, 1.6, 1.36, 1.08, 0.96, 0.62, 0.95, 1.04, 0.84, 1.01, 0.95, 0.68, 1.58, 0.86, 1.3, 1.07, 0.59, 1.59, 1.69, 0.79, 1.0, 1.1, 1.66, 1.62, 0.78, 0.76, 1.14, 1.19, 2.34, 1.48, 1.42, 0.74, 1.28, 1.38, 1.58, 0.66, 0.96, 1.21, 1.61, 1.41, 0.87, 1.32, 1.21, 1.66, 0.93, 0.88, 0.73, 1.48, 1.62, 1.52, 1.17, 1.01, 0.87, 1.66, 1.73, 1.01, 1.54, 1.06, 1.23, 0.74, 1.14, 0.76, 1.22, 0.73, 1.13, 1.71, 1.42, 0.63, 1.43, 1.76, 1.38, 0.68, 0.97, 0.95, 1.52, 1.25, 1.29, 0.7, 0.63, 0.65, 0.79, 1.51, 1.56, 0.73, 1.26, 0.99, 1.14, 1.63, 1.16, 1.24, 0.8, 1.57, 0.97, 1.55, 1.08, 1.7, 0.69, 1.25, 0.61, 1.15, 1.54, 0.6, 1.4, 1.74, 1.76, 1.37, 0.54, 0.52, 2.1, 2.55, 0.67, 1.13, 1.51, 1.13, 0.66, 1.73, 1.65, 0.7, 1.11, 1.42, 0.63, 0.93, 1.61, 1.28, 1.08, 1.73, 0.87, 1.62, 1.76, 1.05, 1.7, 1.04, 0.8, 1.36, 1.1, 1.21, 0.76, 1.42, 1.33, 0.83, 0.77, 1.09, 1.73, 0.87, 1.47, 0.82, 0.87, 1.24, 1.63, 0.85, 1.03, 1.4, 1.71, 1.15, 0.63, 1.52, 0.94, 0.73, 0.89, 1.44, 1.03, 0.69, 0.67, 1.06, 1.64, 1.34, 1.09, 0.69, 0.68, 0.86, 1.59, 1.74, 1.01, 1.39, 1.66, 0.85, 0.83, 1.27, 1.34, 1.55, 1.34, 0.65, 0.97, 0.76, 1.7, 0.49, 0.98, 1.29, 2.21, 1.71, 1.38, 1.2, 0.64, 1.63, 1.69, 1.29, 0.63, 1.6, 0.95, 0.97, 1.25, 0.67, 1.63, 0.7, 1.66, 1.69, 1.75, 1.68, 1.5, 1.32, 1.37, 1.57, 0.86, 1.85, 0.84, 1.49, 0.68, 1.47, 1.61, 0.99, 0.85, 0.73, 1.41, 1.65, 0.66, 0.67, 0.87, 0.9, 0.83, 0.68, 0.97, 0.92, 0.87, 0.64, 0.65, 1.29, 0.84, 0.74, 0.58, 0.83, 1.14, 1.3, 1.48, 0.74, 1.09, 0.6, 0.71, 0.85, 0.62, 1.06, 1.7, 0.75, 0.98, 1.34, 1.65, 1.68, 0.66, 0.78, 0.72, 1.71, 0.68, 1.69, 0.89, 0.92, 0.84, 1.01, 0.92, 2.5, 2.17, 0.92, 1.27, 1.2, 1.3, 1.67, 0.98, 0.72, 1.3, 1.06, 1.58, 0.79, 1.72, 1.59, 1.6, 0.87, 1.23, 1.33, 0.96, 1.25, 1.38, 0.92, 1.41, 1.51, 1.05, 1.51, 0.7, 1.14, 1.7, 1.14, 0.57, 0.6, 0.54, 1.36, 1.66, 0.91, 0.79, 1.23, 0.62, 1.3, 1.36, 0.64, 0.64, 0.65, 1.63, 1.28, 1.45, 1.41, 1.72, 1.27, 0.68, 0.7, 0.63, 1.48, 0.77, 0.65, 0.54, 1.33, 1.68, 1.28, 1.55, 1.74, 0.83, 0.87, 1.29, 0.85, 1.24, 1.0, 1.52, 1.68, 1.58, 0.79, 0.71, 1.52, 2.16, 0.98, 1.31, 0.67, 1.09, 0.53, 1.63, 1.7, 1.21, 1.65, 1.25, 1.18, 1.35, 1.57, 1.29, 1.46, 0.63, 1.62, 1.38, 1.12, 1.6, 1.21, 0.99, 0.69, 1.0, 1.66, 1.13, 1.65, 1.61, 1.64, 0.78, 0.74, 1.39, 1.03, 1.08, 1.34, 0.83, 1.74, 1.64, 0.65, 1.52, 1.12, 1.33, 1.51, 1.5, 1.48, 1.03, 1.35, 1.54, 0.93, 0.9, 1.68, 1.33, 0.91, 1.29, 0.99, 1.08, 1.47, 0.73, 1.64, 0.78, 1.37, 1.4, 1.65, 0.6, 0.79, 1.69, 1.49, 1.02, 0.77, 1.4, 0.79, 1.12, 1.74, 1.76, 2.03, 0.96, 1.41, 1.36, 1.0, 1.64, 1.47, 1.6, 0.98, 0.67, 1.2, 0.71, 0.74, 1.3, 1.07, 0.99, 1.7, 1.72, 1.28, 0.78, 1.1, 1.49, 0.9, 1.64, 1.73, 1.19, 1.05, 1.06, 1.51, 0.66, 0.9, 0.84, 1.07, 0.69, 0.71, 1.67, 0.69, 1.31, 1.15, 0.66, 1.31, 1.73, 0.65, 1.52, 1.31, 0.97, 1.18, 0.75, 1.43, 0.93, 1.39, 1.46, 1.01, 1.31, 1.44, 1.63, 0.93, 0.64, 0.83, 1.52, 1.58, 1.46, 1.47, 0.69, 0.79, 0.84, 1.52, 0.72, 1.44, 1.27, 1.74, 1.4, 1.4, 1.61, 0.74, 1.11, 1.03, 1.74, 1.3, 1.71, 0.82, 0.87, 0.7, 0.77, 1.46, 0.56, 1.74, 1.07, 0.82, 1.61, 0.73, 1.35, 1.29, 1.29, 0.77, 1.25, 1.51, 0.9, 1.06, 1.71, 1.8, 1.46, 0.78, 1.2, 1.05, 1.72, 1.2, 0.9, 1.31, 0.58, 1.48, 0.66, 1.02, 1.45, 0.82, 0.58, 1.68, 1.14, 0.86, 1.35, 0.69, 1.2, 0.58, 1.2, 1.73, 0.57, 1.41, 1.32, 1.06, 0.88, 0.6, 1.6, 0.61, 0.85, 0.87, 1.57, 1.32, 1.4, 1.74, 1.25, 1.46, 1.04, 0.69, 1.31, 1.81, 1.54, 0.71, 1.77, 0.8, 0.88, 1.64, 0.99, 0.7, 0.98, 0.93, 0.66, 1.02, 0.66, 1.85, 1.52, 2.01, 1.3, 1.11, 0.66, 1.68, 1.03, 0.65, 0.68, 1.05, 0.77, 1.1, 1.53, 0.97, 1.46, 0.65, 1.33, 1.11, 1.09, 1.51, 1.39, 1.32, 0.86, 1.74, 0.85, 0.88, 1.11, 0.87, 1.64, 0.61, 0.9, 1.2, 1.65, 1.31, 1.63, 1.61, 0.99, 1.14, 1.7, 0.83, 0.95, 1.54, 1.27, 1.11, 1.63, 1.39, 1.4, 1.02, 0.84, 0.63, 1.44, 1.06, 1.38, 0.73, 1.69, 1.65, 1.33, 0.76, 1.35, 0.81, 1.73, 0.6, 0.77, 0.89, 1.46, 1.72, 1.65, 0.68, 0.67, 0.65, 1.64, 1.66, 1.44, 0.87, 1.71, 0.61, 0.72, 0.61, 1.45, 1.18, 2.08, 1.46, 0.92, 0.74, 0.65, 1.44, 1.68, 0.78, 1.49, 0.84, 1.35, 0.75, 0.97, 0.98, 0.71, 1.22, 1.47, 1.57, 1.42, 1.13, 0.69, 1.51, 0.68, 1.42, 1.71, 1.09, 0.75, 1.16, 1.25, 1.45, 0.76, 1.68, 0.95, 1.72, 1.33, 1.04, 1.53, 0.95, 0.94, 1.49, 0.96, 1.56, 0.62, 0.92, 1.21, 1.62, 1.65, 1.68, 0.64, 0.66, 1.21, 1.17, 1.36, 0.86, 0.68, 1.71, 1.31, 1.62, 1.19, 1.71, 0.71, 0.68, 0.9, 0.96, 1.34, 1.6, 0.87, 1.01, 1.42, 0.62, 0.67, 1.05, 1.69, 1.17, 0.72, 1.57, 0.64, 0.96, 0.81, 1.59, 1.92, 1.72, 0.87, 0.54, 0.97, 0.81, 1.69, 1.13, 0.97, 1.24, 1.28, 1.57, 1.66, 1.32, 1.6, 1.69, 0.87, 1.1, 1.44, 1.47, 1.4, 1.51, 1.33, 0.79, 0.75, 0.77, 1.6, 1.1, 1.46, 1.71, 1.45, 0.63, 1.04, 1.7, 1.29, 1.01, 1.3, 0.7, 1.41, 1.6, 1.45, 0.71, 1.44, 1.68, 1.47, 1.06, 1.12, 1.13, 0.65, 1.09, 1.66, 1.28, 1.28, 0.71, 1.39, 0.77, 0.71, 1.3, 1.67, 0.71, 0.74, 1.28, 1.56, 0.92, 0.91, 1.52, 1.43, 1.0, 1.77, 0.7, 1.3, 1.69, 1.54, 0.9, 0.61, 1.07, 0.7, 1.66, 0.71, 0.5, 0.9, 0.9, 1.92, 2.17, 1.53, 0.65, 1.25, 1.64, 1.13, 1.66, 1.03, 0.82, 1.49, 1.17, 1.58, 1.69, 0.69, 1.13, 0.9, 1.26, 1.72, 0.66, 0.68, 1.64, 0.81, 1.44, 0.86, 0.75, 1.54, 0.69, 1.15, 1.39, 0.65, 1.17, 0.88, 0.61, 0.72, 1.14, 0.68, 1.5, 1.2, 0.99, 1.64, 0.98, 0.84, 1.4, 0.73, 0.63, 1.34, 1.25, 0.81, 0.97, 1.02, 0.96, 1.43, 0.9, 1.35, 1.16, 1.33, 0.69, 1.58, 0.74, 0.94, 1.34, 1.65, 1.36, 0.77, 1.55, 1.09, 0.9, 1.23, 1.74, 1.76, 0.87, 1.61, 1.12, 0.64, 1.27, 1.43, 0.61, 1.32, 0.93, 1.21, 1.14, 0.97, 0.49, 2.21, 1.84, 1.47, 1.6, 0.85, 1.48, 1.55, 0.71, 0.6, 1.04, 0.64, 1.52, 0.59, 1.52, 1.51, 0.85, 1.45, 0.75, 1.53, 0.7, 0.93, 1.26, 1.03, 0.95, 1.64, 1.32, 0.91, 1.21, 0.79, 1.7, 1.4, 1.52, 1.22, 1.14, 1.14, 1.22, 1.32, 1.67, 1.06, 1.67, 1.3, 1.58, 0.82, 1.37, 0.6, 0.75, 0.95, 1.62, 1.65, 1.67, 0.82, 0.77, 1.13, 1.3, 1.58, 0.83, 1.67, 0.83, 1.28, 0.87, 1.08, 1.39, 1.53, 1.16, 1.47, 0.87, 0.81, 0.93, 1.72, 0.7, 0.63, 1.66, 1.14, 1.03, 1.43, 0.63, 0.72, 1.13, 1.28, 1.74, 2.48, 1.82, 1.03, 1.48, 1.56, 1.09, 1.3, 1.06, 1.36, 1.12, 1.58, 1.12, 1.63, 0.77, 1.01, 0.67, 1.15, 1.66, 1.68, 0.97, 1.72, 1.4, 1.4, 1.78, 1.35, 1.35, 1.46, 1.67, 1.66, 1.72, 1.64, 1.21, 0.98, 0.64, 1.7, 1.24, 0.97, 0.85, 1.56, 1.06, 1.58, 1.53, 1.37, 1.63, 0.69, 1.63, 1.36, 1.33, 1.59, 0.69, 0.91, 1.42, 1.05, 0.85, 0.63, 1.74, 0.64, 1.54, 0.68, 1.0, 1.6, 1.65, 1.75, 1.55, 0.77, 1.53, 0.83, 0.61, 1.73, 0.69, 0.85, 1.26, 1.42, 0.67, 1.45, 1.52, 1.12, 1.67, 2.12, 1.01, 0.72, 0.58, 1.51, 1.44, 1.25, 0.68, 1.58, 0.94, 0.98, 1.62, 1.44, 1.12, 1.6, 0.85, 0.62, 1.48, 1.47, 1.38, 1.24, 1.0, 1.45, 1.61, 0.87, 1.49, 1.46, 1.62, 1.18, 0.6, 1.08, 0.66, 0.83, 1.09, 1.22, 1.45, 0.84, 1.07, 1.69, 1.55, 1.3, 1.7, 0.81, 1.62, 0.77, 0.75, 1.73, 1.63, 1.63, 1.65, 0.59, 1.68, 0.73, 0.74, 0.68, 1.2, 1.28, 1.7, 1.38, 0.86, 0.67, 1.65, 0.68, 0.67, 0.69, 1.2, 0.65, 1.5, 1.14, 1.6, 0.83, 0.86, 1.43, 0.93, 0.85, 1.51, 1.72, 2.48, 2.08, 1.13, 1.33, 1.25, 1.2, 0.93, 0.84, 1.57, 1.46, 0.74, 0.92, 1.04, 0.82, 1.27, 1.52, 0.91, 1.11, 0.84, 0.85, 0.68, 1.6, 0.7, 1.46, 0.94, 1.81, 1.46, 0.81, 1.75, 1.64, 1.63, 1.68, 1.17, 0.73, 1.61, 1.64, 1.71, 1.45, 0.72, 1.27, 0.65, 1.5, 1.26, 1.14, 0.65, 1.65, 0.83, 0.9, 1.03, 0.68, 0.84, 1.43, 0.65, 1.36, 1.68, 1.62, 1.25, 1.26, 1.14, 0.6, 1.61, 1.71, 1.47, 1.74, 0.71, 1.72, 1.25, 1.69, 1.71, 1.27, 0.74, 0.61, 1.09, 1.09, 1.5, 0.63, 1.15, 2.5, 2.16, 1.44, 0.9, 0.84, 0.76, 1.28, 0.59, 1.11, 1.61, 1.68, 0.69, 0.71, 1.22, 0.87, 1.05, 0.63, 0.97, 1.51, 1.26, 1.17, 0.67, 1.4, 1.18, 1.3, 0.82, 0.92, 1.58, 0.75, 0.9, 1.71, 0.63, 1.13, 1.52, 1.25, 0.76, 1.42, 0.61, 0.81, 1.37, 0.75, 1.11, 0.78, 0.96, 0.94, 0.82, 0.91, 0.96, 1.47, 1.39, 1.15, 1.2, 1.44, 1.7, 0.74, 1.51, 0.67, 0.84, 1.36, 1.05, 0.99, 1.16, 1.52, 0.72, 0.61, 1.19, 0.63, 0.7, 0.68, 0.69, 0.58, 0.78, 1.47, 1.93, 2.02, 1.63, 0.97, 0.89, 1.17, 0.59, 0.7, 1.65, 1.1, 0.77, 1.06, 1.68, 1.39, 0.65, 0.8, 0.64, 0.99, 1.69, 1.07, 1.68, 0.83, 1.69, 1.65, 1.26, 1.77, 0.76, 0.71, 0.87, 1.49, 1.67, 0.97, 0.81, 0.57, 0.65, 1.55, 0.62, 1.27, 0.68, 1.57, 1.71, 0.62, 0.82, 1.16, 0.89, 1.61, 1.67, 1.14, 1.27, 1.12, 0.97, 1.45, 1.22, 0.66, 0.82, 1.02, 0.72, 0.99, 1.69, 1.38, 1.36, 1.45, 0.67, 1.63, 1.14, 0.63, 1.47, 1.31, 0.75, 1.61, 0.7, 0.78, 1.72, 1.51, 1.51, 0.48, 0.52, 2.59, 1.56, 0.83, 1.45, 1.3, 0.73, 0.98, 0.56, 0.7, 1.52, 1.18, 0.7, 0.6, 0.74, 1.41, 0.62, 1.57, 0.62, 0.84, 1.3, 1.68, 0.69, 1.61, 1.28, 1.22, 0.72, 1.14, 1.18, 1.36, 0.69, 1.68, 1.65, 0.77, 1.36, 1.67, 0.61, 0.59, 1.65, 0.74, 1.09, 0.85, 1.54, 0.8, 0.92, 0.93, 1.28, 1.66, 0.62, 1.33, 1.12, 1.46, 1.17, 0.59, 0.7, 1.0, 0.63, 0.9, 0.61, 0.74, 1.52, 1.64, 0.65, 1.5, 1.09, 1.75, 1.43, 1.76, 0.77, 0.99, 0.95, 0.64, 1.22, 1.68, 1.58, 0.82, 1.56, 0.58, 1.05, 1.14, 1.5, 2.61, 1.09, 1.09, 1.06, 1.26, 0.66, 0.75, 0.6, 0.65, 1.1, 1.52, 1.57, 1.7, 0.76, 0.87, 1.39, 0.66, 1.72, 1.71, 1.52, 1.53, 1.2, 1.76, 1.0, 1.84, 1.3, 1.76, 1.32, 1.62, 0.96, 1.53, 1.08, 0.96, 0.71, 0.71, 1.33, 0.64, 1.48, 0.61, 0.79, 1.12, 1.06, 1.59, 0.67, 0.63, 1.68, 1.58, 1.25, 0.77, 0.65, 1.47, 1.03, 0.95, 0.89, 1.67, 0.82, 1.17, 1.07, 1.31, 0.91, 0.82, 0.47, 1.5, 0.85, 0.76, 0.9, 0.73, 1.59, 0.77, 0.67, 0.92, 0.95, 0.88, 0.84, 1.07, 1.46, 0.69, 0.91, 0.77, 0.72, 1.82, 1.07, 0.9, 0.76, 1.24, 0.86, 0.63, 1.01, 1.4, 1.03, 1.14, 0.76, 0.97, 1.68, 0.87, 1.02, 1.69, 1.08, 1.74, 1.72, 1.64, 0.72, 0.73, 1.67, 1.39, 1.03, 1.19, 0.67, 1.55, 1.01, 1.62, 0.79, 1.52, 1.68, 1.01, 0.62, 1.48, 1.39, 1.31, 1.52, 0.75, 1.46, 0.63, 0.86, 0.87, 0.64, 1.26, 1.25, 1.23, 0.66, 0.66, 1.16, 0.88, 1.55, 1.6, 1.48, 1.62, 0.99, 0.74, 1.69, 1.3, 0.88, 0.72, 1.28, 0.91, 0.81, 1.02, 0.71, 1.59, 0.67, 1.05, 1.01, 1.04, 0.66, 1.47, 1.2, 2.24, 1.21, 0.56, 1.07, 1.24, 1.61, 1.35, 1.26, 1.48, 1.62, 1.66, 0.98, 1.69, 1.64, 0.8, 1.23, 0.66, 1.01, 1.08, 1.51, 1.08, 0.75, 1.7, 1.81, 1.72, 1.18, 0.99, 1.48, 0.64, 0.73, 0.92, 0.82, 0.67, 0.87, 1.26, 0.78, 0.75, 1.01, 1.51, 0.77, 0.74, 1.76, 1.11, 1.77, 1.29, 1.63, 1.52, 1.47, 1.54, 1.05, 0.88, 0.68, 1.4, 1.73, 0.78, 1.64, 1.26, 0.92, 1.7, 1.42, 1.43, 0.75, 1.53, 1.28, 1.75, 1.45, 0.91, 1.09, 0.97, 0.64, 1.22, 0.65, 1.55, 0.89, 1.57, 0.66, 1.17, 0.61, 0.72, 0.86, 2.45, 2.19, 0.75, 0.53, 1.0, 0.72, 1.09, 0.67, 0.8, 1.3, 1.03, 1.75, 1.09, 0.67, 1.46, 1.49, 0.84, 1.33, 1.22, 1.03, 1.09, 1.1, 1.46, 1.74, 1.47, 1.58, 1.29, 1.76, 0.67, 0.65, 0.7, 1.59, 1.06, 0.64, 0.65, 1.52, 1.64, 1.61, 0.97, 1.48, 1.56, 1.35, 0.73, 1.07, 1.69, 1.01, 1.57, 0.67, 0.71, 0.97, 1.68, 1.21, 0.59, 1.09, 0.9, 1.09, 1.49, 1.15, 1.3, 1.46, 0.71, 1.67, 1.46, 0.92, 1.27, 1.18, 1.13, 1.2, 0.68, 1.54, 1.28, 0.69, 1.39, 1.15, 0.72, 0.91, 1.11, 1.39, 0.78, 0.98, 0.58, 0.96, 0.77, 2.58, 1.42, 0.62, 0.52, 0.65, 0.97, 1.66, 0.64, 0.7, 0.63, 0.71, 1.46, 1.56, 1.73, 0.67, 1.27, 0.81, 1.52, 1.1, 1.2, 1.53, 1.08, 1.09, 0.69, 1.8, 0.94, 1.68, 0.72, 1.09, 1.13, 1.1, 0.66, 0.71, 1.07, 1.23, 0.68, 1.66, 1.27, 1.66, 0.62, 0.69, 1.24, 1.36, 0.78, 1.42, 1.64, 1.61, 1.19, 1.64, 1.59, 1.2, 0.84, 1.69, 1.36, 0.67, 1.73, 1.58, 1.19, 0.47, 0.59, 1.11, 1.62, 1.57, 1.34, 0.94, 1.58, 1.68, 0.65, 1.68, 1.56, 1.78, 0.73, 0.96, 1.19, 1.14, 0.83, 0.62, 0.9, 1.36, 1.63, 1.25, 0.36, 1.55, 2.17, 2.16, 1.34, 1.02, 0.95, 0.5, 0.74, 1.26, 1.62, 0.63, 1.06, 0.79, 1.25, 0.92, 1.28, 1.61, 1.24, 1.36, 1.55, 1.05, 1.64, 1.64, 1.72, 0.96, 1.47, 0.61, 1.19, 0.81, 1.68, 1.4, 0.7, 1.36, 0.53, 1.16, 1.53, 0.61, 0.81, 0.74, 0.86, 0.87, 0.75, 0.75, 1.34, 1.34, 1.26, 0.83, 1.17, 1.52, 1.44, 1.08, 0.7, 0.55, 1.45, 1.45, 0.65, 1.12, 1.64, 1.67, 1.7, 1.0, 1.18, 0.97, 0.8, 1.1, 1.46, 1.12, 0.65, 0.66, 1.02, 1.1, 1.11, 1.77, 1.26, 0.79, 1.72, 0.61, 0.42, 1.69, 1.94, 1.66, 1.34, 1.16, 0.85, 1.65, 0.96, 1.33, 0.73, 1.65, 0.67, 0.88, 0.76, 1.12, 0.87, 1.74, 1.58, 1.63, 1.26, 0.88, 0.7, 1.29, 1.73, 0.74, 0.92, 0.81, 0.78, 1.03, 0.77, 1.45, 1.65, 1.65, 1.13, 0.6, 0.7, 0.9, 1.0, 0.74, 0.6, 1.07, 0.85, 1.4, 0.62, 0.99, 1.0, 1.55, 0.86, 0.65, 1.42, 0.96, 1.22, 1.63, 1.67, 0.65, 0.63, 1.34, 1.3, 0.77, 0.57, 1.59, 1.66, 1.47, 0.79, 1.54, 1.1, 1.61, 1.37, 0.8, 1.36, 1.59, 1.57, 1.32, 1.3, 0.91, 1.39, 0.78, 1.66, 0.57, 0.56, 1.53, 1.42, 1.73, 0.98, 1.47, 0.99, 0.92, 1.48, 1.12, 1.17, 1.22, 1.09, 1.54, 1.69, 0.87, 1.02, 1.35, 1.54, 1.58, 0.87, 1.15, 1.24, 1.25, 1.53, 0.79, 0.78, 1.11, 1.36, 1.82, 0.76, 0.95, 1.41, 1.69, 1.11, 1.47, 1.57, 1.01, 1.05, 1.12, 1.45, 0.86, 1.49, 1.17, 0.95, 1.65, 1.4, 1.67, 1.77, 1.47, 1.26, 1.72, 0.8, 0.68, 1.41, 1.18, 1.59, 0.56, 1.43, 0.65, 1.69, 0.7, 1.03, 1.18, 1.09, 0.9, 0.75, 1.38, 1.1, 1.66, 1.67, 1.08, 0.94, 1.72, 1.33, 1.43, 0.63, 1.02, 0.89, 1.74, 0.97, 1.68, 1.49, 1.23, 1.24, 2.43, 1.73, 1.31, 1.11, 0.93, 1.4, 1.2, 1.24, 1.53, 1.18, 1.53, 1.03, 1.34, 0.88, 0.62, 1.48, 1.04, 0.73, 1.25, 1.25, 1.73, 1.65, 1.77, 1.46, 1.46, 1.42, 1.56, 1.5, 1.08, 0.94, 0.78, 0.64, 1.03, 1.1, 1.58, 0.85, 1.08, 0.78, 0.77, 1.65, 0.65, 1.19, 1.58, 0.57, 0.69, 1.05, 0.8, 0.73, 1.11, 0.56, 0.64, 1.29, 0.78, 1.41, 0.83, 1.78, 0.75, 1.44, 1.3, 0.82, 1.16, 1.15, 0.68, 1.17, 0.71, 1.72, 0.76, 1.57, 0.93, 0.87, 0.76, 0.62, 0.77, 0.66, 1.64, 0.57, 1.36, 1.63, 1.81, 1.48, 1.18, 1.09, 2.33, 1.17, 0.69, 1.28, 1.67, 0.5, 0.7, 1.57, 0.6, 0.98, 1.5, 1.32, 1.06, 0.81, 1.32, 1.49, 1.53, 0.65, 1.3, 1.83, 0.87, 0.95, 1.15, 1.83, 0.7, 0.75, 0.73, 1.59, 1.67, 1.57, 1.7, 1.63, 0.71, 1.58, 0.9, 0.68, 0.97, 1.13, 1.18, 0.64, 1.11, 1.16, 0.86, 0.91, 1.58, 1.22, 0.96, 0.63, 1.62, 0.85, 1.78, 0.87, 0.73, 1.68, 1.69, 0.6, 0.86, 1.73, 1.19, 1.62, 0.61, 0.71, 1.61, 1.57, 1.07, 1.46, 0.79, 1.59, 0.65, 1.55, 1.35, 1.41, 1.5, 1.48, 2.32, 1.27, 1.73, 1.49, 1.35, 0.73, 0.54, 0.62, 0.71, 0.59, 1.11, 1.35, 1.08, 0.81, 1.25, 1.1, 0.58, 1.23, 1.73, 1.14, 1.35, 1.53, 1.3, 0.76, 0.7, 0.66, 0.94, 1.71, 1.69, 1.58, 1.09, 1.52, 1.38, 1.35, 1.58, 0.8, 1.76, 0.69, 0.73, 1.81, 1.37, 1.43, 1.08, 1.19, 0.71, 1.67, 0.74, 1.1, 1.71, 1.69, 1.01, 1.36, 0.73, 1.56, 1.14, 1.23, 0.68, 1.67, 1.63, 1.35, 0.72, 1.16, 0.88, 0.83, 1.4, 1.24, 0.97, 1.42, 1.71, 0.43, 1.16, 0.56, 2.48, 1.5, 0.82, 1.39, 1.01, 0.82, 1.66, 1.68, 1.14, 0.66, 1.02, 1.08, 0.85, 1.4, 0.87, 1.51, 0.61, 1.73, 0.75, 0.69, 0.59, 1.38, 1.0, 1.42, 1.06, 1.78, 1.63, 0.87, 0.9, 1.17, 0.96, 0.78, 1.53, 0.57, 1.29, 0.98, 0.97, 0.72, 1.05, 1.51, 1.05, 0.89, 1.07, 0.72, 1.6, 1.67, 0.66, 1.49, 1.54, 0.81, 0.83, 1.51, 0.68, 0.97, 1.72, 1.52, 0.67, 0.62, 0.92, 0.94, 0.81, 1.44, 0.77, 1.65, 0.85, 0.65, 0.87, 1.31, 0.59, 0.78, 0.64, 1.63, 0.73, 0.76, 1.1, 2.23, 1.54, 1.59, 0.97, 0.67, 1.64, 1.53, 1.52, 0.87, 1.39, 1.12, 1.53, 0.65, 1.01, 1.37, 1.57, 1.1, 1.27, 1.08, 1.63, 1.48, 1.08, 1.41, 1.21, 0.77, 0.76, 1.75, 1.61, 1.44, 1.0, 1.67, 1.13, 1.12, 1.54, 1.01, 0.86, 1.34, 0.96, 1.5, 0.65, 1.23, 1.0, 1.23, 0.73, 1.25, 0.88, 0.72, 1.66, 0.86, 0.58, 0.56, 1.61, 1.3, 0.66, 1.68, 0.84, 1.18, 0.61, 1.62, 1.24, 0.67, 1.48, 1.47, 1.23, 0.99, 1.51, 0.9, 1.55, 0.5, 0.8, 1.46, 0.8, 0.46, 0.96, 0.79, 1.43, 2.42, 0.76, 1.23, 1.14, 1.02, 1.08, 1.44, 1.59, 0.74, 1.28, 0.85, 1.7, 1.17, 1.26, 0.76, 0.69, 0.74, 1.61, 0.67, 0.86, 0.89, 1.17, 1.5, 1.85, 0.66, 1.05, 1.1, 1.02, 1.37, 1.45, 0.79, 0.95, 1.51, 0.46, 0.71, 1.31, 0.66, 1.13, 0.97, 0.85, 0.77, 0.62, 1.64, 0.94, 1.15, 1.28, 1.51, 0.84, 0.66, 0.87, 0.59, 0.92, 0.67, 0.87, 0.81, 0.72, 1.6, 1.42, 1.29, 1.52, 1.49, 1.04, 1.3, 0.81, 1.72, 0.76, 1.18, 0.78, 0.6, 0.73, 1.11, 1.64, 1.08, 1.12, 1.09, 0.6, 0.75, 1.11, 1.59, 0.9, 1.19, 0.42, 1.03, 1.59, 1.17, 0.55, 1.59, 1.13, 1.59, 0.72, 0.97, 1.43, 1.67, 1.02, 0.89, 1.45, 0.86, 0.64, 1.7, 1.48, 1.77, 1.63, 1.3, 1.75, 1.43, 0.77, 1.69, 0.71, 1.51, 1.42, 1.03, 1.23, 1.67, 0.74, 1.56, 1.64, 0.6, 0.74, 0.99, 0.65, 0.61, 1.62, 1.54, 1.08, 0.64, 1.21, 1.28, 1.64, 0.9, 0.82, 1.79, 1.39, 1.72, 0.69, 1.72, 1.25, 1.59, 1.2, 1.29, 1.08, 1.21, 0.78, 0.84, 1.66, 0.67, 1.05, 1.44, 0.7, 1.11, 0.71, 1.56, 1.12, 1.56, 0.7, 1.7, 1.42, 0.78, 0.58, 1.12, 0.65, 1.54, 0.99, 0.62, 1.7, 1.17, 1.31, 1.73, 1.69, 0.63, 1.44, 0.69, 0.8, 1.48, 1.54, 1.67, 1.47, 1.13, 1.18, 1.76, 1.34, 1.73, 1.39, 0.7, 1.59, 1.27, 0.64, 1.06, 1.13, 1.75, 1.67, 0.86, 1.72, 1.22, 1.47, 0.76, 0.75, 1.3, 0.84, 0.7, 0.79, 0.88, 1.73, 1.45, 0.82, 1.59, 0.81, 1.75, 0.66, 0.65, 1.42, 1.49, 1.52, 1.08, 1.71, 1.62, 0.97, 1.25, 1.44, 1.04, 1.07, 0.87, 1.21, 0.84, 1.37, 1.74, 1.29, 1.56, 1.07, 1.35, 1.73, 0.94, 1.12, 1.0, 1.69, 1.86, 2.13, 0.81, 0.46, 0.77, 0.8, 0.61, 1.72, 1.18, 1.64, 1.73, 1.22, 1.04, 0.7, 1.72, 1.65, 1.71, 0.73, 0.86, 0.76, 0.82, 0.7, 1.39, 1.71, 1.74, 1.77, 1.08, 0.73, 1.44, 1.3, 1.25, 1.56, 0.58, 0.73, 0.96, 1.45, 0.72, 1.35, 1.24, 1.49, 0.73, 1.17, 1.65, 0.61, 1.49, 1.23, 0.7, 1.72, 1.21, 0.64, 1.06, 1.35, 1.19, 0.66, 1.53, 0.69, 1.68, 1.2, 1.39, 0.98, 1.75, 0.6, 1.6, 1.05, 0.63, 1.56, 0.66, 1.24, 0.98, 0.69, 1.25, 0.94, 1.59, 1.74, 1.7, 1.16, 1.36, 1.05, 1.24, 1.07, 1.63, 1.47, 1.05, 1.01, 2.35, 2.11, 1.17, 1.57, 1.03, 0.88, 0.69, 1.13, 1.16, 0.81, 1.23, 0.91, 1.42, 0.96, 0.82, 1.63, 1.57, 1.61, 0.76, 1.11, 1.66, 1.78, 1.37, 0.85, 0.91, 1.76, 1.75, 0.93, 1.54, 0.79, 1.03, 1.54, 1.35, 0.6, 0.73, 0.61, 0.94, 0.78, 0.85, 0.82, 1.7, 1.47, 0.87, 0.65, 0.82, 1.59, 1.04, 0.65, 0.65, 0.8, 1.7, 1.21, 1.67, 1.32, 0.69, 1.27, 1.7, 1.22, 1.12, 1.66, 1.69, 1.02, 1.27, 1.29, 0.68, 1.28, 0.87, 0.92, 0.61, 1.67, 1.09, 1.09, 0.88, 1.46, 0.93, 0.72, 0.75, 0.69, 0.86, 0.8, 0.85, 1.18, 0.81, 0.7, 0.58, 2.01, 2.21, 1.97, 0.98, 1.31, 0.85, 1.09, 1.4, 0.81, 1.61, 0.65, 0.67, 1.35, 0.68, 0.79, 1.24, 1.14, 1.12, 1.35, 0.85, 1.71, 0.77, 1.19, 0.67, 1.71, 1.63, 0.8, 0.79, 1.6, 0.92, 1.44, 1.28, 1.01, 1.44, 1.37, 1.27, 0.93, 1.61, 0.68, 0.62, 1.6, 0.65, 1.1, 0.8, 1.66, 0.65, 0.82, 0.66, 0.72, 0.76, 1.31, 0.71, 0.58, 0.72, 0.7, 0.6, 0.99, 0.6, 0.84, 0.73, 0.85, 1.66, 1.64, 1.47, 0.83, 1.53, 0.98, 0.86, 1.0, 1.41, 1.07, 1.75, 0.81, 0.65, 0.63, 0.89, 1.54, 0.66, 1.46, 1.0, 0.82, 0.51, 1.26, 1.87, 2.16, 1.49, 1.11, 0.58, 0.73, 1.61, 1.24, 1.44, 1.41, 1.56, 1.17, 0.73, 0.63, 1.08, 0.86, 0.93, 1.08, 1.25, 0.88, 1.73, 1.68, 1.32, 1.23, 1.03, 1.34, 1.17, 1.49, 1.05, 0.92, 1.6, 1.72, 0.91, 0.59, 0.76, 1.37, 0.91, 1.61, 0.97, 1.61, 1.31, 1.61, 1.16, 1.51, 1.17, 0.65, 0.86, 1.72, 1.49, 1.55, 1.34, 1.63, 1.3, 1.11, 1.42, 0.73, 0.93, 1.31, 1.46, 1.52, 0.66, 0.65, 1.53, 1.49, 1.46, 1.72, 1.24, 1.29, 0.96, 0.85, 0.77, 1.09, 0.93, 1.69, 1.31, 1.3, 1.67, 1.54, 1.66, 0.84, 1.5, 0.96, 1.88, 1.33, 1.68, 1.13, 0.81, 1.25, 1.13, 1.02, 1.71, 0.7, 0.76, 1.0, 0.61, 1.09, 1.56, 1.16, 0.86, 0.71, 0.76, 1.36, 1.32, 1.65, 1.02, 1.76, 1.37, 0.76, 0.74, 1.5, 0.62, 1.41, 1.32, 1.67, 1.3, 0.7, 1.33, 0.86, 0.82, 0.68, 1.08, 0.6, 1.39, 1.15, 0.96, 1.7, 1.35, 1.13, 1.52, 1.24, 1.1, 1.41, 0.68, 0.68, 1.16, 0.74, 1.22, 0.97, 1.03, 0.76, 1.36, 1.71, 1.66, 1.72, 1.33, 1.71, 0.63, 0.86, 1.73, 1.31, 0.72, 1.66, 1.44, 1.2, 1.66, 1.61, 0.63, 1.02, 0.67, 1.71, 1.65, 1.55, 0.72, 0.69, 1.14, 1.27, 1.92, 1.03, 0.55, 0.67, 1.08, 1.59, 0.79, 1.55, 1.62, 1.2, 1.45, 0.84, 0.9, 1.68, 1.54, 1.01, 1.54, 1.05, 0.95, 1.05, 0.73, 0.65, 1.8, 1.55, 1.05, 1.71, 1.72, 1.16, 1.7, 0.81, 1.09, 0.95, 1.2, 1.12, 0.93, 1.0, 0.96, 0.71, 1.12, 1.57, 1.66, 1.09, 1.02, 1.29, 0.69, 1.33, 0.77, 1.39, 1.4, 0.69, 0.86, 1.11, 1.69, 0.68, 0.66, 0.9, 0.81, 1.14, 1.18, 1.11, 0.72, 1.7, 1.1, 1.7, 1.61, 0.79, 1.56, 0.66, 1.36, 0.82, 0.51, 0.37, 0.83, 0.77, 0.74, 0.76, 0.71, 0.71, 1.2, 1.18, 1.36, 0.38, 0.83, 2.13, 1.32, 1.05, 1.23, 0.88, 1.37, 1.22, 0.98, 1.74, 1.09, 0.71, 0.99, 1.23, 1.16, 1.72, 1.39, 1.46, 0.61, 1.5, 1.61, 1.49, 1.72, 1.43, 1.41, 1.14, 1.63, 1.03, 1.18, 0.79, 1.7, 1.01, 1.01, 0.94, 1.3, 1.19, 1.03, 0.69, 1.69, 1.13, 1.19, 1.09, 1.64, 1.58, 1.11, 0.56, 0.96, 1.36, 1.13, 0.66, 0.98, 1.05, 1.64, 1.58, 1.2, 1.51, 1.6, 1.62, 1.69, 0.68, 1.15, 1.01, 1.64, 1.31, 0.9, 1.23, 0.81, 1.39, 1.58, 1.15, 0.95, 1.62, 0.78, 1.68, 1.65, 1.14, 0.93, 0.88, 1.51, 1.8, 2.44, 1.68, 0.93, 1.5, 0.81, 1.63, 1.66, 1.62, 0.65, 0.94, 1.15, 1.3, 1.17, 0.75, 0.93, 1.55, 1.64, 1.46, 1.74, 1.33, 1.02, 1.72, 1.65, 0.68, 1.46, 1.75, 1.54, 1.73, 1.57, 1.7, 1.69, 1.29, 1.21, 0.95, 1.38, 0.89, 1.3, 0.7, 0.95, 0.68, 0.68, 0.91, 0.53, 0.58, 1.11, 0.73, 0.88, 0.81, 1.01, 1.33, 1.01, 0.66, 1.44, 0.63, 1.61, 1.23, 1.08, 1.72, 0.78, 0.72, 1.47, 0.95, 1.19, 1.48, 0.75, 0.88, 1.39, 1.37, 1.29, 1.66, 1.4, 0.55, 1.54, 0.9, 2.44, 2.07, 1.59, 0.92, 0.97, 1.01, 1.4, 1.31, 1.69, 1.63, 1.11, 0.97, 0.75, 1.71, 0.68, 1.3, 0.92, 1.52, 0.78, 1.36, 1.17, 1.72, 0.74, 1.37, 1.69, 1.83, 1.72, 0.75, 1.45, 1.71, 1.64, 0.9, 1.27, 1.67, 1.17, 0.62, 0.68, 0.76, 0.66, 0.8, 1.12, 0.64, 1.35, 0.66, 0.66, 0.59, 1.3, 1.1, 1.14, 1.13, 0.76, 0.62, 1.3, 0.88, 1.08, 1.32, 1.06, 0.93, 1.26, 1.09, 0.94, 1.25, 0.86, 1.14, 1.68, 1.54, 1.52, 1.41, 0.65, 1.68, 1.39, 1.36, 1.17, 1.33, 0.67, 0.96, 2.22, 1.59, 1.24, 0.75, 1.02, 1.69, 1.33, 1.14, 0.82, 0.73, 1.64, 1.07, 0.71, 0.68, 0.86, 1.35, 1.51, 1.13, 0.66, 0.88, 1.04, 1.66, 0.75, 0.8, 1.44, 1.72, 1.37, 0.77, 0.71, 1.21, 1.66, 1.27, 0.8, 0.64, 1.18, 1.23, 1.59, 1.09, 0.92, 1.03, 1.28, 0.59, 0.7, 1.06, 0.61, 1.47, 1.7, 1.34, 1.28, 1.62, 1.72, 1.06, 0.86, 0.82, 0.96, 1.24, 1.68, 1.65, 0.72, 1.08, 0.62, 1.71, 1.5, 1.22, 1.43, 0.74, 1.68, 1.35, 1.55, 0.81, 0.78, 1.58, 0.9, 0.49, 1.49, 2.27, 1.76, 1.58, 0.89, 0.91, 1.03, 0.71, 1.09, 0.7, 0.76, 0.63, 1.72, 1.32, 1.37, 1.61, 0.7, 0.62, 1.46, 1.71, 0.74, 1.21, 0.82, 1.75, 1.77, 0.77, 1.31, 1.47, 0.73, 1.58, 0.9, 0.54, 1.26, 1.64, 1.23, 1.69, 0.7, 1.43, 1.67, 0.97, 1.7, 0.62, 1.47, 1.21, 1.12, 0.82, 0.94, 1.55, 0.87, 1.5, 0.78, 1.23, 1.32, 1.75, 1.05, 1.43, 0.84, 1.42, 0.85, 1.57, 1.49, 0.71, 1.43, 0.98, 1.16, 1.61, 1.5, 1.69, 0.95, 0.84, 0.93, 0.98, 1.78, 1.77, 1.72, 1.39, 1.44, 1.35, 1.69, 0.56, 1.4, 1.16, 1.71, 1.22, 1.47, 1.75, 1.65, 0.79, 1.55, 0.71, 1.27, 1.22, 1.03, 1.76, 1.63, 1.37, 1.53, 1.66, 0.98, 1.01, 0.67, 1.5, 1.6, 1.39, 1.47, 0.66, 1.06, 1.23, 0.61, 1.72, 0.74, 0.65, 0.82, 1.31, 0.78, 1.13, 0.89, 1.23, 0.6, 1.48, 0.72, 1.04, 1.07, 1.24, 0.98, 1.62, 0.79, 1.76, 1.75, 1.23, 1.2, 0.8, 1.4, 1.73, 1.54, 0.68, 1.43, 1.62, 0.64, 0.78, 0.81, 0.89, 2.11, 1.23, 0.65, 1.26, 0.98, 0.64, 0.68, 1.12, 1.31, 1.66, 1.53, 1.54, 1.66, 0.98, 1.65, 0.68, 1.23, 0.96, 1.7, 1.08, 0.64, 1.42, 1.04, 1.75, 1.46, 1.3, 1.41, 0.71, 0.69, 1.0, 1.19, 1.58, 0.58, 1.26, 1.71, 1.0, 1.7, 1.18, 0.65, 0.97, 0.94, 0.78, 0.98, 1.69, 1.09, 0.64, 1.27, 1.4, 1.4, 1.69, 0.63, 1.08, 0.73, 1.34, 1.15, 1.14, 0.7, 1.41, 1.06, 1.02, 0.86, 0.97, 1.56, 1.37, 1.04, 0.65, 1.09, 1.47, 0.63, 0.92, 1.12, 2.03, 1.56, 0.98, 1.6, 0.43, 1.25, 1.56, 0.95, 1.71, 0.94, 1.64, 1.35, 1.44, 1.67, 1.54, 1.69, 0.89, 1.7, 1.47, 0.66, 0.61, 0.9, 1.27, 0.68, 1.14, 0.73, 1.51, 1.28, 0.95, 1.08, 1.15, 1.19, 1.35, 1.36, 1.64, 0.89, 1.36, 1.44, 0.68, 0.59, 1.39, 0.62, 0.75, 1.57, 1.68, 0.68, 0.77, 0.75, 1.37, 0.79, 1.65, 1.7, 1.69, 0.71, 0.97, 1.68, 1.02, 0.64, 1.18, 0.68, 0.69, 1.76, 0.7, 0.71, 1.59, 0.98, 0.95, 1.46, 0.84, 0.77, 0.63, 0.62, 0.73, 1.31, 1.2, 1.12, 1.87, 1.55, 0.69, 0.55, 1.06, 0.65, 1.47, 1.5, 1.46, 1.41, 0.73, 1.54, 1.7, 0.76, 1.7, 1.73, 0.95, 0.88, 1.25, 0.62, 1.0, 1.42, 1.73, 1.46, 1.5, 0.79, 1.79, 0.81, 0.87, 0.6, 1.66, 1.0, 1.5, 1.06, 1.0, 1.58, 1.49, 1.29, 1.71, 0.77, 0.78, 1.48, 1.69, 1.18, 1.39, 0.93, 1.69, 1.35, 1.48, 0.83, 1.16, 1.06, 1.68, 1.12, 1.09, 0.98, 1.22, 0.72, 0.81, 1.33, 1.17, 0.59, 1.02, 0.96, 0.97, 1.72, 1.65, 1.68, 1.21, 0.79, 1.39, 1.28, 1.08, 0.66, 1.5, 1.37, 1.3, 1.22, 1.16, 1.28, 0.86, 2.43, 1.61, 1.29, 1.06, 0.56, 0.93, 0.69, 0.89, 1.34, 1.64, 0.62, 1.23, 0.6, 1.29, 1.16, 0.9, 1.73, 1.71, 1.38, 1.75, 0.88, 0.82, 1.09, 0.93, 1.48, 1.45, 0.73, 1.12, 0.62, 0.95, 0.65, 1.33, 0.81, 1.65, 1.21, 1.28, 0.75, 1.16, 0.6, 1.41, 1.26, 0.62, 0.72, 0.92, 0.89, 1.71, 0.76, 1.08, 1.15, 0.94, 1.32, 0.86, 1.22, 1.03, 0.6, 0.74, 1.2, 1.68, 1.72, 1.69, 1.67, 0.96, 1.68, 0.86, 1.08, 1.58, 1.65, 0.69, 1.26, 1.73, 1.4, 1.65, 1.67, 0.88, 1.65, 1.57, 0.7, 1.59, 1.41, 1.24, 0.88, 1.01, 0.97, 0.71, 1.31, 1.64, 1.04, 0.61, 0.64, 1.22, 0.71, 1.29, 1.66, 0.92, 1.69, 0.64, 1.33, 1.38, 1.27, 0.91, 1.23, 1.66, 1.55, 1.62, 1.09, 1.24, 0.97, 1.29, 0.77, 1.45, 1.47, 0.87, 0.76, 1.17, 1.51, 1.22, 1.31, 0.66, 0.71, 0.76, 1.07, 1.05, 1.37, 1.44, 1.54, 1.07, 0.86, 0.9, 1.48, 1.68, 0.9, 1.55, 1.66, 0.94, 1.52, 0.75, 1.67, 1.67, 1.44, 0.98, 1.43, 0.92, 1.55, 1.15, 1.71, 0.63, 0.8, 1.39, 1.02, 1.72, 1.6, 0.93, 0.83, 0.72, 0.79, 2.23, 2.15, 1.52, 1.4, 1.25, 1.17, 1.65, 1.17, 0.98, 1.16, 1.09, 1.08, 1.7, 1.44, 0.97, 1.49, 0.97, 1.44, 1.53, 1.48, 0.9, 1.71, 1.05, 1.49, 0.69, 1.74, 1.8, 1.05, 1.1, 0.63, 1.48, 1.7, 0.85, 1.43, 1.22, 1.18, 1.66, 0.97, 0.64, 0.67, 1.34, 0.6, 1.54, 1.33, 0.62, 1.14, 1.49, 1.7, 1.08, 1.45, 1.05, 0.92, 1.1, 0.99, 0.59, 0.75, 1.52, 0.9, 1.61, 1.68, 1.69, 1.7, 0.71, 1.2, 0.84, 0.61, 1.39, 1.18, 1.38, 0.63, 1.36, 1.51, 0.7, 0.87, 0.66, 0.79, 0.61, 1.29, 0.89, 1.52, 2.43, 1.98, 1.02, 0.67, 1.2, 1.52, 0.62, 1.09, 0.74, 0.58, 0.77, 1.44, 1.19, 0.69, 0.86, 1.52, 0.95, 0.79, 1.67, 0.6, 0.73, 0.68, 0.96, 1.75, 1.72, 1.1, 0.79, 1.59, 1.37, 0.76, 0.96, 1.44, 0.53, 1.0, 0.78, 0.66, 0.8, 1.08, 0.56, 0.7, 0.72, 1.36, 1.5, 1.24, 1.63, 1.56, 1.57, 1.53, 1.54, 1.25, 0.66, 0.68, 0.9, 1.56, 0.99, 1.04, 1.25, 1.2, 0.76, 1.17, 0.57, 0.81, 0.63, 1.58, 0.6, 1.6, 0.88, 1.55, 1.58, 0.57, 0.52, 1.38, 0.94, 1.19, 0.65, 1.32, 1.61, 1.5, 1.15, 0.43, 1.82, 1.53, 0.87, 0.53, 1.4, 0.56, 1.0, 1.58, 0.64, 0.99, 0.54, 1.43, 1.14, 1.62, 0.88, 1.01, 1.46, 0.95, 0.9, 0.55, 1.25, 0.77, 0.62, 0.94, 0.93, 0.92, 1.13, 0.83, 0.93, 0.83, 0.6, 1.1, 1.46, 1.63, 1.47, 0.55, 1.38, 1.61, 1.45, 0.93, 1.14, 0.94, 0.87, 1.27, 0.77, 0.55, 0.59, 1.25, 1.12, 1.25, 1.42, 0.93, 1.02, 0.65, 1.06, 0.92, 1.6, 1.7, 0.6, 1.27, 1.09, 1.51, 1.26, 1.04, 1.4, 0.84, 1.25, 1.17, 1.67, 1.61, 1.07, 0.8, 0.61, 0.79, 1.5, 1.64, 0.64, 0.71, 2.05, 1.74, 1.72, 0.95, 1.37, 0.67, 1.58, 1.52, 1.4, 0.88, 1.38, 1.63, 0.65, 1.35, 0.83, 1.66, 1.24, 1.71, 1.68, 0.98, 1.54, 1.04, 0.93, 1.21, 1.42, 1.52, 1.27, 1.07, 0.84, 1.69, 0.64, 1.52, 0.86, 1.37, 1.35, 0.66, 0.79, 0.6, 0.92, 1.11, 1.2, 0.67, 1.69, 1.55, 0.62, 1.04, 1.57, 1.69, 1.27, 1.54, 1.58, 1.25, 1.36, 0.68, 1.39, 0.74, 1.71, 0.72, 1.3, 0.7, 1.52, 1.33, 1.62, 1.18, 1.65, 1.74, 0.93, 0.72, 0.64, 0.76, 0.69, 0.67, 0.72, 2.17, 2.28, 1.76, 0.61, 0.55, 1.53, 0.81, 1.13, 1.39, 0.82, 1.24, 1.5, 1.08, 1.17, 0.78, 1.4, 1.65, 1.13, 0.93, 1.17, 1.32, 1.29, 1.06, 1.37, 0.93, 1.56, 1.6, 1.4, 1.36, 1.67, 0.61, 1.09, 0.82, 1.17, 0.69, 1.43, 0.73, 1.73, 1.48, 1.71, 1.13, 1.7, 1.61, 0.6, 1.47, 1.56, 1.67, 1.68, 0.65, 0.85, 1.39, 1.71, 1.45, 0.72, 1.14, 0.91, 0.93, 1.73, 0.98, 1.0, 0.98, 0.93, 1.4, 1.06, 0.87, 0.76, 0.68, 1.05, 1.28, 1.08, 1.31, 1.04, 0.49, 1.58, 1.98, 1.78, 0.86, 0.68, 0.59, 0.77, 1.44, 1.51, 1.21, 0.65, 1.72, 0.86, 1.35, 1.21, 1.08, 1.17, 0.87, 1.08, 1.4, 1.65, 1.33, 0.74, 1.48, 0.75, 1.76, 1.37, 1.17, 1.72, 1.49, 1.35, 1.6, 0.77, 0.65, 0.73, 0.82, 1.51, 1.3, 1.64, 1.52, 0.81, 1.23, 0.63, 1.35, 0.65, 0.65, 1.5, 0.84, 1.22, 1.13, 0.64, 1.58, 0.99, 0.84, 0.91, 1.34, 1.71, 1.12, 0.64, 1.67, 0.67, 0.72, 0.76, 1.26, 1.64, 0.72, 0.68, 0.82, 1.33, 1.48, 0.99, 1.09, 1.42, 0.51, 1.15, 1.09, 2.2, 0.93, 0.76, 0.96, 1.66, 1.57, 1.17, 1.61, 1.57, 0.9, 0.74, 1.1, 1.43, 1.06, 1.11, 0.85, 1.35, 1.66, 1.41, 1.53, 1.49, 1.56, 1.17, 0.97, 1.67, 0.93, 1.15, 0.68, 0.77, 0.72, 0.61, 0.68, 1.2, 1.62, 0.7, 1.7, 0.88, 1.62, 1.69, 0.9, 1.64, 0.94, 0.49, 1.37, 0.74, 1.72, 1.31, 1.67, 0.97, 1.68, 0.83, 0.83, 0.72, 1.31, 0.71, 1.47, 1.03, 0.69, 0.62, 1.49, 1.09, 0.98, 1.11, 1.08, 1.35, 1.17, 0.85, 1.03, 1.42, 1.61, 1.17, 1.01, 1.62, 1.64, 1.65, 1.0, 1.02, 1.02, 1.26, 0.56, 1.59, 2.43, 1.26, 0.94, 1.59, 1.58, 0.54, 1.44, 1.18, 1.65, 0.85, 1.26, 0.91, 1.67, 0.83, 1.48, 1.57, 1.3, 0.89, 1.75, 0.83, 0.97, 1.32, 1.12, 1.81, 1.51, 0.8, 1.54, 1.08, 1.69, 0.69, 0.66, 1.1, 0.64, 1.42, 0.97, 0.84, 1.12, 1.49, 1.57, 0.75, 0.87, 0.68, 0.69, 0.67, 1.52, 0.73, 0.87, 0.66, 1.66, 0.75, 1.2, 1.44, 1.08, 0.72, 0.86, 1.04, 0.86, 0.82, 1.18, 0.9, 1.14, 1.48, 1.68, 1.27, 0.83, 1.33, 1.41, 1.08, 1.58, 1.18, 0.73, 1.65, 1.63, 1.64, 0.82, 1.52, 1.09, 1.59, 1.63, 0.96, 1.14, 1.16, 1.62, 0.95, 1.7, 2.47, 1.28, 0.96, 1.07, 1.59, 0.75, 1.22, 1.61, 1.31, 0.67, 1.11, 0.73, 1.32, 1.52, 1.05, 0.66, 0.57, 0.79, 1.19, 0.83, 1.29, 0.67, 0.98, 1.71, 1.6, 1.4, 1.45, 0.88, 1.79, 1.25, 0.85, 1.65, 1.65, 1.26, 1.54, 1.59, 1.07, 0.91, 1.62, 0.65, 1.61, 1.77, 1.67, 0.91, 1.44, 1.04, 1.71, 0.59, 1.77, 0.7, 0.78, 1.67, 0.69, 1.12, 1.08, 0.94, 0.92, 0.93, 1.25, 0.58, 0.6, 1.04, 1.34, 0.62, 1.21, 0.98, 1.38, 1.22, 1.75, 0.62, 1.73, 1.17, 0.89, 0.87, 1.07, 1.18, 1.1, 1.14, 1.01, 1.15, 2.08, 2.03, 1.65, 1.32, 0.55, 1.61, 1.75, 0.62, 1.74, 1.37, 1.47, 1.68, 1.7, 0.92, 0.64, 0.91, 1.2, 0.65, 1.14, 0.99, 1.0, 0.83, 0.98, 0.71, 1.15, 1.8, 1.02, 1.19, 1.23, 0.79, 1.23, 1.65, 1.74, 1.72, 1.48, 1.35, 1.52, 0.95, 1.07, 1.2, 1.62, 0.85, 0.65, 1.42, 1.19, 1.42, 1.3, 1.41, 1.44, 1.72, 0.85, 1.36, 0.81, 0.77, 1.78, 1.76, 1.36, 0.87, 1.04, 1.74, 1.25, 1.05, 1.75, 1.05, 1.76, 1.22, 0.81, 1.38, 1.75, 0.71, 1.59, 1.72, 0.68, 1.76, 1.65, 0.89, 0.66, 1.19, 1.92, 1.74, 0.81, 0.47, 0.54, 1.56, 1.38, 1.65, 0.75, 0.6, 1.52, 1.53, 0.94, 1.63, 0.83, 0.82, 1.35, 0.87, 0.78, 0.66, 0.71, 0.92, 1.72, 1.72, 1.62, 1.58, 0.96, 1.38, 1.24, 0.64, 1.6, 0.8, 0.92, 0.74, 0.74, 0.7, 1.61, 1.22, 1.64, 1.2, 1.19, 1.05, 0.76, 0.71, 0.88, 1.28, 0.87, 1.63, 0.93, 1.6, 1.04, 1.59, 0.79, 0.77, 1.68, 1.12, 1.28, 0.72, 1.34, 0.92, 1.25, 1.39, 0.81, 1.77, 1.2, 0.57, 1.54, 0.61, 1.32, 1.52, 1.7, 0.64, 1.03, 1.73, 0.94, 0.86, 0.84, 0.8, 2.01, 1.16, 1.57, 0.57, 0.67, 0.72, 0.71, 1.12, 0.89, 1.04, 0.88, 0.65, 0.68, 1.61, 0.6, 1.72, 1.47, 1.13, 1.76, 1.66, 0.88, 0.92, 0.92, 1.02, 0.69, 0.9, 0.91, 1.72, 1.48, 1.61, 1.32, 1.76, 0.7, 1.52, 1.59, 0.85, 0.72, 0.78, 1.63, 1.23, 1.0, 0.9, 0.86, 0.58, 1.82, 0.91, 1.28, 0.98, 1.8, 1.41, 1.44, 0.55, 1.76, 0.72, 0.61, 0.98, 1.07, 0.71, 1.7, 0.93, 0.66, 0.61, 1.12, 0.94, 1.55, 0.71, 1.01, 1.77, 0.59, 1.71, 1.62, 1.41, 1.03, 1.76, 0.81, 1.31, 1.53, 0.41, 1.27, 1.42, 2.26, 1.62, 1.59, 1.57, 1.2, 0.65, 0.58, 0.96, 1.61, 1.72, 1.5, 1.3, 1.64, 1.59, 1.4, 1.25, 1.01, 1.39, 1.5, 1.74, 1.35, 1.69, 1.02, 0.85, 1.49, 0.83, 0.71, 1.63, 0.66, 1.69, 1.05, 1.65, 0.86, 0.69, 0.78, 1.67, 1.22, 1.23, 0.65, 0.79, 0.86, 1.66, 1.27, 1.51, 1.29, 1.78, 0.69, 1.52, 0.98, 0.72, 1.09, 1.73, 0.85, 1.62, 0.87, 1.45, 0.66, 0.66, 0.61, 1.68, 0.92, 1.69, 1.12, 0.76, 0.91, 1.64, 1.67, 1.07, 1.12, 1.44, 1.06, 0.96, 0.87, 1.46, 1.15, 1.59, 1.32, 0.86, 0.68, 2.37, 1.72, 1.42, 0.94, 1.61, 1.13, 1.45, 0.99, 0.98, 0.66, 1.14, 1.35, 1.74, 1.18, 1.04, 1.44, 1.47, 1.16, 1.05, 1.05, 0.79, 1.77, 1.34, 1.79, 1.77, 1.3, 0.99, 1.49, 1.76, 1.11, 0.93, 0.64, 0.96, 0.93, 1.67, 1.4, 0.71, 0.87, 1.37, 1.42, 1.04, 1.6, 1.17, 0.68, 1.3, 1.06, 1.63, 1.26, 0.65, 0.65, 1.4, 0.68, 0.81, 0.65, 1.65, 1.54, 1.64, 1.52, 0.64, 1.65, 0.74, 1.51, 1.47, 0.7, 0.62, 1.17, 1.25, 0.69, 1.35, 0.68, 0.95, 0.83, 1.22, 0.63, 0.68, 1.54, 0.87, 1.1, 1.94, 2.44, 1.29, 1.13, 1.42, 0.68, 1.71, 0.97, 1.65, 1.66, 1.46, 1.69, 0.87, 1.34, 1.59, 1.14, 1.59, 1.7, 1.48, 0.75, 0.85, 0.75, 1.02, 1.44, 0.74, 1.75, 1.15, 1.53, 0.98, 1.42, 0.7, 1.68, 0.74, 0.8, 1.63, 1.31, 0.63, 1.67, 1.73, 1.15, 1.36, 0.65, 0.83, 1.02, 1.67, 1.29, 1.33, 0.68, 1.32, 1.74, 1.17, 1.05, 0.91, 1.69, 1.52, 0.83, 0.81, 0.64, 0.74, 1.5, 0.65, 0.63, 1.46, 0.92, 1.69, 0.7, 1.68, 0.66, 1.01, 1.29, 0.78, 0.63, 0.81, 0.94, 1.54, 1.6, 0.91, 1.51, 1.74, 2.44, 1.78, 1.7, 1.02, 1.21, 1.58, 1.29, 0.92, 1.17, 1.69, 0.85, 0.79, 1.12, 1.28, 0.67, 0.68, 0.67, 1.69, 1.13, 0.98, 0.72, 0.86, 1.4, 1.83, 0.81, 0.71, 1.0, 1.06, 0.94, 1.09, 0.69, 1.49, 0.59, 0.9, 0.78, 1.32, 1.24, 1.69, 1.27, 1.66, 1.09, 1.68, 1.31, 1.68, 1.18, 1.71, 1.68, 0.93, 0.99, 0.73, 1.26, 0.71, 1.08, 1.0, 1.05, 1.35, 0.63, 1.59, 1.26, 1.44, 1.53, 0.87, 1.69, 1.28, 1.37, 1.57, 1.62, 0.68, 1.63, 0.79, 0.63, 1.58, 1.22, 1.02, 0.68, 1.56, 0.84, 1.23, 0.92, 1.57, 0.5, 1.54, 2.53, 0.88, 1.46, 0.69, 1.07, 1.7, 0.94, 0.62, 1.49, 1.33, 1.53, 0.9, 0.97, 1.65, 1.35, 1.65, 1.09, 0.98, 0.86, 1.72, 0.88, 1.06, 1.46, 1.04, 1.08, 0.75, 1.02, 1.7, 1.34, 1.72, 0.84, 0.66, 1.19, 1.44, 0.77, 1.66, 0.92, 1.15, 0.81, 0.82, 1.22, 1.15, 1.14, 1.57, 1.19, 0.87, 1.53, 1.12, 1.21, 0.85, 0.79, 1.56, 1.57, 1.01, 1.22, 0.66, 0.64, 1.04, 1.17, 1.66, 0.65, 1.22, 0.83, 0.97, 0.65, 1.56, 0.63, 1.09, 1.7, 1.1, 1.56, 1.53, 0.88, 1.12, 1.68, 1.32, 1.66, 0.69, 1.39, 0.61, 1.19, 0.78, 2.35, 1.35, 1.79, 1.38, 1.52, 0.77, 0.82, 1.11, 1.36, 0.95, 1.14, 1.25, 0.93, 1.06, 1.04, 0.79, 0.68, 1.47, 0.8, 0.74, 1.65, 1.45, 1.56, 0.65, 1.4, 1.57, 1.44, 1.84, 0.73, 1.02, 1.11, 0.82, 1.49, 1.63, 1.66, 0.77, 1.15, 1.21, 0.73, 0.98, 0.73, 1.47, 0.64, 1.18, 0.6, 0.64, 1.26, 1.35, 1.71, 1.35, 1.6, 1.35, 1.28, 0.84, 0.83, 1.66, 0.67, 1.53, 0.91, 0.65, 1.33, 1.37, 0.61, 1.43, 1.74, 1.35, 1.09, 0.65, 0.6, 1.4, 1.51, 1.3, 1.66, 1.65, 1.51, 1.66, 1.57, 0.98, 1.12, 1.58, 2.39, 1.76, 1.62, 0.67, 1.42, 0.72, 0.76, 0.99, 1.71, 1.58, 0.94, 1.31, 1.51, 1.3, 1.5, 0.62, 1.1, 0.74, 0.69, 0.73, 1.43, 1.36, 1.34, 1.58, 0.98, 1.21, 0.76, 0.69, 1.11, 1.28, 1.69, 1.15, 1.34, 1.09, 0.89, 1.6, 1.02, 0.63, 0.65, 0.73, 1.47, 0.81, 0.93, 1.59, 0.72, 0.7, 0.62, 1.46, 1.01, 0.67, 0.99, 0.85, 1.21, 1.29, 0.65, 0.69, 1.3, 1.23, 1.13, 1.58, 1.39, 1.1, 1.28, 1.19, 1.27, 1.33, 0.69, 0.64, 0.83, 1.54, 0.76, 0.64, 0.77, 0.65, 1.1, 0.86, 0.75, 1.74, 0.87, 0.54, 0.51, 1.3, 2.03, 1.69, 1.65, 0.95, 0.85, 1.64, 0.9, 1.43, 1.54, 0.76, 0.8, 1.51, 0.83, 0.79, 1.19, 0.77, 1.64, 1.05, 1.37, 1.61, 1.72, 0.98, 1.62, 1.81, 0.83, 0.75, 0.68, 1.58, 1.7, 0.76, 1.56, 0.64, 0.63, 0.85, 0.61, 0.96, 0.77, 0.85, 1.6, 1.25, 1.27, 0.21, 1.07, 1.34, 1.18, 0.88, 0.61, 1.35, 1.14, 0.98, 0.96, 1.65, 1.65, 0.84, 0.61, 1.25, 0.47, 1.53, 1.5, 1.02, 1.03, 1.68, 1.2, 0.63, 1.62, 1.13, 1.63, 1.63, 1.19, 1.39, 0.71, 1.3, 1.01, 1.41, 1.41, 0.73, 0.99, 0.95, 1.11, 0.62, 1.61, 2.25, 0.78, 0.65, 1.23, 0.64, 1.06, 1.61, 1.44, 1.7, 1.53, 0.56, 0.65, 1.05, 1.7, 0.73, 0.92, 0.85, 0.96, 0.77, 0.67, 1.16, 1.15, 1.52, 0.74, 1.23, 1.33, 0.71, 1.18, 0.75, 0.82, 0.82, 1.6, 1.54, 1.27, 0.55, 0.31, 1.44, 1.37, 0.79, 1.52, 1.7, 1.07, 0.6, 1.45, 1.39, 1.7, 1.65, 1.48, 0.97, 0.63, 1.56, 0.57, 0.62, 1.15, 1.37, 1.06, 0.56, 1.61, 1.61, 0.64, 1.68, 1.25, 0.64, 0.74, 0.62, 0.68, 0.6, 1.53, 1.33, 1.69, 1.32, 0.48, 0.85, 1.65, 2.34, 0.74, 1.16, 0.97, 0.8, 1.57, 1.57, 1.09, 0.3, 1.49, 0.22, 0.9, 1.31, 1.56, 1.07, 1.22, 1.34, 1.44, 1.72, 1.24, 1.18, 0.83, 1.83, 1.65, 1.72, 1.12, 1.32, 1.34, 1.76, 1.35, 1.17, 0.47, 0.46, 1.17, 1.62, 1.37, 1.3, 0.37, 1.49, 1.24, 1.09, 0.88, 1.27, 0.69, 1.14, 0.87, 1.55, 1.24, 1.07, 0.94, 0.78, 0.67, 0.61, 0.79, 1.52, 1.01, 0.64, 0.5, 0.58, 1.2, 0.75, 1.51, 1.72, 0.71, 0.75, 1.81, 0.95, 0.6, 1.41, 0.64, 1.54, 1.13, 1.81, 0.91, 1.5, 1.1, 1.74, 2.06, 2.46, 1.12, 0.67, 1.5, 0.78, 0.94, 1.08, 0.59, 1.1, 1.47, 1.72, 0.78, 0.96, 1.1, 1.69, 1.6, 1.51, 0.88, 1.37, 1.69, 1.35, 1.6, 1.56, 0.69, 1.0, 1.8, 0.49, 1.07, 0.68, 0.84, 0.65, 0.66, 0.79, 0.78, 0.8, 1.34, 0.7, 0.65, 1.49, 1.52, 1.63, 1.58, 1.67, 1.32, 0.84, 1.25, 0.81, 1.72, 1.21, 1.19, 0.39, 1.05, 1.29, 1.35, 0.44, 0.62, 1.13, 0.59, 0.96, 0.73, 0.59, 0.96, 0.52, 1.58, 1.48, 0.58, 0.84, 0.97, 1.8, 0.92, 1.07, 0.86, 0.75, 1.26, 1.63, 1.31, 2.37, 2.54, 1.82, 1.08, 1.49, 0.87, 0.86, 1.43, 1.02, 1.64, 1.36, 1.73, 1.71, 0.62, 1.36, 1.52, 1.04, 0.76, 1.78, 1.48, 0.76, 0.87, 1.32, 1.03, 1.09, 1.01, 1.79, 1.39, 1.52, 1.11, 0.95, 1.58, 1.28, 0.97, 1.42, 0.68, 1.74, 0.79, 0.99, 1.09, 1.12, 0.76, 1.18, 1.0, 1.49, 0.7, 0.64, 1.41, 1.59, 1.1, 0.68, 0.99, 0.83, 1.55, 1.16, 1.32, 1.77, 1.51, 0.96, 1.67, 0.83, 1.15, 0.78, 1.68, 1.13, 0.81, 0.91, 1.42, 0.68, 0.53, 0.83, 1.05, 1.79, 1.67, 0.66, 0.48, 1.59, 0.75, 1.48, 0.87, 1.47, 0.84, 0.76, 0.66, 1.67, 0.89, 1.74, 0.87, 1.74, 1.48, 1.66, 0.74, 0.8, 0.76, 1.62, 1.26, 0.77, 1.07, 1.71, 1.49, 1.31, 0.73, 0.76, 1.36, 1.39, 0.72, 0.97, 1.08, 0.86, 0.84, 1.39, 1.4, 1.07, 1.2, 0.65, 1.63, 0.96, 0.64, 0.89, 0.72, 1.03, 1.17, 1.56, 0.7, 0.66, 0.69, 1.83, 1.66, 0.69, 0.65, 1.24, 0.83, 0.66, 0.6, 1.44, 1.55, 0.95, 1.26, 0.71, 1.12, 2.38, 1.6, 1.04, 0.99, 1.15, 1.23, 1.7, 1.63, 1.7, 1.75, 1.49, 1.21, 0.9, 0.96, 0.64, 1.67, 1.37, 0.76, 0.8, 0.78, 0.55, 0.75, 0.96, 1.67, 0.7, 1.51, 0.71, 1.78, 1.13, 0.5, 1.09, 0.54, 1.04, 1.6, 0.76, 0.94, 1.58, 1.69, 1.2, 1.76, 1.65, 0.98, 1.67, 1.62, 0.68, 1.26, 0.99, 0.77, 0.88, 1.12, 1.53, 1.08, 0.75, 1.16, 0.83, 0.69, 1.68, 1.48, 0.84, 1.75, 0.69, 1.64, 1.33, 1.14, 0.63, 0.87, 1.87, 1.51, 1.27, 0.68, 1.48, 1.32, 1.6, 1.46, 0.87, 1.49, 0.69, 0.97, 1.56, 1.52, 1.19, 0.63, 1.14, 1.16, 0.79, 0.95, 0.87, 1.36, 1.23, 1.19, 1.27, 1.2, 1.07, 1.21, 1.35, 0.77, 1.74, 1.25, 1.46, 1.63, 1.63, 0.72, 1.0, 1.12, 1.53, 0.74, 1.73, 1.62, 0.43, 1.52, 1.46, 0.9, 0.93, 1.38, 1.19, 0.48, 0.52, 1.47, 0.63, 0.57, 0.7, 1.54, 0.82, 0.86, 0.48, 0.97, 0.42, 0.68, 0.91, 0.68, 1.71, 1.26, 1.73, 1.65, 0.68, 1.05, 1.57, 2.61, 0.75, 0.55, 0.57, 1.55, 0.71, 1.5, 1.74, 0.76, 1.09, 0.64, 1.34, 1.32, 1.92, 1.04, 1.28, 1.11, 0.81, 1.8, 1.61, 1.09, 0.78, 0.84, 1.9, 1.72, 1.45, 0.88, 1.79, 1.31, 0.87, 0.74, 0.84, 0.71, 0.82, 0.71, 1.28, 0.65, 1.5, 0.7, 1.43, 0.84, 1.84, 1.14, 0.84, 1.04, 1.2, 1.14, 1.08, 0.69, 1.77, 0.89, 1.12, 1.35, 1.03, 0.66, 1.74, 0.64, 0.96, 0.69, 1.04, 1.08, 1.17, 1.55, 0.78, 0.8, 0.78, 1.06, 1.49, 1.58, 1.56, 0.83, 0.65, 1.17, 1.11, 0.65, 1.55, 1.74, 2.13, 1.15, 0.88, 0.93, 1.37, 1.25, 1.23, 0.62, 1.74, 0.65, 1.26, 1.69, 1.77, 0.89, 0.64, 0.72, 0.89, 1.29, 1.78, 0.67, 1.33, 0.96, 0.99, 1.89, 0.77, 1.52, 1.63, 0.81, 1.73, 1.35, 0.71, 1.65, 0.85, 1.17, 1.25, 1.44, 1.44, 0.93, 1.63, 1.09, 1.1, 0.73, 0.66, 1.64, 0.8, 1.31, 1.19, 1.05, 1.3, 1.36, 0.69, 1.31, 0.68, 0.87, 0.65, 0.64, 0.9, 1.51, 1.52, 0.8, 1.55, 1.0, 0.63, 1.35, 1.38, 0.75, 1.53, 0.83, 0.7, 0.85, 1.81, 1.66, 1.36, 1.54, 1.64, 0.96, 1.08, 1.64, 1.0, 1.68, 1.49, 1.3, 1.54, 2.6, 2.11, 0.98, 0.54, 1.28, 1.33, 1.7, 1.66, 1.42, 1.55, 0.67, 1.6, 0.67, 1.4, 0.75, 0.63, 0.93, 1.24, 1.67, 1.73, 1.29, 1.31, 0.81, 1.43, 1.25, 1.42, 0.74, 0.65, 0.57, 0.91, 0.71, 1.54, 0.62, 0.78, 0.87, 1.65, 0.68, 0.73, 1.31, 0.88, 1.06, 0.77, 1.04, 0.77, 1.65, 1.0, 1.1, 1.01, 1.14, 1.04, 0.78, 1.0, 1.12, 1.55, 1.52, 1.33, 1.56, 1.02, 1.09, 1.62, 0.83, 1.65, 1.42, 0.68, 0.72, 1.69, 1.51, 1.71, 1.23, 0.92, 1.6, 1.37, 1.79, 0.74, 1.38, 1.07, 0.87, 1.0, 0.93, 1.16, 1.65, 1.67, 0.64, 1.53, 0.5, 1.57, 1.47, 1.71, 1.32, 1.27, 1.48, 0.73, 1.04, 1.61, 1.1, 0.86, 0.85, 1.21, 0.61, 0.75, 0.96, 0.62, 1.52, 1.07, 1.55, 1.03, 1.17, 1.59, 1.66, 1.1, 1.22, 1.43, 1.75, 1.35, 0.62, 1.1, 0.6, 0.82, 1.68, 1.65, 1.37, 1.01, 1.29, 1.15, 1.3, 1.36, 1.52, 1.65, 1.59, 1.37, 1.29, 1.06, 1.13, 0.7, 1.31, 1.31, 1.57, 0.79, 0.68, 1.38, 0.76, 1.62, 1.69, 1.25, 1.21, 1.22, 0.95, 1.2, 1.17, 1.21, 1.12, 0.8, 0.73, 0.87, 1.1, 0.7, 1.64, 1.06, 1.52, 1.24, 0.9, 0.76, 1.1, 1.31, 1.46, 1.72, 0.77, 1.52, 1.13, 1.72, 1.64, 1.76, 0.68, 0.68, 0.67, 0.99, 1.7, 1.75, 1.59, 1.68, 0.89, 1.11, 1.78, 1.27, 1.38, 1.77, 1.67, 1.42, 1.01, 1.71, 1.03, 0.98, 0.8, 0.79, 1.24, 0.7, 1.66, 1.71, 1.0, 1.57, 1.19, 1.26, 1.69, 0.87, 1.62, 1.43, 0.89, 0.82, 0.74, 1.41, 1.02, 1.14, 0.83, 0.89, 1.27, 1.3, 0.65, 0.86, 1.53, 1.67, 1.58, 1.7, 0.65, 0.87, 0.89, 0.94, 1.12, 0.84, 1.25, 1.16, 1.48, 1.47, 1.13, 1.44, 0.83, 1.46, 0.65, 0.74, 0.78, 0.77, 1.56, 1.55, 1.79, 2.69, 1.14, 1.11, 1.12, 0.58, 1.32, 1.16, 0.7, 0.78, 1.35, 1.34, 1.58, 1.0, 0.93, 0.85, 1.1, 0.99, 0.87, 0.65, 0.67, 1.25, 0.72, 1.71, 1.26, 1.84, 0.77, 1.3, 1.09, 0.76, 0.89, 0.96, 1.66, 0.75, 1.52, 0.98, 1.0, 1.36, 1.43, 1.3, 1.02, 1.37, 1.57, 1.36, 0.81, 0.75, 1.72, 0.59, 0.68, 1.7, 1.18, 1.26, 0.64, 1.6, 1.08, 1.26, 0.7, 0.87, 0.59, 1.04, 1.69, 1.08, 1.37, 1.26, 0.68, 1.71, 1.47, 0.72, 0.86, 1.12, 1.74, 1.57, 1.77, 1.26, 1.09, 0.81, 1.07, 1.58, 1.28, 0.88, 1.2, 1.56, 0.86, 0.47, 1.55, 1.09, 1.62, 1.17, 0.65, 0.9, 0.72, 0.62, 1.64, 1.42, 0.62, 0.61, 0.8, 1.57, 0.58, 1.63, 0.61, 1.23, 0.97, 1.62, 0.65, 1.09, 1.64, 1.67, 1.71, 1.36, 0.76, 1.67, 1.78, 1.67, 1.7, 1.52, 1.36, 0.58, 1.26, 1.67, 0.64, 0.84, 1.55, 0.65, 1.63, 1.69, 0.67, 0.89, 0.86, 1.08, 1.32, 1.72, 1.49, 0.9, 0.71, 0.82, 0.66, 0.88, 0.82, 1.47, 1.63, 0.95, 1.33, 1.49, 0.73, 1.13, 0.6, 1.14, 1.3, 0.64, 1.64, 1.52, 1.46, 0.71, 1.01, 1.44, 1.63, 0.7, 1.77, 1.57, 1.15, 1.52, 0.9, 1.48, 0.6, 1.24, 1.69, 1.36, 0.63, 0.95, 1.33, 1.99, 1.71, 1.66, 0.47, 0.53, 1.05, 1.51, 1.68, 0.84, 0.8, 1.71, 0.83, 0.71, 0.87, 0.82, 0.62, 1.51, 0.65, 1.41, 0.8, 0.83, 1.77, 0.78, 0.88, 0.85, 1.69, 1.22, 1.7, 0.8, 1.49, 0.98, 1.44, 1.71, 0.57, 1.45, 1.49, 0.65, 0.66, 1.19, 1.46, 1.04, 1.11, 0.77, 0.78, 1.32, 0.92, 0.63, 0.79, 1.26, 0.61, 0.65, 1.72, 0.84, 1.16, 0.86, 1.01, 0.83, 1.3, 0.98, 0.96, 1.24, 1.44, 0.68, 0.92, 0.88, 0.9, 1.73, 1.66, 0.74, 1.43, 0.95, 0.89, 1.19, 1.16, 1.63, 1.72, 1.23, 1.5, 1.31, 1.0, 0.59, 0.9, 0.81, 2.52, 2.08, 1.3, 0.72, 1.36, 1.16, 0.64, 1.38, 1.27, 1.46, 1.66, 1.02, 0.88, 1.12, 1.18, 1.72, 0.84, 1.6, 1.57, 1.1, 0.65, 1.22, 1.13, 1.65, 1.6, 0.98, 1.22, 1.47, 1.73, 1.74, 1.68, 1.66, 0.66, 1.26, 0.69, 1.67, 0.93, 1.53, 0.7, 1.37, 1.48, 0.64, 1.73, 1.62, 1.15, 1.13, 0.85, 1.03, 0.69, 1.49, 1.45, 1.65, 1.07, 1.1, 1.63, 1.18, 1.18, 1.26, 0.88, 0.61, 1.52, 1.05, 0.63, 1.63, 0.65, 1.09, 1.71, 0.98, 1.44, 0.94, 0.95, 1.2, 1.66, 1.43, 1.7, 1.69, 1.23, 1.35, 1.62, 2.66, 1.27, 1.04, 0.8, 1.26, 1.31, 1.04, 1.03, 1.59, 0.74, 1.68, 1.42, 1.17, 1.21, 0.79, 0.78, 1.3, 1.42, 1.03, 1.38, 1.21, 1.77, 1.05, 0.93, 0.84, 1.55, 1.08, 1.08, 0.79, 0.74, 0.85, 1.57, 1.0, 1.53, 1.24, 0.63, 1.18, 0.61, 1.16, 0.75, 0.67, 1.59, 1.11, 1.33, 1.03, 0.81, 0.72, 1.51, 0.92, 1.06, 0.88, 0.65, 1.36, 0.71, 1.41, 1.12, 1.65, 0.87, 1.3, 0.9, 1.55, 1.71, 1.67, 0.98, 0.65, 0.77, 0.97, 1.11, 0.61, 1.41, 0.98, 1.65, 1.3, 0.69, 1.22, 1.63, 1.18, 1.74, 1.3, 0.99, 0.94, 1.26, 1.75, 1.61, 1.39, 1.56, 0.7, 0.66, 0.93, 1.15, 0.74, 1.13, 1.56, 0.96, 0.78, 1.46, 1.68, 0.89, 0.84, 1.44, 1.3, 1.64, 0.69, 1.24, 1.33, 0.74, 1.32, 1.17, 1.25, 1.19, 0.74, 1.06, 1.62, 1.45, 1.61, 1.68, 1.05, 0.8, 1.05, 0.97, 0.67, 0.61, 1.2, 0.77, 1.66, 1.16, 1.66, 0.65, 0.62, 0.64, 1.74, 0.82, 1.4, 0.65, 1.64, 0.61, 1.14, 0.93, 1.29, 0.99, 1.58, 0.96, 1.42, 1.18, 1.67, 1.09, 1.47, 0.92, 1.34, 1.23, 1.59, 0.69, 1.39, 1.46, 0.92, 0.74, 0.97, 1.7, 0.64, 0.62, 0.85, 1.59, 0.76, 0.82, 1.35, 0.61, 1.13, 2.18, 1.33, 1.29, 1.01, 1.54, 0.91, 1.04, 1.38, 1.44, 1.55, 1.2, 1.66, 0.95, 0.88, 1.54, 1.64, 1.68, 1.27, 0.68, 1.14, 1.26, 1.76, 0.88, 1.76, 1.25, 1.08, 1.7, 1.62, 1.43, 1.36, 1.61, 0.73, 0.64, 0.71, 0.99, 0.75, 0.63, 0.9, 0.8, 0.98, 0.83, 1.38, 0.62, 1.26, 0.88, 1.08, 1.18, 0.8, 0.89, 1.51, 1.63, 1.71, 1.17, 1.08, 0.7, 1.59, 1.44, 1.7, 0.73, 0.94, 0.7, 1.38, 1.59, 0.79, 1.48, 1.35, 0.74, 0.89, 0.71, 1.19, 1.19, 1.3, 0.87, 1.7, 0.77, 1.4, 0.67, 0.63, 1.22, 0.68, 1.69, 0.98, 1.08, 0.85, 1.46, 1.49, 2.63, 1.9, 1.1, 1.47, 1.35, 1.21, 1.56, 0.64, 0.95, 1.62, 1.16, 0.91, 1.67, 1.7, 0.59, 1.48, 1.57, 1.69, 1.29, 1.0, 0.68, 1.03, 1.45, 1.31, 0.72, 1.8, 1.4, 1.15, 1.27, 1.72, 1.18, 0.63, 0.61, 0.65, 0.91, 1.58, 0.79, 0.67, 1.68, 1.33, 1.2, 0.93, 0.86, 1.27, 0.61, 1.27, 0.7, 1.16, 0.86, 1.66, 1.59, 1.38, 1.39, 1.73, 1.11, 1.52, 1.32, 0.88, 0.95, 0.93, 1.62, 0.78, 0.95, 0.74, 0.65, 1.16, 1.5, 1.02, 1.71, 1.0, 1.13, 1.06, 0.8, 0.9, 0.9, 0.7, 0.86, 1.57, 1.22, 1.11, 1.72, 0.71, 1.71, 0.56, 0.5, 1.93, 1.45, 1.48, 0.84, 1.39, 0.65, 0.64, 0.64, 1.28, 0.84, 1.66, 0.98, 0.59, 0.87, 0.64, 1.38, 1.56, 1.14, 1.17, 1.59, 1.22, 0.89, 0.92, 1.67, 0.92, 0.86, 0.81, 0.69, 1.49, 1.15, 1.55, 0.72, 1.14, 0.57, 1.25, 1.14, 1.2, 1.18, 1.19, 0.63, 1.72, 1.65, 0.67, 0.71, 0.82, 1.55, 1.2, 0.98, 1.69, 1.57, 0.72, 1.67, 1.6, 0.78, 0.68, 1.32, 1.63, 0.9, 1.13, 1.7, 1.06, 1.25, 1.36, 0.8, 1.54, 0.69, 0.67, 1.09, 1.06, 1.52, 1.42, 1.09, 0.75, 0.9, 1.46, 0.63, 1.19, 1.18, 0.63, 0.58, 0.63, 1.22, 2.36, 1.46, 1.34, 0.71, 0.49, 0.66, 0.61, 0.59, 1.69, 1.22, 0.93, 1.47, 1.65, 1.56, 1.71, 0.66, 1.2, 0.9, 0.66, 0.71, 1.06, 0.97, 0.94, 1.6, 0.79, 1.04, 1.22, 1.79, 0.93, 1.52, 1.57, 1.17, 1.69, 0.62, 1.05, 0.97, 0.87, 1.01, 1.33, 0.58, 0.65, 1.25, 1.68, 1.33, 1.28, 1.73, 1.6, 1.2, 1.72, 1.68, 1.43, 0.86, 1.26, 1.69, 0.77, 1.35, 0.65, 0.86, 0.77, 0.89, 0.61, 1.66, 1.1, 1.33, 1.19, 0.64, 0.73, 0.85, 0.61, 1.53, 0.79, 0.67, 1.68, 0.83, 0.88, 1.58, 0.63, 1.74, 1.38, 0.97, 0.73, 1.37, 0.49, 1.52, 2.61, 1.6, 0.6, 1.27, 1.4, 1.68, 0.98, 0.92, 1.16, 1.52, 1.06, 0.69, 1.73, 1.08, 0.95, 1.05, 1.28, 1.11, 1.22, 1.29, 1.43, 1.12, 1.74, 1.77, 1.56, 0.79, 1.62, 1.23, 0.71, 1.59, 0.77, 1.68, 1.3, 0.77, 1.18, 0.63, 1.55, 1.04, 1.44, 0.63, 1.37, 1.12, 1.51, 1.35, 1.58, 1.18, 1.1, 1.69, 1.26, 0.85, 0.61, 1.4, 1.02, 1.5, 1.42, 1.21, 1.35, 0.69, 1.69, 1.49, 0.65, 0.72, 1.33, 0.96, 1.53, 1.69, 0.81, 1.51, 0.96, 1.0, 1.57, 1.57, 1.66, 0.67, 1.56, 0.67, 0.88, 1.56, 0.65, 0.83, 0.59, 1.34, 1.48, 1.3, 1.62, 2.35, 0.69, 0.71, 0.77, 1.0, 1.35, 0.64, 1.67, 1.65, 1.7, 1.42, 1.01, 1.62, 1.52, 1.68, 1.02, 1.52, 0.68, 1.61, 0.82, 1.76, 1.13, 1.74, 1.52, 1.24, 0.75, 1.14, 0.96, 1.49, 1.66, 1.11, 1.62, 1.47, 0.87, 0.96, 0.6, 0.67, 1.65, 0.88, 0.76, 0.89, 1.07, 1.11, 0.96, 0.76, 1.68, 1.26, 0.85, 1.62, 0.92, 0.92, 1.43, 0.65, 1.45, 0.84, 1.66, 1.24, 0.84, 1.45, 0.65, 1.05, 1.63, 0.96, 0.88, 0.86, 0.67, 0.93, 1.51, 1.2, 0.69, 1.11, 1.63, 0.65, 1.13, 0.76, 1.3, 1.56, 1.55, 1.26, 1.7, 1.12, 1.38, 1.55, 1.44, 1.11, 1.5, 1.9, 2.13, 1.77, 1.27, 1.54, 1.14, 0.66, 0.58, 1.67, 1.69, 1.09, 0.7, 1.69, 1.37, 1.61, 0.98, 0.68, 0.77, 0.97, 1.72, 1.66, 1.37, 0.76, 1.48, 1.53, 0.77, 1.33, 1.24, 1.21, 1.49, 1.47, 1.37, 0.76, 1.59, 0.58, 0.82, 1.62, 0.61, 0.87, 0.73, 0.64, 1.3, 0.9, 0.73, 0.82, 1.7, 0.99, 0.95, 0.91, 0.65, 1.43, 1.71, 1.08, 1.7, 1.48, 1.09, 0.85, 0.91, 0.72, 1.73, 0.68, 1.34, 1.32, 0.83, 0.71, 1.55, 1.02, 1.06, 0.99, 1.73, 1.36, 1.35, 1.59, 1.72, 1.53, 1.36, 1.18, 0.81, 1.41, 1.59, 0.89, 0.82, 0.63, 1.59, 0.56, 1.01, 0.52, 2.22, 2.6, 1.72, 1.4, 1.52, 1.12, 0.87, 1.51, 1.66, 0.72, 0.78, 1.18, 1.74, 1.05, 1.02, 0.92, 1.05, 1.27, 1.02, 0.67, 1.13, 1.49, 1.79, 1.67, 1.68, 1.03, 0.9, 0.82, 1.33, 1.32, 0.63, 0.69, 1.36, 1.0, 1.58, 0.72, 0.77, 1.1, 1.69, 0.89, 1.19, 0.88, 1.6, 0.63, 0.64, 0.86, 1.47, 0.87, 1.13, 0.71, 1.43, 0.85, 1.34, 0.56, 1.65, 1.65, 1.37, 1.53, 0.68, 1.52, 1.52, 1.39, 0.61, 0.76, 1.65, 1.71, 1.1, 0.69, 0.97, 1.02, 1.38, 1.04, 1.55, 1.48, 0.74, 1.15, 1.33, 0.83, 1.1, 1.55, 0.93, 1.49, 1.28, 1.27, 0.59, 1.92, 1.87, 0.84, 1.43, 1.48, 1.36, 1.43, 1.2, 0.53, 1.31, 1.61, 1.17, 1.4, 1.02, 1.09, 0.72, 0.78, 0.79, 0.65, 0.78, 1.39, 0.9, 0.65, 1.01, 1.33, 1.49, 1.58, 0.75, 1.38, 0.58, 0.87, 0.74, 0.56, 0.97, 1.32, 1.61, 0.66, 1.34, 1.27, 0.61, 0.79, 1.04, 0.79, 0.77, 1.36, 1.32, 0.68, 1.4, 1.15, 1.63, 1.01, 1.06, 1.01, 0.54, 1.41, 1.56, 1.2, 0.6, 0.54, 0.63, 1.64, 0.84, 0.7, 1.04, 0.7, 1.35, 0.73, 1.29, 1.69, 1.44, 1.62, 1.02, 0.65, 1.22, 1.2, 1.22, 0.87, 0.7, 1.25, 0.6, 2.04, 1.88, 1.33, 1.31, 1.09, 0.55, 0.75, 0.91, 1.5, 0.81, 1.49, 1.51, 0.84, 1.09, 1.2, 0.7, 0.55, 0.88, 1.59, 0.81, 0.79, 0.91, 1.04, 1.7, 0.7, 0.7, 1.49, 1.07, 0.94, 0.85, 1.41, 0.89, 0.68, 0.65, 0.61, 1.65, 1.45, 1.59, 0.71, 1.57, 1.57, 1.03, 0.76, 1.12, 1.53, 0.62, 0.93, 0.59, 1.19, 1.01, 1.36, 1.55, 1.43, 0.65, 1.48, 0.87, 0.58, 0.66, 1.3, 0.99, 0.63, 1.07, 0.73, 1.6, 1.47, 1.68, 0.8, 1.7, 0.79, 1.19, 0.64, 1.28, 1.28, 1.02, 1.34, 1.63, 0.64, 1.64, 1.39, 1.31, 0.72, 1.43, 1.58, 2.03, 1.6, 0.44, 0.81, 1.58, 1.38, 1.72, 1.03, 0.61, 0.64, 0.6, 1.21, 1.16, 1.06, 0.8, 1.28, 1.51, 1.16, 0.84, 1.46, 0.63, 1.41, 1.29, 0.73, 1.21, 0.81, 0.68, 1.47, 1.11, 0.94, 1.18, 0.65, 1.51, 1.42, 1.3, 0.52, 1.3, 1.5, 0.78, 0.94, 1.57, 1.65, 1.21, 1.57, 0.85, 1.22, 1.44, 1.39, 0.73, 1.29, 1.3, 1.64, 0.91, 1.12, 0.77, 0.83, 0.74, 1.23, 1.03, 0.94, 0.94, 1.45, 1.72, 1.51, 1.42, 1.56, 0.83, 0.84, 1.26, 1.04, 1.28, 0.65, 0.72, 1.68, 1.53, 0.64, 0.67, 1.53, 0.55, 0.7, 2.54, 1.68, 1.24, 0.98, 0.58, 1.59, 1.59, 0.72, 1.69, 1.23, 0.7, 0.68, 1.63, 1.69, 0.82, 0.6, 1.09, 0.7, 0.84, 1.47, 1.33, 1.34, 1.54, 1.65, 1.74, 0.91, 1.27, 1.2, 1.46, 1.15, 0.62, 1.45, 0.77, 0.82, 1.36, 1.46, 1.65, 1.57, 1.56, 0.95, 0.73, 1.3, 0.89, 0.77, 0.85, 1.48, 0.67, 1.37, 1.68, 1.2, 1.25, 0.98, 1.33, 0.62, 0.63, 0.83, 1.56, 1.27, 0.89, 1.19, 0.69, 0.69, 0.66, 0.53, 0.56, 1.26, 0.84, 0.83, 0.67, 0.9, 0.65, 0.63, 0.72, 0.78, 0.96, 0.85, 0.72, 1.14, 0.65, 0.8, 1.32, 1.03, 1.62, 1.52, 0.97, 0.57, 0.77, 1.22, 0.71, 0.93, 0.87, 1.71, 1.17, 1.74, 0.69, 1.03, 1.37, 0.74, 0.67, 1.62, 0.78, 1.28, 1.44, 1.76, 1.64, 1.52, 1.11, 1.5, 1.67, 1.18, 1.01, 0.75, 1.64, 1.04, 1.47, 1.41, 0.74, 0.85, 0.75, 1.58, 1.32, 0.95, 1.22, 1.77, 1.19, 1.52, 0.76, 1.37, 1.74, 1.34, 0.85, 0.86, 1.22, 1.72, 1.13, 0.9, 1.54, 1.5, 1.71, 1.1, 1.6, 1.25, 1.66, 1.13, 1.23, 1.58, 1.13, 0.94, 1.25, 0.74, 1.1, 1.38, 1.18, 0.84, 1.07, 1.44, 0.75, 1.45, 0.61, 1.06, 1.59, 2.34, 2.29, 0.88, 1.57, 1.17, 1.15, 1.27, 1.4, 1.0, 0.96, 0.76, 1.17, 1.38, 1.63, 1.57, 0.68, 0.85, 0.99, 0.99, 1.55, 0.68, 0.69, 1.49, 1.34, 1.62, 1.71, 1.53, 1.39, 1.34, 1.74, 0.85, 1.09, 1.71, 1.66, 1.62, 0.77, 0.66, 0.75, 0.76, 0.81, 1.35, 1.39, 1.31, 0.95, 1.29, 0.64, 1.0, 1.03, 1.18, 1.18, 1.28, 1.63, 0.94, 0.74, 1.0, 1.3, 1.49, 0.92, 0.67, 0.98, 1.71, 1.24, 0.67, 0.77, 1.7, 1.3, 1.71, 1.7, 1.73, 1.6, 0.82, 1.28, 0.61, 1.45, 1.62, 1.12, 1.1, 1.19, 1.12, 1.8, 1.58, 0.88, 1.25, 0.99, 1.48, 0.78, 0.94, 0.76, 1.13, 1.23, 1.39, 0.67, 1.12, 0.85, 1.41, 1.17, 1.19, 0.81, 1.3, 0.85, 0.78, 1.78, 1.73, 1.66, 0.85, 0.82, 1.53, 1.32, 1.37, 1.01, 0.6, 1.46, 0.92, 0.85, 1.05, 0.74, 1.29, 1.67, 1.54, 0.98, 0.58, 1.33, 1.33, 0.81, 1.63, 1.5, 1.7, 1.41, 0.8, 1.7, 1.07, 1.65, 0.87, 1.29, 1.37, 0.65, 1.23, 1.4, 1.24, 1.2, 1.59, 1.68, 1.02, 1.68, 1.35, 1.18, 1.42, 0.91, 1.38, 1.63, 1.39, 1.21, 1.61, 0.78, 1.3, 0.71, 1.67, 1.58, 0.8, 1.53, 2.41, 1.49, 1.09, 0.86, 1.44, 1.64, 0.65, 1.65, 0.59, 1.07, 0.83, 1.66, 1.24, 0.9, 1.56, 1.62, 0.81, 1.37, 0.62, 0.62, 1.04, 0.68, 0.98, 1.07, 1.74, 1.05, 1.23, 0.94, 1.73, 1.58, 0.71, 0.99, 0.87, 1.61, 0.67, 1.33, 1.62, 0.58, 1.52, 1.14, 1.43, 1.0, 1.48, 1.19, 1.19, 1.4, 0.61, 0.83, 1.34, 1.67, 0.67, 0.64, 1.12, 1.63, 0.61, 1.18, 0.72, 0.71, 1.08, 0.65, 1.36, 1.54, 0.93, 1.2, 0.8, 1.51, 0.63, 1.33, 1.33, 1.67, 0.66, 1.02, 0.87, 1.74, 1.09, 1.17, 1.38, 1.67, 1.72, 1.04, 1.59, 0.55, 1.04, 0.92, 1.57, 2.08, 1.73, 1.42, 1.52, 1.31, 1.64, 0.7, 1.21, 1.61, 0.94, 0.7, 0.98, 0.65, 0.69, 0.74, 1.64, 1.32, 0.98, 0.91, 1.62, 1.01, 1.43, 1.52, 1.49, 1.63, 1.14, 0.65, 1.69, 1.26, 0.67, 0.77, 1.02, 0.67, 0.62, 1.6, 1.34, 1.36, 1.56, 1.65, 1.21, 0.68, 1.69, 0.71, 1.61, 0.87, 1.62, 1.6, 1.23, 1.65, 1.41, 0.89, 1.4, 1.04, 1.59, 1.55, 1.06, 0.85, 1.69, 0.91, 1.12, 1.08, 0.98, 0.83, 1.71, 1.36, 1.11, 0.59, 1.28, 0.7, 0.57, 1.3, 1.24, 1.18, 0.65, 1.58, 1.59, 1.04, 0.81, 1.72, 1.61, 0.79, 1.39, 1.71, 1.18, 1.02, 1.69, 1.98, 1.64, 1.2, 1.18, 0.73, 1.27, 1.17, 1.29, 1.39, 1.63, 1.08, 0.7, 1.08, 1.19, 0.66, 1.2, 1.5, 1.54, 1.4, 1.32, 1.03, 0.81, 1.41, 0.67, 1.05, 0.77, 1.3, 1.68, 0.71, 1.71, 0.82, 1.68, 1.07, 0.89, 1.02, 1.22, 1.27, 0.61, 1.27, 0.67, 1.0, 1.4, 1.31, 1.05, 1.35, 1.29, 1.64, 1.57, 0.65, 1.09, 1.68, 1.6, 1.56, 1.4, 1.07, 0.68, 1.25, 0.93, 0.95, 1.21, 1.55, 1.15, 0.93, 1.68, 0.73, 1.18, 1.06, 1.03, 0.8, 1.65, 1.2, 1.71, 1.3, 1.44, 1.67, 1.53, 1.5, 0.7, 0.92, 0.65, 1.54, 1.34, 0.87, 1.34, 1.8, 0.97, 0.67, 0.89, 1.65, 1.41, 0.61, 1.35, 0.94, 1.62, 1.32, 1.18, 0.87, 0.92, 0.74, 1.45, 0.7, 0.93, 0.94, 1.5, 1.58, 1.35, 0.64, 1.24, 1.72, 1.56, 1.24, 1.24, 0.7, 1.6, 1.26, 0.97, 0.55, 1.69, 1.68, 0.69, 0.87, 1.22, 1.21, 0.69, 1.05, 1.01, 1.62, 0.62, 0.86, 1.63, 1.67, 1.42, 0.76, 1.19, 1.31, 1.37, 0.67, 1.18, 1.67, 0.68, 0.55, 1.59, 1.33, 1.64, 1.06, 0.66, 1.61, 1.03, 0.99, 1.38, 1.64, 1.33, 0.61, 0.56, 1.16, 1.3, 1.57, 1.2, 1.3, 1.04, 1.2, 0.9, 1.07, 0.72, 2.37, 1.99, 0.89, 0.57, 1.09, 0.87, 0.53, 1.63, 1.01, 1.26, 0.57, 0.97, 1.4, 1.04, 1.2, 1.15, 0.85, 0.86, 1.35, 0.96, 1.42, 0.66, 1.63, 0.9, 1.17, 1.51, 0.71, 0.64, 1.57, 1.28, 0.87, 1.63, 1.01, 1.51, 0.77, 0.82, 0.58, 1.34, 1.08, 0.58, 1.23, 0.58, 0.8, 1.57, 0.84, 1.29, 0.8, 1.56, 1.09, 1.01, 1.39, 0.73, 1.09, 0.94, 0.71, 0.69, 0.92, 1.57, 1.62, 1.27, 1.0, 0.98, 0.61, 1.23, 1.49, 1.32, 1.35, 0.8, 0.7, 0.59, 1.22, 1.34, 1.4, 1.29, 1.45, 0.75, 0.95, 0.89, 1.54, 1.55, 0.89, 1.4, 1.54, 1.52, 0.99, 1.06, 1.09, 1.51, 1.36, 1.5, 0.7, 1.06, 0.89, 0.53, 1.13, 1.5, 1.36, 1.51, 0.62, 1.09, 1.0, 0.75, 1.06, 1.19, 1.68, 1.03, 1.61, 0.79, 1.04, 1.02, 1.36, 1.29, 1.15, 0.76, 0.58, 1.65, 1.5, 0.93, 0.69, 0.87, 1.54, 0.79, 0.58, 1.66, 1.36, 0.84, 0.59, 1.41, 0.83, 1.35, 0.62, 0.69, 0.91, 0.68, 1.68, 1.46, 1.65, 0.8, 1.41, 1.12, 0.62, 0.6, 1.39, 0.59, 0.58, 1.35, 1.13, 0.84, 1.4, 1.25, 0.77, 1.53, 1.65, 1.68, 1.09, 0.96, 1.53, 0.87, 1.66, 0.67, 1.49, 0.53, 1.85, 2.07, 1.77, 1.3, 1.12, 0.61, 1.52, 1.35, 0.97, 0.6, 1.12, 1.52, 0.65, 1.37, 1.1, 1.6, 1.13, 0.85, 0.75, 1.46, 0.98, 1.63, 0.9, 0.93, 0.77, 1.01, 0.87, 1.15, 0.99, 0.91, 1.6, 0.92, 1.38, 0.65, 1.12, 0.56, 0.87, 1.33, 0.75, 0.63, 1.47, 0.89, 0.69, 1.38, 1.49, 1.21, 0.65, 1.53, 1.04, 0.87, 1.22, 1.33, 1.72, 1.63, 1.04, 1.56, 1.62, 0.72, 0.67, 1.08, 1.21, 1.62, 0.66, 1.14, 1.34, 0.94, 0.95, 1.23, 1.76, 1.19, 1.32, 0.77, 1.63, 1.39, 1.02, 0.88, 0.38, 1.28, 1.44, 1.39, 0.57, 1.41, 2.2, 1.08, 0.88, 0.98, 0.68, 1.43, 1.07, 1.72, 1.03, 1.41, 1.62, 1.62, 1.46, 0.68, 1.64, 0.68, 0.6, 1.36, 0.65, 0.6, 1.62, 0.65, 1.1, 1.44, 1.51, 1.35, 1.17, 1.76, 1.48, 0.72, 1.71, 1.09, 0.96, 1.45, 1.68, 1.08, 1.57, 0.68, 0.99, 0.72, 0.66, 1.62, 1.09, 1.24, 0.65, 1.51, 0.6, 1.76, 1.2, 0.86, 0.77, 0.72, 1.1, 0.66, 1.3, 1.28, 0.92, 1.26, 1.3, 0.68, 1.16, 0.93, 0.96, 0.94, 1.64, 1.7, 1.03, 1.55, 0.62, 0.66, 0.9, 1.04, 1.12, 1.56, 2.23, 1.99, 1.53, 0.47, 0.87, 1.04, 0.58, 1.64, 1.53, 0.57, 1.7, 1.7, 1.53, 1.31, 0.68, 0.68, 0.65, 0.76, 0.97, 1.46, 1.58, 0.82, 1.12, 1.25, 0.98, 0.67, 1.51, 0.67, 1.73, 1.38, 0.73, 0.66, 1.07, 1.6, 0.6, 0.7, 0.68, 1.46, 1.09, 0.35, 0.61, 1.36, 1.79, 1.39, 0.62, 1.13, 0.8, 0.78, 0.67, 1.15, 1.01, 0.66, 1.7, 1.25, 1.42, 0.67, 0.76, 1.51, 1.55, 1.16, 1.37, 1.49, 0.81, 1.28, 1.45, 1.41, 0.84, 0.95, 0.93, 0.85, 1.74, 0.79, 0.87, 0.72, 0.82, 0.97, 0.68, 2.14, 1.7, 1.91, 1.37, 1.38, 1.25, 1.68, 0.88, 0.73, 1.52, 1.7, 1.66, 0.56, 0.78, 1.18, 1.03, 0.87, 1.48, 1.3, 1.22, 0.65, 1.8, 1.28, 1.52, 0.99, 1.32, 1.02, 1.09, 0.74, 1.76, 0.6, 1.58, 1.63, 0.6, 0.81, 0.66, 1.05, 1.69, 1.61, 1.23, 1.34, 1.34, 1.32, 0.64, 1.62, 1.7, 0.73, 1.48, 1.71, 1.01, 1.05, 1.5, 0.64, 0.72, 1.3, 1.4, 1.22, 1.55, 0.99, 1.51, 0.7, 0.91, 1.03, 1.06, 1.07, 1.23, 0.69, 1.43, 1.48, 1.68, 1.72, 0.65, 1.74, 1.7, 1.68, 0.57, 0.64, 1.71, 1.98, 1.16, 1.1, 1.39, 1.11, 1.68, 0.92, 1.69, 1.2, 1.34, 1.41, 1.04, 0.67, 1.57, 0.65, 1.52, 1.68, 0.66, 0.91, 1.3, 1.17, 0.7, 0.72, 1.46, 1.76, 1.56, 0.84, 1.23, 1.49, 0.78, 1.53, 1.38, 1.15, 1.53, 1.3, 1.0, 1.32, 1.31, 1.3, 0.73, 0.72, 1.17, 0.66, 1.03, 0.85, 0.65, 0.89, 0.64, 0.73, 1.47, 1.02, 1.68, 1.68, 1.3, 1.48, 0.7, 0.61, 1.12, 1.27, 1.43, 1.33, 1.42, 0.66, 1.74, 1.72, 0.84, 1.69, 1.65, 1.07, 1.49, 1.12, 1.72, 0.6, 1.67, 0.86, 0.73, 1.14, 2.13, 1.85, 1.11, 1.52, 0.77, 1.27, 1.38, 1.63, 0.84, 0.97, 0.75, 1.68, 1.45, 1.27, 0.71, 1.71, 1.25, 0.63, 1.24, 0.8, 0.69, 0.86, 1.18, 0.92, 0.8, 0.71, 0.93, 0.79, 0.88, 0.78, 0.71, 1.38, 0.95, 0.58, 0.78, 1.55, 0.88, 0.71, 1.08, 1.57, 0.93, 1.14, 1.54, 1.43, 1.3, 0.81, 0.79, 1.03, 0.6, 1.06, 1.75, 1.42, 1.46, 0.95, 1.63, 1.31, 1.36, 0.7, 1.26, 1.27, 1.5, 0.68, 1.73, 1.66, 1.02, 1.68, 1.22, 1.3, 1.39, 0.67, 1.46, 1.08, 1.0, 1.72, 1.65, 1.64, 0.72, 0.7, 0.69, 1.64, 0.94, 1.27, 1.1, 1.59, 1.72, 1.68, 1.25, 1.73, 1.61, 0.63, 1.38, 0.9, 1.74, 0.91, 1.01, 0.89, 1.22, 0.79, 1.68, 1.44, 1.54, 1.0, 1.11, 0.67, 1.05, 1.15, 1.23, 0.7, 0.66, 1.71, 1.35, 0.76, 1.69, 1.73, 0.74, 0.99, 1.63, 1.67, 1.71, 0.98, 0.98, 1.34, 0.73, 1.01, 1.21, 1.2, 1.1, 0.74, 0.67, 1.64, 1.43, 1.27, 1.44, 0.99, 0.73, 1.28, 1.66, 1.37, 0.97, 1.67, 0.72, 0.77, 1.52, 1.27, 2.56, 2.41, 1.56, 1.52, 1.54, 1.39, 1.1, 0.7, 1.46, 1.61, 0.93, 0.74, 0.65, 0.96, 0.89, 0.97, 1.51, 1.49, 0.68, 1.61, 1.56, 1.12, 1.74, 1.34, 1.67, 1.09, 1.77, 0.93, 1.3, 1.63, 1.15, 0.77, 1.64, 1.65, 0.67, 0.77, 0.67, 1.3, 1.69, 0.73, 0.85, 0.69, 1.45, 0.63, 0.93, 0.62, 0.65, 1.19, 0.94, 0.65, 1.06, 1.03, 1.13, 0.63, 0.72, 1.72, 1.6, 0.86, 0.79, 0.7, 1.08, 1.54, 1.7, 1.56, 0.94, 1.42, 1.13, 1.38, 1.06, 0.77, 0.71, 1.0, 1.78, 2.04, 1.87, 1.54, 0.63, 1.58, 1.46, 1.38, 0.95, 1.63, 0.91, 0.99, 1.39, 1.06, 1.71, 1.62, 0.68, 1.68, 0.63, 1.67, 0.89, 0.69, 1.12, 1.44, 1.25, 0.8, 0.82, 1.73, 0.7, 1.32, 1.71, 1.48, 0.84, 1.05, 0.92, 0.87, 1.65, 1.65, 1.55, 1.52, 1.26, 1.03, 1.25, 1.18, 1.54, 0.66, 1.18, 1.22, 0.87, 1.72, 1.59, 0.64, 1.67, 1.25, 0.81, 0.87, 0.91, 0.88, 1.07, 1.45, 1.03, 1.54, 1.29, 1.23, 1.2, 1.76, 1.21, 1.06, 1.25, 1.45, 0.73, 0.72, 0.94, 1.62, 1.52, 0.67, 1.69, 1.94, 1.73, 1.59, 0.43, 0.92, 0.83, 1.42, 0.73, 1.65, 1.54, 1.43, 0.72, 0.93, 1.66, 1.34, 0.63, 1.55, 0.93, 1.57, 1.13, 1.06, 1.41, 1.32, 0.81, 1.32, 0.74, 0.75, 1.03, 0.74, 0.85, 0.7, 1.25, 0.89, 1.35, 0.92, 1.3, 1.57, 0.91, 1.65, 0.96, 1.49, 1.4, 1.3, 1.22, 1.45, 0.99, 1.48, 1.7, 0.98, 0.89, 1.41, 0.96, 0.65, 1.12, 1.41, 1.35, 0.9, 0.67, 1.41, 1.34, 1.72, 1.63, 1.68, 1.19, 1.04, 0.91, 1.19, 0.86, 1.74, 0.74, 1.6, 1.4, 1.08, 1.33, 1.54, 1.6, 0.63, 1.2, 1.56, 2.12, 0.87, 0.48, 0.49, 1.67, 1.47, 1.57, 1.0, 1.42, 1.65, 0.8, 1.07, 1.22, 1.29, 0.82, 1.72, 1.14, 0.83, 1.43, 1.67, 1.34, 1.16, 0.84, 0.85, 1.07, 1.01, 0.69, 0.65, 1.56, 0.87, 0.86, 0.65, 1.67, 1.14, 1.67, 0.57, 1.55, 1.31, 0.66, 1.43, 0.63, 1.1, 1.67, 0.76, 0.7, 1.09, 1.41, 1.6, 0.75, 1.67, 1.31, 1.43, 1.05, 1.68, 0.66, 1.52, 0.83, 1.65, 0.7, 1.38, 1.75, 0.94, 0.98, 0.9, 0.81, 1.11, 1.54, 1.6, 1.54, 0.94, 0.61, 1.23, 0.53, 0.56, 0.66, 2.3, 1.86, 0.65, 1.1, 1.12, 1.01, 0.56, 0.63, 1.05, 0.98, 1.21, 0.86, 1.51, 0.93, 1.41, 0.75, 0.56, 1.09, 1.07, 0.86, 1.09, 1.14, 1.04, 0.85, 1.17, 1.71, 0.7, 0.72, 1.76, 0.8, 1.12, 0.63, 1.6, 0.62, 0.61, 0.73, 0.7, 0.65, 1.66, 1.67, 0.58, 1.62, 1.06, 1.04, 1.65, 0.78, 0.92, 0.86, 1.47, 1.39, 1.63, 1.15, 1.34, 0.86, 1.17, 1.16, 1.62, 1.01, 1.32, 1.63, 1.28, 1.06, 0.84, 0.61, 1.57, 1.72, 0.78, 0.94, 0.86, 1.3, 1.17, 0.64, 0.98, 1.45, 1.56, 0.63, 1.63, 1.19, 1.56, 0.47, 0.79, 1.67, 2.16, 0.97, 1.19, 1.34, 1.67, 0.65, 1.04, 1.28, 0.86, 0.84, 0.69, 0.66, 1.69, 0.66, 0.65, 1.17, 0.86, 0.65, 1.51, 1.16, 0.71, 1.08, 1.4, 0.88, 0.98, 0.74, 1.79, 0.73, 0.68, 1.71, 1.55, 0.79, 1.44, 0.94, 1.6, 1.27, 1.59, 1.63, 1.69, 1.17, 0.59, 1.72, 0.93, 1.24, 0.76, 0.8, 1.25, 1.57, 1.1, 1.23, 1.68, 1.01, 1.32, 1.67, 1.57, 1.18, 1.48, 0.84, 0.92, 0.84, 1.17, 0.93, 0.67, 1.21, 1.12, 0.85, 1.33, 1.29, 1.2, 1.44, 1.32, 1.18, 0.88, 0.97, 0.64, 0.73, 1.19, 1.48, 1.55, 0.68, 1.14, 1.53, 0.99, 1.55, 1.28, 2.31, 2.0, 1.56, 1.41, 1.13, 1.04, 1.51, 0.66, 1.22, 1.24, 1.63, 0.84, 0.79, 1.06, 1.53, 1.66, 1.35, 0.76, 0.67, 1.19, 1.53, 1.74, 1.52, 1.13, 1.81, 1.08, 1.49, 1.51, 0.96, 0.77, 1.11, 1.67, 0.73, 1.08, 1.68, 1.64, 1.25, 1.16, 1.25, 1.25, 0.59, 1.27, 1.47, 1.54, 1.45, 0.63, 0.71, 1.04, 0.88, 1.18, 0.79, 0.88, 0.81, 0.91, 1.18, 1.29, 1.58, 1.18, 0.63, 1.26, 1.56, 0.81, 0.89, 1.46, 1.52, 1.09, 0.87, 1.04, 1.31, 1.45, 0.91, 1.48, 0.99, 0.66, 1.33, 1.48, 1.27, 1.57, 1.61, 0.7, 0.56, 1.54, 1.04, 2.57, 1.96, 0.67, 0.61, 0.78, 1.43, 1.32, 0.96, 0.86, 1.73, 0.77, 1.51, 1.0, 1.33, 0.78, 1.11, 1.07, 0.85, 0.99, 0.82, 0.7, 1.15, 1.29, 1.74, 1.65, 1.23, 1.7, 1.41, 1.69, 1.47, 1.48, 0.74, 0.96, 1.78, 0.73, 1.72, 1.24, 0.9, 1.74, 0.63, 1.74, 0.95, 0.9, 1.3, 0.84, 1.23, 0.94, 0.79, 1.37, 1.56, 1.45, 1.31, 0.64, 1.45, 1.24, 1.35, 1.3, 0.97, 1.57, 1.44, 1.58, 1.74, 1.36, 0.67, 1.1, 0.68, 1.46, 0.85, 0.66, 1.47, 1.76, 1.26, 0.91, 0.5, 0.57, 2.05, 2.03, 1.13, 1.38, 1.24, 1.44, 1.56, 1.44, 1.1, 0.93, 1.59, 0.74, 0.58, 1.63, 1.72, 0.7, 0.66, 0.89, 1.7, 1.59, 1.18, 0.81, 0.68, 1.27, 0.76, 1.69, 1.23, 1.21, 0.7, 0.79, 1.14, 0.87, 0.53, 1.16, 1.26, 0.69, 0.57, 1.07, 1.09, 1.09, 1.02, 1.34, 1.62, 1.05, 1.24, 1.66, 1.22, 1.33, 0.57, 0.9, 1.38, 0.55, 1.32, 1.74, 1.31, 0.78, 0.86, 0.68, 0.77, 1.76, 1.15, 1.75, 1.37, 1.24, 1.12, 1.09, 0.8, 1.77, 0.84, 1.37, 0.71, 1.01, 1.01, 0.96, 0.74, 0.78, 0.37, 2.29, 2.46, 0.8, 1.04, 0.97, 1.13, 1.66, 0.63, 1.73, 1.18, 1.25, 1.16, 0.63, 1.2, 0.78, 0.87, 0.67, 0.67, 0.82, 1.78, 1.06, 1.08, 0.71, 0.71, 1.83, 1.85, 1.1, 0.79, 1.18, 1.75, 1.74, 0.93, 0.87, 1.53, 0.61, 1.72, 1.48, 1.36, 1.32, 0.73, 0.63, 1.67, 1.48, 0.66, 1.7, 1.02, 0.71, 1.15, 1.22, 0.78, 0.62, 0.89, 1.1, 1.13, 1.49, 1.45, 0.97, 0.65, 0.66, 1.74, 1.23, 1.59, 0.86, 1.24, 0.72, 1.4, 0.68, 0.73, 1.2, 1.45, 1.12, 1.08, 1.06, 0.63, 1.45, 0.53, 0.71, 1.13, 1.99, 0.82, 0.59, 1.13, 0.81, 0.82, 0.66, 0.61, 1.3, 0.78, 1.09, 1.1, 0.72, 1.65, 1.22, 1.05, 1.5, 1.73, 1.49, 0.76, 1.22, 0.9, 1.16, 0.76, 1.77, 0.74, 1.56, 1.65, 0.66, 1.21, 0.66, 1.67, 1.1, 0.61, 1.68, 1.62, 1.56, 1.66, 1.43, 1.02, 1.31, 0.67, 0.84, 1.35, 1.1, 1.46, 1.48, 1.5, 0.76, 1.12, 1.02, 1.59, 1.74, 1.73, 1.53, 1.76, 1.38, 1.68, 1.63, 1.2, 1.3, 1.52, 0.77, 1.76, 1.39, 1.45, 1.49, 1.51, 1.42, 0.73, 1.46, 1.59, 0.67, 1.46, 1.73, 0.72, 0.54, 1.16, 2.29, 2.13, 0.62, 0.46, 1.03, 1.61, 1.16, 1.4, 1.23, 0.7, 1.07, 1.09, 0.8, 1.45, 0.72, 0.72, 0.87, 1.53, 1.62, 1.32, 0.99, 1.66, 1.37, 0.85, 1.62, 1.07, 0.96, 1.62, 0.87, 0.76, 1.31, 1.03, 1.5, 1.69, 1.37, 1.26, 1.28, 1.18, 1.02, 1.02, 0.67, 1.12, 1.69, 1.01, 1.72, 0.69, 1.67, 1.11, 0.88, 0.69, 1.2, 1.16, 1.48, 1.01, 1.63, 0.92, 1.43, 0.65, 1.07, 1.63, 0.71, 1.34, 0.99, 0.74, 1.07, 1.38, 1.63, 1.14, 0.69, 0.8, 0.65, 1.55, 0.66, 0.51, 0.96, 1.56, 1.61, 1.05, 1.48, 0.69, 1.61, 1.54, 0.99, 1.03, 1.44, 1.66, 1.26, 1.66, 1.02, 1.61, 0.58, 0.66, 1.32, 0.74, 0.73, 0.63, 1.09, 1.15, 1.69, 1.78, 0.74, 1.34, 1.11, 0.68, 0.78, 1.05, 0.87, 0.85, 1.3, 1.67, 0.81, 0.95, 1.33, 1.61, 0.99, 1.12, 1.68, 1.71, 0.66, 1.26, 0.89, 0.64, 0.69, 0.66, 0.66, 1.57, 1.75, 0.69, 1.73, 0.89, 0.67, 1.24, 0.75, 1.07, 1.54, 1.77, 1.67, 0.74, 0.62, 0.71, 1.28, 0.84, 0.65, 0.65, 0.7, 1.14, 0.59, 1.32, 1.78, 1.95, 1.09, 1.61, 0.92, 0.95, 1.3, 1.0, 0.95, 0.6, 0.79, 1.28, 1.55, 1.51, 0.65, 0.67, 0.72, 1.05, 1.75, 0.96, 0.7, 1.77, 1.08, 1.51, 0.77, 1.06, 0.76, 1.73, 1.09, 1.74, 1.1, 1.09, 1.12, 0.66, 0.69, 1.47, 0.65, 1.33, 1.52, 1.42, 0.84, 1.68, 1.06, 1.18, 1.03, 1.31, 1.24, 1.44, 0.92, 1.62, 0.78, 0.61, 1.12, 1.54, 0.61, 1.35, 0.65, 1.33, 0.86, 1.23, 0.64, 1.01, 1.58, 1.43, 0.94, 1.73, 1.07, 1.03, 1.62, 0.91, 1.14, 1.46, 1.27, 1.3, 0.95, 0.44, 1.52, 2.52, 0.87, 0.6, 0.47, 1.53, 1.66, 1.41, 1.36, 1.65, 1.68, 1.01, 1.41, 0.96, 1.43, 0.92, 1.74, 1.41, 0.66, 1.57, 1.31, 1.45, 1.26, 0.78, 0.81, 1.07, 1.33, 1.02, 0.98, 1.23, 0.68, 0.74, 1.08, 1.62, 1.32, 0.78, 0.68, 1.41, 0.94, 0.57, 1.68, 1.22, 1.27, 1.09, 1.62, 1.1, 1.47, 0.78, 1.26, 0.99, 1.02, 0.68, 1.24, 1.72, 0.61, 1.0, 0.78, 1.67, 1.63, 1.7, 1.65, 1.73, 0.76, 1.46, 1.04, 1.67, 1.7, 1.28, 1.37, 1.18, 1.31, 1.09, 1.66, 0.63, 1.34, 0.91, 0.71, 1.38, 0.63, 0.79, 2.2, 1.42, 1.45, 1.13, 1.56, 0.6, 1.41, 1.19, 1.49, 0.74, 1.36, 0.62, 0.58, 1.52, 1.59, 1.15, 1.72, 1.57, 1.73, 1.11, 1.72, 1.4, 0.71, 0.81, 1.58, 1.09, 1.64, 1.03, 1.69, 1.53, 0.58, 1.44, 0.61, 1.36, 1.07, 1.29, 0.72, 1.62, 0.57, 0.57, 1.19, 1.13, 0.77, 1.69, 0.91, 0.66, 1.3, 1.36, 1.01, 1.15, 0.64, 1.19, 0.56, 0.64, 1.35, 0.91, 1.04, 1.63, 1.64, 1.46, 0.82, 1.53, 0.81, 0.87, 1.59, 0.78, 0.78, 1.65, 0.65, 1.73, 0.59, 1.69, 1.29, 1.6, 1.23, 1.13, 0.42, 1.25, 1.42, 2.24, 0.73, 0.64, 0.59, 1.64, 0.6, 0.61, 1.39, 1.49, 1.68, 1.66, 1.65, 1.24, 1.12, 0.74, 0.62, 1.71, 1.07, 1.18, 1.15, 1.09, 1.23, 1.8, 1.74, 0.78, 1.09, 1.63, 0.87, 0.61, 0.94, 1.44, 1.63, 1.49, 0.77, 1.03, 1.7, 1.28, 1.69, 1.63, 1.15, 0.63, 0.62, 1.31, 0.87, 1.28, 0.64, 1.08, 1.46, 0.61, 0.67, 0.76, 1.72, 0.98, 1.08, 0.65, 0.91, 1.25, 1.26, 1.2, 1.02, 0.71, 1.39, 1.6, 1.54, 1.25, 0.66, 0.78, 0.74, 1.5, 1.67, 1.38, 1.69, 1.64, 0.49, 1.0, 2.19, 2.44, 1.19, 1.26, 0.8, 1.68, 1.7, 1.3, 1.17, 0.95, 1.69, 0.93, 0.74, 1.69, 1.69, 1.54, 1.09, 0.73, 0.89, 0.73, 0.84, 1.29, 1.58, 0.75, 1.56, 0.83, 1.48, 1.01, 1.53, 0.8, 1.28, 0.72, 0.96, 1.37, 0.81, 1.66, 0.67, 0.63, 1.39, 0.83, 1.53, 0.92, 1.22, 0.67, 1.51, 1.31, 1.52, 1.27, 1.52, 1.25, 1.14, 0.63, 1.12, 0.88, 0.99, 0.63, 0.81, 0.91, 1.72, 0.86, 0.98, 1.77, 0.67, 1.35, 1.75, 1.05, 0.65, 1.58, 1.65, 1.2, 1.04, 0.85, 1.54, 1.35, 1.26, 2.59, 2.22, 0.78, 1.24, 1.51, 1.13, 0.66, 1.3, 1.57, 1.45, 0.72, 0.96, 0.67, 1.61, 1.22, 1.71, 0.81, 0.68, 1.73, 1.56, 1.46, 1.49, 1.13, 1.72, 0.81, 0.7, 1.48, 0.84, 1.13, 1.37, 0.65, 1.67, 0.65, 1.29, 0.61, 1.45, 1.55, 0.68, 1.65, 1.19, 1.13, 1.6, 1.67, 1.44, 1.65, 0.74, 0.6, 1.3, 0.61, 1.39, 0.95, 0.61, 1.66, 0.66, 1.02, 0.69, 0.91, 1.13, 0.9, 1.6, 1.56, 0.77, 1.08, 0.87, 1.24, 1.74, 0.79, 0.65, 1.27, 1.19, 1.21, 0.64, 0.68, 0.62, 1.69, 0.51, 0.69, 1.84, 2.14, 0.91, 1.43, 1.51, 1.3, 1.64, 1.43, 1.31, 0.71, 1.09, 0.57, 1.61, 1.26, 1.31, 0.95, 0.77, 0.63, 0.87, 1.62, 1.07, 1.32, 1.61, 1.18, 0.82, 0.63, 1.0, 1.23, 1.33, 1.18, 0.94, 1.16, 0.62, 0.43, 0.55, 1.61, 1.17, 1.37, 1.25, 1.26, 0.85, 0.72, 1.31, 1.41, 1.11, 1.68, 0.96, 1.06, 1.73, 1.44, 1.14, 1.15, 0.87, 0.98, 0.83, 1.06, 0.65, 1.43, 1.64, 1.69, 1.31, 1.62, 0.89, 1.22, 1.07, 1.42, 1.46, 1.67, 1.57, 1.74, 1.62, 0.85, 1.65, 0.64, 1.1, 0.61, 0.89, 1.65, 0.95, 1.56, 1.41, 1.76, 1.05, 0.88, 0.47, 1.01, 0.77, 1.58, 1.62, 1.67, 1.69, 0.88, 0.72, 0.58, 0.85, 1.04, 1.06, 1.01, 1.49, 1.49, 1.06, 1.72, 1.0, 1.57, 1.81, 0.9, 1.87, 1.39, 1.43, 1.5, 1.09, 1.12, 1.21, 0.89, 1.52, 1.62, 1.62, 0.92, 0.74, 1.02, 1.11, 1.48, 1.02, 1.64, 0.67, 1.59, 1.03, 1.3, 0.64, 1.18, 1.66, 1.56, 0.46, 0.74, 0.66, 0.79, 0.59, 1.34, 0.87, 1.17, 0.69, 0.7, 0.94, 1.53, 0.83, 0.76, 1.67, 1.46, 0.74, 1.28, 1.69, 1.14, 0.83, 1.6, 0.71, 0.57, 0.74, 0.47, 1.34, 2.29, 1.59, 1.4, 0.97, 1.21, 1.59, 1.59, 1.36, 0.73, 0.65, 1.62, 1.66, 1.22, 1.21, 1.73, 0.76, 0.76, 1.63, 0.72, 1.22, 1.15, 1.65, 1.38, 0.87, 1.79, 0.85, 1.48, 1.14, 1.03, 0.7, 1.19, 0.88, 1.4, 1.58, 1.22, 1.44, 1.14, 1.7, 1.13, 0.68, 1.32, 1.69, 1.72, 1.2, 0.65, 0.74, 1.31, 1.49, 1.34, 0.85, 1.22, 1.62, 1.52, 0.88, 1.66, 1.07, 0.68, 1.68, 0.83, 1.04, 0.88, 0.81, 1.69, 1.29, 1.76, 1.36, 0.79, 0.65, 1.08, 1.18, 0.73, 1.37, 0.91, 2.25, 2.12, 1.5, 1.42, 0.89, 1.65, 0.88, 0.61, 0.79, 1.65, 0.79, 1.09, 0.73, 1.3, 0.88, 0.97, 1.5, 1.22, 1.6, 1.05, 0.68, 1.47, 1.45, 1.46, 0.97, 1.11, 0.72, 0.69, 1.09, 1.54, 1.35, 1.27, 0.92, 1.04, 1.55, 1.36, 0.73, 1.59, 0.78, 0.64, 1.29, 1.34, 0.64, 0.62, 1.15, 0.67, 1.74, 0.8, 0.64, 0.7, 1.69, 0.66, 1.28, 0.65, 1.7, 1.01, 0.61, 0.97, 1.71, 1.14, 1.79, 0.68, 1.04, 0.99, 1.51, 1.3, 0.68, 1.54, 1.32, 1.63, 1.72, 0.78, 1.02, 1.18, 1.44, 2.33, 1.56, 1.12, 0.83, 0.92, 1.67, 0.76, 0.49, 0.84, 0.64, 1.05, 0.74, 1.68, 1.24, 1.53, 0.65, 1.75, 1.62, 1.39, 1.1, 0.7, 0.97, 1.24, 0.86, 1.73, 1.47, 1.39, 0.74, 1.24, 0.94, 0.65, 0.93, 1.23, 0.7, 1.64, 0.86, 0.7, 0.72, 0.82, 0.81, 0.93, 0.81, 0.61, 1.19, 0.66, 1.65, 1.5, 0.86, 0.9, 1.2, 0.93, 0.88, 1.14, 0.66, 1.72, 1.29, 0.73, 0.94, 0.94, 0.8, 1.08, 0.7, 1.02, 1.39, 1.42, 0.86, 0.48, 1.17, 0.81, 1.06, 0.74, 1.64, 1.74, 0.79, 1.59, 1.6, 1.59, 2.48, 1.32, 1.49, 1.61, 0.87, 0.92, 1.48, 1.18, 1.11, 1.62, 1.04, 0.82, 1.3, 1.69, 0.7, 1.45, 1.06, 1.68, 1.53, 0.9, 0.97, 0.71, 1.8, 1.19, 0.8, 1.57, 0.99, 1.56, 0.65, 0.73, 0.92, 0.72, 0.57, 0.79, 0.9, 0.59, 1.51, 1.06, 1.69, 1.07, 1.49, 0.66, 0.6, 1.6, 0.97, 1.1, 1.2, 0.54, 1.12, 0.73, 0.97, 1.34, 0.9, 0.58, 1.32, 0.97, 0.56, 1.16, 1.56, 1.35, 0.8, 0.88, 1.4, 0.91, 0.89, 1.76, 0.72, 0.62, 1.48, 0.65, 0.76, 1.52, 1.53, 0.67, 0.72, 1.57, 0.87, 0.56, 0.47, 1.02, 1.86, 0.96, 1.13, 0.56, 0.96, 1.56, 0.58, 1.48, 1.34, 0.98, 1.42, 1.65, 0.93, 0.5, 1.42, 0.99, 1.23, 1.67, 1.33, 1.64, 1.0, 1.1, 0.65, 1.12, 0.95, 1.59, 1.18, 0.84, 0.54, 0.64, 1.72, 0.94, 0.98, 1.53, 1.47, 0.87, 1.35, 0.58, 1.25, 0.76, 0.91, 1.21, 1.15, 1.59, 0.59, 0.96, 0.51, 1.39, 1.46, 0.54, 0.98, 1.72, 0.81, 0.87, 1.18, 1.6, 1.52, 1.68, 1.64, 1.56, 0.69, 0.9, 0.89, 0.66, 1.02, 0.57, 1.22, 1.22, 0.85, 0.66, 0.83, 0.52, 0.68, 1.07, 1.17, 1.16, 1.82, 2.19, 0.75, 0.87, 0.5, 1.38, 1.44, 1.68, 1.66, 1.02, 0.63, 0.6, 0.85, 1.45, 1.42, 1.13, 1.0, 0.95, 0.96, 1.07, 0.78, 1.35, 0.96, 0.79, 1.32, 1.4, 0.6, 1.45, 1.36, 1.44, 1.42, 0.9, 0.46, 0.58, 1.39, 0.86, 0.7, 0.69, 1.44, 0.59, 1.52, 0.51, 0.61, 0.74, 0.88, 1.47, 1.4, 0.74, 1.04, 0.85, 0.83, 0.66, 1.42, 1.67, 0.63, 1.7, 1.54, 1.08, 0.74, 1.15, 1.78, 0.72, 0.84, 0.74, 1.65, 0.92, 0.86, 1.05, 1.49, 1.6, 1.04, 1.67, 1.45, 1.0, 2.24, 1.44, 1.49, 1.51, 0.98, 1.68, 1.04, 0.81, 1.3, 1.48, 0.65, 0.54, 0.96, 0.62, 0.51, 1.59, 0.66, 1.74, 1.07, 0.72, 1.58, 1.19, 1.74, 1.59, 1.18, 0.76, 1.71, 1.24, 0.77, 1.05, 0.59, 0.99, 1.52, 1.38, 1.73, 1.22, 1.57, 1.16, 1.13, 1.66, 1.04, 0.87, 1.24, 0.68, 1.46, 1.21, 0.69, 1.39, 0.97, 0.57, 1.21, 1.04, 1.24, 1.43, 1.01, 1.59, 0.98, 0.65, 1.57, 1.24, 1.38, 1.68, 1.41, 1.18, 1.53, 1.61, 0.62, 1.32, 1.3, 0.65, 1.54, 1.04, 1.31, 1.63, 1.6, 0.79, 1.13, 1.69, 0.54, 0.6, 2.43, 2.11, 1.71, 1.5, 0.85, 0.91, 0.66, 1.45, 0.65, 1.58, 0.7, 1.3, 1.3, 0.9, 0.78, 1.52, 1.07, 1.46, 1.7, 1.73, 1.2, 1.07, 1.19, 1.72, 1.14, 1.0, 0.76, 0.67, 0.88, 1.18, 1.25, 1.09, 1.13, 1.49, 1.35, 0.63, 1.18, 0.64, 0.68, 1.1, 1.33, 1.69, 1.13, 1.36, 0.92, 1.02, 0.83, 1.01, 0.6, 1.67, 0.94, 1.65, 1.08, 0.64, 0.63, 1.63, 0.6, 0.65, 1.0, 1.48, 1.06, 1.67, 0.81, 0.82, 1.3, 1.36, 1.76, 0.87, 1.73, 0.93, 1.34, 1.45, 1.01, 1.72, 0.85, 0.59, 0.82, 1.58, 0.55, 1.09, 0.44, 1.58, 2.54, 0.83, 0.56, 1.18, 0.87, 1.5, 0.56, 1.45, 1.15, 0.81, 1.57, 0.95, 0.96, 1.45, 1.05, 1.03, 0.62, 1.3, 1.07, 0.87, 1.26, 0.81, 1.33, 1.18, 0.73, 0.72, 1.65, 1.45, 1.52, 1.2, 0.73, 0.6, 0.77, 0.88, 1.13, 0.73, 1.54, 0.65, 0.74, 0.62, 0.94, 1.4, 1.52, 1.23, 1.45, 1.19, 1.31, 1.49, 1.59, 1.03, 1.68, 0.83, 1.68, 0.96, 0.69, 1.69, 1.04, 0.82, 1.73, 0.61, 0.72, 1.37, 1.37, 1.17, 1.65, 1.28, 1.43, 0.97, 1.78, 1.29, 0.58, 1.69, 1.69, 1.2, 0.67, 0.6, 1.01, 0.66, 0.52, 0.48, 0.91, 1.95, 1.83, 0.77, 1.52, 1.4, 0.59, 1.4, 1.59, 1.64, 0.71, 0.77, 0.78, 1.64, 0.76, 1.71, 1.68, 0.86, 1.68, 1.29, 1.51, 1.08, 0.63, 1.72, 0.66, 0.69, 1.28, 1.53, 1.78, 0.71, 1.21, 1.31, 1.26, 1.09, 0.79, 1.65, 1.64, 1.69, 0.64, 0.69, 0.69, 1.67, 1.77, 0.71, 1.72, 1.5, 0.74, 0.73, 0.86, 0.64, 1.63, 1.22, 0.84, 0.65, 0.78, 0.75, 0.64, 0.86, 1.74, 1.51, 0.74, 0.94, 1.57, 0.81, 1.33, 1.64, 0.78, 0.92, 1.71, 1.36, 0.62, 1.56, 0.65, 0.65, 1.48, 0.84, 2.22, 2.49, 1.35, 0.88, 0.9, 1.59, 1.49, 1.59, 1.0, 0.62, 1.37, 1.12, 1.48, 1.23, 0.82, 1.69, 1.71, 1.69, 1.4, 1.78, 1.72, 1.63, 1.3, 0.67, 1.7, 0.83, 1.04, 1.16, 0.79, 0.69, 0.89, 0.73, 1.72, 1.67, 1.42, 1.34, 0.73, 1.11, 0.88, 0.72, 1.29, 0.83, 1.69, 0.61, 0.72, 1.11, 0.81, 1.64, 1.24, 1.29, 0.93, 1.34, 1.71, 0.91, 1.02, 1.5, 0.83, 1.72, 1.74, 0.84, 1.43, 0.76, 1.16, 0.88, 1.72, 1.7, 1.66, 1.03, 1.13, 0.93, 0.64, 1.51, 1.41, 1.44, 1.48, 0.92, 1.2, 0.9, 0.62, 0.83, 1.66, 0.87, 0.65, 0.64, 1.15, 0.72, 1.35, 1.57, 0.7, 0.65, 1.46, 1.56, 1.27, 1.74, 1.71, 1.72, 1.74, 1.02, 1.58, 1.06, 1.48, 1.76, 0.78, 1.66, 0.86, 0.88, 1.03, 0.89, 0.67, 0.9, 0.99, 0.61, 1.7, 1.6, 0.84, 1.45, 1.08, 1.71, 1.55, 1.1, 1.1, 0.78, 0.69, 0.76, 1.68, 1.35, 1.18, 1.68, 1.02, 0.97, 1.65, 1.48, 1.34, 0.72, 1.64, 1.66, 1.43, 0.64, 1.73, 1.53, 0.65, 1.31, 1.08, 0.87, 1.05, 1.2, 1.32, 0.57, 0.87, 2.41, 1.43, 1.43, 0.67, 1.03, 1.15, 0.91, 1.45, 1.51, 0.65, 0.97, 1.36, 1.28, 1.06, 0.81, 0.91, 1.0, 1.21, 1.7, 1.47, 1.26, 1.47, 1.52, 1.31, 1.45, 1.09, 1.24, 0.74, 1.53, 1.73, 1.5, 1.05, 1.32, 0.81, 1.44, 0.77, 1.23, 1.59, 1.26, 1.51, 1.62, 0.71, 0.96, 0.92, 1.11, 1.51, 0.65, 0.73, 0.99, 1.51, 0.77, 0.68, 1.63, 1.59, 0.77, 1.1, 0.86, 1.63, 0.85, 0.98, 1.41, 0.66, 0.86, 1.21, 0.76, 0.65, 0.66, 1.37, 1.72, 1.72, 1.42, 0.63, 0.92, 0.89, 0.67, 1.02, 1.42, 1.17, 0.92, 1.28, 1.9, 1.9, 1.05, 0.71, 0.97, 1.71, 0.58, 0.96, 0.75, 0.88, 1.71, 1.32, 1.45, 0.86, 0.62, 1.14, 1.08, 1.02, 1.44, 1.56, 1.74, 1.01, 1.38, 1.23, 0.98, 1.32, 1.52, 1.51, 1.06, 0.75, 1.64, 0.98, 1.22, 0.72, 1.47, 0.6, 1.59, 1.38, 1.11, 0.63, 1.52, 0.63, 1.46, 1.42, 1.09, 0.9, 1.59, 1.18, 0.64, 0.78, 1.52, 0.74, 1.65, 1.42, 1.45, 1.08, 0.85, 1.24, 1.71, 1.71, 1.06, 1.21, 0.59, 1.09, 1.71, 1.18, 1.51, 1.11, 0.7, 0.97, 1.16, 0.82, 0.9, 1.6, 1.13, 1.26, 0.59, 1.04, 0.58, 0.86, 0.49, 1.5, 1.64, 1.46, 0.71, 1.42, 1.63, 0.86, 1.28, 0.97, 1.2, 0.59, 1.67, 1.02, 1.26, 1.65, 1.54, 1.52, 0.66, 1.22, 0.96, 1.68, 0.97, 0.87, 0.72, 0.7, 1.33, 1.7, 0.95, 0.68, 1.47, 0.66, 1.37, 0.58, 1.68, 1.06, 1.66, 1.2, 0.95, 1.62, 1.42, 0.76, 1.19, 1.43, 0.68, 1.27, 0.87, 0.77, 1.48, 0.78, 1.16, 1.08, 0.92, 1.3, 1.68, 0.73, 0.7, 1.68, 1.55, 0.79, 0.74, 1.29, 0.7, 1.74, 1.08, 0.9, 1.79, 1.3, 0.63, 0.93, 1.68, 0.76, 1.7, 1.14, 1.74, 0.64, 0.49, 1.19, 1.06, 1.56, 1.09, 0.78, 0.61, 1.31, 1.13, 0.65, 0.74, 1.7, 1.7, 1.02, 1.46, 1.04, 1.68, 1.31, 0.79, 1.59, 0.8, 0.7, 1.4, 0.8, 1.67, 0.75, 0.68, 0.72, 1.0, 0.76, 1.33, 0.96, 1.67, 0.85, 1.06, 0.98, 0.6, 0.68, 1.4, 0.71, 1.43, 0.69, 1.62, 1.37, 1.68, 1.57, 0.98, 0.62, 0.98, 1.3, 1.41, 1.33, 1.59, 1.61, 1.64, 1.13, 0.88, 0.68, 1.11, 1.59, 1.64, 0.72, 0.78, 0.63, 0.73, 0.73, 1.26, 1.46, 0.82, 0.89, 1.21, 0.81, 1.6, 0.91, 1.09, 0.9, 0.72, 1.46, 1.62, 1.18, 1.79, 1.97, 1.02, 1.44, 0.58, 1.23, 0.63, 0.97, 1.61, 0.94, 1.15, 0.97, 1.67, 1.56, 0.73, 1.22, 1.73, 1.31, 1.71, 1.51, 1.36, 1.07, 1.03, 0.89, 1.01, 1.85, 0.8, 0.87, 1.53, 1.12, 0.99, 1.64, 1.01, 0.71, 0.88, 1.11, 1.02, 0.63, 1.09, 1.33, 1.53, 1.44, 1.67, 1.6, 0.71, 1.7, 0.94, 0.9, 1.06, 0.62, 1.3, 1.17, 1.23, 0.83, 1.39, 0.85, 1.44, 1.25, 1.3, 1.58, 0.73, 0.97, 1.7, 1.45, 0.8, 1.24, 1.22, 0.85, 0.72, 0.93, 0.72, 1.5, 1.25, 1.11, 0.64, 1.12, 1.69, 1.54, 0.67, 1.46, 0.66, 0.78, 1.8, 1.83, 1.1, 0.64, 1.49, 0.67, 1.72, 1.01, 1.67, 0.99, 1.59, 0.69, 0.64, 1.31, 0.75, 1.09, 0.67, 1.65, 1.02, 1.37, 1.72, 1.35, 1.18, 1.55, 1.75, 1.81, 1.78, 0.94, 1.24, 1.04, 0.99, 1.68, 0.88, 0.63, 1.03, 1.17, 1.58, 1.61, 0.74, 0.64, 0.6, 1.67, 0.72, 1.2, 0.94, 1.1, 1.71, 1.43, 1.2, 0.85, 0.59, 1.73, 0.94, 0.79, 0.67, 1.47, 1.63, 1.66, 0.84, 1.62, 1.59, 1.67, 0.67, 0.7, 1.39, 1.46, 1.03, 0.74, 1.5, 1.58, 1.33, 0.63, 1.22, 0.91, 1.69, 1.3, 1.42, 1.14, 0.68, 1.7, 1.36, 0.74, 1.02, 0.99, 1.83, 2.12, 1.06, 0.57, 0.57, 1.25, 0.87, 1.44, 1.68, 1.04, 1.47, 1.33, 1.41, 0.87, 0.96, 0.65, 1.48, 1.62, 0.98, 0.73, 0.82, 0.96, 1.27, 0.72, 1.19, 0.73, 1.59, 1.15, 0.84, 1.41, 1.57, 1.27, 1.63, 1.12, 0.73, 0.71, 1.49, 0.64, 1.23, 0.7, 0.78, 0.67, 0.81, 1.67, 0.96, 1.04, 0.6, 1.27, 0.63, 1.39, 1.29, 0.76, 1.66, 0.75, 1.08, 1.57, 0.77, 1.62, 0.64, 0.68, 0.67, 0.76, 1.16, 0.92, 1.44, 0.84, 1.09, 1.67, 1.07, 1.32, 1.08, 1.75, 1.25, 0.65, 1.52, 1.45, 0.7, 0.96, 0.69, 1.44, 0.58, 0.96, 1.18, 1.96, 2.57, 1.0, 1.26, 0.96, 0.6, 0.85, 1.2, 1.3, 1.49, 0.92, 1.04, 1.34, 0.89, 1.03, 1.59, 1.32, 1.7, 0.78, 1.03, 1.53, 0.65, 1.76, 0.75, 1.62, 1.79, 0.83, 0.98, 1.13, 0.68, 1.73, 0.72, 1.09, 0.81, 1.6, 1.4, 1.73, 0.82, 1.19, 0.88, 0.65, 1.04, 1.7, 1.71, 0.71, 1.46, 1.2, 1.69, 1.42, 0.68, 0.94, 1.31, 1.71, 1.34, 1.04, 1.49, 1.64, 0.79, 0.68, 0.66, 0.88, 1.68, 0.64, 0.68, 0.63, 1.39, 1.3, 1.72, 1.65, 0.76, 1.46, 1.01, 1.07, 0.66, 1.27, 1.7, 1.37, 1.49, 1.27, 1.21, 2.17, 2.48, 0.7, 0.73, 0.66, 1.29, 1.19, 1.14, 1.71, 0.68, 1.54, 1.7, 1.75, 1.69, 1.49, 1.09, 0.88, 0.92, 1.65, 1.52, 1.71, 1.49, 1.3, 1.27, 0.7, 1.85, 1.66, 0.86, 0.77, 0.78, 1.14, 0.6, 0.6, 1.15, 1.02, 0.65, 0.66, 1.58, 0.66, 1.05, 1.06, 0.95, 1.22, 0.86, 0.64, 0.58, 0.7, 0.62, 0.61, 1.68, 1.67, 1.15, 0.66, 1.29, 0.66, 1.57, 1.09, 0.87, 1.6, 0.65, 1.25, 1.51, 0.87, 1.71, 0.93, 1.14, 0.69, 1.45, 1.71, 0.83, 1.55, 1.15, 0.62, 1.67, 0.8, 1.06, 1.03, 0.78, 0.67, 0.94, 1.53, 0.51, 1.1, 1.49, 2.6, 0.98, 0.64, 1.51, 0.77, 0.63, 1.54, 1.58, 1.66, 0.6, 1.75, 1.35, 1.72, 0.82, 0.67, 0.91, 0.67, 1.53, 1.02, 0.69, 1.03, 1.17, 1.2, 1.38, 1.1, 0.85, 1.09, 1.01, 1.69, 0.63, 1.18, 0.66, 1.44, 0.76, 1.27, 1.47, 0.82, 0.65, 0.65, 1.64, 1.0, 1.15, 0.71, 1.26, 0.79, 1.63, 0.99, 0.69, 0.91, 1.58, 1.54, 1.44, 1.55, 0.74, 1.47, 1.53, 1.35, 0.77, 1.06, 0.8, 1.19, 1.57, 1.67, 1.73, 0.65, 1.44, 1.54, 1.46, 1.72, 1.15, 0.71, 1.52, 1.22, 1.67, 1.62, 1.15, 1.7, 0.95, 0.86, 0.72, 1.65, 0.69, 1.66, 1.07, 1.55, 2.28, 2.28, 0.9, 1.39, 0.65, 1.34, 1.66, 1.56, 1.4, 0.65, 1.43, 1.02, 1.35, 1.28, 1.62, 1.09, 0.63, 1.69, 0.76, 0.64, 1.7, 1.77, 1.12, 0.95, 1.68, 0.78, 0.76, 0.74, 1.24, 0.77, 0.57, 1.57, 1.67, 1.64, 1.69, 1.35, 1.2, 1.18, 0.65, 1.59, 1.07, 1.31, 1.57, 1.28, 0.63, 1.39, 0.85, 1.01, 0.87, 0.58, 0.63, 0.73, 0.7, 0.86, 1.17, 1.7, 0.92, 0.82, 1.55, 1.04, 1.03, 0.95, 1.35, 0.68, 1.47, 1.27, 1.59, 0.82, 0.69, 1.18, 0.84, 1.75, 0.81, 1.17, 1.56, 0.76, 0.69, 0.63, 1.52, 1.47, 0.85, 0.94, 1.24, 1.44, 0.91, 1.4, 1.89, 2.41, 0.87, 0.75, 1.48, 0.55, 1.68, 1.44, 0.68, 1.1, 1.22, 1.67, 1.06, 1.55, 1.24, 1.1, 1.3, 1.75, 1.41, 1.58, 1.0, 0.62, 1.77, 1.65, 1.52, 1.45, 1.73, 1.77, 0.71, 1.3, 1.32, 1.62, 0.58, 0.69, 0.59, 0.7, 0.67, 1.53, 1.27, 0.61, 0.8, 0.68, 0.64, 1.52, 1.11, 1.62, 1.12, 1.11, 0.77, 0.88, 1.23, 1.16, 0.88, 0.85, 0.9, 0.92, 0.6, 0.75, 0.72, 0.65, 1.39, 1.24, 1.72, 1.18, 1.02, 1.26, 0.83, 1.73, 1.3, 0.7, 1.13, 0.67, 1.4, 1.42, 1.45, 0.69, 1.7, 0.71, 0.6, 1.63, 2.09, 1.45, 1.16, 0.98, 1.54, 1.43, 1.21, 0.72, 1.04, 0.66, 1.04, 1.12, 0.94, 0.85, 1.12, 0.68, 1.27, 0.81, 0.94, 1.29, 1.36, 0.91, 1.01, 1.58, 1.5, 0.97, 1.45, 1.02, 1.61, 1.26, 1.09, 1.66, 0.97, 0.62, 1.66, 0.78, 1.2, 1.41, 1.5, 0.95, 1.42, 0.63, 1.68, 1.38, 1.29, 0.79, 1.19, 1.61, 0.59, 1.34, 1.23, 0.69, 1.34, 0.59, 1.38, 1.68, 1.32, 1.4, 1.66, 1.64, 1.43, 1.11, 1.75, 1.18, 1.67, 0.7, 1.43, 1.3, 0.6, 1.53, 0.94, 0.67, 1.69, 1.22, 1.18, 1.16, 1.6, 1.58, 1.55, 0.75, 1.35, 1.63, 0.85, 1.18, 1.41, 1.39, 0.73, 1.0, 1.02, 0.84, 0.87, 1.03, 0.63, 1.41, 0.67, 0.61, 1.51, 1.21, 1.75, 0.72, 0.75, 1.08, 1.72, 0.78, 0.71, 1.28, 1.07, 1.59, 1.55, 0.62, 0.77, 1.1, 0.6, 1.05, 0.79, 1.12, 0.69, 1.41, 1.17, 1.13, 0.63, 1.32, 0.77, 0.75, 1.68, 1.27, 1.73, 0.93, 0.96, 1.25, 1.04, 1.58, 1.1, 1.39, 0.64, 0.58, 1.13, 0.85, 1.43, 1.2, 1.13, 0.84, 1.05, 0.74, 1.56, 0.93, 1.38, 1.73, 1.48, 1.7, 0.92, 1.64, 0.88, 1.36, 1.29, 1.45, 1.53, 1.79, 0.82, 1.2, 1.66, 1.14, 1.65, 0.83, 0.95, 1.27, 0.62, 0.98, 1.02, 0.82, 0.6, 0.85, 1.48, 0.83, 1.53, 1.66, 1.78, 1.7, 0.85, 1.73, 1.7, 1.78, 1.79, 1.71, 1.45, 1.6, 1.28, 0.85, 1.26, 1.64, 1.2, 0.54, 1.0, 1.33, 1.62, 1.26, 0.99, 1.68, 1.18, 0.64, 1.68, 1.03, 0.77, 1.15, 1.07, 0.96, 1.51, 0.7, 1.41, 1.67, 1.32, 1.42, 0.8, 0.67, 0.99, 0.79, 0.75, 1.68, 1.01, 1.7, 1.67, 1.63, 1.18, 1.3, 1.16, 0.96, 0.72, 1.25, 0.84, 1.61, 0.67, 1.1, 1.38, 1.39, 1.21, 0.67, 1.51, 0.96, 0.72, 2.29, 2.53, 1.16, 0.82, 0.57, 1.1, 0.65, 1.08, 1.05, 1.46, 1.13, 1.51, 0.76, 1.65, 1.64, 1.58, 1.62, 1.22, 1.46, 1.17, 1.75, 1.71, 1.18, 0.93, 1.66, 1.21, 1.66, 0.72, 1.37, 1.52, 1.7, 1.16, 0.63, 1.64, 1.65, 0.89, 1.59, 0.69, 1.09, 0.84, 0.6, 1.38, 1.63, 0.77, 0.73, 0.89, 0.89, 1.18, 0.72, 0.56, 1.19, 1.38, 1.65, 0.5, 0.64, 1.58, 1.25, 1.68, 1.17, 1.16, 1.71, 1.28, 0.75, 1.1, 1.61, 1.19, 0.94, 0.93, 1.29, 1.62, 1.09, 1.73, 1.04, 1.38, 0.96, 0.65, 1.72, 1.5, 1.34, 0.98, 0.52, 0.58, 0.88, 1.36, 2.53, 1.98, 0.85, 0.65, 1.24, 1.71, 0.64, 1.13, 1.57, 1.5, 1.42, 0.83, 0.74, 0.7, 1.54, 1.11, 1.0, 1.65, 1.73, 1.13, 1.13, 1.28, 1.24, 1.8, 1.61, 1.16, 1.5, 0.67, 1.09, 1.04, 1.05, 0.7, 0.74, 1.62, 1.61, 1.65, 1.24, 1.53, 0.72, 1.04, 1.72, 1.47, 1.26, 1.46, 1.3, 1.58, 1.1, 1.66, 0.9, 0.88, 0.69, 1.34, 1.51, 1.74, 1.48, 1.66, 0.77, 0.8, 1.75, 0.73, 1.66, 0.96, 0.67, 1.49, 1.74, 1.0, 0.72, 0.97, 1.53, 0.7, 1.63, 1.65, 1.05, 0.6, 1.06, 0.74, 1.52, 2.4, 1.31, 0.62, 1.23, 1.38, 1.39, 1.0, 1.63, 0.79, 0.73, 1.06, 0.56, 0.53, 1.58, 1.62, 1.64, 1.63, 1.23, 0.41, 0.75, 0.9, 1.79, 0.86, 0.84, 1.31, 0.69, 0.58, 1.66, 0.89, 0.78, 1.08, 1.68, 1.34, 1.23, 0.88, 1.46, 0.81, 1.73, 1.52, 1.6, 0.7, 1.09, 1.07, 1.2, 0.56, 0.64, 0.91, 0.94, 1.24, 0.7, 0.79, 0.81, 1.12, 0.77, 1.18, 0.97, 0.78, 1.3, 1.25, 1.52, 0.78, 1.35, 1.43, 1.25, 0.75, 1.62, 0.76, 0.76, 1.31, 0.87, 0.74, 0.59, 1.96, 1.54, 1.34, 1.11, 0.6, 0.73, 0.79, 0.92, 0.67, 0.83, 1.12, 0.63, 1.04, 1.14, 1.52, 1.61, 1.53, 1.07, 0.72, 1.32, 0.91, 1.09, 1.52, 1.74, 1.41, 1.11, 1.28, 0.68, 1.14, 1.3, 1.07, 1.58, 0.75, 1.31, 0.75, 0.92, 0.88, 0.92, 0.62, 0.79, 1.06, 1.12, 1.63, 1.07, 1.13, 1.45, 0.7, 0.67, 0.62, 0.86, 0.78, 0.87, 1.55, 0.93, 0.78, 1.48, 0.92, 0.89, 0.7, 0.8, 0.85, 1.24, 0.95, 1.15, 0.72, 0.86, 0.98, 1.34, 1.09, 1.12, 1.26, 1.64, 1.0, 1.25, 0.87, 0.43, 1.22, 2.34, 0.97, 1.33, 1.1, 1.45, 0.91, 0.88, 0.8, 1.41, 1.09, 1.33, 1.35, 1.72, 0.69, 0.75, 1.67, 1.43, 1.52, 1.34, 0.79, 1.69, 1.78, 1.56, 1.27, 0.8, 1.54, 1.79, 1.31, 0.9, 1.24, 1.66, 1.5, 1.22, 1.46, 1.21, 1.05, 0.73, 0.93, 1.46, 0.61, 1.01, 1.54, 1.33, 1.58, 0.63, 1.66, 1.11, 1.01, 1.28, 0.65, 1.43, 1.11, 1.46, 1.23, 1.44, 0.69, 1.43, 1.3, 1.69, 1.5, 1.03, 1.66, 1.15, 0.94, 1.48, 1.19, 0.86, 1.41, 0.82, 1.76, 0.71, 1.18, 1.15, 1.68, 1.59, 0.95, 1.4, 0.72, 1.47, 0.87, 0.67, 1.29, 2.46, 1.76, 0.51, 1.56, 1.36, 1.47, 0.83, 1.54, 1.26, 0.7, 0.97, 0.41, 1.26, 0.9, 1.57, 1.35, 1.37, 0.64, 0.79, 1.67, 1.7, 1.27, 0.8, 1.33, 1.7, 1.29, 1.41, 0.81, 1.68, 1.58, 1.61, 1.55, 0.9, 0.6, 0.63, 1.11, 0.58, 1.66, 0.6, 0.68, 1.22, 1.01, 1.03, 1.65, 1.16, 1.6, 1.29, 1.21, 0.93, 1.7, 0.74, 1.68, 1.53, 0.88, 0.65, 0.66, 0.66, 1.57, 1.26, 0.94, 0.85, 1.56, 0.99, 1.44, 1.42, 1.68, 1.39, 1.7, 1.41, 1.76, 0.94, 1.66, 0.62, 0.78, 0.94, 1.29, 0.62, 1.74, 1.3, 1.72, 1.52, 1.36, 1.44, 2.32, 2.35, 1.04, 0.81, 1.32, 1.0, 0.57, 0.85, 1.62, 1.4, 0.74, 1.6, 1.26, 0.64, 0.88, 0.98, 0.71, 1.41, 1.74, 1.56, 1.78, 0.76, 1.66, 1.79, 0.73, 1.13, 1.42, 1.74, 1.01, 1.08, 0.71, 1.73, 1.03, 1.04, 0.69, 1.11, 1.7, 1.29, 1.64, 1.24, 0.95, 1.33, 1.06, 1.29, 0.99, 1.3, 1.52, 0.7, 0.65, 1.65, 1.74, 1.18, 1.17, 1.25, 1.55, 1.64, 1.46, 0.73, 1.64, 0.97, 1.12, 0.65, 1.67, 0.73, 1.55, 0.74, 1.08, 1.04, 1.65, 0.8, 0.8, 1.73, 0.94, 0.92, 0.69, 0.74, 1.18, 0.82, 2.03, 2.36, 0.93, 1.39, 1.16, 1.31, 0.65, 1.13, 1.06, 1.65, 1.25, 0.76, 1.33, 1.55, 1.12, 1.05, 0.86, 1.13, 1.38, 1.71, 1.44, 0.85, 0.96, 0.78, 0.98, 1.82, 0.74, 1.33, 1.54, 1.41, 0.73, 1.13, 1.04, 0.9, 0.89, 1.45, 0.99, 1.25, 0.67, 1.52, 0.68, 1.7, 0.63, 1.52, 0.98, 0.85, 1.15, 1.23, 1.08, 1.58, 1.12, 1.72, 0.66, 0.86, 1.1, 0.61, 1.05, 0.76, 1.11, 1.7, 1.04, 1.4, 1.24, 1.68, 0.88, 1.19, 1.58, 1.44, 1.68, 1.28, 0.9, 0.76, 0.75, 1.65, 0.59, 1.58, 1.51, 1.71, 2.22, 1.52, 0.99, 1.33, 1.26, 0.99, 0.76, 1.54, 0.87, 1.02, 1.08, 0.75, 1.68, 1.23, 1.04, 0.86, 0.68, 0.75, 1.44, 1.18, 1.25, 1.57, 1.15, 1.12, 1.86, 0.74, 1.12, 0.9, 1.51, 1.06, 1.33, 1.63, 1.26, 0.98, 1.24, 0.84, 0.63, 0.84, 0.88, 0.68, 1.03, 0.66, 1.05, 1.49, 1.35, 1.51, 0.96, 1.48, 1.17, 0.75, 0.67, 1.05, 1.09, 1.34, 1.17, 1.44, 0.65, 1.24, 1.73, 1.66, 1.43, 1.03, 1.71, 1.63, 1.76, 1.43, 1.69, 1.31, 1.19, 1.73, 0.75, 1.5, 1.68, 0.62, 0.96, 0.73, 1.16, 0.85, 1.66, 0.98, 1.55, 1.3, 1.59, 2.2, 1.65, 1.43, 1.27, 0.72, 1.07, 1.64, 1.52, 0.6, 0.58, 1.62, 1.12, 0.66, 0.85, 1.23, 1.75, 1.36, 0.81, 1.7, 1.39, 1.02, 0.72, 1.42, 1.84, 1.3, 1.48, 0.72, 0.65, 1.53, 0.82, 1.02, 1.43, 1.01, 1.43, 1.3, 1.61, 0.87, 1.38, 0.62, 1.46, 1.57, 0.7, 1.08, 0.89, 0.61, 0.81, 1.25, 1.01, 1.58, 1.24, 1.74, 0.73, 0.75, 1.68, 0.59, 1.01, 0.72, 1.38, 1.36, 0.96, 1.08, 1.49, 0.7, 0.66, 1.01, 0.94, 0.98, 1.2, 1.57, 0.67, 0.64, 1.42, 1.32, 0.65, 0.69, 0.98, 1.41, 1.23, 1.33, 1.64, 1.63, 0.84, 0.49, 1.19, 1.96, 1.2, 1.26, 1.07, 1.1, 0.63, 1.2, 1.62, 0.84, 1.48, 0.97, 1.36, 1.5, 0.9, 1.32, 0.63, 1.75, 1.06, 1.21, 1.33, 1.16, 1.74, 1.5, 1.11, 1.46, 1.72, 1.41, 1.79, 1.63, 1.59, 0.98, 0.69, 1.57, 1.62, 0.85, 1.4, 1.04, 0.62, 0.69, 1.17, 1.63, 1.19, 1.47, 1.4, 0.9, 1.26, 0.86, 1.61, 1.41, 1.56, 1.41, 1.17, 0.59, 0.76, 1.34, 0.6, 1.57, 1.68, 1.02, 1.26, 0.77, 0.68, 1.43, 1.61, 1.23, 0.6, 1.47, 1.01, 1.33, 1.09, 0.92, 0.73, 1.74, 0.66, 0.6, 1.74, 1.66, 1.42, 1.73, 1.56, 1.35, 0.55, 1.97, 2.32, 1.53, 0.61, 0.5, 1.24, 1.62, 1.66, 1.39, 0.75, 1.28, 1.39, 0.83, 0.85, 1.24, 1.52, 1.43, 1.07, 1.38, 1.23, 1.1, 1.63, 1.77, 1.09, 0.95, 1.69, 1.73, 0.73, 1.27, 0.67, 0.88, 1.63, 0.94, 1.46, 1.06, 0.65, 0.7, 1.15, 1.13, 1.53, 0.69, 1.16, 0.66, 1.01, 1.46, 0.69, 0.98, 1.5, 0.62, 1.16, 1.08, 1.09, 0.91, 0.67, 1.26, 0.87, 1.7, 0.66, 0.86, 0.68, 1.67, 1.0, 0.81, 1.15, 1.36, 0.74, 0.91, 1.74, 0.63, 0.96, 1.24, 0.6, 1.12, 1.15, 1.55, 0.79, 1.24, 2.34, 2.06, 1.67, 0.87, 1.53, 1.09, 1.48, 0.87, 0.87, 0.63, 0.7, 0.68, 0.73, 1.09, 1.74, 1.25, 0.72, 0.7, 0.75, 0.7, 1.08, 0.69, 1.18, 1.43, 1.21, 0.87, 0.66, 1.76, 0.97, 1.28, 1.22, 0.86, 1.34, 1.12, 1.15, 1.57, 0.81, 1.32, 1.55, 1.66, 1.2, 1.68, 1.0, 1.31, 1.13, 1.19, 1.14, 1.18, 0.94, 0.78, 1.51, 0.97, 1.63, 0.95, 1.33, 1.05, 1.2, 0.78, 0.79, 1.27, 0.8, 1.66, 0.77, 1.3, 0.67, 1.32, 1.76, 0.87, 0.81, 1.19, 0.81, 0.59, 1.5, 1.42, 0.71, 1.65, 0.66, 1.29, 0.63, 2.59, 1.95, 1.67, 0.64, 1.5, 0.7, 0.57, 0.9, 1.47, 1.15, 0.84, 1.15, 1.27, 1.54, 1.43, 1.72, 0.6, 1.65, 1.71, 1.26, 1.05, 1.06, 1.4, 1.65, 1.72, 1.54, 1.61, 1.47, 1.54, 0.86, 1.68, 0.68, 0.85, 1.08, 0.64, 1.57, 1.72, 1.18, 1.1, 0.72, 1.47, 0.8, 1.72, 0.6, 1.0, 0.85, 1.39, 1.69, 0.9, 1.63, 1.55, 1.29, 1.74, 1.13, 1.19, 1.09, 1.66, 1.6, 1.35, 1.18, 1.57, 0.65, 1.03, 1.01, 1.59, 1.37, 0.66, 1.44, 1.17, 1.56, 1.21, 1.48, 0.63, 1.6, 1.03, 0.64, 0.73, 1.71, 0.94, 0.74, 1.6, 1.03, 0.68, 1.66, 2.68, 1.61, 0.82, 0.62, 0.83, 1.25, 1.63, 1.4, 1.32, 1.48, 1.62, 1.16, 1.66, 0.96, 1.71, 1.26, 1.76, 1.34, 0.63, 1.38, 1.7, 0.73, 1.73, 1.31, 0.95, 1.49, 0.83, 0.7, 1.2, 1.67, 0.61, 0.55, 0.78, 1.27, 0.73, 1.6, 1.43, 0.64, 0.72, 1.35, 1.72, 1.03, 1.66, 0.69, 1.35, 1.42, 1.01, 0.92, 0.71, 0.89, 0.98, 1.28, 1.56, 1.17, 1.34, 0.87, 0.65, 1.45, 0.7, 1.12, 0.86, 0.67, 1.64, 0.98, 0.65, 0.63, 1.64, 0.63, 0.93, 0.83, 1.52, 1.72, 0.98, 1.02, 1.17, 1.69, 0.65, 1.11, 0.61, 1.66, 1.14, 0.84, 1.49, 1.61, 2.38, 1.57, 0.92, 0.69, 1.01, 1.1, 0.64, 1.02, 1.42, 0.82, 1.01, 0.65, 1.71, 0.58, 1.28, 1.14, 0.83, 1.54, 1.7, 1.06, 1.76, 1.09, 1.57, 1.59, 0.83, 1.38, 1.72, 1.37, 1.58, 1.41, 0.63, 0.76, 0.66, 1.0, 1.28, 0.61, 0.86, 0.76, 1.71, 1.03, 1.09, 0.65, 1.67, 1.06, 1.67, 1.21, 1.54, 0.92, 1.68, 1.19, 0.6, 0.66, 1.57, 0.64, 1.73, 0.68, 1.23, 1.36, 0.89, 1.14, 1.31, 1.69, 1.23, 1.31, 0.95, 1.52, 1.67, 0.74, 1.63, 0.91, 0.92, 1.55, 1.51, 1.09, 0.5, 1.15, 0.72, 1.52, 2.01, 1.71, 1.12, 0.7, 0.58, 1.08, 1.25, 0.85, 1.32, 0.67, 1.09, 1.7, 0.88, 0.85, 1.55, 1.09, 0.87, 0.74, 1.56, 1.44, 1.54, 1.01, 1.43, 1.58, 1.07, 1.04, 1.44, 1.3, 1.06, 1.04, 1.65, 0.63, 1.52, 0.82, 0.95, 1.76, 0.87, 1.56, 0.82, 1.46, 0.92, 1.03, 1.65, 0.54, 1.48, 1.75, 1.65, 1.28, 1.06, 1.59, 1.13, 0.87, 1.0, 0.96, 0.7, 1.09, 0.98, 1.04, 1.66, 1.75, 0.75, 1.21, 1.73, 0.67, 0.67, 0.91, 0.46, 1.47, 1.59, 0.75, 0.98, 0.76, 2.21, 1.45, 1.84, 1.09, 0.96, 0.81, 1.3, 0.92, 0.91, 1.15, 0.6, 0.72, 0.79, 1.2, 1.25, 1.56, 0.8, 0.94, 0.79, 1.79, 0.91, 0.66, 0.71, 1.59, 1.08, 0.71, 0.78, 0.96, 1.16, 0.86, 1.59, 1.54, 1.11, 1.66, 1.35, 1.69, 0.64, 0.72, 0.7, 0.66, 0.84, 0.83, 1.09, 1.73, 1.04, 0.68, 1.21, 0.8, 0.72, 0.94, 0.8, 0.78, 0.67, 0.71, 1.58, 1.42, 1.63, 1.01, 0.94, 1.77, 1.07, 1.54, 1.09, 0.71, 1.06, 1.44, 1.33, 1.73, 1.66, 1.75, 1.73, 1.11, 1.46, 0.74, 1.75, 1.64, 1.94, 0.89, 1.12, 1.6, 0.91, 0.97, 1.54, 1.57, 1.07, 0.75, 1.68, 0.87, 1.63, 1.69, 1.03, 1.75, 0.85, 0.9, 1.56, 0.79, 0.68, 1.59, 1.83, 1.59, 1.82, 1.2, 0.75, 0.81, 1.58, 1.53, 1.4, 0.98, 1.33, 0.69, 0.59, 0.65, 0.96, 1.19, 1.62, 0.71, 0.7, 1.12, 1.22, 0.78, 1.09, 1.44, 0.91, 1.5, 0.99, 0.73, 1.25, 1.55, 0.78, 0.6, 1.03, 1.06, 0.74, 1.07, 0.59, 0.65, 1.04, 0.75, 1.63, 0.81, 1.14, 0.7, 0.98, 1.09, 1.24, 0.58, 1.62, 1.37, 1.65, 1.24, 0.49, 0.88, 1.82, 2.08, 1.62, 0.59, 1.17, 0.97, 1.59, 1.59, 0.74, 0.66, 1.64, 1.06, 0.72, 1.55, 1.25, 1.02, 0.77, 1.51, 1.43, 1.08, 1.04, 1.13, 1.7, 0.95, 1.73, 0.91, 0.95, 1.46, 0.84, 1.76, 1.63, 0.61, 1.06, 0.94, 1.19, 1.61, 1.24, 0.67, 0.75, 1.36, 1.23, 1.45, 1.71, 1.09, 0.66, 0.92, 1.61, 1.21, 0.97, 1.04, 1.24, 1.52, 1.04, 1.5, 0.82, 1.71, 1.62, 1.52, 0.89, 0.59, 1.59, 1.23, 1.34, 1.45, 1.19, 1.26, 1.46, 0.93, 1.64, 0.79, 0.69, 1.53, 1.07, 1.15, 1.1, 0.75, 0.61, 0.97, 1.64, 0.77, 1.04, 1.21, 1.08, 0.8, 1.53, 0.57, 1.73, 1.99, 1.72, 0.82, 0.58, 1.46, 1.02, 1.1, 0.54, 0.63, 1.17, 1.63, 0.95, 1.12, 0.78, 1.22, 1.01, 1.52, 0.86, 0.68, 1.25, 0.65, 0.71, 1.76, 1.07, 1.61, 0.82, 0.98, 1.47, 0.9, 1.58, 0.63, 1.42, 0.76, 1.14, 1.47, 1.01, 0.96, 1.36, 1.37, 0.71, 1.27, 0.71, 1.51, 1.71, 1.11, 1.5, 0.63, 0.91, 1.19, 1.04, 1.68, 1.11, 0.59, 1.52, 1.23, 0.92, 1.75, 1.09, 1.23, 1.56, 1.1, 0.7, 0.91, 1.5, 0.74, 1.37, 1.41, 1.34, 1.03, 1.66, 1.0, 0.85, 1.73, 0.82, 1.09, 0.69, 0.55, 1.16, 0.45, 0.85, 2.11, 2.1, 1.56, 1.29, 1.55, 1.28, 1.47, 0.66, 1.22, 1.55, 1.1, 0.98, 0.51, 0.95, 0.77, 0.68, 0.66, 1.65, 1.66, 1.59, 0.68, 0.68, 1.09, 1.49, 1.8, 1.43, 1.65, 1.41, 0.66, 0.67, 1.01, 0.73, 1.29, 0.91, 0.71, 0.87, 1.18, 1.05, 1.18, 0.74, 0.76, 1.62, 0.92, 1.18, 1.24, 1.37, 1.34, 1.41, 1.17, 0.67, 1.68, 1.15, 1.38, 1.73, 0.62, 0.67, 1.04, 1.16, 1.63, 0.66, 1.0, 1.07, 1.08, 1.13, 1.09, 0.99, 0.91, 1.65, 1.46, 0.81, 1.68, 1.49, 1.37, 1.17, 1.2, 0.97, 1.21, 1.13, 2.66, 1.26, 0.84, 1.5, 0.61, 0.76, 1.62, 0.64, 1.41, 1.56, 1.72, 1.54, 1.32, 1.53, 1.3, 1.55, 1.03, 1.67, 1.08, 1.22, 0.73, 1.16, 0.66, 1.41, 1.05, 1.8, 1.64, 1.73, 1.68, 0.81, 1.43, 0.89, 1.58, 1.57, 0.71, 0.8, 1.04, 0.77, 1.3, 1.4, 1.07, 1.24, 1.65, 0.63, 0.81, 1.02, 1.2, 0.68, 1.19, 0.86, 1.21, 1.63, 1.35, 0.78, 0.83, 0.66, 1.28, 0.64, 1.19, 0.62, 0.77, 1.77, 0.7, 1.36, 1.71, 1.14, 0.69, 1.4, 0.94, 1.71, 0.68, 1.45, 1.03, 1.14, 0.89, 1.58, 1.58, 1.41, 0.58, 1.18, 1.63, 1.68, 1.16, 0.59, 1.11, 1.36, 1.36, 1.06, 1.59, 1.37, 1.46, 1.37, 0.85, 1.74, 1.58, 1.13, 0.65, 0.83, 1.64, 1.34, 1.44, 0.95, 1.77, 1.56, 0.8, 0.99, 1.61, 1.65, 0.7, 1.37, 0.59, 1.49, 0.84, 1.16, 0.93, 0.95, 1.1, 0.64, 1.34, 1.62, 0.59, 1.49, 1.27, 1.43, 1.03, 1.12, 1.64, 1.01, 1.52, 0.95, 0.7, 1.3, 0.97, 0.68, 1.62, 0.69, 1.05, 0.65, 1.09, 1.21, 0.9, 1.01, 1.78, 0.72, 0.68, 1.05, 1.67, 1.24, 1.7, 1.6, 0.74, 0.65, 0.92, 0.78, 0.81, 2.2, 2.64, 0.96, 1.15, 0.6, 1.28, 1.45, 1.6, 0.68, 0.7, 1.64, 1.68, 0.73, 0.95, 1.69, 1.07, 1.08, 1.31, 0.79, 1.65, 1.7, 1.13, 1.5, 1.1, 1.58, 1.2, 1.09, 1.71, 0.81, 1.29, 1.5, 0.76, 0.65, 1.01, 1.22, 1.14, 1.28, 0.9, 1.35, 0.86, 0.62, 1.53, 0.66, 0.65, 1.64, 1.35, 0.78, 0.62, 0.87, 1.6, 1.44, 0.76, 1.57, 1.5, 1.71, 1.25, 1.67, 0.81, 1.66, 1.72, 1.21, 1.14, 0.67, 0.67, 1.64, 0.76, 0.88, 0.81, 1.56, 1.43, 0.85, 1.22, 0.6, 0.73, 0.84, 0.65, 0.94, 1.1, 0.95, 1.43, 0.67, 1.26, 1.15, 2.15, 1.12, 0.83, 0.5, 0.82, 1.36, 1.35, 0.63, 1.27, 0.83, 1.28, 1.61, 1.26, 0.66, 1.23, 1.15, 1.49, 1.27, 1.64, 1.77, 1.74, 1.76, 1.84, 1.58, 1.81, 1.12, 1.77, 0.78, 1.67, 1.71, 0.81, 0.99, 1.5, 1.59, 0.82, 0.68, 1.25, 0.79, 1.57, 1.11, 0.63, 0.61, 0.69, 1.12, 0.68, 1.06, 1.57, 1.1, 0.86, 1.44, 1.31, 0.67, 0.79, 1.44, 1.17, 1.5, 1.74, 0.93, 1.34, 1.11, 0.75, 1.72, 1.77, 1.39, 0.73, 0.84, 1.71, 1.56, 0.78, 1.4, 1.42, 1.49, 1.11, 1.03, 0.48, 0.77, 1.74, 1.56, 1.19, 0.86, 1.3, 1.09, 1.18, 1.13, 0.7, 1.36, 0.86, 1.5, 0.76, 0.79, 1.65, 1.67, 0.59, 0.78, 1.05, 1.68, 0.88, 0.88, 1.27, 1.69, 0.78, 0.74, 1.27, 1.14, 0.68, 1.57, 0.7, 1.07, 0.65, 0.88, 0.86, 0.76, 0.66, 1.58, 1.68, 0.65, 0.87, 1.59, 1.63, 1.18, 1.73, 1.16, 1.61, 0.89, 1.16, 0.64, 1.14, 1.21, 1.51, 0.74, 0.63, 0.72, 1.65, 1.14, 1.17, 0.59, 1.47, 0.76, 1.28, 0.94, 0.78, 1.78, 0.62, 0.62, 0.69, 0.77, 1.65, 0.86, 1.25, 0.64, 1.56, 1.49, 1.37, 1.87, 1.74, 1.55, 0.51, 0.99, 1.25, 1.17, 0.99, 0.55, 0.6, 0.61, 1.25, 0.79, 0.59, 0.63, 0.94, 0.62, 1.08, 0.92, 1.3, 1.63, 0.81, 1.63, 1.59, 1.57, 1.34, 1.06, 0.72, 1.08, 1.51, 1.36, 1.09, 1.06, 1.67, 1.14, 1.55, 0.77, 1.08, 1.59, 0.78, 1.43, 0.82, 0.72, 1.56, 1.22, 1.02, 1.66, 1.62, 1.67, 1.19, 0.74, 0.9, 1.1, 1.41, 0.93, 1.09, 1.21, 1.45, 1.12, 1.66, 1.64, 1.61, 0.8, 0.81, 0.85, 0.74, 1.16, 0.73, 1.71, 0.66, 1.07, 1.69, 0.78, 0.94, 1.09, 1.63, 0.76, 1.71, 1.27, 1.46, 1.34, 1.57, 1.84, 2.04, 1.24, 1.01, 0.49, 0.66, 0.58, 0.61, 0.61, 0.59, 1.13, 1.35, 0.59, 0.98, 0.66, 1.24, 1.47, 1.31, 0.68, 1.7, 1.64, 1.66, 0.68, 0.77, 1.3, 0.72, 1.44, 1.74, 1.62, 1.28, 0.94, 1.65, 1.02, 0.98, 1.57, 1.54, 0.94, 1.5, 0.84, 1.11, 0.58, 1.32, 1.16, 1.19, 1.62, 0.66, 1.6, 1.7, 1.33, 0.71, 0.76, 0.69, 0.9, 0.72, 1.52, 0.62, 1.56, 1.33, 0.64, 0.72, 1.08, 1.67, 1.09, 0.66, 1.32, 1.14, 0.68, 1.41, 1.66, 0.95, 1.65, 1.26, 1.28, 0.84, 1.57, 1.68, 0.96, 1.17, 0.6, 0.97, 0.55, 1.45, 1.72, 1.09, 0.94, 0.81, 0.85, 1.69, 1.86, 1.71, 1.4, 0.77, 0.88, 0.99, 1.51, 1.52, 1.37, 0.71, 1.09, 0.93, 0.78, 1.17, 0.78, 1.71, 1.66, 0.68, 1.03, 0.78, 0.96, 1.01, 1.14, 1.8, 1.4, 0.91, 1.35, 1.17, 1.75, 0.63, 0.62, 1.26, 1.6, 1.05, 1.07, 0.93, 1.26, 0.57, 0.96, 1.49, 1.58, 0.62, 0.69, 0.66, 1.23, 1.4, 0.57, 1.33, 1.2, 0.64, 1.65, 1.54, 1.48, 1.09, 1.44, 1.69, 1.36, 0.83, 0.89, 0.98, 1.68, 0.73, 1.18, 1.69, 1.24, 1.48, 0.83, 1.42, 1.42, 1.68, 0.78, 1.48, 0.77, 1.46, 1.27, 0.77, 0.7, 1.46, 1.19, 0.72, 0.84, 1.36, 0.87, 1.16, 1.39, 1.51, 1.63, 1.11, 0.89, 1.26, 1.12, 1.61, 1.53, 1.17, 1.06, 1.62, 1.03, 0.82, 0.97, 1.11, 0.86, 0.72, 0.74, 1.6, 0.61, 0.97, 1.57, 1.67, 1.77, 0.81, 0.76, 1.74, 0.62, 1.63, 0.83, 1.07, 1.74, 1.23, 1.16, 0.72, 0.71, 1.52, 1.43, 1.46, 1.49, 1.51, 1.57, 1.03, 0.62, 0.72, 0.85, 1.35, 0.95, 1.43, 1.33, 0.91, 1.26, 0.97, 1.53, 1.09, 1.15, 1.66, 0.87, 1.19, 1.62, 0.78, 0.74, 1.06, 1.0, 1.56, 1.03, 0.97, 1.11, 1.75, 1.69, 1.7, 0.65, 1.04, 1.32, 1.71, 0.99, 1.29, 1.56, 1.06, 1.5, 1.07, 1.94, 1.2, 0.68, 1.26, 1.15, 1.63, 1.18, 1.17, 0.77, 0.65, 0.76, 1.03, 1.51, 1.65, 1.76, 1.1, 0.89, 0.92, 0.84, 0.72, 0.91, 0.72, 0.76, 1.78, 1.12, 1.79, 1.64, 1.62, 1.62, 1.05, 1.39, 0.63, 0.68, 1.1, 1.54, 1.72, 1.19, 1.21, 1.59, 1.18, 1.18, 0.77, 1.15, 0.98, 1.29, 1.71, 1.04, 1.57, 1.3, 0.65, 0.98, 1.75, 0.97, 0.68, 1.66, 0.77, 1.43, 1.12, 1.36, 0.77, 0.99, 0.62, 0.66, 1.22, 1.66, 1.06, 1.31, 1.31, 1.0, 1.76, 1.39, 1.39, 0.69, 1.3, 0.8, 1.56, 0.99, 1.71, 0.63, 1.28, 1.47, 1.47, 1.24, 1.26, 2.61, 1.11, 0.91, 1.34, 0.96, 0.62, 1.55, 1.35, 0.57, 1.68, 1.37, 1.34, 1.04, 0.95, 1.41, 1.69, 0.76, 1.72, 1.62, 1.17, 0.71, 1.64, 0.95, 1.8, 1.17, 0.77, 1.05, 0.7, 1.24, 0.59, 0.73, 1.26, 0.78, 0.87, 1.5, 1.47, 0.63, 0.81, 1.6, 1.59, 1.07, 1.04, 0.94, 1.5, 1.73, 1.6, 0.6, 0.87, 1.35, 1.48, 1.21, 1.06, 0.65, 1.48, 0.65, 0.87, 1.56, 1.27, 1.0, 1.34, 1.16, 1.6, 1.52, 1.69, 0.63, 0.84, 1.18, 0.73, 1.11, 1.33, 1.46, 1.57, 1.04, 1.07, 1.04, 1.28, 1.1, 1.63, 0.69, 1.52, 1.3, 0.53, 1.61, 1.68, 1.01, 1.35, 1.26, 1.61, 1.62, 1.22, 1.24, 1.55, 1.33, 0.95, 1.52, 0.69, 0.97, 0.66, 1.11, 1.24, 1.35, 0.71, 1.66, 0.79, 1.7, 1.76, 0.9, 0.91, 1.66, 0.73, 1.59, 1.32, 1.21, 1.07, 0.98, 0.88, 1.07, 0.53, 1.02, 1.07, 0.7, 0.63, 1.63, 0.66, 1.25, 1.62, 1.62, 1.49, 0.55, 1.45, 1.2, 0.61, 1.54, 1.17, 1.73, 1.71, 1.58, 1.52, 0.78, 1.22, 1.08, 0.95, 0.85, 0.67, 1.09, 1.8, 1.31, 0.96, 1.47, 1.02, 0.64, 0.83, 1.66, 1.41, 0.57, 0.88, 1.54, 0.83, 1.81, 1.15, 1.24, 1.53, 0.74, 0.58, 0.6, 1.24, 1.55, 1.67, 0.69, 0.73, 0.9, 1.07, 1.67, 1.51, 0.66, 0.78, 0.75, 0.91, 1.08, 0.7, 1.5, 1.65, 1.12, 1.79, 1.11, 0.84, 0.76, 1.08, 0.7, 1.22, 1.57, 0.61, 0.61, 1.07, 0.82, 1.1, 0.88, 1.02, 0.93, 0.99, 0.67, 1.17, 1.08, 0.67, 0.76, 0.78, 1.71, 0.93, 1.65, 1.52, 1.65, 1.09, 0.96, 1.07, 0.98, 1.06, 0.87, 0.91, 0.65, 1.31, 0.65, 0.69, 1.75, 0.99, 0.71, 1.13, 1.18, 1.02, 1.62, 0.76, 0.43, 1.46, 1.53, 0.92, 1.37, 0.96, 0.76, 1.6, 1.61, 1.62, 0.61, 1.3, 1.01, 1.08, 0.68, 1.21, 0.7, 1.33, 1.61, 1.09, 1.36, 1.12, 1.58, 1.6, 0.86, 0.85, 1.82, 1.62, 1.32, 0.72, 0.81, 1.06, 1.72, 1.39, 1.33, 1.6, 0.86, 1.21, 1.24, 1.08, 1.11, 0.6, 0.83, 0.89, 1.32, 0.75, 0.62, 1.63, 0.84, 1.05, 1.68, 1.15, 1.66, 0.64, 1.28, 0.79, 1.66, 1.66, 1.46, 0.84, 1.43, 1.14, 0.79, 1.68, 0.66, 1.6, 1.59, 1.41, 0.81, 1.07, 1.06, 0.75, 1.29, 1.18, 1.08, 1.38, 2.41, 2.02, 0.72, 0.42, 0.62, 1.07, 0.62, 0.81, 1.51, 1.13, 0.68, 1.06, 0.99, 1.12, 1.61, 1.74, 1.67, 1.06, 0.9, 1.74, 1.74, 0.88, 0.84, 0.87, 1.5, 1.33, 0.7, 1.23, 1.71, 0.87, 1.73, 0.74, 0.83, 1.55, 1.33, 0.84, 1.66, 1.16, 0.77, 1.01, 1.67, 1.05, 0.7, 1.24, 0.83, 0.57, 1.03, 1.23, 0.87, 0.99, 1.46, 1.48, 1.6, 0.65, 0.71, 1.51, 1.64, 1.39, 0.66, 1.12, 0.73, 0.72, 1.2, 0.87, 0.65, 1.03, 1.35, 0.63, 1.43, 1.59, 1.52, 0.59, 1.51, 1.12, 1.16, 2.46, 0.75, 0.88, 0.61, 0.73, 1.52, 0.71, 0.92, 0.82, 1.45, 1.56, 1.52, 1.17, 0.62, 1.12, 0.92, 1.19, 0.68, 0.77, 0.7, 0.64, 0.76, 0.91, 1.43, 0.75, 0.92, 1.56, 0.85, 0.76, 1.66, 1.71, 1.42, 1.01, 1.62, 1.55, 1.56, 1.54, 1.0, 0.69, 0.98, 0.75, 1.1, 1.52, 1.23, 1.24, 0.84, 1.63, 1.32, 0.69, 0.88, 0.59, 0.65, 0.59, 0.79, 1.3, 1.67, 1.5, 0.74, 1.71, 0.81, 1.01, 1.34, 1.31, 1.19, 0.63, 1.41, 1.65, 1.09, 1.6, 0.91, 0.92, 1.75, 2.17, 2.01, 1.58, 1.3, 0.63, 1.1, 1.02, 1.44, 1.56, 0.66, 1.46, 1.37, 1.02, 1.63, 0.75, 1.34, 0.7, 1.71, 0.6, 0.67, 0.88, 1.12, 0.69, 1.64, 1.04, 1.32, 1.52, 1.11, 1.16, 1.54, 0.71, 0.6, 1.3, 0.7, 0.57, 1.6, 0.57, 0.89, 1.72, 1.07, 1.0, 1.21, 0.94, 1.63, 0.88, 0.73, 1.46, 1.4, 1.0, 1.5, 1.19, 1.48, 0.79, 0.73, 0.95, 1.06, 1.72, 0.68, 0.68, 1.52, 1.52, 1.29, 0.8, 1.29, 0.73, 0.64, 0.72, 0.75, 0.88, 0.86, 1.52, 1.66, 0.88, 1.23, 0.38, 1.49, 2.01, 1.85, 0.74, 1.17, 0.73, 0.72, 0.88, 0.92, 1.12, 1.72, 1.62, 1.4, 1.54, 1.34, 1.7, 0.98, 1.54, 1.74, 0.65, 0.85, 0.82, 0.83, 1.28, 0.8, 0.9, 1.29, 1.21, 1.43, 1.35, 1.63, 1.39, 1.03, 0.67, 1.65, 0.9, 0.56, 0.67, 0.79, 1.53, 1.3, 1.05, 1.61, 1.37, 0.8, 1.7, 0.96, 0.77, 0.65, 1.02, 0.65, 1.7, 1.1, 1.27, 1.64, 0.63, 0.93, 0.68, 1.47, 0.74, 0.88, 1.0, 1.17, 0.65, 1.03, 0.86, 0.72, 1.16, 1.58, 0.77, 1.22, 0.93, 0.85, 1.55, 1.44, 1.44, 0.79, 0.92, 1.63, 1.97, 1.53, 1.12, 0.71, 1.4, 1.55, 1.7, 0.69, 1.7, 1.27, 0.71, 1.67, 0.58, 1.31, 0.75, 1.49, 0.75, 1.08, 1.31, 1.1, 1.62, 0.76, 0.86, 1.7, 0.91, 1.01, 0.67, 1.68, 1.14, 0.86, 1.08, 0.65, 1.41, 0.98, 1.11, 0.72, 1.26, 1.06, 1.47, 0.83, 1.57, 1.17, 1.08, 1.71, 0.79, 1.29, 0.7, 1.61, 1.44, 1.73, 1.44, 1.57, 0.8, 0.66, 1.67, 1.65, 1.3, 0.61, 1.28, 1.07, 1.22, 0.97, 0.9, 1.44, 1.22, 1.48, 0.61, 0.97, 0.61, 1.25, 1.62, 1.31, 1.71, 0.75, 0.93, 1.73, 1.26, 1.29, 0.91, 1.25, 0.72, 0.58, 1.31, 0.46, 1.4, 2.13, 1.04, 1.21, 1.51, 1.34, 1.39, 0.92, 1.63, 0.62, 0.89, 1.31, 1.72, 0.67, 0.61, 0.75, 1.19, 1.18, 1.49, 0.95, 1.74, 0.92, 1.74, 1.47, 0.92, 0.74, 1.33, 1.3, 1.64, 1.74, 1.49, 1.32, 0.96, 1.44, 1.53, 1.55, 1.14, 1.03, 0.76, 0.67, 1.65, 1.47, 1.55, 0.93, 1.42, 1.67, 0.79, 0.92, 1.6, 1.12, 1.04, 0.69, 1.04, 1.19, 0.66, 1.73, 0.96, 1.12, 1.46, 0.61, 0.98, 1.68, 0.71, 0.8, 1.08, 0.7, 1.46, 1.66, 1.0, 0.9, 1.68, 0.95, 1.59, 1.38, 0.63, 0.64, 1.49, 1.19, 1.31, 1.04, 0.62, 2.5, 1.41, 1.01, 1.3, 0.65, 1.58, 1.13, 1.55, 1.33, 1.66, 1.09, 1.67, 1.7, 1.6, 0.86, 1.61, 0.75, 1.47, 1.49, 1.72, 1.01, 1.74, 1.56, 1.62, 0.78, 1.21, 1.74, 1.07, 1.67, 0.94, 1.68, 1.45, 1.41, 1.47, 0.67, 1.43, 0.87, 0.9, 0.65, 1.11, 0.87, 1.16, 1.69, 0.65, 1.34, 0.63, 1.72, 0.72, 1.04, 0.99, 1.44, 1.16, 1.01, 1.03, 1.33, 0.59, 1.13, 0.61, 0.74, 1.69, 0.66, 0.7, 1.35, 1.09, 0.94, 1.42, 1.58, 1.69, 1.61, 1.53, 0.74, 1.23, 1.14, 0.61, 0.82, 1.12, 0.64, 0.59, 1.38, 1.23, 1.75, 1.98, 1.02, 0.76, 0.5, 1.48, 1.13, 1.18, 1.24, 0.64, 0.61, 1.66, 0.62, 1.4, 0.71, 1.65, 1.15, 0.99, 0.65, 1.03, 0.9, 1.72, 0.92, 0.77, 1.65, 1.49, 1.78, 1.55, 1.51, 0.67, 1.17, 0.98, 0.67, 1.52, 1.28, 1.71, 1.22, 0.65, 0.9, 1.14, 1.48, 1.5, 0.73, 1.19, 0.56, 0.68, 1.36, 1.21, 0.87, 0.65, 0.69, 1.0, 0.56, 1.39, 1.61, 0.92, 1.17, 0.59, 0.69, 0.8, 0.78, 1.16, 0.9, 1.49, 0.95, 0.59, 1.14, 1.31, 1.26, 1.71, 1.14, 1.77, 1.77, 1.52, 0.73, 1.03, 0.7, 1.4, 1.29, 1.59, 1.31, 1.42, 1.47, 2.12, 2.09, 1.2, 0.58, 0.44, 1.43, 1.23, 0.91, 1.11, 0.9, 1.48, 0.93, 0.92, 1.7, 0.57, 0.87, 0.99, 1.25, 0.98, 1.71, 1.08, 1.61, 1.32, 1.36, 1.29, 1.04, 0.76, 1.25, 0.74, 1.1, 0.94, 0.73, 0.72, 0.65, 1.3, 1.63, 1.39, 1.07, 0.99, 1.24, 0.86, 0.85, 0.69, 1.34, 0.92, 0.72, 0.6, 1.12, 1.69, 1.54, 0.98, 0.87, 1.58, 0.9, 1.61, 1.74, 1.35, 1.36, 1.16, 0.74, 0.8, 1.41, 1.5, 1.62, 1.68, 0.99, 1.47, 1.66, 1.22, 1.52, 1.05, 1.2, 1.58, 1.05, 1.09, 0.62, 0.88, 1.48, 0.91, 0.75, 1.06, 1.23, 0.56, 0.95, 0.85, 2.55, 1.22, 0.6, 0.42, 0.8, 1.45, 0.88, 1.6, 1.06, 1.08, 0.97, 0.97, 1.63, 1.39, 1.23, 1.03, 1.59, 1.3, 1.61, 0.69, 0.7, 0.77, 1.68, 0.75, 0.84, 1.55, 1.31, 0.87, 1.53, 1.32, 1.11, 0.81, 0.84, 1.09, 1.34, 0.72, 1.08, 0.72, 0.73, 0.93, 0.88, 1.34, 1.14, 1.62, 1.06, 1.49, 1.52, 0.94, 0.95, 0.56, 1.49, 0.67, 1.68, 1.57, 1.49, 1.18, 1.13, 1.22, 1.49, 1.03, 1.5, 1.26, 0.81, 0.9, 1.71, 1.59, 1.75, 0.87, 1.46, 1.5, 1.47, 1.76, 0.72, 0.61, 1.05, 0.98, 1.69, 1.66, 0.56, 1.45, 0.73, 1.64, 2.26, 1.64, 1.31, 1.04, 1.55, 1.06, 0.6, 1.57, 1.33, 1.34, 1.02, 1.7, 1.21, 1.44, 0.63, 1.28, 1.21, 0.99, 0.66, 0.91, 1.65, 0.93, 1.18, 1.01, 1.19, 1.52, 1.18, 0.85, 1.4, 1.71, 0.6, 1.14, 0.94, 0.87, 1.66, 1.3, 0.81, 0.72, 1.07, 1.59, 1.39, 1.24, 0.67, 1.48, 1.66, 0.7, 1.02, 0.62, 0.67, 1.64, 1.66, 0.84, 1.44, 1.52, 1.04, 1.37, 1.37, 1.14, 0.91, 0.94, 1.05, 0.87, 1.47, 1.56, 1.32, 1.47, 0.65, 0.97, 1.29, 0.81, 0.81, 0.97, 1.58, 0.81, 1.06, 1.02, 0.85, 1.67, 1.37, 0.61, 1.45, 0.84, 1.71, 1.99, 1.57, 0.99, 0.93, 0.61, 0.65, 1.07, 1.55, 1.52, 1.06, 0.67, 0.95, 0.81, 0.77, 0.6, 0.66, 0.64, 1.08, 1.05, 1.42, 0.77, 1.56, 1.44, 1.7, 1.79, 1.6, 1.61, 0.85, 1.26, 0.99, 1.21, 1.42, 0.75, 1.12, 0.72, 1.52, 1.48, 1.28, 0.98, 1.1, 1.04, 1.21, 0.79, 1.09, 0.65, 1.44, 0.77, 1.18, 1.7, 1.37, 0.95, 1.0, 1.72, 1.27, 0.77, 1.59, 0.65, 0.57, 1.21, 1.41, 0.63, 1.51, 0.81, 1.46, 1.59, 0.73, 1.14, 1.02, 0.98, 1.54, 1.57, 1.24, 1.61, 0.86, 1.07, 1.39, 1.01, 1.73, 0.74, 1.21, 0.7, 0.53, 0.61, 0.39, 1.37, 1.93, 0.67, 1.32, 1.53, 1.42, 1.56, 0.75, 0.63, 0.72, 1.31, 0.69, 1.34, 1.23, 0.72, 0.69, 1.4, 1.03, 0.64, 1.72, 0.95, 1.07, 1.34, 0.84, 1.77, 0.76, 1.13, 0.98, 1.58, 1.71, 0.84, 0.71, 0.82, 0.61, 1.64, 0.64, 1.59, 0.97, 1.09, 0.91, 1.63, 1.42, 1.46, 1.27, 0.73, 0.85, 0.7, 0.73, 1.73, 0.65, 1.37, 0.98, 1.52, 1.31, 1.69, 1.63, 1.72, 1.65, 1.37, 1.29, 1.1, 1.29, 1.59, 1.07, 1.03, 0.7, 0.91, 0.8, 1.45, 1.23, 1.29, 1.28, 1.67, 0.73, 0.79, 1.37, 1.07, 1.51, 0.68, 1.46, 1.66, 1.63, 1.06, 1.56, 0.36, 1.12, 1.7, 0.77, 1.68, 1.14, 0.93, 1.59, 1.41, 1.33, 1.64, 0.61, 0.74, 0.98, 1.38, 1.17, 0.6, 1.06, 0.85, 1.03, 1.2, 0.73, 1.18, 1.57, 1.31, 1.78, 0.87, 1.65, 1.59, 1.23, 1.42, 1.67, 1.05, 0.87, 0.62, 0.56, 1.32, 1.13, 1.38, 0.65, 0.88, 0.76, 0.9, 1.45, 1.7, 0.64, 1.52, 1.58, 1.51, 0.97, 1.7, 1.29, 1.45, 1.34, 0.84, 0.98, 0.57, 1.72, 1.18, 1.13, 0.76, 1.35, 0.66, 1.22, 1.19, 1.27, 1.04, 1.01, 1.4, 0.68, 0.68, 0.76, 1.12, 0.97, 1.08, 1.2, 0.65, 0.92, 0.42, 1.2, 1.17, 1.42, 1.03, 1.39, 0.88, 0.93, 1.2, 0.56, 1.42, 1.06, 0.76, 0.66, 0.92, 1.39, 1.31, 0.6, 0.87, 0.63, 1.21, 1.61, 0.76, 1.64, 0.75, 1.33, 1.13, 1.31, 0.68, 0.82, 0.89, 1.23, 1.6, 1.09, 1.35, 1.0, 1.33, 1.5, 1.44, 1.52, 1.62, 1.54, 1.27, 1.22, 1.38, 1.58, 1.69, 0.83, 0.64, 1.53, 0.56, 1.23, 0.84, 1.63, 1.54, 1.54, 0.61, 0.93, 0.87, 1.08, 0.55, 1.63, 1.02, 0.63, 1.42, 1.43, 0.53, 1.52, 0.56, 0.61, 0.67, 0.68, 1.49, 0.93, 0.67, 1.01, 0.75, 0.7, 0.73, 0.5, 0.79, 0.38, 0.52, 1.77, 2.42, 1.73, 1.54, 0.82, 0.75, 1.23, 0.83, 1.1, 1.34, 1.65, 0.91, 1.41, 0.61, 1.28, 1.52, 1.23, 1.01, 0.63, 0.98, 0.84, 1.07, 1.75, 1.43, 0.78, 0.94, 0.82, 0.72, 1.22, 0.88, 1.67, 0.9, 1.22, 0.8, 0.95, 1.07, 1.29, 0.76, 1.37, 1.15, 1.64, 1.25, 1.71, 0.6, 0.98, 1.73, 1.13, 1.29, 1.53, 0.76, 0.96, 1.2, 1.48, 1.47, 1.55, 0.68, 0.64, 1.09, 1.17, 0.71, 1.46, 1.73, 0.69, 1.25, 0.77, 0.68, 1.3, 1.09, 1.53, 1.74, 1.02, 1.04, 1.03, 1.53, 1.38, 0.76, 1.3, 1.09, 0.59, 1.51, 0.82, 1.22, 1.49, 1.85, 2.17, 1.94, 1.27, 1.21, 1.31, 1.25, 1.43, 0.64, 0.78, 1.37, 0.71, 1.42, 0.74, 1.54, 1.75, 1.52, 0.72, 0.67, 0.97, 1.47, 0.86, 0.73, 1.85, 1.42, 1.35, 0.8, 0.85, 1.56, 1.14, 1.35, 0.74, 1.35, 1.21, 0.83, 0.73, 0.55, 0.7, 1.05, 0.79, 1.12, 1.55, 1.56, 1.42, 0.85, 1.24, 1.29, 1.45, 0.59, 1.35, 1.63, 1.12, 0.76, 1.31, 1.36, 1.55, 0.64, 1.28, 0.72, 1.65, 1.59, 0.73, 0.72, 1.62, 0.72, 1.64, 0.93, 0.6, 0.73, 1.75, 1.62, 1.27, 1.52, 0.83, 1.66, 1.41, 0.97, 1.46, 0.86, 0.85, 1.15, 1.36, 2.29, 1.58, 1.34, 0.59, 0.57, 1.46, 0.99, 1.38, 1.69, 1.59, 1.13, 0.77, 0.71, 1.51, 1.2, 0.65, 1.09, 1.23, 1.74, 1.32, 1.49, 1.79, 0.98, 1.3, 1.32, 0.82, 1.3, 0.75, 1.43, 1.53, 0.73, 1.39, 0.66, 1.65, 1.34, 0.66, 0.91, 0.66, 1.03, 0.83, 1.75, 0.72, 1.45, 1.19, 1.62, 1.29, 1.29, 1.09, 1.49, 1.66, 1.68, 1.7, 0.86, 0.74, 0.88, 1.18, 0.81, 1.35, 0.66, 1.56, 1.66, 1.78, 1.52, 0.91, 1.48, 1.5, 1.63, 1.01, 1.63, 0.73, 0.97, 1.74, 1.4, 1.37, 1.72, 1.31, 0.45, 2.56, 1.87, 1.66, 1.61, 0.82, 0.73, 1.06, 0.7, 0.71, 0.72, 1.75, 1.39, 1.17, 0.81, 0.75, 1.23, 1.33, 1.44, 1.14, 1.78, 0.66, 1.68, 0.84, 1.43, 1.88, 0.71, 1.56, 1.73, 1.73, 0.87, 0.64, 1.3, 1.02, 0.94, 0.68, 1.31, 1.52, 0.95, 0.66, 1.3, 1.71, 1.55, 1.67, 0.72, 1.36, 1.46, 0.91, 0.99, 1.14, 0.6, 1.58, 0.85, 1.42, 0.96, 1.57, 0.62, 1.26, 0.88, 0.72, 1.07, 1.26, 1.19, 1.64, 0.75, 1.68, 1.68, 0.97, 1.27, 1.4, 1.21, 1.65, 1.1, 0.75, 0.67, 1.34, 1.41, 1.28, 0.63, 1.26, 0.88, 0.51, 1.19, 1.33, 1.61, 0.79, 1.03, 0.45, 1.63, 1.13, 0.94, 0.63, 0.8, 1.47, 1.12, 1.2, 1.65, 1.23, 0.73, 1.14, 0.64, 1.22, 1.07, 0.67, 1.6, 1.02, 1.58, 1.13, 1.43, 1.08, 1.05, 1.11, 0.77, 0.59, 0.51, 0.65, 1.3, 1.58, 0.71, 0.48, 0.99, 0.83, 0.65, 1.37, 1.48, 0.71, 1.67, 0.62, 0.58, 1.1, 1.45, 1.06, 1.11, 0.62, 1.64, 1.23, 0.96, 1.29, 0.55, 0.78, 1.28, 0.88, 0.65, 1.6, 1.11, 0.69, 1.13, 1.17, 1.41, 1.26, 0.82, 1.19, 1.03, 0.75, 1.24, 0.79, 1.32, 0.78, 1.74, 1.57, 0.74, 0.85, 0.64, 0.63, 1.18, 1.44, 0.48, 1.5, 1.65, 1.43, 1.1, 1.0, 0.59, 1.05, 0.93, 1.6, 1.62, 1.1, 1.33, 1.06, 0.63, 1.35, 0.65, 0.69, 0.83, 0.75, 1.49, 1.76, 1.03, 1.39, 1.45, 1.51, 0.95, 1.72, 1.7, 0.75, 0.87, 0.94, 1.42, 1.34, 1.54, 1.56, 1.37, 0.79, 0.55, 1.2, 1.45, 1.51, 1.35, 1.08, 1.41, 1.67, 0.83, 1.36, 0.79, 1.59, 1.52, 0.57, 0.65, 1.39, 1.53, 0.75, 1.67, 1.08, 0.86, 1.0, 0.62, 1.66, 0.94, 1.61, 1.28, 1.62, 1.14, 1.38, 1.72, 1.74, 0.87, 1.75, 1.44, 1.03, 1.7, 0.9, 1.62, 0.82, 0.58, 1.3, 0.71, 1.09, 1.62, 1.64, 2.25, 1.58, 1.14, 0.88, 0.69, 1.39, 1.68, 1.25, 0.65, 0.62, 1.07, 0.8, 0.63, 1.39, 1.37, 1.13, 1.68, 0.65, 1.68, 1.67, 1.33, 1.71, 1.17, 1.27, 1.68, 0.99, 0.75, 1.54, 0.76, 0.67, 0.76, 1.55, 0.96, 1.42, 1.45, 1.13, 1.04, 1.68, 1.61, 1.0, 1.03, 1.59, 0.93, 1.73, 1.44, 0.73, 1.74, 0.71, 1.4, 1.67, 1.41, 1.19, 1.42, 1.09, 0.69, 0.9, 1.68, 1.53, 1.46, 1.2, 0.65, 0.91, 0.77, 1.57, 0.7, 1.23, 1.69, 1.52, 0.62, 1.59, 0.91, 1.09, 1.08, 1.22, 2.29, 2.27, 1.4, 1.51, 1.27, 1.62, 1.24, 0.7, 1.13, 1.74, 1.3, 1.15, 1.51, 1.68, 1.11, 1.33, 0.84, 0.82, 0.68, 1.19, 1.23, 1.6, 1.19, 0.75, 0.88, 0.84, 1.76, 1.39, 1.26, 1.69, 0.78, 0.84, 1.18, 1.52, 1.3, 1.68, 0.97, 1.09, 1.32, 0.73, 0.65, 1.31, 0.68, 1.22, 1.1, 1.4, 0.94, 1.12, 1.24, 1.49, 0.8, 0.7, 0.7, 1.36, 1.17, 1.13, 0.98, 1.74, 0.66, 1.45, 1.55, 1.3, 1.32, 1.68, 1.43, 0.69, 1.39, 0.79, 0.83, 0.8, 0.84, 0.67, 0.68, 0.7, 0.64, 0.87, 1.34, 1.5, 1.5, 2.47, 0.99, 1.55, 0.87, 0.49, 1.65, 1.01, 0.72, 1.46, 1.09, 1.09, 1.61, 0.85, 1.16, 1.01, 0.78, 1.27, 0.96, 1.74, 1.67, 0.69, 0.75, 0.97, 0.76, 1.54, 1.34, 1.76, 1.65, 1.59, 0.81, 1.3, 1.71, 0.72, 1.18, 0.6, 0.54, 1.1, 0.56, 1.64, 0.83, 1.05, 1.35, 1.54, 0.56, 1.44, 0.93, 1.48, 1.17, 1.41, 1.11, 1.22, 1.43, 0.65, 1.59, 0.93, 0.94, 1.44, 1.35, 1.46, 1.32, 0.7, 1.26, 0.59, 1.04, 1.66, 1.43, 1.46, 1.65, 0.82, 0.8, 0.87, 1.74, 1.35, 0.63, 1.61, 0.7, 1.13, 1.26, 0.68, 0.7, 1.43, 1.65, 0.99, 0.58, 1.69, 1.02, 1.56, 1.66, 0.86, 1.01, 0.62, 0.87, 1.28, 1.16, 1.25, 1.62, 1.66, 1.39, 1.7, 0.68, 0.71, 1.04, 1.64, 1.68, 0.79, 1.44, 1.74, 1.66, 1.52, 1.29, 1.72, 0.69, 0.64, 0.94, 1.05, 0.59, 1.49, 0.59, 0.93, 0.86, 0.73, 1.2, 0.73, 1.34, 1.69, 1.25, 0.72, 1.6, 0.64, 0.92, 1.25, 1.49, 1.02, 1.69, 0.7, 0.64, 0.62, 0.77, 1.78, 1.76, 1.3, 1.71, 1.27, 0.91, 0.65, 0.81, 0.59, 0.66, 0.79, 1.18, 1.63, 0.65, 1.19, 2.42, 2.33, 1.09, 1.39, 0.41, 0.76, 0.75, 1.52, 1.35, 0.84, 0.8, 0.75, 1.64, 1.64, 1.26, 0.89, 0.7, 1.0, 0.88, 1.17, 1.42, 0.73, 1.32, 0.7, 1.08, 1.21, 0.9, 1.81, 0.75, 1.73, 1.1, 0.76, 0.82, 1.14, 1.01, 0.82, 0.85, 1.41, 1.22, 0.91, 1.31, 0.6, 1.53, 1.24, 0.61, 0.83, 1.18, 1.58, 1.12, 0.92, 1.74, 1.46, 1.3, 1.57, 0.73, 1.68, 1.76, 1.31, 1.48, 0.78, 1.01, 1.51, 1.58, 0.93, 1.72, 0.99, 0.82, 1.08, 0.88, 1.37, 1.13, 0.96, 2.17, 1.92, 1.86, 0.54, 1.14, 1.04, 1.66, 0.85, 1.07, 0.6, 0.99, 1.49, 1.52, 0.84, 1.16, 1.05, 1.19, 0.59, 1.6, 1.23, 0.98, 1.52, 1.73, 0.73, 1.87, 1.09, 0.88, 1.0, 1.56, 1.78, 1.62, 1.57, 0.96, 0.67, 0.65, 1.64, 0.58, 1.16, 0.57, 1.02, 1.32, 1.66, 1.74, 1.18, 0.73, 0.87, 1.32, 0.74, 0.87, 0.71, 1.74, 0.86, 0.69, 1.68, 0.59, 1.45, 1.05, 1.71, 1.8, 0.66, 0.82, 0.69, 1.41, 0.62, 0.95, 0.64, 0.74, 1.33, 0.92, 1.57, 1.24, 1.72, 1.58, 1.05, 0.66, 1.48, 0.74, 0.65, 0.6, 1.22, 0.65, 1.14, 1.12, 0.78, 1.33, 0.82, 0.57, 1.68, 0.78, 1.09, 1.16, 1.71, 1.66, 1.46, 1.63, 0.82, 1.13, 0.88, 1.28, 0.94, 1.67, 0.95, 0.84, 0.63, 1.08, 1.18, 1.71, 0.65, 0.66, 0.95, 1.55, 1.44, 0.63, 1.66, 1.05, 1.36, 0.89, 1.7, 0.84, 0.77, 0.7, 1.62, 0.85, 0.88, 1.36, 0.85, 1.42, 0.76, 0.83, 0.79, 1.41, 1.36, 1.67, 0.75, 1.17, 1.48, 1.21, 1.03, 0.58, 0.85, 1.54, 2.41, 1.39, 0.72, 0.84, 0.78, 1.47, 1.4, 1.57, 1.3, 0.69, 1.72, 1.16, 1.55, 0.66, 0.58, 0.65, 1.45, 1.32, 1.3, 0.91, 0.97, 1.52, 1.69, 1.53, 1.55, 1.74, 1.49, 1.06, 1.47, 0.74, 0.65, 1.12, 1.68, 1.23, 0.66, 1.69, 1.69, 1.74, 0.6, 1.41, 1.34, 1.49, 1.2, 0.96, 0.65, 1.73, 0.6, 0.67, 0.93, 1.14, 1.26, 1.62, 1.73, 1.01, 1.02, 1.34, 1.64, 0.6, 1.37, 1.31, 0.8, 1.09, 0.77, 1.69, 0.49, 1.49, 1.06, 2.35, 1.21, 1.22, 1.45, 1.64, 0.66, 0.95, 1.45, 1.57, 0.76, 0.76, 1.63, 1.6, 0.91, 0.96, 1.79, 1.4, 1.42, 1.01, 0.85, 1.78, 1.78, 0.98, 0.78, 1.32, 1.62, 1.0, 0.93, 1.59, 0.69, 0.64, 0.68, 0.62, 1.53, 0.72, 1.0, 1.41, 0.95, 1.67, 1.29, 0.98, 0.97, 1.74, 1.61, 0.86, 1.27, 1.22, 1.67, 1.11, 1.66, 0.84, 0.97, 1.21, 1.43, 0.97, 1.65, 0.85, 0.98, 0.65, 0.89, 1.73, 1.11, 1.51, 1.28, 0.47, 1.37, 2.37, 2.26, 0.71, 0.55, 1.4, 1.0, 0.59, 0.71, 0.93, 1.64, 1.39, 0.58, 1.13, 0.72, 0.93, 1.19, 1.7, 0.59, 1.65, 1.72, 1.38, 1.78, 1.62, 0.71, 0.64, 1.43, 0.98, 0.76, 0.65, 1.22, 1.03, 1.57, 1.64, 0.81, 1.17, 1.62, 1.62, 1.16, 0.64, 0.71, 1.04, 1.03, 1.4, 1.58, 0.76, 0.64, 0.57, 0.69, 0.6, 1.0, 0.81, 0.58, 1.61, 1.01, 0.95, 1.55, 1.54, 1.27, 0.99, 1.22, 0.85, 0.7, 0.51, 1.17, 1.07, 2.35, 1.11, 0.64, 1.43, 1.01, 1.51, 1.58, 0.81, 1.62, 0.85, 0.99, 1.47, 1.54, 1.24, 0.6, 0.62, 0.79, 1.75, 1.56, 1.25, 1.04, 1.07, 1.57, 1.64, 1.39, 1.37, 0.78, 1.0, 1.17, 0.85, 0.65, 0.74, 1.18, 1.18, 0.85, 1.07, 1.18, 0.67, 0.7, 1.22, 1.41, 1.72, 1.4, 0.81, 0.99, 0.65, 1.14, 1.53, 1.37, 1.23, 0.92, 0.95, 1.55, 0.66, 1.27, 1.38, 1.02, 1.47, 0.76, 0.81, 1.52, 1.6, 1.05, 0.73, 1.37, 2.19, 2.22, 1.69, 0.59, 1.02, 0.75, 1.23, 1.5, 1.67, 0.85, 0.74, 0.88, 1.02, 1.47, 1.35, 1.07, 1.73, 0.87, 1.33, 1.4, 0.79, 1.6, 0.87, 0.6, 0.74, 1.45, 0.7, 1.37, 1.05, 0.71, 1.47, 1.14, 0.68, 0.55, 1.07, 1.16, 0.55, 0.69, 0.81, 1.61, 0.63, 1.58, 1.26, 1.52, 0.55, 1.48, 1.5, 1.39, 0.62, 1.09, 1.11, 0.76, 0.94, 1.68, 1.38, 1.01, 1.19, 0.96, 1.63, 0.91, 1.6, 1.16, 0.75, 0.77, 0.63, 1.25, 0.62, 0.68, 0.82, 1.12, 0.99, 0.91, 0.58, 1.09, 1.43, 2.42, 1.3, 0.98, 1.37, 0.79, 1.15, 0.85, 1.35, 1.51, 0.63, 0.68, 1.66, 1.18, 0.89, 1.44, 1.21, 0.68, 1.69, 1.56, 1.19, 0.67, 1.51, 0.65, 1.8, 0.77, 0.79, 1.65, 1.27, 1.01, 1.55, 0.84, 0.65, 1.1, 1.13, 1.34, 0.76, 1.66, 1.64, 1.67, 1.19, 0.77, 1.24, 1.55, 0.81, 0.91, 1.25, 1.15, 0.92, 1.17, 1.69, 1.1, 1.14, 0.91, 1.19, 1.63, 1.09, 0.69, 1.05, 1.3, 0.7, 1.17, 0.74, 1.3, 1.75, 1.08, 1.36, 1.65, 1.38, 0.88, 1.15, 1.21, 1.37, 0.77, 1.05, 2.41, 1.51, 0.97, 0.56, 1.22, 1.57, 0.64, 1.47, 1.05, 1.41, 1.17, 1.09, 0.61, 0.86, 0.87, 0.64, 1.73, 1.17, 0.64, 0.8, 1.61, 0.77, 0.73, 1.08, 1.33, 1.29, 1.34, 0.64, 0.64, 1.72, 1.3, 1.67, 1.63, 1.37, 0.67, 0.64, 0.95, 1.39, 1.46, 0.82, 1.14, 1.24, 0.65, 1.05, 0.59, 1.52, 0.65, 1.22, 0.88, 0.75, 0.67, 1.31, 1.04, 1.69, 1.29, 0.76, 0.71, 0.61, 1.59, 0.9, 1.29, 1.78, 0.64, 1.34, 1.48, 1.57, 1.08, 1.68, 1.24, 1.68, 0.63, 1.49, 1.02, 1.3, 0.77, 1.19, 2.3, 2.14, 0.98, 1.27, 1.22, 1.19, 1.45, 0.84, 1.61, 1.74, 1.39, 0.88, 1.12, 0.66, 1.16, 1.11, 1.18, 0.82, 0.76, 0.71, 1.66, 1.44, 1.22, 0.66, 1.12, 1.1, 0.9, 1.59, 1.53, 1.56, 0.72, 1.31, 1.47, 1.4, 1.09, 1.73, 1.2, 1.64, 1.62, 1.12, 0.75, 1.58, 1.54, 0.71, 0.75, 1.71, 1.58, 0.82, 1.68, 1.69, 1.67, 1.54, 0.67, 1.65, 1.38, 1.69, 0.77, 0.77, 0.57, 0.71, 0.87, 1.0, 1.76, 1.49, 0.77, 1.73, 1.35, 0.78, 0.75, 0.78, 1.17, 1.67, 1.6, 0.87, 0.59, 0.95, 0.82, 1.4, 1.0, 0.92, 1.3, 0.62, 2.02, 2.34, 1.2, 0.46, 0.9, 0.62, 1.08, 1.66, 0.88, 1.68, 0.87, 1.47, 1.28, 1.15, 0.94, 0.79, 1.6, 0.67, 1.19, 1.22, 1.6, 1.26, 1.74, 1.46, 1.8, 1.8, 0.85, 1.74, 1.07, 1.26, 0.71, 1.57, 0.87, 0.7, 0.63, 0.81, 1.34, 1.35, 0.69, 0.77, 1.52, 1.26, 1.15, 0.94, 1.28, 1.6, 1.17, 0.72, 1.35, 1.29, 1.68, 0.89, 1.76, 0.82, 1.55, 0.89, 0.8, 1.55, 0.76, 0.65, 1.47, 0.64, 1.72, 1.07, 1.08, 1.3, 0.93, 0.66, 1.7, 0.59, 1.52, 0.73, 0.74, 1.85, 1.19, 1.72, 1.8, 0.81, 0.81, 1.69, 1.3, 1.17, 1.29, 1.65, 0.67, 0.74, 2.38, 2.26, 0.67, 1.59, 0.85, 1.18, 0.61, 0.88, 0.64, 1.29, 1.21, 0.83, 0.56, 1.68, 0.78, 1.52, 1.68, 0.84, 0.8, 0.67, 1.42, 1.57, 0.79, 1.01, 1.34, 1.17, 1.27, 1.46, 0.85, 1.72, 1.31, 0.65, 1.46, 1.6, 0.64, 0.92, 0.96, 1.23, 1.65, 1.42, 1.06, 0.65, 1.56, 1.14, 0.93, 1.46, 1.33, 0.73, 1.71, 0.58, 1.44, 0.66, 0.78, 1.6, 1.68, 0.81, 0.96, 1.51, 0.83, 1.14, 0.56, 1.05, 0.79, 1.56, 1.73, 1.25, 1.6, 1.75, 1.08, 0.69, 1.18, 0.85, 1.56, 1.64, 0.74, 1.33, 1.66, 1.3, 1.65, 0.93, 0.56, 0.97, 1.45, 1.63, 1.79, 1.68, 1.44, 1.29, 1.29, 1.21, 0.67, 1.74, 1.37, 0.73, 0.78, 1.52, 1.74, 0.72, 0.77, 0.75, 1.43, 1.06, 1.63, 1.67, 1.4, 0.99, 0.74, 1.51, 1.4, 0.69, 1.27, 0.62, 1.06, 1.66, 1.26, 1.39, 1.23, 0.65, 1.0, 0.93, 1.59, 0.57, 1.31, 1.07, 1.67, 1.49, 1.6, 0.71, 1.13, 0.59, 0.78, 1.1, 1.11, 1.71, 1.49, 0.59, 1.33, 0.73, 0.81, 1.49, 0.68, 1.41, 0.89, 1.11, 1.2, 1.64, 1.23, 1.24, 1.59, 1.07, 1.19, 0.87, 0.76, 1.11, 1.42, 1.54, 0.98, 1.81, 1.31, 0.99, 1.43, 0.91, 1.54, 1.52, 1.1, 1.64, 1.35, 1.11, 1.66, 1.49, 1.74, 1.21, 1.62, 0.8, 1.4, 1.73, 0.9, 1.3, 0.81, 1.1, 1.51, 1.32, 1.77, 1.73, 1.09, 0.65, 0.87, 1.48, 1.44, 1.26, 1.66, 0.6, 1.51, 1.24, 0.86, 0.75, 1.63, 1.69, 1.37, 1.13, 1.18, 0.73, 0.77, 0.97, 1.62, 1.58, 1.65, 1.7, 1.7, 0.58, 1.13, 1.3, 0.73, 1.02, 1.22, 1.35, 0.79, 1.58, 1.79, 0.8, 1.65, 1.75, 0.68, 1.44, 0.66, 1.62, 0.66, 1.66, 1.56, 0.71, 0.72, 1.78, 1.85, 1.63, 1.46, 1.23, 1.35, 1.67, 1.4, 0.61, 1.29, 1.1, 1.1, 1.63, 1.66, 1.72, 1.63, 0.79, 0.68, 1.66, 1.77, 1.68, 1.57, 1.8, 1.16, 1.01, 0.93, 1.44, 0.93, 0.68, 0.62, 1.28, 0.61, 1.68, 0.63, 0.91, 0.87, 1.18, 0.81, 0.82, 0.78, 1.16, 1.52, 0.76, 0.72, 1.37, 0.78, 0.71, 1.62, 1.52, 1.68, 0.61, 0.79, 1.09, 1.46, 1.58, 1.52, 0.64, 1.4, 1.6, 1.22, 1.54, 0.92, 0.86, 1.23, 1.38, 0.78, 1.14, 1.23, 0.59, 0.99, 0.74, 1.28, 1.5, 0.76, 1.0, 1.48, 2.03, 0.85, 0.59, 1.09, 1.29, 0.95, 1.04, 0.79, 1.65, 0.97, 0.64, 1.05, 0.65, 0.62, 0.74, 1.68, 1.66, 1.07, 0.7, 0.92, 1.27, 1.39, 1.03, 0.76, 0.77, 1.36, 1.39, 0.82, 1.13, 0.87, 0.55, 0.89, 0.57, 0.91, 1.56, 1.33, 0.97, 0.79, 1.66, 0.84, 1.08, 1.38, 0.75, 1.38, 1.71, 0.61, 0.7, 1.37, 0.75, 0.98, 0.66, 0.92, 0.86, 1.59, 1.16, 0.74, 0.97, 1.17, 1.36, 1.57, 1.13, 0.77, 1.12, 0.89, 1.67, 0.74, 0.64, 0.59, 1.35, 0.68, 1.49, 1.32, 0.77, 1.01, 1.0, 0.44, 0.9, 2.22, 1.44, 0.69, 1.44, 0.81, 0.59, 0.74, 0.66, 0.73, 1.54, 0.68, 1.56, 0.65, 1.05, 1.67, 0.71, 0.97, 0.77, 1.68, 0.59, 1.44, 1.52, 1.22, 1.69, 0.86, 1.67, 1.21, 0.93, 0.91, 1.35, 0.83, 1.45, 1.65, 1.67, 1.22, 0.73, 1.68, 1.24, 1.03, 0.88, 0.83, 1.16, 0.87, 1.31, 1.35, 1.24, 1.18, 1.5, 1.36, 1.42, 1.07, 0.89, 0.93, 1.01, 1.66, 0.78, 1.06, 1.51, 0.93, 0.79, 1.45, 0.99, 1.12, 1.22, 0.63, 0.87, 0.81, 1.67, 0.67, 1.3, 0.83, 1.29, 0.8, 1.57, 2.11, 1.33, 1.51, 1.5, 1.29, 0.9, 0.87, 1.27, 0.91, 1.59, 1.14, 0.93, 1.6, 1.27, 1.58, 1.07, 1.57, 1.66, 1.36, 0.75, 1.01, 1.32, 0.82, 1.07, 1.09, 1.58, 0.77, 1.09, 0.9, 1.31, 1.63, 1.25, 1.58, 1.55, 0.71, 1.65, 0.77, 1.76, 0.98, 1.42, 1.14, 0.96, 0.99, 1.67, 0.66, 1.09, 1.46, 1.42, 1.7, 1.0, 0.82, 1.64, 0.64, 0.93, 1.36, 1.34, 1.32, 1.34, 1.08, 0.9, 1.26, 0.91, 0.96, 1.09, 1.52, 0.9, 0.72, 0.84, 0.96, 1.47, 1.36, 0.68, 1.1, 1.48, 1.07, 1.62, 2.07, 1.05, 0.69, 1.23, 1.24, 0.68, 1.3, 1.43, 0.68, 0.86, 0.92, 0.87, 1.33, 1.35, 0.75, 0.99, 0.66, 1.25, 1.04, 0.72, 1.32, 1.74, 0.95, 1.52, 0.82, 1.41, 0.63, 1.7, 1.53, 0.68, 1.23, 1.63, 1.59, 1.63, 0.63, 1.3, 1.18, 0.71, 1.76, 0.56, 1.61, 1.4, 0.76, 0.92, 0.85, 1.63, 1.35, 0.81, 1.35, 1.65, 0.92, 1.42, 1.54, 0.65, 1.48, 1.58, 1.12, 0.74, 0.59, 1.7, 1.47, 1.67, 1.5, 1.26, 1.5, 1.32, 1.64, 1.05, 0.63, 1.08, 1.74, 1.59, 0.81, 1.24, 1.09, 0.96, 1.03, 2.32, 1.64, 1.1, 1.24, 0.68, 1.06, 1.13, 1.52, 0.92, 0.88, 1.52, 1.57, 0.99, 1.6, 1.3, 0.72, 0.93, 1.32, 0.6, 1.31, 0.65, 0.65, 1.52, 1.0, 1.67, 1.84, 1.65, 1.83, 0.83, 0.68, 0.93, 0.78, 1.16, 0.61, 0.75, 1.04, 0.79, 1.25, 1.04, 1.24, 0.86, 0.91, 1.57, 1.37, 1.07, 1.65, 1.37, 1.54, 0.7, 1.74, 1.17, 0.84, 0.98, 1.55, 1.66, 1.67, 1.22, 1.23, 1.21, 1.39, 0.8, 1.08, 1.43, 1.46, 1.72, 0.86, 0.7, 1.68, 1.63, 0.6, 1.53, 0.93, 1.05, 1.74, 0.57, 1.31, 1.6, 0.43, 1.47, 1.56, 1.91, 1.64, 1.45, 1.52, 1.63, 1.28, 1.57, 1.26, 1.65, 0.96, 0.66, 0.73, 1.24, 0.8, 1.52, 1.39, 1.46, 0.74, 1.12, 0.76, 0.64, 1.45, 1.83, 0.71, 1.61, 1.66, 1.74, 1.76, 0.78, 0.86, 1.17, 1.24, 0.8, 1.47, 0.75, 1.63, 0.98, 1.68, 1.01, 1.5, 0.72, 1.58, 0.58, 1.68, 1.58, 0.71, 1.63, 1.3, 1.25, 1.19, 0.84, 0.69, 0.69, 0.67, 0.66, 1.42, 1.48, 1.2, 1.21, 1.15, 1.1, 1.74, 1.63, 1.72, 1.29, 1.47, 0.81, 0.7, 1.12, 0.93, 1.35, 1.1, 1.42, 0.89, 0.63, 1.3, 1.47, 1.05, 1.66, 0.86, 1.51, 1.31, 1.1, 0.7, 0.96, 0.94, 0.69, 1.35, 1.02, 1.54, 0.91, 1.74, 1.5, 1.46, 0.79, 1.3, 1.17, 0.82, 1.51, 0.71, 1.47, 0.68, 1.44, 0.88, 1.34, 1.33, 1.65, 0.66, 1.56, 1.34, 1.56, 0.92, 1.66, 0.69, 1.66, 0.68, 1.07, 1.61, 0.67, 0.94, 1.65, 0.72, 1.46, 1.37, 1.6, 0.65, 1.39, 1.26, 0.61, 1.23, 1.6, 1.25, 0.66, 1.52, 1.01, 1.15, 0.73, 1.26, 1.05, 0.69, 0.59, 0.98, 1.5, 1.47, 1.64, 1.22, 1.02, 0.68, 0.53, 1.05, 1.4, 0.88, 1.52, 0.8, 1.49, 0.53, 1.3, 0.6, 0.61, 0.46, 0.58, 0.9, 1.17, 1.58, 1.37, 0.63, 1.14, 0.54, 0.98, 0.93, 1.46, 1.01, 1.2, 0.92, 1.04, 0.69, 0.74, 0.77, 0.77, 1.57, 0.89, 0.92, 1.17, 1.13, 1.09, 1.16, 0.94, 0.72, 0.55, 1.62, 0.86, 0.96, 0.65, 0.55, 0.78, 0.94, 0.57, 1.41, 0.85, 1.32, 1.66, 0.72, 1.5, 0.92, 0.54, 1.68, 0.57, 1.07, 1.33, 1.57, 1.44, 1.28, 0.74, 1.53, 1.19, 0.86, 1.31, 0.9, 1.38, 1.18, 0.59, 1.39, 0.61, 1.47, 0.96, 1.41, 0.63, 1.53, 0.85, 0.63, 1.45, 0.64, 1.24, 0.8, 1.55, 1.3, 0.58, 0.53, 0.47, 1.35, 1.25, 0.57, 1.68, 1.25, 1.51, 1.51, 1.43, 0.64, 0.74, 0.53, 1.59, 1.38, 1.19, 0.65, 0.99, 1.59, 1.52, 1.06, 0.92, 1.64, 0.7, 1.14, 0.88, 0.77, 1.36, 0.46, 1.35, 0.87, 0.99, 1.44, 1.49, 0.56, 0.92, 1.09, 1.59, 1.04, 0.55, 1.59, 0.48, 0.63, 1.45, 1.15, 1.48, 0.9, 1.3, 0.58, 1.5, 1.44, 0.59, 0.84, 1.68, 0.82, 0.55, 0.81, 0.58, 0.56, 1.48, 1.39, 1.29, 0.53, 0.95, 1.68, 0.52, 0.86, 1.42, 0.57, 0.73, 0.65, 0.9, 1.69, 0.98, 1.01, 1.49, 1.33, 0.81, 0.52, 1.31, 1.45, 2.4, 1.62, 0.94, 1.18, 1.59, 1.44, 1.14, 0.61, 0.51, 1.0, 1.14, 0.66, 1.71, 0.89, 1.1, 1.46, 1.51, 0.64, 0.89, 0.75, 1.47, 1.37, 1.58, 1.62, 1.43, 1.3, 1.16, 1.22, 0.86, 0.93, 0.81, 1.28, 0.75, 1.45, 1.32, 1.01, 1.28, 1.25, 1.09, 1.13, 0.72, 0.84, 0.58, 0.55, 1.66, 0.57, 0.63, 1.56, 0.87, 1.66, 0.76, 0.98, 0.68, 1.05, 1.43, 1.55, 0.85, 0.71, 0.84, 0.76, 1.01, 0.9, 1.47, 0.74, 1.62, 0.88, 0.9, 1.71, 1.78, 0.64, 0.68, 1.7, 1.13, 0.68, 0.63, 1.06, 1.38, 0.82, 1.18, 0.66, 1.07, 0.98, 1.05, 2.08, 1.5, 0.84, 1.14, 1.68, 1.02, 1.51, 0.59, 1.23, 1.26, 0.65, 0.88, 0.64, 1.63, 1.09, 1.17, 0.9, 0.96, 0.7, 1.21, 0.94, 0.66, 0.9, 1.66, 1.78, 1.11, 1.28, 1.79, 1.21, 1.2, 0.75, 1.48, 0.83, 0.84, 1.63, 1.04, 1.25, 1.68, 1.32, 1.5, 0.88, 0.7, 1.26, 1.68, 0.9, 1.09, 0.81, 1.45, 1.53, 1.74, 1.22, 1.32, 1.11, 1.2, 0.73, 1.21, 1.37, 1.73, 1.33, 1.32, 1.13, 1.06, 0.77, 0.63, 1.51, 1.56, 0.6, 0.71, 1.06, 1.16, 1.72, 1.66, 1.14, 0.71, 0.72, 1.07, 0.63, 0.83, 1.72, 1.21, 0.76, 0.75, 1.06, 2.42, 2.44, 0.67, 1.48, 1.59, 1.36, 1.09, 1.37, 0.89, 1.04, 0.66, 0.69, 1.68, 1.7, 0.71, 1.21, 1.62, 0.86, 1.62, 1.3, 0.88, 0.73, 1.01, 0.95, 1.55, 1.73, 1.28, 1.71, 1.43, 1.74, 1.68, 0.58, 1.75, 1.17, 1.33, 1.73, 1.36, 1.15, 1.48, 0.63, 1.74, 1.64, 0.65, 1.26, 1.35, 1.63, 1.18, 1.21, 0.77, 0.83, 0.65, 0.82, 1.29, 1.0, 0.8, 0.68, 1.2, 1.32, 0.7, 0.86, 0.82, 1.11, 1.71, 1.58, 0.9, 1.49, 0.7, 1.73, 0.71, 1.05, 1.52, 1.04, 1.81, 1.3, 1.56, 1.64, 1.7, 1.79, 1.74, 0.63, 0.99, 1.04, 1.11, 2.6, 2.23, 0.76, 1.07, 0.62, 1.47, 1.66, 1.03, 0.98, 1.58, 1.1, 0.85, 1.46, 1.77, 0.83, 0.67, 1.33, 0.85, 1.22, 1.71, 1.44, 0.92, 0.87, 0.76, 1.79, 1.3, 0.84, 0.67, 1.02, 0.92, 1.53, 0.93, 1.09, 1.61, 0.92, 1.43, 1.49, 1.07, 1.17, 0.84, 1.55, 1.19, 0.71, 0.9, 0.62, 1.56, 0.8, 1.67, 0.88, 0.83, 1.22, 1.17, 0.71, 0.74, 0.58, 1.0, 0.79, 1.69, 0.97, 0.68, 1.02, 1.59, 1.34, 1.31, 1.27, 1.68, 1.17, 0.74, 0.9, 1.28, 0.82, 0.75, 1.08, 0.95, 1.01, 1.27, 1.48, 1.15, 1.01, 1.99, 1.6, 1.13, 1.59, 0.76, 0.77, 1.63, 0.99, 1.26, 0.59, 0.73, 1.63, 1.2, 1.69, 1.39, 1.22, 0.8, 0.63, 1.3, 1.58, 1.36, 1.64, 1.25, 1.69, 1.75, 1.37, 0.67, 1.71, 1.15, 1.65, 0.89, 1.17, 1.33, 1.66, 1.28, 1.75, 1.0, 1.33, 0.97, 1.14, 1.37, 1.0, 0.99, 1.31, 0.87, 0.9, 0.8, 0.89, 1.72, 0.81, 1.66, 0.68, 1.12, 1.64, 0.8, 0.89, 0.69, 0.63, 0.78, 0.9, 0.93, 1.74, 1.18, 1.44, 0.74, 1.49, 1.68, 1.55, 0.83, 1.69, 1.57, 1.34, 1.09, 0.41, 1.31, 1.99, 1.79, 1.52, 0.93, 0.93, 1.0, 1.01, 1.19, 0.95, 0.82, 0.94, 0.68, 0.73, 1.62, 0.87, 0.93, 1.44, 1.41, 0.68, 0.64, 1.25, 0.8, 1.33, 0.74, 1.62, 1.57, 1.6, 1.68, 1.19, 0.98, 1.55, 1.26, 1.09, 1.3, 0.84, 0.93, 1.37, 1.76, 0.57, 1.34, 0.76, 1.01, 1.78, 1.59, 1.28, 1.59, 1.6, 1.7, 0.66, 1.44, 0.86, 1.29, 0.59, 1.07, 1.67, 1.56, 1.44, 1.65, 0.68, 0.63, 1.7, 1.35, 1.49, 1.07, 0.71, 0.85, 1.5, 0.75, 1.17, 1.57, 1.37, 1.13, 0.67, 1.01, 0.69, 1.0, 1.49, 1.64, 2.55, 1.92, 0.65, 0.95, 0.77, 1.3, 0.76, 1.49, 1.61, 0.68, 1.2, 1.43, 1.67, 1.12, 0.68, 1.39, 1.14, 1.17, 0.87, 0.89, 0.94, 0.74, 1.61, 1.31, 0.65, 0.95, 1.73, 0.67, 1.8, 0.86, 1.27, 1.42, 1.35, 0.9, 0.68, 1.47, 1.25, 1.24, 1.72, 1.03, 0.68, 0.95, 1.32, 0.6, 1.12, 0.64, 0.63, 0.93, 0.64, 1.05, 0.75, 1.03, 1.66, 1.19, 0.78, 0.66, 0.77, 0.7, 1.09, 0.79, 1.64, 1.09, 1.43, 1.44, 0.77, 1.07, 1.52, 1.06, 0.69, 1.09, 0.84, 1.51, 0.59, 0.77, 0.82, 1.26, 2.53, 1.52, 0.93, 1.39, 1.14, 0.8, 0.88, 1.54, 1.7, 1.62, 0.99, 1.01, 0.67, 1.09, 0.78, 0.68, 1.52, 1.58, 0.95, 0.67, 1.36, 1.81, 0.71, 0.87, 0.81, 1.37, 1.28, 0.77, 1.55, 1.65, 0.84, 1.6, 0.68, 1.06, 1.13, 1.18, 0.8, 1.59, 1.18, 1.13, 0.79, 0.64, 0.9, 1.06, 1.27, 0.76, 0.66, 1.17, 1.65, 1.41, 1.68, 1.52, 0.65, 1.4, 0.57, 0.83, 0.66, 1.3, 1.17, 0.84, 1.24, 1.81, 1.34, 0.96, 0.72, 0.74, 0.98, 0.65, 0.82, 0.59, 1.05, 0.9, 0.94, 2.53, 1.52, 1.01, 0.62, 1.53, 1.19, 0.93, 1.54, 1.54, 1.28, 0.98, 0.89, 1.19, 0.79, 1.04, 1.7, 1.57, 1.51, 0.77, 1.22, 1.11, 1.66, 1.1, 1.84, 1.1, 1.52, 1.36, 0.76, 0.76, 1.6, 1.73, 0.69, 0.75, 1.54, 0.63, 0.83, 1.31, 1.65, 0.7, 1.74, 0.89, 1.51, 0.95, 0.84, 1.07, 0.68, 1.07, 1.29, 1.3, 1.58, 1.59, 1.36, 0.78]\n"
     ]
    }
   ],
   "source": [
    "print(ECG4)"
   ]
  },
  {
   "cell_type": "code",
   "execution_count": 53,
   "metadata": {},
   "outputs": [
    {
     "name": "stdout",
     "output_type": "stream",
     "text": [
      "[ 1.21  0.65  1.57 ...,  1.59  1.36  0.78]\n"
     ]
    }
   ],
   "source": [
    "ECG5=np.array(ECG4)\n",
    "print(ECG5)"
   ]
  },
  {
   "cell_type": "code",
   "execution_count": 54,
   "metadata": {},
   "outputs": [
    {
     "name": "stdout",
     "output_type": "stream",
     "text": [
      "[  3.51294300e+04  +0.j           4.08880954e+01-112.73959173j\n",
      "  -9.56726242e+00 -52.4398692j  ...,  -6.65236357e+01  -1.27376606j\n",
      "  -3.12389158e+01 -37.48502584j   6.20534827e+01 +89.17495j   ]\n"
     ]
    }
   ],
   "source": [
    "Transformada_Rápida_Fourier_1 = np.fft.rfft(ECG5)\n",
    "Transformada_Rápida_Fourier_3 = scipy.fftpack.fft(ECG5) \n",
    "\n",
    "print(Transformada_Rápida_Fourier_1)"
   ]
  },
  {
   "cell_type": "code",
   "execution_count": 55,
   "metadata": {},
   "outputs": [
    {
     "data": {
      "text/plain": [
       "[<matplotlib.lines.Line2D at 0x7f3c77f2f240>]"
      ]
     },
     "execution_count": 55,
     "metadata": {},
     "output_type": "execute_result"
    },
    {
     "data": {
      "image/png": "[encoded data removed]",
      "text/plain": [
       "<matplotlib.figure.Figure at 0x7f3c771eb9b0>"
      ]
     },
     "metadata": {
      "needs_background": "light"
     },
     "output_type": "display_data"
    }
   ],
   "source": [
    "T1=2*(Transformada_Rápida_Fourier_1)/len(ECG5)\n",
    "T11=[]\n",
    "for i in range(1,len(T1)):\n",
    "    T11.append(T1[i])\n",
    "Frecuencias=fftfreq(len(ECG5))\n",
    "MA=Frecuencias>0\n",
    "B=Frecuencias[MA]\n",
    "len(B)\n",
    "len(T11)\n",
    "plot(B,T11)"
   ]
  },
  {
   "cell_type": "code",
   "execution_count": null,
   "metadata": {},
   "outputs": [],
   "source": []
  },
  {
   "cell_type": "markdown",
   "metadata": {},
   "source": [
    "A continuación vamos a definir los tiempos en los que tomamos las muestras, es decir, los instantes de muestreo. "
   ]
  },
  {
   "cell_type": "code",
   "execution_count": 56,
   "metadata": {},
   "outputs": [
    {
     "name": "stdout",
     "output_type": "stream",
     "text": [
      "[  0.00000000e+00   3.33355557e-07   6.66711114e-07 ...,   9.99933329e-03\n",
      "   9.99966664e-03   1.00000000e-02]\n"
     ]
    }
   ],
   "source": [
    "Periodo_de_muestreo=300/30000\n",
    "Instantes_de_muestreo=linspace(0,Periodo_de_muestreo,len(ECG4))\n",
    "print(Instantes_de_muestreo)"
   ]
  },
  {
   "cell_type": "markdown",
   "metadata": {},
   "source": [
    "Ahora vamos a analizar la señal de Electrocardiograma (ECG), y vamos a encontrar la máxima amplitud de la señal (Pico R), y en base a este valor vamos a buscar los demás máximos en la señal de ECG (el resto de picos R)"
   ]
  },
  {
   "cell_type": "code",
   "execution_count": 57,
   "metadata": {},
   "outputs": [],
   "source": [
    "def Maximo_en_un_intervalo(lista):\n",
    "    j=0\n",
    "    posición=0\n",
    "    for i in range(0,len(lista)): \n",
    "        if lista[i]>j:\n",
    "            j=lista[i] \n",
    "        elif lista[i]<j:\n",
    "            j=j\n",
    "    return j\n",
    "    "
   ]
  },
  {
   "cell_type": "code",
   "execution_count": 58,
   "metadata": {},
   "outputs": [],
   "source": [
    "def Detector_de_máximo(Lista,Máximo,TOLERANCIA):\n",
    "    Posiciones_maximos=[]\n",
    "    for i in range(0,len(Lista)):\n",
    "        if abs(Máximo-Lista[i])<TOLERANCIA:\n",
    "            Posiciones_maximos.append(i)\n",
    "        else:\n",
    "            continue           \n",
    "    return Posiciones_maximos"
   ]
  },
  {
   "cell_type": "code",
   "execution_count": 85,
   "metadata": {},
   "outputs": [
    {
     "name": "stdout",
     "output_type": "stream",
     "text": [
      "2.83\n",
      "[1238, 1390, 1551, 3255, 3451, 3582, 3775, 3840, 3984, 4333, 5554, 5642, 6475, 6990, 7571, 7805, 7881, 8886, 9609, 10864, 10944, 11263, 15343, 15619, 15779, 16022, 16354, 16607, 16858, 17117, 17444, 18794, 19347, 20188, 21041, 21912, 22075, 23601, 23685, 24316, 24472, 25127, 26147, 26883, 29565, 29797]\n"
     ]
    }
   ],
   "source": [
    "Amplitud_pico_R = Maximo_en_un_intervalo(ECG4)\n",
    "print(Amplitud_pico_R)\n",
    "Picos_R = Detector_de_máximo(ECG4,Amplitud_pico_R,0.3)\n",
    "print(Picos_R)"
   ]
  },
  {
   "cell_type": "markdown",
   "metadata": {},
   "source": [
    "Una vez que encontramos los tiempos en los que existen los picos R, hay que tomar en cuenta que en muchas ocasiones, esos tiempos corresponden a un mismo complejo QRS, así que si los tiempos están muy cercanos entre sí vamos a suponer que se trata de la misma señal, y procedemos a encontrar el máximo calculando el promedio de esos datos cercanos. Vamos a calcular los puntos cercanos y su promedio."
   ]
  },
  {
   "cell_type": "code",
   "execution_count": 86,
   "metadata": {},
   "outputs": [],
   "source": [
    "def tiempos_cercanos(C):\n",
    "    LISTA=[]\n",
    "    LISTA2=[]\n",
    "    for i in C:\n",
    "        a=C.index(i)\n",
    "        for j in range(a+1,len(C)):\n",
    "            lista=[]\n",
    "            lista2=[]\n",
    "            if abs(C[a]-C[j])<=1:\n",
    "                lista.append(C[a])\n",
    "                lista.append(C[j])\n",
    "                LISTA.append(lista)\n",
    "            else:\n",
    "                continue\n",
    "    return LISTA"
   ]
  },
  {
   "cell_type": "code",
   "execution_count": 75,
   "metadata": {},
   "outputs": [],
   "source": [
    "def intervalos_R(lista):\n",
    "    E=[]\n",
    "    for i in range(0,len(lista)):\n",
    "        if i < (len(lista)-1):\n",
    "            B=lista[i+1]\n",
    "            for j in lista[i]:\n",
    "                if j in B:\n",
    "                    C=B+lista[i]\n",
    "                    C1=[]\n",
    "                    for k in C: \n",
    "                        if k not in C1:\n",
    "                            C1.append(k)\n",
    "                    C1.sort()\n",
    "                    if C1 not in E:\n",
    "                        E.append(C1)\n",
    "                    continue\n",
    "                else: \n",
    "                    continue\n",
    "        else: \n",
    "            continue \n",
    "    return E"
   ]
  },
  {
   "cell_type": "code",
   "execution_count": 76,
   "metadata": {},
   "outputs": [],
   "source": [
    "def tiempos_solitarios(lista):\n",
    "    LISTA=[]\n",
    "    for i in range(0,len(lista)-1):\n",
    "        if i == 0:\n",
    "            if abs(lista[i]-lista[i+1])>2:\n",
    "                LISTA.append(lista[i])\n",
    "        if 0<i<len(lista):\n",
    "            if abs(lista[i]-lista[i-1])>2 and abs(lista[i]-lista[i+1])>2:\n",
    "                LISTA.append(lista[i])\n",
    "    return LISTA"
   ]
  },
  {
   "cell_type": "code",
   "execution_count": 144,
   "metadata": {},
   "outputs": [],
   "source": [
    "Tiempos_0=tiempos_cercanos(Picos_R)\n",
    "#print(Tiempos_0)\n",
    "Tiempos_1=intervalos_R(Tiempos_0)\n",
    "#print(Tiempos_1)\n",
    "Tiempos_2=promedio_tiempo(Tiempos_1)\n",
    "#print(Tiempos_2)\n",
    "Tiempos_3=Relación_temporal(Tiempos_2,Instantes_de_muestreo)\n",
    "#print(Tiempos_3)\n",
    "Tiempos_4=tiempos_solitarios(Picos_R)\n",
    "#print(Tiempos_4)\n",
    "Tiempos_5=Relación_temporal(Tiempos_4,Instantes_de_muestreo)\n",
    "#print(Tiempos_5)\n",
    "\n",
    "\n",
    "Tiempo_total=Tiempos_3+Tiempos_5\n",
    "Tiempo_total.sort()\n",
    "#print(Tiempo_total)\n",
    "Tiempo_total_2=[]\n",
    "for i in Tiempo_total:\n",
    "    b=(1000*float(i))\n",
    "    Tiempo_total_2.append(b)\n"
   ]
  },
  {
   "cell_type": "markdown",
   "metadata": {},
   "source": [
    "En estos tiempos encontramos los picos R, podemos encontrar en base a estos tiempos los intervalos RR, es decir, el intervalo de tiempo entre 2 picos R. "
   ]
  },
  {
   "cell_type": "code",
   "execution_count": 145,
   "metadata": {},
   "outputs": [],
   "source": [
    "def Intervalos_RRRRR(lista):\n",
    "    INTERVALOSR=[]\n",
    "    for i in range(0,len(lista)-1):\n",
    "        tiempo=lista[i+1]-lista[i]\n",
    "        INTERVALOSR.append(tiempo)\n",
    "    plot(INTERVALOSR)\n",
    "    title('Tacograma')\n",
    "    ylim(-2,2)\n",
    "    return INTERVALOSR"
   ]
  },
  {
   "cell_type": "code",
   "execution_count": 147,
   "metadata": {},
   "outputs": [
    {
     "name": "stdout",
     "output_type": "stream",
     "text": [
      "19.735526315789475\n",
      "18.63229813664598\n",
      "1.760446009389671\n",
      "15.3051020408163\n",
      "22.899236641221503\n",
      "15.543005181347123\n",
      "46.15076923076941\n",
      "20.831944444444385\n",
      "8.595415472779383\n",
      "2.456838656838655\n",
      "34.08863636363661\n",
      "3.601200480192071\n",
      "5.8248543689320496\n",
      "5.163166953528406\n",
      "12.819658119658083\n",
      "39.47105263157929\n",
      "2.9848756218905446\n",
      "4.149100968188105\n",
      "2.3902788844621523\n",
      "37.4975000000001\n",
      "9.403761755485872\n",
      "0.7352450980392159\n",
      "10.868840579710113\n",
      "18.74874999999974\n",
      "12.34485596707839\n",
      "9.035542168674649\n",
      "11.856916996047344\n",
      "11.951394422310775\n",
      "11.582239382239358\n",
      "9.173700305810426\n",
      "2.222074074074074\n",
      "5.424593128390597\n",
      "3.566944114149829\n",
      "3.5167643610785424\n",
      "3.4440872560275557\n",
      "18.403680981595063\n",
      "1.9657929226736583\n",
      "35.711904761904655\n",
      "4.754041204437389\n",
      "19.229487179487453\n",
      "4.5798473282442815\n",
      "2.9409803921568467\n",
      "4.0758152173913125\n",
      "1.1184936614466834\n"
     ]
    },
    {
     "data": {
      "text/plain": [
       "[<matplotlib.lines.Line2D at 0x7f3c754590b8>]"
      ]
     },
     "execution_count": 147,
     "metadata": {},
     "output_type": "execute_result"
    },
    {
     "data": {
      "image/png": "[encoded data removed]",
      "text/plain": [
       "<matplotlib.figure.Figure at 0x7f3c750523c8>"
      ]
     },
     "metadata": {
      "needs_background": "light"
     },
     "output_type": "display_data"
    }
   ],
   "source": [
    "Intervalos_R_ECG=Intervalos_RRRRR(Tiempo_total_2)\n",
    "for i in Intervalos_R_ECG:\n",
    "    Frecuencia_cardíaca=1/i\n",
    "    print(Frecuencia_cardíaca)\n",
    "#print(Intervalos_R_ECG)\n",
    "plot(Intervalos_R_ECG)\n"
   ]
  },
  {
   "cell_type": "markdown",
   "metadata": {},
   "source": [
    "## Recursos de consulta:"
   ]
  },
  {
   "cell_type": "markdown",
   "metadata": {},
   "source": [
    "https://pythonhosted.org/pyserial/shortintro.html \n",
    "\n",
    "https://docs.scipy.org/doc/numpy/reference/generated/numpy.fft.rfft.html#numpy.fft.rfft\n",
    "\n",
    "https://docs.scipy.org/doc/numpy/reference/generated/numpy.fft.fft.html#numpy.fft.fft\n",
    "\n",
    "Alicia Denis. (2015). Señales y sistemas. Fundamentos matemáticos. Buenos Aires, Argentina: UNSAM Edita. \n",
    "\n",
    "Variabilidad de la frecuencia cardíaca: Concepto, medidas y relación con aspectos clínicos, Gil Rodas,Archivo de medicina del deporte, volumen XXV, 2008. http://archivosdemedicinadeldeporte.com/articulos/upload/Variabilidad_41_123.pdf. Consultado el 13/Mayo/2019"
   ]
  },
  {
   "cell_type": "markdown",
   "metadata": {},
   "source": [
    "## Apéndices:"
   ]
  },
  {
   "cell_type": "markdown",
   "metadata": {},
   "source": [
    "El siguiente código nos ayudará a encontrar el valor máximo de amplitud que alcanza la señal de ECG. "
   ]
  },
  {
   "cell_type": "code",
   "execution_count": null,
   "metadata": {},
   "outputs": [],
   "source": [
    "def Maximo_en_un_intervalo(lista):\n",
    "    j=0\n",
    "    posición=0\n",
    "    for i in range(0,len(lista)): \n",
    "        if lista[i]>j:\n",
    "            j=lista[i] \n",
    "        elif lista[i]<j:\n",
    "            j=j\n",
    "    return j\n",
    "    "
   ]
  },
  {
   "cell_type": "markdown",
   "metadata": {},
   "source": [
    "El valor máximo de la señal de ECG es 1, es decir, el pico R de mayor amplitud. Ahora, a lo largo de la señal vamos a buscar en qué tiempos encontramos un valor de amplitud similar. "
   ]
  },
  {
   "cell_type": "code",
   "execution_count": null,
   "metadata": {},
   "outputs": [],
   "source": [
    "def Detector_de_máximo(Lista,Máximo,TOLERANCIA):\n",
    "    Posiciones_maximos=[]\n",
    "    for i in range(0,len(Lista)):\n",
    "        if abs(Máximo-Lista[i])<TOLERANCIA:\n",
    "            Posiciones_maximos.append(i)\n",
    "        else:\n",
    "            continue           \n",
    "    return Posiciones_maximos"
   ]
  },
  {
   "cell_type": "markdown",
   "metadata": {},
   "source": [
    "Los valores son los valores en los cuales podemos encontrar un máximo, pero no implica que correspondan a complejos PQR distintos, obviamente los valores que corresponden a complejos diferentes están separados en el intervalo temporal en más de 1 segundo. Por ello, vamos a distinguir los valores que corresponden a ciclos distintos, y a calcular un promedio entre los valores. "
   ]
  },
  {
   "cell_type": "code",
   "execution_count": null,
   "metadata": {},
   "outputs": [],
   "source": [
    "def tiempos_cercanos(C):\n",
    "    LISTA=[]\n",
    "    LISTA2=[]\n",
    "    for i in C:\n",
    "        a=C.index(i)\n",
    "        for j in range(a+1,len(C)):\n",
    "            lista=[]\n",
    "            lista2=[]\n",
    "            if abs(C[a]-C[j])<=1:\n",
    "                lista.append(C[a])\n",
    "                lista.append(C[j])\n",
    "                LISTA.append(lista)\n",
    "            else:\n",
    "                continue\n",
    "    return LISTA"
   ]
  },
  {
   "cell_type": "code",
   "execution_count": null,
   "metadata": {},
   "outputs": [],
   "source": [
    "B=tiempos_distantes(D)\n",
    "print(B)"
   ]
  },
  {
   "cell_type": "code",
   "execution_count": null,
   "metadata": {},
   "outputs": [],
   "source": [
    "C1=intervalos_R(B)\n",
    "print(C1)"
   ]
  },
  {
   "cell_type": "code",
   "execution_count": null,
   "metadata": {},
   "outputs": [],
   "source": [
    "v=promedio_tiempo(C1)\n",
    "print(v)\n",
    "Relación_temporal(v,tiempo)"
   ]
  },
  {
   "cell_type": "code",
   "execution_count": null,
   "metadata": {},
   "outputs": [],
   "source": [
    "lista=tiempos_distantes(C)\n",
    "lista2=tiempos_solitarios(C)\n",
    "lista4=Relación_temporal(lista2,tiempo)\n",
    "lista3=promedio_tiempo(lista)\n",
    "lista3.extend(lista4)\n",
    "print(lista3)\n",
    "lista3.sort()\n",
    "print(lista3)\n"
   ]
  },
  {
   "cell_type": "code",
   "execution_count": null,
   "metadata": {},
   "outputs": [],
   "source": [
    "def Intervalos_RRRRR(lista):\n",
    "    INTERVALOSR=[]\n",
    "    for i in range(0,len(lista)-1):\n",
    "        tiempo=lista[i+1]-lista[i]\n",
    "        INTERVALOSR.append(tiempo)\n",
    "    plot(INTERVALOSR)\n",
    "    title('Tacograma')\n",
    "    ylim(-2,2)\n",
    "    return INTERVALOSR"
   ]
  },
  {
   "cell_type": "code",
   "execution_count": null,
   "metadata": {},
   "outputs": [],
   "source": [
    "Intervalos_RRRRR(lista3)"
   ]
  },
  {
   "cell_type": "code",
   "execution_count": 79,
   "metadata": {},
   "outputs": [],
   "source": [
    "def intervalos_R(lista):\n",
    "    E=[]\n",
    "    for i in range(0,len(lista)):\n",
    "        if i < (len(lista)-1):\n",
    "            B=lista[i+1]\n",
    "            for j in lista[i]:\n",
    "                if j in B:\n",
    "                    C=B+lista[i]\n",
    "                    C1=[]\n",
    "                    for k in C: \n",
    "                        if k not in C1:\n",
    "                            C1.append(k)\n",
    "                    C1.sort()\n",
    "                    if C1 not in E:\n",
    "                        E.append(C1)\n",
    "                    continue\n",
    "                else: \n",
    "                    continue\n",
    "        else: \n",
    "            continue \n",
    "    return E"
   ]
  },
  {
   "cell_type": "code",
   "execution_count": null,
   "metadata": {},
   "outputs": [],
   "source": [
    "R=[0,1,2,3,50,120,121,122,123,124,136,167,180,190,191,210,211,212,213]"
   ]
  },
  {
   "cell_type": "code",
   "execution_count": 80,
   "metadata": {},
   "outputs": [],
   "source": [
    "def tiempos_solitarios(lista):\n",
    "    LISTA=[]\n",
    "    for i in range(0,len(lista)-1):\n",
    "        if i == 0:\n",
    "            if abs(lista[i]-lista[i+1])>2:\n",
    "                LISTA.append(lista[i])\n",
    "        if 0<i<len(lista):\n",
    "            if abs(lista[i]-lista[i-1])>2 and abs(lista[i]-lista[i+1])>2:\n",
    "                LISTA.append(lista[i])\n",
    "    return LISTA"
   ]
  },
  {
   "cell_type": "code",
   "execution_count": null,
   "metadata": {},
   "outputs": [],
   "source": [
    "tiempos_solitarios(R)"
   ]
  },
  {
   "cell_type": "code",
   "execution_count": null,
   "metadata": {},
   "outputs": [],
   "source": [
    "R1=tiempos_distantes(R)\n",
    "R2=intervalos_R(R1)\n",
    "R3=intervalos_R(R2)\n",
    "R4=intervalos_R(R3)\n",
    "print(R4)"
   ]
  },
  {
   "cell_type": "code",
   "execution_count": 81,
   "metadata": {},
   "outputs": [],
   "source": [
    "def Relación_temporal(lista1,lista2):\n",
    "    Lista3=[]\n",
    "    for i in lista1:\n",
    "        Lista3.append(lista2[i])\n",
    "    return Lista3"
   ]
  },
  {
   "cell_type": "code",
   "execution_count": null,
   "metadata": {},
   "outputs": [],
   "source": [
    "Relación_temporal(C,tiempo)"
   ]
  },
  {
   "cell_type": "code",
   "execution_count": 84,
   "metadata": {},
   "outputs": [],
   "source": [
    "def promedio_tiempo(LISTA):\n",
    "    T=[]\n",
    "    for i in LISTA:\n",
    "        t=0\n",
    "        for j in i:\n",
    "            t=t+j\n",
    "        t=t/len(i)\n",
    "        T.append(t)\n",
    "    return T"
   ]
  },
  {
   "cell_type": "code",
   "execution_count": null,
   "metadata": {},
   "outputs": [],
   "source": [
    "promedio_tiempo(A)"
   ]
  },
  {
   "cell_type": "code",
   "execution_count": null,
   "metadata": {},
   "outputs": [],
   "source": [
    "\n",
    "    "
   ]
  },
  {
   "cell_type": "code",
   "execution_count": null,
   "metadata": {},
   "outputs": [],
   "source": [
    "ECG2=np.array([1.000000000000000000e+00,9.003241658210754395e-01,3.585899472236633301e-01,5.145867168903350830e-02,4.659643396735191345e-02,1.268233358860015869e-01,1.333063244819641113e-01,1.191247999668121338e-01,1.106158867478370667e-01,1.130470037460327148e-01,1.065640226006507874e-01,1.069692075252532959e-01,1.158833056688308716e-01,1.223662868142127991e-01,1.223662868142127991e-01,1.195299848914146423e-01,1.158833056688308716e-01,1.223662868142127991e-01,1.260129660367965698e-01,1.337115019559860229e-01,1.349270641803741455e-01,1.426256150007247925e-01,1.511345207691192627e-01,1.584278792142868042e-01,1.636953055858612061e-01,1.738249659538269043e-01,1.888168603181838989e-01,2.078606188297271729e-01,2.309562414884567261e-01,2.585089206695556641e-01,2.945705056190490723e-01,3.257698416709899902e-01,3.626418113708496094e-01,3.982982039451599121e-01,4.294975697994232178e-01,4.493516981601715088e-01,4.509724378585815430e-01,4.189627170562744141e-01,3.727714717388153076e-01,3.103727698326110840e-01,2.500000000000000000e-01,2.042139321565628052e-01,1.689627170562744141e-01,1.474878489971160889e-01,1.304700225591659546e-01,1.243922188878059387e-01,1.175040528178215027e-01,1.166936755180358887e-01,1.158833056688308716e-01,1.187196075916290283e-01,1.154781207442283630e-01,1.138573735952377319e-01,1.195299848914146423e-01,1.166936755180358887e-01,1.227714717388153076e-01,1.207455396652221680e-01,1.166936755180358887e-01,1.227714717388153076e-01,1.264181584119796753e-01,1.316855698823928833e-01,1.418152302503585815e-01,1.393841207027435303e-01,1.450567245483398438e-01,1.434359848499298096e-01,1.410048604011535645e-01,1.405996829271316528e-01,1.381685584783554077e-01,1.369529962539672852e-01,1.320907622575759888e-01,1.284440904855728149e-01,1.284440904855728149e-01,1.280388981103897095e-01,1.252025961875915527e-01,1.223662868142127991e-01,1.170988678932189941e-01,1.126418188214302063e-01,1.130470037460327148e-01,1.276337057352066040e-01,1.653160452842712402e-01,1.794975697994232178e-01,1.612641811370849609e-01,1.766612678766250610e-01,1.827390640974044800e-01,1.746353358030319214e-01,1.515397131443023682e-01,1.478930264711380005e-01,1.349270641803741455e-01,1.227714717388153076e-01,1.069692075252532959e-01,9.805510193109512329e-02,9.440843015909194946e-02,8.914100378751754761e-02,8.914100378751754761e-02,8.873581886291503906e-02,9.076175093650817871e-02,8.589951694011688232e-02,8.589951694011688232e-02,8.914100378751754761e-02,8.427876979112625122e-02,5.794165283441543579e-02,0.000000000000000000e+00,1.162884905934333801e-01,3.095623850822448730e-01,8.342787623405456543e-01,9.643436074256896973e-01,5.615883469581604004e-01,8.144246041774749756e-02,3.241490945219993591e-02,1.126418188214302063e-01,1.523500829935073853e-01,1.357374340295791626e-01,1.247974038124084473e-01,1.235818490386009216e-01,1.235818490386009216e-01,1.158833056688308716e-01,1.154781207442283630e-01,1.166936755180358887e-01,1.247974038124084473e-01,1.280388981103897095e-01,1.300648301839828491e-01,1.268233358860015869e-01,1.296596378087997437e-01,1.361426264047622681e-01,1.000000000000000000e+00,9.003241658210754395e-01,3.585899472236633301e-01,5.145867168903350830e-02,4.659643396735191345e-02,1.268233358860015869e-01,1.333063244819641113e-01,1.191247999668121338e-01,1.106158867478370667e-01,1.130470037460327148e-01,1.065640226006507874e-01,1.069692075252532959e-01,1.158833056688308716e-01,1.223662868142127991e-01,1.223662868142127991e-01,1.195299848914146423e-01,1.158833056688308716e-01,1.223662868142127991e-01,1.260129660367965698e-01,1.337115019559860229e-01,1.349270641803741455e-01,1.426256150007247925e-01,1.511345207691192627e-01,1.584278792142868042e-01,1.636953055858612061e-01,1.738249659538269043e-01,1.888168603181838989e-01,2.078606188297271729e-01,2.309562414884567261e-01,2.585089206695556641e-01,2.945705056190490723e-01,3.257698416709899902e-01,3.626418113708496094e-01,3.982982039451599121e-01,4.294975697994232178e-01,4.493516981601715088e-01,4.509724378585815430e-01,4.189627170562744141e-01,3.727714717388153076e-01,3.103727698326110840e-01,2.500000000000000000e-01,2.042139321565628052e-01,1.689627170562744141e-01,1.474878489971160889e-01,1.304700225591659546e-01,1.243922188878059387e-01,1.175040528178215027e-01,1.166936755180358887e-01,1.158833056688308716e-01,1.187196075916290283e-01,1.154781207442283630e-01,1.138573735952377319e-01,1.195299848914146423e-01,1.166936755180358887e-01,1.227714717388153076e-01,1.207455396652221680e-01,1.166936755180358887e-01,1.227714717388153076e-01,1.264181584119796753e-01,1.316855698823928833e-01,1.418152302503585815e-01,1.393841207027435303e-01,1.450567245483398438e-01,1.434359848499298096e-01,1.410048604011535645e-01,1.405996829271316528e-01,1.381685584783554077e-01,1.369529962539672852e-01,1.320907622575759888e-01,1.284440904855728149e-01,1.284440904855728149e-01,1.280388981103897095e-01,1.252025961875915527e-01,1.223662868142127991e-01,1.170988678932189941e-01,1.126418188214302063e-01,1.130470037460327148e-01,1.276337057352066040e-01,1.653160452842712402e-01,1.794975697994232178e-01,1.612641811370849609e-01,1.766612678766250610e-01,1.827390640974044800e-01,1.746353358030319214e-01,1.515397131443023682e-01,1.478930264711380005e-01,1.349270641803741455e-01,1.227714717388153076e-01,1.069692075252532959e-01,9.805510193109512329e-02,9.440843015909194946e-02,8.914100378751754761e-02,8.914100378751754761e-02,8.873581886291503906e-02,9.076175093650817871e-02,8.589951694011688232e-02,8.589951694011688232e-02,8.914100378751754761e-02,8.427876979112625122e-02,5.794165283441543579e-02,0.000000000000000000e+00,1.162884905934333801e-01,3.095623850822448730e-01,8.342787623405456543e-01,9.643436074256896973e-01,5.615883469581604004e-01,8.144246041774749756e-02,3.241490945219993591e-02,1.126418188214302063e-01,1.523500829935073853e-01,1.357374340295791626e-01,1.247974038124084473e-01,1.235818490386009216e-01,1.235818490386009216e-01,1.158833056688308716e-01,1.154781207442283630e-01,1.166936755180358887e-01,1.247974038124084473e-01,1.280388981103897095e-01,1.300648301839828491e-01,1.268233358860015869e-01,1.296596378087997437e-01,1.361426264047622681e-01])"
   ]
  },
  {
   "cell_type": "code",
   "execution_count": null,
   "metadata": {},
   "outputs": [],
   "source": [
    "Transformada_Rápida_Fourier_1 = np.fft.rfft(ECG1)"
   ]
  },
  {
   "cell_type": "code",
   "execution_count": null,
   "metadata": {},
   "outputs": [],
   "source": [
    "plot(real(Transformada_Rápida_Fourier_1)/len(Transformada_Rápida_Fourier_1))"
   ]
  },
  {
   "cell_type": "code",
   "execution_count": null,
   "metadata": {},
   "outputs": [],
   "source": [
    "Datos=[]\n",
    "import csv\n",
    "with open('ptbdb_abnormal.csv') as File:\n",
    "    reader=csv.reader(File, delimiter=',',quotechar=',',\n",
    "                     quoting=csv.QUOTE_MINIMAL)\n",
    "    for row in reader:\n",
    "        Datos.append(row)"
   ]
  },
  {
   "cell_type": "code",
   "execution_count": null,
   "metadata": {},
   "outputs": [],
   "source": [
    "Datos[0].extend(Datos[1])\n",
    "D11=[]\n",
    "for i in Datos[0]:\n",
    "    D11.append(float(i))\n",
    "plot(D11)\n"
   ]
  },
  {
   "cell_type": "code",
   "execution_count": null,
   "metadata": {},
   "outputs": [],
   "source": [
    "D=[]\n",
    "for i in Datos[7]:\n",
    "    a=float(i)\n",
    "    D.append(a)\n",
    "plot(D)"
   ]
  },
  {
   "cell_type": "code",
   "execution_count": null,
   "metadata": {},
   "outputs": [],
   "source": [
    "plot(D)"
   ]
  },
  {
   "cell_type": "code",
   "execution_count": null,
   "metadata": {},
   "outputs": [],
   "source": [
    "Datos2=[]\n",
    "import csv\n",
    "with open('ptbdb_normal.csv') as File:\n",
    "    reader=csv.reader(File, delimiter=',',quotechar=',',\n",
    "                     quoting=csv.QUOTE_MINIMAL)\n",
    "    for row in reader:\n",
    "        Datos2.append(row)"
   ]
  },
  {
   "cell_type": "code",
   "execution_count": null,
   "metadata": {},
   "outputs": [],
   "source": [
    "D111=[]\n",
    "for i in Datos[1]:\n",
    "    D111.append(float(i))\n",
    "plot(D11)"
   ]
  },
  {
   "cell_type": "markdown",
   "metadata": {},
   "source": [
    "Programa para calcular la transformada de fourier a la base de datos:"
   ]
  },
  {
   "cell_type": "code",
   "execution_count": null,
   "metadata": {},
   "outputs": [],
   "source": [
    "import random\n",
    "import numpy as np\n",
    "import pylab as plt\n",
    "import os\n",
    "import scipy\n",
    "from decimal import *\n",
    "import numpy"
   ]
  },
  {
   "cell_type": "code",
   "execution_count": null,
   "metadata": {},
   "outputs": [],
   "source": [
    "arange(111)"
   ]
  },
  {
   "cell_type": "code",
   "execution_count": null,
   "metadata": {},
   "outputs": [],
   "source": [
    "type(B)"
   ]
  },
  {
   "cell_type": "code",
   "execution_count": null,
   "metadata": {},
   "outputs": [],
   "source": [
    "#Primero tenemos nuestros datos. Considerando que ya hicimos el proceso de importar. \n",
    "#ECG1=np.array()\n",
    "#Número_de_muestras=len(ECG1)\n",
    "#Intervalo de muestreo=0.001\n",
    "#Tiempototaldemuestreo=Numerodemuestras*Intervalodemuestreo=linspace(0,int(Numerodemuestras*Intervalodemuestreo),Intervalodemuestreo)\n",
    "#Tiempomaximo=Numerodemuestras*intervalodemuestreo\n",
    "\n",
    "\n",
    "\n"
   ]
  }
 ],
 "metadata": {
  "kernelspec": {
   "display_name": "Python 3",
   "language": "python",
   "name": "python3"
  },
  "language_info": {
   "codemirror_mode": {
    "name": "ipython",
    "version": 3
   },
   "file_extension": ".py",
   "mimetype": "text/x-python",
   "name": "python",
   "nbconvert_exporter": "python",
   "pygments_lexer": "ipython3",
   "version": "3.6.7"
  }
 },
 "nbformat": 4,
 "nbformat_minor": 2
}
