{
 "cells": [
  {
   "cell_type": "markdown",
   "metadata": {},
   "source": [
    "# Diagnóstico preliminar de cardiopatías mediante el índice de variabilidad de frecuencia cardíaca obtenido mediante el análisis frecuencial de Fourier sobre una señal de ECG. "
   ]
  },
  {
   "cell_type": "markdown",
   "metadata": {},
   "source": [
    "**Elaborado por: Camacho López Rubén Eequiel// Flores Luna Luis Eduardo // Pozos Castillos Vincent Tristán**"
   ]
  },
  {
   "cell_type": "markdown",
   "metadata": {},
   "source": [
    "## Resumen: \n",
    "Se establece una conexión entre Arduino y Python con el objetivo de aplicar la transformada rápida de Fourier a una señal discreta con el objetivo de llevar a cabo su análisis en el dominio frecuencial. La señal sometida a este estudio provino de un ECG, de modo que se pudo estimar la frecuencia cardiaca y la variación de la frecuencia cardíaca (VFC). Se calcularon varios parámetros temporales y frecuenciales relacionados con la VFC que son de importancia en el diagnóstico de cardiopatías y en la evaluación del papel del Sistema Nervioso Autónomo. "
   ]
  },
  {
   "cell_type": "markdown",
   "metadata": {},
   "source": [
    "## Motivación: \n",
    "\n",
    "En la época actual resulta un poco intuitivo que el análisis de datos que proporcionan los sistemas digitales es más rápido que el que podemos realizar mediante medios analógicos. Por ello, la introducción a un lenguaje de programación es fundamental, \"transformando así la postura ante la resolución de alguna problemática\". \n",
    "\n",
    "La motivación de este proyecto está relacionada con el diagnóstico de anomalías en la actividad cardiaca, patologías como diabetes mellitus y síndrome de fatiga crónica, además de la valoración del funcionamiento del SNA, para ello se calcula la variabilidad de la frecuencia cardiaca, índice del cual se derivan parámetros necesarios para una evaluación no invasiva, contribuyendo así en un diagnóstico oportuno. "
   ]
  },
  {
   "cell_type": "markdown",
   "metadata": {},
   "source": [
    "## Estructura general del trabajo. "
   ]
  },
  {
   "cell_type": "markdown",
   "metadata": {},
   "source": [
    "A lo largo del trabajo se presenta:\n",
    "\n",
    "**1.Concepto de Frecuencia Cardíaca e Índice de Variabilidad Cardíaca**\n",
    "\n",
    "**2.Conceptos previos al tratamiento de Fourier, Transformada de Fourier, Transformada Discreta de Fourier, Transformada Rápida de Fourier**\n",
    "\n",
    "**3.Conexión Arduino-Python**\n",
    "\n",
    "**4.Calculo de la frecuencia cardíaca. Reconocimiento de los picos R, Estimación de los intervalos RR**\n",
    "\n",
    "**5.Tacograma, Estimación de parámetros temporales y frecuenciales relacionados a VFC**\n"
   ]
  },
  {
   "cell_type": "markdown",
   "metadata": {},
   "source": [
    "## Frecuencia cardiaca e Índice de variabilidad de frecuencia cardíaca."
   ]
  },
  {
   "cell_type": "markdown",
   "metadata": {},
   "source": [
    "### Frecuencia cardíaca\n",
    "\n",
    "El corazón se encarga de bombear la sangre a través del sistema circulatorio hacia los distintos tejidos presentes en el cuerpo, con el objetivo de dotarlos de nutrimentos y $O_{2}$, a la par que se recolectan desechos y $CO_{2}$. El proceso de contracción cardíaca se conoce como ciclo cardiaco e involucra las siguientes fases: \n",
    "\n",
    "#### Ciclo cardíaco\n",
    "\n",
    "1. Surge un potencial de acción en el Nodo Sinoatrial (SA) por efecto de las células marcapasos. \n",
    "2. El impulso se transmite a lo largo del circuito atrial a través del Has de Bachmann, de modo que se genera la contracción de esta cavidad. El impulso se transmite en la región atrial hasta llegar al Nodo Atrioventricular (AV). \n",
    "3. El impulso atraviesa el Nodo Atrioventricular y se distribuye por el Has de His. \n",
    "4. El impulso se transmite a través de toda la camara ventrícular gracias a las fibras de Purkinje, lo que genera la contracción en esta cavidad, y la posterior expulsión sanguínea. \n",
    "\n",
    "Los impulsos y potenciales de acción anteriormente mencionados son impulsos eléctricos. De modo que pueden ser detectados (con ayuda de electrodos) y representados en términos del tiempo y su voltaje elétrico asociado: este es el trabajo de la electrocardiografía. \n",
    "\n",
    "Las señales provenientes de un electromiograma, o mejor conocidas como señales ECG, representan la actividad eléctrica relacionada con el ciclo cardíaco, de modo que en una señal típica de ECG se pueden distinguir las distintas etapas del ciclo cardíaco relacionándolas con los diferentes tipos de ondas que conforman una señal de ECG: Onda P, Complejo QRS, Onda T. \n",
    "\n",
    "El complejo QRS está relacionado con la contracción de la camara ventrícular y la posterior expulsión de sangre, además de que es la parte de la señal de ECG que presenta una mayor amplitud (mayor voltaje), por ello, si queremos conocer el tiempo entre dos contracciones ventrículares (dos expulsiones de sangre) basta con reconocer los puntos R entre dos señales asociadas a ciclos cardíacos consecutivos. \n",
    "\n",
    "La frecuencia cardiaca representa la cantidad de contracciones cardíacas que se dan durante un minuto. La frecuencia cardíaca normal oscila entre 50 y 100 pulsaciones por minuto, aunque condiciones como el ejercicio alteran el valor de frecuencia cardíaca. Se calcula a partir del conocimiento del periodo cardíaco (Intervalo de tiempo entre dos ondas R consecutivas, intervalo R-R)\n"
   ]
  },
  {
   "cell_type": "markdown",
   "metadata": {},
   "source": [
    "### Variabilidad de frecuencia cardíaca.\n",
    "\n",
    "Sin embargo,  el periodo cardíaco, o intervalo R-R, varía entre contracciones cardiacas sucesivas. Puede ser que el intervalo R-R entre la primer contracción y la segunda tenga un valor de 859ms, mientras que el intervalo R-R relacionado entre la segunda y la tercera contracción tiene un valor de 793ms, de modo que podemos obtener frecuencias cardiacas diferentes en esos dos intervalos: 70 pulsaciones por minuto y 76 pulsaciones por minuto. \n",
    "\n",
    "**La variabilidad de frecuencia cardiaca mide justamente la variación de la duración de los intervalos R-R, y nos permite vislumbrar la diferencia entre las frecuencias correspondiente a un intervalo con respecto a la frecuencia cardiaca media.** \n",
    "\n",
    "Normalmente la variabilidad de frecuencia cardíaca representa la relación existente entre el Sistema Nervioso Autónomo (Sistema Nervioso Simpático (SNS) y Parasimpático (SNP)) y el Sistema Cardiovascular.\n",
    "\n",
    "Donde el SNP puede disminuir la frecuencia cardiaca auxiliandose con impulsos eléctricos de alta frecuencia, mientras que el SNP aumenta la frecuencia cardiaca por medio de impulsos eléctricos de baja frecuencia. La frecuencia cardíaca, la carga de trabajo necesaria realizar alguna acción, y la variabilidad de  frecuencia cardiaca se relacionan de forma inversamente proporcional, es decir, mientras más esfuerzo se realiza, la frecuencia cardíaca aumenta y la variabilidad de frecuencia cardíaca disminuye. \n",
    "\n",
    "**La variabilidad de frecuencia cardíaca está sujeta a la acción de varios factores, por ejemplo:**\n",
    "\n",
    "Sistema Nervioso Central: Emociones, procesos mentales, estrés.\n",
    "\n",
    "Sistema Respiratorio\n",
    "\n",
    "Factores que afectan a la Frecuencia cardíaca por si misma: edad, género, posición del cuerpo, hora del día, ingesta de alcohol, tabaco, medicaciones. \n",
    "\n",
    "El análisis de la variabilidad de frecuencia cardíaca nos puede brindar información con respecto al pronóstico, patogénesis y tratamiento de enfermedades relacionadas a patologías cardiovasculares, diabetes mellius, sindrome de fatiga crónica; así como información relacionada con la adaptación al estrés, y al esfuerzo físico.\n",
    "\n",
    "#### Obtención de la VFC.\n",
    "\n",
    "Se emplea un registro de ECG con duración de 24 horas (**Registro Holter**) durante el cual una persona realiza sus actividades cotidianas, se usa con el fin de cuantificar el riesgo de una persona a padecer alguna enfermedad como diabetes mellitus, sindrome de fática crónica, etc. En ocasiones, si se busca valorar la adaptación al esfuerzo físico se emplean aparatos portátiles para registrar la señal de ECG aún en condiciones de ejercicio. Empleando métodos computacionales se calcula la duración de cada intervalo RR correspondiente a la respectiva contracción. \n",
    "\n",
    "#### Tacogramas\n",
    "\n",
    "La manera más sencilla de representar la VFC es graficar la magnitud de los intervalos R-R (en milisegundos) en el eje vertical, mientras que en el eje horizontal representamos el tiempo transcurrido.\n",
    "\n",
    "#### Parámetros temporales y frecuenciales relacionados a VFC.\n",
    "\n",
    "Los parámetros que se presentan a continuación no se pueden relacionar de  una manera sencilla con las diferentes cardiopatías y patologías como diabetes mellitus, sindrome de fatiga crónica, de forma que nos permita hacer un diagnóstico directo y conciso, sin embargo, para especialistas pueden brindar información relevante. \n",
    "\n",
    "#### Parámetros temporales:\n",
    "\n",
    "Ahora vamos a calcular el análisis en base a los paramétros temporales.\n",
    "Para ello necesitamos:\n",
    "\n",
    "AvRR: es la duración media de todos los intervalos RR.\n",
    "\n",
    "Variabilidad Total (RRSD): desviación estándar de todos los intervalos RR. \n",
    "\n",
    "RMSSD:Raíz cuadrada de la media de la suma de las diferencias al cuadrado de todos los intervalos RR.\n",
    "\n",
    "SDSD:Desviación estándar de la diferencia entre intervalos RR consecutivos\n",
    "\n",
    "NN50:Es la cantidad de intervalos RR que difieren en más de 50ms respecto al anterior. \n",
    "\n",
    "pNN50: Es el porcentaje de intervalos RR que difieren en más de 50ms respecto al anterior. \n",
    "\n",
    "Existen otros parámetros temporales, pero en realidad es muy difícil asociar alguno de sus valores con la actividad del sistema SNP o SNS, sabemos que ayudan a cuantificar la acción del Sistema Nervioso Autónomo, pero analizar esa relación no es uno de los propositos de este trabajo. \n",
    "Se sugiere además que estos parámetros pueden ayudar a clasificar el riesgo de morbi-mortalidad, especialmente en casos cardiovasculares. \n",
    "\n",
    "#### Parámetros frecuenciales\n",
    "\n",
    "El análisis frecuencial necesario para calcular este tipo de parámetros normalmente se hace con ayuda de la Transformada de Fourier, y se realiza en señales ECG con 5 minutos de duración. \n",
    "La señal de VFC que representamos mediante el tacograma puede descomponer su potencia en varias frecuenciales, las cuales se encuentran en el rango de 0 a 0,4Hz, y se relacionan con algún aspecto del Sistema Nervioso Autónomo. \n",
    "\n",
    "Las frecuencias **ULF : inferiores a 0,003Hz** se conocen como frecuencias ultra bajas, las cuales son más visibles mientras mayor es la duración de la señal de ECG. \n",
    "\n",
    "Las frecuencias **VLF:0.003Hz-0.04Hz** se conocen como frecuencias muy bajas y se relacionan con el efecto de hormonas, así como las influencias vaso-motoras y termoreguladoras y del sistema renina-angiotensina-aldosterona.\n",
    "\n",
    "Las frecuencias **LF:0.04Hz-0.15Hz** se conocen como frecuencias bajas y se relacionan con la actividad del SNA (en especial la del SNS), además de la actividad baroreceptora. \n",
    "\n",
    "Las frecuencias **HF:0.15Hz-0.4Hz** se conocen como altas frecuencias y están relacionadas con la actividad del SNS. \n",
    "\n",
    "La frecuencia respiratoria tiene un papel importante al relacionar las frecuencias con el papel de ciertos sistemas corporales, por ejemplo, con bajas frecuencias respiratorias podemos asociar el efecto del SNP en las frecuencias bajas  \n"
   ]
  },
  {
   "cell_type": "markdown",
   "metadata": {},
   "source": [
    "## Conceptos previos para comprender mejor la transformada de Fourier."
   ]
  },
  {
   "cell_type": "markdown",
   "metadata": {},
   "source": [
    "#### Series numéricas.\n",
    "Cuando se nos presenta una lista de números ordenada como por ejemplo: $1,3,5,7,9...$ o $\\frac{1}{2},\\frac{2}{3},\\frac{3}{4},..$ nos es fácil deducir cuál es el término siguiente ya que estas secuencias obedecen una \"ley de formación\". Cuando describimos una sucesión numérica es importante asignar la ley de formación que la rige. Cada uno de los términos de la sucesión se caracteriza por un numéro natural *k* que indica su posición en la lista. Así, con ayuda de la ley de formación nos es sencillo determinar el valor del término que ocupa la posición enésima dentro de la sucesión. \n",
    "\n",
    "Por ejemplo, sea: \n",
    "$a_{k}=\\frac{1}{k^{2}}$, la sucesión que representa es: $1,\\frac{1}{4},\\frac{1}{9},\\frac{1}{16},...$\n",
    "\n",
    "Sea una sucesión numérica infinita la cual contiene los elementos $a_{1}, a_{2}, a_{3}, a_{4},..., a_{k}, ... $ podemos emplear a estos términos para construir *sumas parciales*, las cuales son de la forma: \n",
    "\n",
    "$S_{1}=a_{1}$\n",
    "\n",
    "$S_{2}=a_{1}+a_{2}$\n",
    "\n",
    "$S_{3}=a_{1}+a_{2}+a_{3}$\n",
    "\n",
    "$S_{k}= a_{1}+a_{2}+a_{3}+...+a_{k}$\n",
    "\n",
    "A partir de esta idea de sumas parciales podemos definir, partiendo de una sucesión numérica con elementos $a_{1}, a_{2}, a_{3}, a_{4},..., a_{k}, ... $ a una **serie numérica** como: \n",
    "\n",
    "$S=lim_{k tiende a infinito}{S_{k}}= a_{1}+a_{2}+a_{3}+...=\\sum_{k=1}^{infinito}a_{k}$\n",
    "\n",
    "Apesar de que se trata de una suma no podemos calcularla término a término, ya que posee elementos infinitos, sin embargo podemos estimar el resultado por otros métodos. Podría parecer que la suma de elementos infinitos tiende necesariamente a ser un valor infinito, mas no siempre es así. \n",
    "\n",
    "Por ejemplo, de la sucesión: $\\frac{1}{2},\\frac{1}{4},\\frac{1}{8},\\frac{1}{16}$ podemos formar a las sumas parciales: \n",
    "\n",
    "$S_{1}=\\frac{1}{2}$\n",
    "\n",
    "$S_{2}=\\frac{1}{2}+\\frac{1}{4}=\\frac{3}{4}$\n",
    "\n",
    "$S_{3}=\\frac{1}{2}+\\frac{1}{4}+\\frac{1}{8}=\\frac{7}{8}$\n",
    "\n",
    "De manera que la suma tienda a infinito, el valor de $S$ será igual a 1, decimos entonces que la serie numérica converge a 1. \n",
    "Sin embargo, no siempre es sencillo determinar un valor exacto al cual converge una serie, o si es que por lo menos converge (el caso contrario se conoce como que la serie diverge). Una condición necesaria para que una serie converja (no siempre suficiente) es la siguiente: \n",
    "\"*Para que una serie numérica converja es necesario que su término general tienda a cero*\". \n",
    "Esta condición basta para indicar que una serie diverge (si no se cumple), pero no siempre garantiza que una serie converja. \n",
    "\n",
    "Existen varios criterios que nos ayudan a discernir entre una serie numérica convergente y divergente, por ejemplo: \n",
    "\n",
    "**Criterio de Leibniz**\n",
    "\n",
    "**Criterio de comparación**\n",
    "\n",
    "**Criterio de la integral**\n",
    "\n",
    "**Criterio del cociente**\n",
    "\n",
    "#### Series de potencias.\n",
    "\n",
    "En el caso de las series numéricas la ley de formación dependía únicamente de un valor: la posición del elemento en la sucesión. Las series de funciones son aquellas en las cuales los términos dependen de una o más variables. Por ejemplo:\n",
    "$\\sum_{k=0}^{infinito}\\frac{x^{k}}{k+1}=1+\\frac{x}{2}+\\frac{x^{2}}{3}+\\frac{x^{3}}{4}+...$. Nótese que al asignar valores distintos de X obtenemos varias series numéricas distintas. \n",
    "Sea $x=2$, entonces la serie numérica que se obtiene es: $1+\\frac{2}{2}+\\frac{4}{3}+\\frac{8}{4}+...$\n",
    "Claramente el comportamiento de la serie de potencias depende del valor X que le asignemos, por ejemplo, si en lugar de asignar $X=2$, asignamos el valor $X=-1$ obtenemos una serie alternada: $1-\\frac{1}{2}+\\frac{1}{3}-\\frac{1}{4}+...$, una región de interés es el intervalo de valores de X que al ser sustituidos en la expresión de la serie de potencias generan series numéricas convergentes, esa región se conoce como intervalo de convergencia. \n",
    "\n",
    "En general, una serie de potencias de x es una expresión de la forma: \n",
    "\n",
    "$\\sum_{k=0}^{infinito}c_{k}x_{k} = c_{0}+c_{1}x+c_{2}x^{2}+c_{3}x^{3}+...$ es decir, trabajamos con una serie de potencias positivas de x, observemos además que estos coeficientes $c_{k}$ deberán estar dados por una expresión general (ley de formación) que dependa de su posición en la serie (k), así como en el caso de las series numéricas. \n",
    "\n",
    "Esta serie de potencias tiene infinitos términos, sin embargo, si nos tomamos los primeros K+1 elementos, habremos contruido un polinomio de orden K. \n",
    "\n",
    "$P_{k}(x)=\\sum_{k=0}^{K}c_{k}x_{k}=c_{0}+c_{1}x+c_{2}x^{2}+...+c_{k}x_{k}$\n",
    "\n",
    "Ahora, así como una serie numérica converge a un valor numérico, la serie de potencias converge a una función, es decir, podemos aproximar una función mediante una serie de potencias pero esta aproximación solamente será válida dentro del intervalo de convergencia (de otro modo, no podemos asegurar la convergencia de la serie). Otro aspecto fundamental es que la aproximación aumenta conforme mayor sea el grado del polinomio generado por la serie de potencias\n",
    "\n",
    "Por ejemplo, en los polinomios de Mac Laurin se requiere que la función f(x) que queremos aproximar sea continua, con derivadas continuas hasta orden *k*, y la aproximación es únicamente válida para valores cercanos a 0, además de que las derivadas de f(x) evaluadas en 0 sean iguales a las derivadas del polinomio evaluadas en 0. Algunas polinomios de Mac Laurin son: \n",
    "\n",
    "$e(x)=1+x+\\frac{1}{2!}x^{2}+\\frac{1}{3!}x^{3}+...+\\frac{1}{n!}x^{n}+...$\n",
    "\n",
    "$sen(x)=x-\\frac{x_{3}}{3!}+\\frac{x_{5}}{5!}-\\frac{x_{7}}{7!}+...$\n",
    "\n",
    "En el caso de los polinomios de Mac Laurin contamos con una base para generar la aproximación, se trata de las potencias positivas de x. En el caso de la Serie de Fourier, vamos a emplear como base para nuestra aproximació a las funciones seno y coseno armónicamente relacionadas. (pronto discutiremos el concepto de armónicamente relacionadas)\n",
    "\n",
    "#### Series de Fourier\n",
    "\n",
    "Una función es periódica cuando cumple $f(t)=f(t+T)$ donde T es el periodo de la función, las funciones trigonométricas poseen un periodo de $2\\pi$, de modo que $cos(wT)=cos(w(t+T))=cos((wt)+wT)$ entonces $wT=2\\pi$, de modo que definimos a esta cantidad w como la frecuencia de la función $w=\\frac{2\\pi}{T}$. \n",
    "\n",
    "Si consideramos una familia de funciones:\n",
    "\n",
    "$f_{1}=cos(w_{0}t)$,  $f_{2}=cos(2w_{0}t)$,  $f_{3}=cos(3w_{0}t)$, ..., $f_{k}=cos(kw_{0}t)$, podemos observar que en la primera función, la frecuencia es $w_{0}$, mientras que en la segunda es $2w_{0}$, la tercera es $3w_{0}$, y así sucesivamente, de modo que podemos definir a $w_{0}$ como la frecuencia fundamental y sus múltiplos $kw_{0}$ se consideran sus armónicas, de modo que bajo esta relación podemos afirmar que la familia de funciones están relacionadas armónicamente. \n",
    "\n",
    "Vamos a emplear estas familias de funciones relacionadas armónicamente como la base para generar aproximaciones de funciones. Fue J.B. Fourier quien formuló: *cualquier función periódica se puede representar mediante series de senos y cosenos relacionadas armónicamente.* Por lo tanto, para una función f(t) con periodo T, considerando la base infinita de funciones $1,cos(w_{0}t),cos(2w_{0}t),...,sen(w_{0}t),sen(2w_{0}t),...,$ podemos aproximarla mediante un polinomio conocido como **serie trigonométrica de Fourier de  f(t)**:\n",
    "\n",
    "$f(t)= \\frac{a_{0}}{2} + a_{1}cos{w_{0}t}+a_{2}cos{2w_{0}t}+a_{3}cos{3w_{0}t}+a_{4}cos{4w_{0}t}+...+ b_{1}sen{w_{0}t}+b_{2}sen{2w_{0}t}+b_{3}sen{3w_{0}t}+b_{4}sen{4w_{0}t}+...$\n",
    "\n",
    "$f(t)= \\frac{a_{0}}{2} + \\sum_{k=1}^{\\infty}a_{k}cos(kw_{0}t)+b_{k}sen({kw_{0}t})$\n",
    "\n",
    "donde los coeficientes $a_{k}$ y $b_{k}$ representa los coeficientes de Fourier, y nos dicen qué tanto aporta cada frecuencia $kw_{0}$ en el desarrollo de la función $f(t)$. Por analogía podemos pensar que cualquier función se puede aproximar usando los \"mismos ingredientes\", son los coeficientes de Fourier los que nos brindan la cantidad necesaria de cada uno. \n",
    "\n",
    "Los coeficientes de Fourier están determinados por:\n",
    "\n",
    "$a_{k}=\\frac{2}{T}\\int_{0}^{T}f(t)cos(kw_{0}t)dt$\n",
    "\n",
    "$b_{k}=\\frac{2}{T}\\int_{0}^{T}f(t)sin(kw_{0}t)dt$\n",
    "\n",
    "Consideremos ahora un conjunto finito de series de senos y cosenos con la cual vamos a formar la aproximación a nuestra función:\n",
    "\n",
    "$1,cos(w_{0}t),cos(2w_{0}t),cos(3w_{0}t),...,cos(Nw_{0}t), sin(w_{0}t),sin(2w_{0}t),sin(3w_{0}t),...,sin(Nw_{0}t)$\n",
    "\n",
    "que al emplearla para generar nuestra serie de Fourier nos da:\n",
    "\n",
    "$f(t)= \\frac{a_{0}}{2} + \\sum_{k=1}^{N}a_{k}cos(kw_{0}t)+b_{k}sen({kw_{0}t})$ donde N es un número cualquiera, no sé, quizá el número de muestras. \n",
    "\n",
    "#### ¿TEOREMA DE PARSEVAL?\n",
    "\n",
    "Se puede evaluar qué tan buena es nuestra aproximación calculando el error cuadrático medio: \n",
    "\n",
    "$\\delta_{N}^{2}=\\int_{T}(f(t)-S_{N})^{2}dt$, se puede demostrar (pero no lo haremos aquí) que este error disminuye cuando aumenta el valor N (el cual recordamos, tal vez pueda ser el número de muestras *guiño, guiño*). \n",
    "\n",
    "#### Forma compleja de la serie de Fourier\n",
    "\n",
    "Por comodidad, podemos expresar la serie de Fourier mediante una combinación lineal de senos y cosenos armonicamente relacionados o, empleando la relación de Euler, en su forma compleja.\n",
    "\n",
    "La relación de Euler es: \n",
    "\n",
    "$e^{i\\theta}=cos(\\theta)+isin(\\theta)$ de modo que:\n",
    "\n",
    "$f(t)=\\sum_{k=-\\infty}^{\\infty}(\\frac{a_{k}-ib_{k}}{2})e^{ikw_{0}t}$ definimos $c_{k}=\\frac{a_{k}-ib_{k}}{2}$ donde $c_{0}=\\frac{a_{0}}{2}$, de modo que podemos representar a la función como: \n",
    "\n",
    "$f(t)=c_{0}+\\sum_{k=-\\infty}^{\\infty}c_{k}e^{ikw_{0}t}$ \n",
    "\n",
    "**Se puede descomponer una señal periódica en funciones de exponenciales armonicamente relacionadas, donde cada valor de** $e^{ikw_{0}t}$ **para un k entero representa a un armónico distinto de la frecuencia fundamental, y donde** $c_{k}$ **sigue representando el peso que este armónico tiene en la aproximación de la función.**\n",
    "\n",
    "De esta forma, para observar el comportamiento de la serie de Fourier en forma compleja (al ser un número complejo) calculamos su módulo y su argumento, y observamos su evolución mientras avanza la frecuencia (múltiplos de la frecuencia fundamental $w_{0}$). \n",
    "\n",
    "Podría parecer que la Serie de Fourier únicamente se restringe a funciones periódicas, sin embargo, si una función f(t) no está definida en todo el eje real y únicamente lo está para un intervalo $[a,b]$, podemos considerar que tiene un periodo de $T=b-a$ y suponer que el comportamiento se repite a lo largo de todo el eje real para poder aplicar la aproximación mediante una serie de funciones exponenciales armónicamente relacionadas. "
   ]
  },
  {
   "cell_type": "markdown",
   "metadata": {},
   "source": [
    "## Transformada de Fourier"
   ]
  },
  {
   "cell_type": "markdown",
   "metadata": {},
   "source": [
    "Claramente, muchas funciones $f(t)$ no son periódicas y ya están definidas en un intervalo del eje real, por lo tanto, la idea de usar las series de Fourier no resulta viable, de modo que entra en escena la transformada de Fourier. \n",
    "\n",
    "De las series de Fourier recordemos que podemos graficar el comportamiento de las componentes exponenciales complejas de la aproximación (modulo y argumento) con respecto a la frecuencia, la cual solamente puede tomar valores como múltiplos de la frecuencia fundamental $w$. \n",
    "\n",
    "Al incrementar el valor del periodo (T) entonces el valor de la frecuencia fundamental $w$ es menor, es decir, en el eje de la frecuencia encontraremos una menor distancia entre un punto y otro. Podemos considerar a los coeficientes $c_{k}$ como funciones que dependan de una variable independiente, en este caso, la frecuencia ($F(w)$). \n",
    "\n",
    "De modo que podemos percibir que el espectro (dependiente de la frecuencia) luce cada vez más como una función continua y no una discreta, ya que la frecuencia fundamental (interespaciado en el eje de la variable independiente) se vuelve muy pequeña, al mismo tiempo que la señal pasa de ser periódica a una señal aperiódica.\n",
    "\n",
    "La nueva función $F(w)$ dependiente de la frecuencia se calcula: \n",
    "\n",
    "$F(w)=\\int_{-\\infty}^{\\infty}f(t)e^{-iwt}dt$ y se conoce como **Transformada de Fourier de f(t)**\n",
    "\n",
    "Y los coeficientes de $c_{k}$ se calculan como: \n",
    "\n",
    "$c_{k}=\\frac{1}{T}\\int_{-\\infty}^{\\infty}f(t)e^{-ikw_{0}t}dt = \\frac{1}{T}F(kw_{0})$\n",
    "\n",
    "Por lo tanto, la \"Serie de Fourier\" se vería de la forma: \n",
    "\n",
    "$f(t)=\\sum_{-\\infty}^{\\infty}\\frac{1}{T}F(kw_{0})e^{ikw_{0}t}$ como $\\frac{1}{T}=\\frac{w_{0}}{2\\pi}$ entonces \n",
    "\n",
    "$f(t)=\\frac{1}{2\\pi}\\sum_{-\\infty}^{\\infty}\\frac{1}{T}F(kw_{0})e^{ikw_{0}t}w_{0}$ como al aumentar el periodo, $w_{0}$ se vuelve infinitesimal $dw$ entonces la expresión queda de la forma: \n",
    "\n",
    "$f(t)=\\frac{1}{2\\pi}\\int_{-\\infty}^{\\infty}F(w)e^{iwt}dw$ y se conoce como **Transformada inversa de Fourier**\n",
    "\n",
    "Ambas expresiones representan el mismo fenómeno y contienen la misma información, siendo una la aproximación muy precisa de la otra, simplemente que una se encuentra en el dominio del tiempo mientras la otra se encuentra en el dominio de la frecuencia. \n",
    "\n",
    "La transformada de Fourier presenta varias propiedades, dentro de las cuales encontramos: \n",
    "\n",
    "**Propiedad de desplazamiento en el tiempo**\n",
    "\n",
    "**Propiedad de desplazamiento en la frecuencia**\n",
    "\n",
    "**Propiedad de Linealidad**\n",
    "\n",
    "**Propiedad de simetría**\n",
    "\n",
    "Otra propiedad importante es la propiedad de **Conjugación**, que se deriva del caracter par e impar de las funciones coseno y seno, respectivamente (que están relacionadas con la exponencial de la transformada de Fourier), es que el módulo $|F(w)|=|F(-w)|$ y que el argumento $arg(F(-w))=-arg(F(w))$, es decir, el módulo de $F(w)$ es una función par y el argumento de $F(w)$ es una función impar. \n",
    "\n",
    "La gráfica del módulo $|F(w)|$ con respecto a $w$ se conoce como **espectro de amplitud de f(t)**\n",
    "\n",
    "La gráfica del argumento $arg(F(w))$ se conoce como **espectro de fase de f(t)**\n",
    "\n",
    "\n",
    "#### Desarrollo de Fourier de funciones periódicas en tiempo discreto.\n",
    "\n",
    "La diferencia entre una señal continua y discreta es que la primera está definida en todos los valores reales dentro de un intervalo, por ejemplo, el intervalo del tiempo $f(t)$; por otro lado, la señal discreta solamente está definida en valores $f[kt]$ con $k=1,2,3,4,...,N$. \n",
    "\n",
    "Así como una señal continua se considera periódica cuando cumple: $f(t)=f(t+T)$, y decimos que su periodo es $T$, una función de tiempo discreto se considera periódica cuando cumple $f[n]=f[n+N]$ y decimos que $N$ es su periodo.\n",
    "\n",
    "Para una función de tiempo discreto también podemos calcular su desarrollo de Fourier, recordando que **la serie de fourier para una señal continua en tiempo continuo** es: \n",
    "\n",
    "$f(t)=c_{0}+\\sum_{k=-\\infty}^{\\infty}c_{k}e^{ikw_{0}t}$, de forma análoga podemos obtener la representación para una función en el dominio del tiempo discreto. \n",
    "\n",
    "Empecemos definiendo el análogo para: $e^{ikw_{0}t}$ que simplemente sería: $e^{ikw_{0}n}$ definida para valores $k=1,2,3,4,..., $donde $w_{0}$ ahora es de la forma: $w=\\frac{2\\pi}{N}$, igual que en el caso de tiempo continuo, este valor representa **la aportación de cada una de las frecuencias armónicas a nuestra señal**. \n",
    "\n",
    "A diferencia de las señales de tiempo continuo, si buscamos la aportación de la frecuencia armónica $w_{0}$ y la aportación de la frecuencia armónica $(N+1)w_{0}$ observamos que: \n",
    "\n",
    "Evaluando con la armónica $w_{0}$ se obtiene: $e^{i1w_{0}n}=e^{i1(\\frac{2\\pi}{N})n}$ \n",
    "\n",
    "Evaluando con la armónica $(N+1)w_{0}$ se obtiene $e^{i(N+1)w_{0}n}= e^{i1w_{0}n} + e^{iNw_{0}n} =  e^{i1(\\frac{2\\pi}{N})n} + e^{iN(\\frac{2\\pi}{N})n} = e^{i1(\\frac{2\\pi}{N})n} + e^{i(2\\pi)n} = e^{i1(\\frac{2\\pi}{N})n}$ que no es más que la aportación de la armónica $w_{0}$. \n",
    "\n",
    "Concluimos que la aportación de cada frecuencia armónica se repite luego de la N-ésima aportación, de modo que además de ser una función periódica en el dominio del tiempo discreto, también es periódica en el dominio de la frecuencia, ya que sólo hay N armónicas diferentes, y no infinitas armónicas como el caso continuo. \n",
    "\n",
    "Los valores $c_{k}$ pasan a adquirir la siguiente estructura:\n",
    "\n",
    "$c_{k}=\\frac{1}{N}\\sum_{n=0}^{N-1}f[n]e^{-ikw_{0}n}$ donde el coeficiente también posee el carácter periódico anteriormente presentado, es decir: $c_{k}=c_{k+N}$\n",
    "\n",
    "Esto es incluso intuitivo, ya que si la exponencial compleja, que representa una frecuencia armónica en específico, se repite cada N términos, el coeficiente de desarrollo que describe cuánto aporta esta frecuencia armónica a nuestra aproximación también se debe repetir cada N términos.\n",
    "\n",
    "**Podemos definir finalmente que el desarrollo de Fourier para una función periódica discreta está dado por:** \n",
    "\n",
    "$f[n]=\\sum_{k=<N>} c_{k}e^{ikw_{0}n}$ **donde el subindice de la suma implica que podemos tomar cualquier secuencia de N valores, ya que los valores dentro de la suma (en este caso finita) se repiten fuera de esta secuencia.**\n",
    "\n"
   ]
  },
  {
   "cell_type": "markdown",
   "metadata": {},
   "source": [
    "## Transformada de Fourier en Tiempo discreto"
   ]
  },
  {
   "cell_type": "markdown",
   "metadata": {},
   "source": [
    "El desarrollo de Fourier visto anteriormente fue para funciones periódicas en el tiempo discreto, y la Transformada de Fourier está definida para funciones aperiódicas en el tiempo continuo, vamos ahora a tratar con funciones aperiódicas en el tiempo discreto, esto con ayuda de la Transformada de Fourier en tiempo discreto. \n",
    "\n",
    "Al igual que hicimos con la transformada de Fourier partiendo de las series de fourier, podemos describir a la transformada de fourier en tiempo discreto partiendo del Tratamiento de fourier en tiempo discreto. \n",
    "\n",
    "Supongamos una señal dada por L puntos, los cuales se encuentran en un intervalo [a,b], podemos suponer que la señal es una función periódica de periodo N, donde $N>L$, de modo que podemos aplicar el tratamiento anterior: \n",
    "\n",
    "$f[n]=\\sum_{k=<N>}c_{k}e^{ikw_{0}n}$ con $n=0,1,2,3,4,...,N-1$ y los coeficientes de desarrollo están dados como \n",
    "$c_{k}=\\frac{1}{N}\\sum_{k=<N>}f[n]e^{-ikw_{0}n}$. Si graficamos estos coeficientes con respecto a la frecuencia notamos que el eje que representa a la frecuencia está dado por $w_{0},2w_{0},3w_{0},...,2\\pi$, donde $w_{0}$ es la frecuencia fundamental. Nótese que a diferencia de la transformada de Fourier en tiempo continuo, este intervalo es finito. \n",
    "\n",
    "Podemos pensar que los valores $c_{k}$ se obtienen de muestrear (tomar los valores que posee una función continua en ciertos tiempos) una función dependiente de la variable continua $w$, es decir, la función $F(w)$ es la envolvente de los puntos que representan a $c_{k}$. Esta función es: \n",
    "\n",
    "$F(w)=\\sum_{-\\infty}^{\\infty}f[n]e^{-iwn}$ la cual se conoce como **Transformada de Fourier en tiempo discreto **\n",
    "\n",
    "de modo que los coeficientes $c_{k}$ están determinados como: $c_{k}=\\frac{1}{N}F(kw_{0})$, como $\\frac{1}{N}=\\frac{w_{0}}{2\\pi}$ entonces la expresión para $f[n]$ es:\n",
    "\n",
    "$f[n]=\\frac{1}{2\\pi}\\sum_{k=<N>}w_{0}F(kw_{0})e^{ikw_{0}n}$ con $n=<N>$. Si aumentamos el número de valores N, hasta que tienda a infinito, entonces la frecuencia va a hacerse infinitesimal, de modo que la suma pasará a ser una integral sobre un intervalo de amplitud $2\\pi$ ya que luego de ese valor, la transformada de Fourier en tiempo discreto repite sus valores, recordemos que presenta periodicidad en la frecuencia.\n",
    "\n",
    "La función adquiere la forma: $f[n]=\\frac{1}{2\\pi}\\int_{2\\pi}F(w)e^{iwn}dw$ y se le conoce como la **Antitransformada de Fourier en tiempo discreto**\n",
    "\n",
    "La Transformada de Fourier en tiempo discreto cumple con algunas propiedades como son:\n",
    "\n",
    "**Periodicidad en frecuencia**\n",
    "\n",
    "**Linealidad**\n",
    "\n",
    "**Desplazamiento en el tiempo**\n",
    "\n",
    "**Desplazamiento en la frecuencia**\n",
    "\n",
    "**Conjugación**: Según la cual, si $f[n]$ es una función real, entonces su transformada discreta de fourier (compleja) cumple $|F(-w)|=|F(w)|$ y $Arg(F(-w))=-Arg(F(w))$, como en el caso de la Transformada de Fourier.\n",
    "\n",
    "Tanto la transformada de Fourier en tiempo discreto $F(w)$ como la señal de tiempo discreto $f[n]$ representan el mismo fénomeno aunque desde dominios diferentes: tiempo y frecuencia. \n"
   ]
  },
  {
   "cell_type": "markdown",
   "metadata": {},
   "source": [
    "## Transformada Discreta de Fourier"
   ]
  },
  {
   "cell_type": "markdown",
   "metadata": {},
   "source": [
    "Cuando nosotros buscamos analizar una señal en el dominio de la frecuencia buscamos procesarla por medio de métodos computacionales, sin embargo, luego de aplicar la Transformada de Fourier obtenemos alguna función continua en el dominio de la frecuencia $F(w)$ que debido a su carácter continuo es incapaz de analizarse por los métodos computacionales. \n",
    "\n",
    "La Transformada de Fourier en tiempo discreto nos arroja una función $F(w)$, continua en base a la frecuencia y de periodo $2\\pi$, el método de la transformada discreta de Fourier consiste en discretizar este función tomando únicamente N muestras equiespaciadas en el intervalo $[0,2\\pi]$, de modo que vamos a tomar una muestra cada que se avance $2\\pi/N$ (frecuencia fundamental $w_{0}$) en el eje de la frecuencia. \n",
    "\n",
    "De modo que la transformada de fourier en tiempo discreto: $F(w)=\\sum_{-\\infty}^{\\infty}f[n]e^{-iwn}$ pasa a ser de la forma: \n",
    "\n",
    "$F(\\frac{2k\\pi}{N})=\\sum_{n=0}^{N-1}f[n]e^{-ik(2\\pi/N)n}$ o visto de otra manera: \n",
    "\n",
    "$F(kw_{0})=\\sum_{n=0}^{N-1}f[n]e^{-ik(w_{0})n}$ de modo que se ve que los valores que adquiere la transformada discreta dependen de k, donde $k=0,1,2,3,...,N-1$ \n",
    "\n",
    "El cálculo de la transformada discreta de fourier para N valores está constituido por $N^{2}$ productos complejos y $N(N-1)$ sumas complejas. "
   ]
  },
  {
   "cell_type": "markdown",
   "metadata": {},
   "source": [
    "## Transformada rápida de Fourier."
   ]
  },
  {
   "cell_type": "markdown",
   "metadata": {},
   "source": [
    "En el año de 1965, Cooley y Turkey generaron un método para reducir la cantidad de calculos, recibe el nombre de Transformada Rápida de Fourier. Ilustremos el proceso de una Transformada Discreta de Fourier mediante un ejemplo:\n",
    "\n",
    "-Calcule la transformadad de fourier discreta para una secuencia de 4 muestras. \n",
    "\n",
    "Sabemos que la expresión para calcular la transformada está determinada como: \n",
    "\n",
    "$F[\\omega] = \\sum_{N=0}^{N-1}f{(t)}e^{-j\\omega(\\frac{2\\pi}{N}t)}$, entonces:\n",
    "\n",
    "Con \n",
    "\n",
    "$F(0)=f(0)e^{\\frac{-j(0)(0)\\pi}{2}} + f(1)e^{\\frac{-j(0)(1)\\pi}{2}} + f(2)e^{\\frac{-j(0)(2)\\pi}{2}} + f(3)e^{\\frac{-j(0)(3)\\pi}{2}}$\n",
    "\n",
    "$F(1)=f(0)e^{\\frac{-j(1)(0)\\pi}{2}} + f(1)e^{\\frac{-j(1)(1)\\pi}{2}} + f(2)e^{\\frac{-j(1)(2)\\pi}{2}} + f(3)e^{\\frac{-j(1)(3)\\pi}{2}}$\n",
    "\n",
    "$F(2)=f(0)e^{\\frac{-j(2)(0)\\pi}{2}} + f(1)e^{\\frac{-j(2)(1)\\pi}{2}} + f(2)e^{\\frac{-j(2)(2)\\pi}{2}} + f(3)e^{\\frac{-j(2)(3)\\pi}{2}}$\n",
    "\n",
    "$F(3)=f(0)e^{\\frac{-j(3)(0)\\pi}{2}} + f(1)e^{\\frac{-j(3)(1)\\pi}{2}} + f(2)e^{\\frac{-j(3)(2)\\pi}{2}} + f(3)e^{\\frac{-j(3)(3)\\pi}{2}}$\n",
    "\n",
    "Se puede organizar de forma matricial:\n",
    "\n",
    "$\\begin{bmatrix} F(0) \\\\ F(1) \\\\F(2)\\\\ F(3)\\\\\\end{bmatrix} = \\begin{bmatrix} 1 & 1 & 1 & 1 \\\\ 1 & e^{-j\\pi /2} &  e^{-j\\pi} &  e^{-j3\\pi /2}\\\\ 1 & e^{-j\\pi } &  e^{-j2\\pi} &  e^{-j3\\pi} \\\\ 1 & e^{-j3\\pi /2} &  e^{-j3\\pi} &  e^{-j9\\pi /2} \\\\\\end{bmatrix}  \\begin{bmatrix} f(0)\\\\f(1) \\\\ f(2)\\\\f(3)\\\\\\end{bmatrix}$\n",
    "\n",
    "donde luego de aplicar la condición de periodicidad: $e^{-j\\pi k(n)/2} = e^{-j\\pi k(n+N)/2}$ entonces podemos expresar la relación matricial anterior como: \n",
    "\n",
    "$\\begin{bmatrix} F(0) \\\\ F(1) \\\\F(2)\\\\ F(3)\\\\\\end{bmatrix} = \\begin{bmatrix} 1 & 1 & 1 & 1 \\\\ 1 & -j & -1 & j \\\\ 1 & -1 & 1 & -1 \\\\ 1 & j & -1 & -j \\\\\\end{bmatrix}  \\begin{bmatrix} f(0)\\\\f(1) \\\\ f(2)\\\\f(3)\\\\\\end{bmatrix}$ \n",
    "\n",
    "$F(0) = f(0) + f(1) + f(2) + f(3) = (f(0) + f(2)) + (f(1) + f(3))$\n",
    "\n",
    "$F(1) = f(0) - jf(1) -f(2) + jf(3) = (f(0)-f(2)) -j (f(1)-f(3))$\n",
    "\n",
    "$F(2) = f(0) - f(1) + f(2) - f(3) = (f(0) + f(2)) - (f(1) + f(3))$\n",
    "\n",
    "$F(3) = f(0) + jf(1) - f(2) -j f(3) = (f(0)-f(2)) +j (f(1)-f(3))$\n",
    "\n",
    "donde es evidente que los terminos relacionados entre $F(0)$ y $F(2)$ son los mismos, solo separados con un signo negativo entre ellos, del mismo modo ocurre con los terminos relacionados entre $F(1)$ y $F(3)$.\n",
    "Así, el número de calculos realizados disminuyen ya que algunos se repiten. \n",
    "\n",
    "Entonces es claro que dos elementos de la Transformada Discreta de Fourier son parecidos si son de indice par, así como lo son dos elementos de indice impar. Por lo tanto, el método de la Transformada Rápida de Fourier consiste en dividir el calculo de los elementos de la transformada discreta en dos calculos: los de elementos pares, y los elementos impares, este proceso recibe el nombre de *decimación en el tiempo*.\n",
    "\n",
    "Como consecuencia de las decimaciones en el tiempo encontramos *ecuaciones de conexión* las cuales relacionan las dos submuetras con las muestras de las cuales provienen. El proceso de las decimaciones en el tiempo se lleva a cabo una y otra vez hasta que ya no se pueda dividir más, y luego, con ayuda de las ecuaciones de conexión, recuperamos los resultados de aplicar una transformada discreta de fourier, claramente con la ventaja de la velocidad. \n",
    "\n",
    "Normalmente, este proceso de decimaciones se representa mediante un esquema de mariposa, y se realiza un total de $log_{2}N$ veces. Por lo tanto, aunque no es muy evidente, es posible demostrar que el número de multiplicaciones necesarias para este método es $\\frac{N}{2}log_{2}N$. Que claramente, es mucho más rápido que la Transformada Discreta de Fourier típica. "
   ]
  },
  {
   "cell_type": "markdown",
   "metadata": {},
   "source": [
    "## Conexión Arduino-Python. "
   ]
  },
  {
   "cell_type": "code",
   "execution_count": 3,
   "metadata": {},
   "outputs": [],
   "source": [
    "from numpy import *\n",
    "from serial import *\n",
    "from pylab import *\n",
    "import scipy.fftpack\n",
    "import matplotlib.pyplot as plt\n"
   ]
  },
  {
   "cell_type": "markdown",
   "metadata": {},
   "source": [
    "Normalmente la comunicación PySerial se puede referenciar mediante la siguiente sintaxis: **ser.readline()** o en otras ocasiones como **serial.readline()**, además para definir esta comunicación también necesitamos definir el puerto y la velocidad de transmisión. El puerto hace alusión al puerto mediante el cual se lleva la comunicación, por ejemplo: **'/dev/ttyUSB0'**, o COM4 en el caso de Windows. Es importante especificar que en el caso de Linux, el puerto **'/dev/ttyUSB0'** tiene la terminación **USB0** en lugar de la típica **S0,S1,S2,...,S255** debido a que se está empleando un conversor USB-Serie, ya que muchas veces los equipos no cuentan con la entrada serie.\n",
    "\n",
    "La velocidad de transmisión tiene un valor por lo general de **9600** aunque existen otros valores como 50, 75, 110, 134, 150, 200, 300, 600, 1200, 1800, 2400, 4800, 9600, 19200, 38400, 57600, 115200, se emplean dependiendo de la situación. \n",
    "\n",
    "Para inicializar un puerto es necesario importar la libreria ***serial***, luego de ello vamos a emplear el comando ***serial.Serial*** el cual funciona bajo los siguientes parametros: **init(port, baudrate, bytesize=EIGHTBITS,timeout)**\n",
    "donde el puerto se específica en el apartado de *port*, la velocidad de transmisión se determina en la sección *baudrate*, en la sección bytesize se especifíca el número de bits con los que se describen los datos, el valor predeterminado es de 8. Finalmente también se puede establecer un tiempo de espera de la lectura, específicado en la sección *timeout*.\n",
    "\n",
    "El timeout se puede definir de tres formas:\n",
    "\n",
    " timeout = None: En este modo (predeterminado, por cierto) el puerto espera de forma indefinida hasta que aparezca un dato que satisfaga el bytesize (8 de forma predeterminada). \n",
    "    \n",
    "timeout = 0: En este modo, se encargará de devolver ceros hasta que aparezca un valor que satisfaga el bytesize.\n",
    "\n",
    "timeout = x: Este valor x solamente puede ser un float. Cuando llega un valor que cumple el bytesize lo devuelve inmdiatamente, si se da el caso de que no reciba un valor que satisfaga el bytesize, luego de que el tiempo (determinado por x) se agote, devuelve todo los bytes que ha recibido. \n",
    "\n"
   ]
  },
  {
   "cell_type": "markdown",
   "metadata": {},
   "source": [
    "Una vez que definimos un \"objeto PySerial\" especificando el puerto, la velocidad de muestreo, y un determinado timeout:\n",
    "\n",
    "**Puerto= serial.Serial('/dev/ttyS1', 19200, timeout=1)**\n",
    "\n",
    "podemos aplicar una serie de comandos, como por ejemplo: \n",
    "\n",
    "**Puerto.name**, que nos indica el nombre del puerto que estamos empleando. \n",
    "\n",
    "**Puerto.write('texto')** A través del comando podemos escribir algún valor.\n",
    "\n",
    "**Puerto.read()** Nos permite leer un único byte. \n",
    "\n",
    "**Puerto.read(float)** Nos permite leer un total de \"float\" bytes. \n",
    "\n",
    "**Puerto.readline()** Se encarga de leer una línea completa de información, y nos brinda un string.\n",
    "\n",
    "**PUerto.close()** Se encarga de cerrar el puerto.            "
   ]
  },
  {
   "cell_type": "markdown",
   "metadata": {},
   "source": [
    "Es necesario que se defina un tiempo de espera, ya que al encontrarse de forma predeterminada en None, se queda esperando indefinidamente hasta que reciba un valor que cumpla con el bitesize; en el caso de aplicar la función **Puerto.readline()**, al no recibir una línea de información se quedará en un estado estacionario."
   ]
  },
  {
   "cell_type": "markdown",
   "metadata": {},
   "source": [
    "#### El siguiente código sirve simplemente para asegurarnos que existe una conexión entre el arduino y nuestro espacio de trabajo:"
   ]
  },
  {
   "cell_type": "code",
   "execution_count": 64,
   "metadata": {},
   "outputs": [],
   "source": [
    "#Puerto_arduino = serial.Serial('/dev/ttyUSB0', 9600,timeout=1)\n",
    "#Puerto_arduino.open()"
   ]
  },
  {
   "cell_type": "code",
   "execution_count": 65,
   "metadata": {},
   "outputs": [],
   "source": [
    "#Puerto_arduino.is_open"
   ]
  },
  {
   "cell_type": "markdown",
   "metadata": {},
   "source": [
    "#### El siguiente código nos ayuda a visualizar que efectivamente recibimos datos procedentes del arduino:"
   ]
  },
  {
   "cell_type": "code",
   "execution_count": 66,
   "metadata": {},
   "outputs": [],
   "source": [
    "#Puerto_arduino = serial.Serial('/dev/ttyUSB0', 9600,timeout=1)\n",
    "#Valor_muestreado = Puerto_arduino.readline()\n",
    "#print(Valor_muestreado)\n",
    "#Puerto_arduino.close()"
   ]
  },
  {
   "cell_type": "markdown",
   "metadata": {},
   "source": [
    "# Funciones propuestas a utilizar."
   ]
  },
  {
   "cell_type": "markdown",
   "metadata": {},
   "source": [
    "## Función numpy.fft.rfft"
   ]
  },
  {
   "cell_type": "markdown",
   "metadata": {},
   "source": [
    "Esta función definida dentro de la librería de numpy tiene la siguiente estructura:\n",
    "***numpy.fft.rfft(a, n=None, axis=-1, norm=None)*** donde en primer lugar, la entrada **a** es un array, en nuestro posiblemente podramos insertar un array que contenga a todos los datos que buscamos muestrear. La entrada **n** es el número de puntos que se encuentran a lo largo del eje que vamos a utilizar para calcular la transformada, normalmente es proporcional a la entrada **a**, si por alguna razón es menor, entonces la entrada **a** disminuye hasta alcanzar el número de puntos requeridos, lo mismo ocurre en el caso de que sea mayor, la entrada **a** se completa colocando 0's en los espacios restantes. El resto de entradas no son relevantes para el uso que pretendemos darle, por lo tanto las dejamos como predeterminadas. \n",
    "Lo que la función retorna es un array que cuenta con entradas complejas, que indican los valores transformados. Si el valor de n es par (n es el número de datos agrupados dentro del array de entrada) entonces la longitud del eje sobre el cual se dio la transformación es $\\frac{n}{2}+1$. Si el número de datos proporcionados es impar, entonces la longitud de este eje es $\\frac{n+1}{2}$"
   ]
  },
  {
   "cell_type": "markdown",
   "metadata": {},
   "source": [
    "## Función numpy.ftt.ftt"
   ]
  },
  {
   "cell_type": "markdown",
   "metadata": {},
   "source": [
    "Cuenta con una estructura similar respecto a la anterior: **numpy.fft.fft(a, n=None, axis=-1, norm=None)**, sin embargo, en este caso el array de entrada **a** puede ser complejo; **n** es la longitud del eje en el cual vamos a representar los datos de salida, la variación entre este y la longitud de entrada se compensa recortándola o agregando ceros, por lo tanto, es mejor mantenerla como predeterminada. Podemos definir además el eje sobre el cual vamos a realizar la transformada discreta, además de normalizar los valores, sin embargo, no es de nuestro interés actualmente. La salida consiste de un array complejo con los valores resultantes de calcular la transformada discreta a lo largo del eje predeterminado."
   ]
  },
  {
   "cell_type": "markdown",
   "metadata": {},
   "source": [
    "## Función scipy.fftpack.fft"
   ]
  },
  {
   "cell_type": "markdown",
   "metadata": {},
   "source": [
    "La función tiene la siguiente estructura **scipy.fftpack.fft(x, n=None, axis=-1, overwrite_x=False)** donde el elemento **x** corresponde a la entrada ya sea real o compleja, claramente en forma de un array. El elemento **n**, de forma análoga a los dos casos anteriores, indica la longitud de la salida, es decir, de la transformada discreta de fourier. El parámetro **axis** hace alusión al eje conforme al cual calculamos la transformada discreta de Fourier. Finalmente, el único parámetro desconocido es **overwrite_x**, el cual al tener carácter verdadero puede ocasionar que los datos contenidos en *x* sean destruidos, por lo general se mantiene con un carácter falso. \n",
    "\n",
    "Retorna un array complejo, sin embargo, está organizado de modo que los terminos de frecuencia positiva son presentados primero (en las primeras $\\frac{n}{2}$ posiciones), mientras que los términos de frecuencia negativa están representados en el resto de entradas. Por lo tanto, si administramos una transformada de 8 puntos, las frecuencias se organizan de la siguiente forma: [0,1,2,3,-4,-3,-2,-1]. Podemos reorganizar el array de frecuencias con el comando fftshitf. \n",
    "\n",
    "Retomando las cuestiones de la transformada discreta de fourier, recalcamos que si la señal discreta que entra es positiva, entonces la señal en el dominio de la frecuencia sería simetrica, de modo que cuando se calcula la transformada discreta de fourier a una entrada totalmente real, solamente se calcula la mitad de los valores, e incluso en algunos casos únicamente se grafica la respuesta en frecuencias positivas. "
   ]
  },
  {
   "cell_type": "markdown",
   "metadata": {},
   "source": [
    "# Código:"
   ]
  },
  {
   "cell_type": "markdown",
   "metadata": {},
   "source": [
    "Primero, empleando la conexión arduino-python vamos a obtener los valores de la señal de ECG y a almacenarlos en una lista:"
   ]
  },
  {
   "cell_type": "code",
   "execution_count": 67,
   "metadata": {},
   "outputs": [],
   "source": [
    "#Lista_valores_muestreados=[]\n",
    "#Puerto_arduino = serial.Serial('/dev/ttyUSB0', 9600,timeout=10)\n",
    "#Valor_muestreado = Puerto_arduino.readline()\n",
    "#Lista_valores_muestreados.append(Valor_muestreado)\n",
    "#Puerto_arduino.close()"
   ]
  },
  {
   "cell_type": "markdown",
   "metadata": {},
   "source": [
    "Vamos a guardar los datos en un archivo con el objetivo de generar una base de datos que pueda ser compartida o utilizada en un futuro. "
   ]
  },
  {
   "cell_type": "code",
   "execution_count": 68,
   "metadata": {},
   "outputs": [],
   "source": [
    "#Archivo_texto = open(\"Datos muestreados con ayuda de arduino (sin aplicar transformada discreta de Fourier.txt\",\"w\")\n",
    "#Archivo_texto.write(\"Amplitud de la señal\")\n",
    "#for i in Lista_valores_muestreados:\n",
    "#    Archivo_texto.write(\"Valor de la amplitud es %f \\r \\n\" %i)\n",
    "#Archivo_texto.close()\n"
   ]
  },
  {
   "cell_type": "markdown",
   "metadata": {},
   "source": [
    "Una vez que tenemos los valores muestreados que corresponden a nuestra señal de tiempo discreto vamos a emplear la Transformada Discreta de Fourier en su forma más veloz: Transformada Rápida de Fourier. \n",
    "\n",
    "Empleamos los datos provenientes de nuestra base de datos y los almacenamos en una lista.  "
   ]
  },
  {
   "cell_type": "code",
   "execution_count": 16,
   "metadata": {},
   "outputs": [],
   "source": [
    "ECG2=[]\n",
    "with open('Datos muestreados con ayuda de Arduino sin aplicar transformada discreta de Fourier5.txt') as lineas:\n",
    "    for linea in lineas:\n",
    "        ECG2.append(linea)"
   ]
  },
  {
   "cell_type": "markdown",
   "metadata": {},
   "source": [
    "Vamos a calcular la Transformada Rápida de Fourier con las 3 funciones propuestas."
   ]
  },
  {
   "cell_type": "code",
   "execution_count": 70,
   "metadata": {},
   "outputs": [],
   "source": [
    "#Transformada_Rápida_Fourier_1 = numpy.fft.rfft(Valores_almacenados)\n",
    "\n",
    "#Transformada_Rápida_Fourier_2 = numpy.ftt.ftt(Valores_almacenados)\n",
    "\n",
    "#Transformada_Rápida_Fourier_3 = scipy.fftpack.fft(Valores_almacenados) "
   ]
  },
  {
   "cell_type": "markdown",
   "metadata": {},
   "source": [
    "Vamos a visualizar los coeficientes de desarrollo (que nos indican la aportación de cada frecuencia armónica en la conformación de nuestra señal) graficándolos con respecto a la frecuencia. Nosotros conocemos el valor de estos coeficientes de desarrollo, ya que se calcularon con ayuda de las tres funciones anteriores. \n",
    "\n",
    "Para graficar recordemos que la Transformada de Fourier repite sus valores cada que la frecuencia cumple un periodo de $2\\pi$, entonces el eje de la frecuencia encuentra su valor máxixo con el valor $2\\pi$. \n",
    "\n",
    "Buscamos observar el papel que juegan cada uno de los armónicos de la frecuencia fundamental en la formación de la señal, por lo tanto, calculamos la frecuencia fundamental: $w_{0}=\\frac{2\\pi}{N}$ con N el número de muestras. \n",
    "\n",
    "Sabemos que los armónicos son los N-ésimos múltiplos enteros de la frecuencia fundamental, por lo tanto, para generar el eje de frecuencia:   \n"
   ]
  },
  {
   "cell_type": "code",
   "execution_count": 17,
   "metadata": {},
   "outputs": [
    {
     "ename": "SyntaxError",
     "evalue": "invalid syntax (<ipython-input-17-034447ac8508>, line 2)",
     "output_type": "error",
     "traceback": [
      "\u001b[0;36m  File \u001b[0;32m\"<ipython-input-17-034447ac8508>\"\u001b[0;36m, line \u001b[0;32m2\u001b[0m\n\u001b[0;31m    Establecemos la cantidad de coeficientes de desarrollo.\u001b[0m\n\u001b[0m                  ^\u001b[0m\n\u001b[0;31mSyntaxError\u001b[0m\u001b[0;31m:\u001b[0m invalid syntax\n"
     ]
    }
   ],
   "source": [
    "def Establecemos_el_eje_de_frecuencia(Transformada_Discreta_Fourier_de_los_datos):\n",
    "    Establecemos la cantidad de coeficientes de desarrollo. \n",
    "    Cantidad_coeficientes_de_desarrollo=len(Transformada_Discreta_Fourier_de_los_datos)\n",
    "    Establecemos la frecuencia fundamental w0:\n",
    "    Frecuencia_fundamental= 2*pi/Cantidad_coeficientes_de_desarrollo\n",
    "    Eje_de_frecuencia = linspace(0,2*pi,Frecuencia_fundamental)\n",
    "    return array(Eje_de_frecuencia) "
   ]
  },
  {
   "cell_type": "markdown",
   "metadata": {},
   "source": [
    "Ahora que poseemos los datos en una lista vamos a emplear los siguientes códigos:"
   ]
  },
  {
   "cell_type": "code",
   "execution_count": 83,
   "metadata": {},
   "outputs": [
    {
     "name": "stdout",
     "output_type": "stream",
     "text": [
      "[0, 6, 12, 18]\n"
     ]
    }
   ],
   "source": [
    "#len(Datos_num_ECG)\n",
    "lista=[0,1,2,3]\n",
    "lista2=[]\n",
    "for i in lista:\n",
    "    j=i*6\n",
    "    lista2.append(j)\n",
    "print(lista2)"
   ]
  },
  {
   "cell_type": "code",
   "execution_count": 258,
   "metadata": {},
   "outputs": [],
   "source": [
    "def Gráfica_datos(ECG,duración_registro):   \n",
    "    Datos_num_ECG=Limpiador_archivo_texto(ECG)\n",
    "    #len(Datos_num_ECG)\n",
    "    Instantes_de_muestreo=linspace(0,1,len(Datos_num_ECG))\n",
    "    Instantes_de_muestreo2=[]\n",
    "    for i in Instantes_de_muestreo:\n",
    "        j=i*duración_registro\n",
    "        Instantes_de_muestreo2.append(j)\n",
    "    plot(Instantes_de_muestreo2,Datos_num_ECG)\n",
    "    xlabel('Tiempo (s)')\n",
    "    xlim(0,40)\n",
    "    ylabel('Amplitud (V)')\n",
    "    title('Señal de ECG')"
   ]
  },
  {
   "cell_type": "code",
   "execution_count": 259,
   "metadata": {},
   "outputs": [
    {
     "data": {
      "image/png": "[encoded data removed]",
      "text/plain": [
       "<matplotlib.figure.Figure at 0x7f493e839b70>"
      ]
     },
     "metadata": {
      "needs_background": "light"
     },
     "output_type": "display_data"
    }
   ],
   "source": [
    "Gráfica_datos(ECG2,600)"
   ]
  },
  {
   "cell_type": "code",
   "execution_count": 260,
   "metadata": {},
   "outputs": [],
   "source": [
    "def Transformada_de_Fourier(ECG,duración_registro):\n",
    "    Datos_num_ECG=Limpiador_archivo_texto(ECG)\n",
    "    #len(Datos_num_ECG)\n",
    "    Instantes_de_muestreo=linspace(0,1,len(Datos_num_ECG))\n",
    "    Instantes_de_muestreo2=[]\n",
    "    for i in Instantes_de_muestreo:\n",
    "        j=i*duración_registro\n",
    "        Instantes_de_muestreo2.append(j)\n",
    "    Transformada_F_ECG=np.fft.rfft(Datos_num_ECG)\n",
    "    Transformada_F_ECG=np.delete(Transformada_F_ECG, 0)\n",
    "    Transformada_F_ECG_normalizada=abs(Transformada_F_ECG)#/len(Datos_num_ECG)\n",
    "    #print(Transformada_F_ECG_normalizada)\n",
    "    Frecuencias=fftfreq(len(Datos_num_ECG))\n",
    "    Frecuencias2=[]\n",
    "    for i in Frecuencias:\n",
    "        if i >=0:\n",
    "            Frecuencias2.append(i)\n",
    "        else:\n",
    "            continue\n",
    "    p2, =plot(Frecuencias2,Transformada_F_ECG_normalizada)\n",
    "    xlabel('Frecuencia (Hz)')\n",
    "    ylabel('Valor de los coeficientes de desarrollo')\n",
    "    title('Componentes frecuenciales de la señal de ECG')\n",
    "    "
   ]
  },
  {
   "cell_type": "code",
   "execution_count": 300,
   "metadata": {},
   "outputs": [
    {
     "data": {
      "image/png": "[encoded data removed]",
      "text/plain": [
       "<matplotlib.figure.Figure at 0x7f493e09cdd8>"
      ]
     },
     "metadata": {
      "needs_background": "light"
     },
     "output_type": "display_data"
    }
   ],
   "source": [
    "Transformada_de_Fourier(ECG2,600)"
   ]
  },
  {
   "cell_type": "code",
   "execution_count": 294,
   "metadata": {},
   "outputs": [],
   "source": [
    "def Instantes_Picos_R(ECG,duración_registro,TOL):\n",
    "    ECG2=Limpiador_archivo_texto(ECG)\n",
    "    Instantes_de_muestreo=linspace(0,1,len(ECG2))\n",
    "    Instantes_de_muestreo2=[]\n",
    "    for i in Instantes_de_muestreo:\n",
    "        j=i*duración_registro\n",
    "        Instantes_de_muestreo2.append(j)\n",
    "    Amplitud_pico_R = Maximo_en_un_intervalo(ECG2)\n",
    "    Picos_R = Detector_de_máximos(ECG2,Amplitud_pico_R,TOL)    \n",
    "    Instantes_Picos_R=Tiempos_totales(Picos_R)\n",
    "    Intervalos=Intervalos_RR(Instantes_Picos_R)\n",
    "    #print(Intervalos)\n",
    "    \n",
    "    plot(Intervalos)\n",
    "    xlabel('Tiempo')\n",
    "    ylabel('IntervaloRR(ms)')\n",
    "    title('Tacograma')\n",
    "    return Intervalos"
   ]
  },
  {
   "cell_type": "code",
   "execution_count": 295,
   "metadata": {},
   "outputs": [
    {
     "data": {
      "image/png": "[encoded data removed]",
      "text/plain": [
       "<matplotlib.figure.Figure at 0x7f493e82e390>"
      ]
     },
     "metadata": {
      "needs_background": "light"
     },
     "output_type": "display_data"
    }
   ],
   "source": [
    "INTERVALOSR=Instantes_Picos_R(ECG2,600,1.7)"
   ]
  },
  {
   "cell_type": "code",
   "execution_count": 299,
   "metadata": {},
   "outputs": [],
   "source": [
    "def Frecuencia_cardíaca_promedio(INTERVALOSR):\n",
    "    FRECUENCIAS=[]\n",
    "    for i in INTERVALOSR:\n",
    "        FrecuenciaC=(60/i)\n",
    "        FRECUENCIAS.append(FrecuenciaC)\n",
    "    Frecuencia_promedio=np.mean(FRECUENCIAS)\n",
    "    print(f'La frecuencia cardíaca es {Frecuencia_promedio}')\n",
    "    return "
   ]
  },
  {
   "cell_type": "code",
   "execution_count": 298,
   "metadata": {},
   "outputs": [
    {
     "name": "stdout",
     "output_type": "stream",
     "text": [
      "La frecuencia cardíaca es 69.38027257134655\n"
     ]
    }
   ],
   "source": [
    "Frecuencia_cardíaca_promedio(INTERVALOSR)"
   ]
  },
  {
   "cell_type": "markdown",
   "metadata": {},
   "source": [
    "## Análisis frecuencial.\n",
    "A continuación vamos a observar las contribuciones de las frecuencias en nuestro tacograma, aquí relacionamos con las HLF,VLF,LF,HF. \n",
    "Para visualizar el efecto vamos  a calcular la potencia de la señal."
   ]
  },
  {
   "cell_type": "code",
   "execution_count": 289,
   "metadata": {},
   "outputs": [],
   "source": [
    "def Análisis_frecuencial_Tacograma(Intervalos_R_ECG):\n",
    "    Transformada_Fourier_Tacograma=np.fft.fft(Intervalos_R_ECG)\n",
    "    Transformada_Fourier_Tacograma_normalizada=abs(Transformada_Fourier_Tacograma)/len(Transformada_Fourier_Tacograma)\n",
    "    Frecuencias=fftfreq(len(Intervalos_R_ECG))\n",
    "    \n",
    "    Potencia_de_la_señal=[]\n",
    "    for i in Transformada_Fourier_Tacograma_normalizada:\n",
    "        potencia=(1/2)*(i**2)\n",
    "        Potencia_de_la_señal.append(potencia)\n",
    "    \n",
    "    \n",
    "    \n",
    "    #plot(Frecuencias,Transformada_Fourier_Tacograma_normalizada)\n",
    "    #xlim(0,0.5)\n",
    "    #title('Transformada de Fourier del Tacograma')\n",
    "    \n",
    "    plot(Frecuencias,Potencia_de_la_señal)\n",
    "    title('Potencia de la señal de Tacograma con respecto a la frecuencia')\n",
    "    xlim(0,0.5)\n",
    "    ylim(0,0.005)"
   ]
  },
  {
   "cell_type": "code",
   "execution_count": 290,
   "metadata": {},
   "outputs": [
    {
     "data": {
      "image/png": "[encoded data removed]",
      "text/plain": [
       "<matplotlib.figure.Figure at 0x7f493df31cf8>"
      ]
     },
     "metadata": {
      "needs_background": "light"
     },
     "output_type": "display_data"
    }
   ],
   "source": [
    "Análisis_frecuencial_Tacograma(INTERVALOSR)"
   ]
  },
  {
   "cell_type": "markdown",
   "metadata": {},
   "source": [
    "## Análisis temporal.\n",
    "\n",
    "Ahora vamos a calcular el análisis en base a los paramétros temporales.\n",
    "Para ello necesitamos:\n",
    "\n",
    "AvRR: es la duración media de todos los intervalos RR.\n",
    "\n",
    "Variabilidad Total (RRSD): desviación estándar de todos los intervalos RR. \n",
    "\n",
    "RMSSD:Raíz cuadrada de la media de la suma de las diferencias al cuadrado de todos los intervalos RR.\n",
    "\n",
    "SDSD:Desviación estándar de la diferencia entre intervalos RR consecutivos\n",
    "\n",
    "NN50:Es la cantidad de intervalos RR que difieren en más de 50ms respecto al anterior. \n",
    "\n",
    "pNN50: Es el porcentaje de intervalos RR que difieren en más de 50ms respecto al anterior. "
   ]
  },
  {
   "cell_type": "code",
   "execution_count": 291,
   "metadata": {},
   "outputs": [],
   "source": [
    "def Análisis_temporal_Tacograma(Intervalos_R_ECG):\n",
    "    AvRR=np.mean(Intervalos_R_ECG)\n",
    "    RRSD=np.std(Intervalos_R_ECG)\n",
    "    RMSSD_1=RMSSD(Intervalos_R_ECG)\n",
    "    SDSD_1=SDSD(Intervalos_R_ECG)\n",
    "    NN50_1,PNN50_1=pNN50(Intervalos_R_ECG)\n",
    "    \n",
    "    print(f\"El valor del parámetro AvRR es {AvRR}\")\n",
    "    print(f\"El valor del parámetro RRSD es {RRSD}\")\n",
    "    print(f\"El valor del parámetro RMSSD es {RMSSD_1}\")\n",
    "    print(f\"El valor del parámetro SDSD es {SDSD_1}\")\n",
    "    print(f\"El valor del parámetro NN50 es {NN50_1}\")\n",
    "    print(f\"El valor del parámetro pNN50 es {PNN50_1}\")\n",
    "    \n",
    "    return"
   ]
  },
  {
   "cell_type": "code",
   "execution_count": 292,
   "metadata": {},
   "outputs": [
    {
     "name": "stdout",
     "output_type": "stream",
     "text": [
      "El valor del parámetro AvRR es 1.186158415841584\n",
      "El valor del parámetro RRSD es 0.7136620762397532\n",
      "El valor del parámetro RMSSD es 22.680535590092745\n",
      "El valor del parámetro SDSD es 0.6630753968253973\n",
      "El valor del parámetro NN50 es 0\n",
      "El valor del parámetro pNN50 es 0.0\n"
     ]
    }
   ],
   "source": [
    "Análisis_temporal_Tacograma(INTERVALOSR)"
   ]
  },
  {
   "cell_type": "markdown",
   "metadata": {},
   "source": [
    "## Recursos de consulta:"
   ]
  },
  {
   "cell_type": "markdown",
   "metadata": {},
   "source": [
    "https://pythonhosted.org/pyserial/shortintro.html \n",
    "\n",
    "https://docs.scipy.org/doc/numpy/reference/generated/numpy.fft.rfft.html#numpy.fft.rfft\n",
    "\n",
    "https://docs.scipy.org/doc/numpy/reference/generated/numpy.fft.fft.html#numpy.fft.fft\n",
    "\n",
    "Alicia Denis. (2015). Señales y sistemas. Fundamentos matemáticos. Buenos Aires, Argentina: UNSAM Edita. \n",
    "\n",
    "Variabilidad de la frecuencia cardíaca: Concepto, medidas y relación con aspectos clínicos, Gil Rodas,Archivo de medicina del deporte, volumen XXV, 2008. http://archivosdemedicinadeldeporte.com/articulos/upload/Variabilidad_41_123.pdf. Consultado el 13/Mayo/2019"
   ]
  },
  {
   "cell_type": "markdown",
   "metadata": {},
   "source": [
    "## Apéndices:"
   ]
  },
  {
   "cell_type": "markdown",
   "metadata": {},
   "source": [
    "El siguiente código nos ayudará a encontrar el valor máximo de amplitud que alcanza la señal de ECG. "
   ]
  },
  {
   "cell_type": "markdown",
   "metadata": {},
   "source": [
    "Una vez que hemos leído los datos de nuestro archivo de texto, consideramos el hecho de que el texto contiene letras, y otros elementos no deseados. La siguiente función se encarga de tomar un archivo de texto y devolvernos una lista con los float muestreados con nuestra tarjeta arduino. "
   ]
  },
  {
   "cell_type": "code",
   "execution_count": 20,
   "metadata": {},
   "outputs": [],
   "source": [
    "def Limpiador_archivo_texto(lista):\n",
    "    Números=[\"1\",\"2\",\"3\",\"4\",\"5\",\"6\",\"7\",\"8\",\"9\",\"0\",\".\"]\n",
    "    ECG3=[]\n",
    "    for i in lista:\n",
    "        i2=[]\n",
    "        if (lista.index(i)%2)==0:\n",
    "            for j in i:\n",
    "                if j in Números:\n",
    "                    i2.append(j)\n",
    "            Num=i2[0]+i2[1]+i2[2]+i2[3]+i2[4]+i2[5]+i2[6]+i2[7]\n",
    "            ECG3.append(Num)    \n",
    "    ECG4=[]\n",
    "    for i in ECG3:\n",
    "        b=float(i)\n",
    "        ECG4.append(b)\n",
    "    return ECG4"
   ]
  },
  {
   "cell_type": "code",
   "execution_count": 21,
   "metadata": {},
   "outputs": [],
   "source": [
    "def Maximo_en_un_intervalo(lista):\n",
    "    j=0\n",
    "    posición=0\n",
    "    for i in range(0,len(lista)): \n",
    "        if lista[i]>j:\n",
    "            j=lista[i] \n",
    "        elif lista[i]<j:\n",
    "            j=j\n",
    "    return j\n",
    "    "
   ]
  },
  {
   "cell_type": "markdown",
   "metadata": {},
   "source": [
    "Una vez que calculamos el máximo, empleamos la siguiente función para detectar valores cercanos a ese máximo."
   ]
  },
  {
   "cell_type": "code",
   "execution_count": 22,
   "metadata": {},
   "outputs": [],
   "source": [
    "def Detector_de_máximos(Lista,Máximo,TOLERANCIA):\n",
    "    Posiciones_maximos=[]\n",
    "    for i in range(0,len(Lista)):\n",
    "        if abs(Máximo-Lista[i])<TOLERANCIA:\n",
    "            Posiciones_maximos.append(i)\n",
    "        else:\n",
    "            continue           \n",
    "    return Posiciones_maximos"
   ]
  },
  {
   "cell_type": "markdown",
   "metadata": {},
   "source": [
    "Los valores son los valores en los cuales podemos encontrar un máximo, pero no implica que correspondan a complejos PQR distintos, obviamente los valores que corresponden a complejos diferentes están separados en el intervalo temporal en más de una unidad de tiempo. Por ello, vamos a distinguir los valores que corresponden a ciclos iguales. "
   ]
  },
  {
   "cell_type": "code",
   "execution_count": 23,
   "metadata": {},
   "outputs": [],
   "source": [
    "def tiempos_cercanos(C):\n",
    "    LISTA=[]\n",
    "    LISTA2=[]\n",
    "    for i in C:\n",
    "        a=C.index(i)\n",
    "        for j in range(a+1,len(C)):\n",
    "            lista=[]\n",
    "            lista2=[]\n",
    "            if abs(C[a]-C[j])<=1:\n",
    "                lista.append(C[a])\n",
    "                lista.append(C[j])\n",
    "                LISTA.append(lista)\n",
    "            else:\n",
    "                continue\n",
    "    return LISTA"
   ]
  },
  {
   "cell_type": "markdown",
   "metadata": {},
   "source": [
    "La siguiente función toma las duplas de tiempos consecutivos y genera una secuencia larga con todos los elementos que equidistan entre sí por más de una unidad. "
   ]
  },
  {
   "cell_type": "code",
   "execution_count": 24,
   "metadata": {},
   "outputs": [],
   "source": [
    "def intervalos(lista):\n",
    "    E=[]\n",
    "    for i in range(0,len(lista)):\n",
    "        if i < (len(lista)-1):\n",
    "            B=lista[i+1]\n",
    "            for j in lista[i]:\n",
    "                if j in B:\n",
    "                    C=B+lista[i]\n",
    "                    C1=[]\n",
    "                    for k in C: \n",
    "                        if k not in C1:\n",
    "                            C1.append(k)\n",
    "                    C1.sort()\n",
    "                    if C1 not in E:\n",
    "                        E.append(C1)\n",
    "                    continue\n",
    "                else: \n",
    "                    continue\n",
    "        else: \n",
    "            continue \n",
    "    return E"
   ]
  },
  {
   "cell_type": "markdown",
   "metadata": {},
   "source": [
    "La siguiente función nos ayuda a calcular máximos que no estén en un ciclo, es decir, que el máximo pegó justamente en su máxima amplitud"
   ]
  },
  {
   "cell_type": "code",
   "execution_count": 25,
   "metadata": {},
   "outputs": [],
   "source": [
    "def tiempos_ajenos(lista):\n",
    "    LISTA=[]\n",
    "    for i in range(0,len(lista)-1):\n",
    "        if i == 0:\n",
    "            if abs(lista[i]-lista[i+1])>2:\n",
    "                LISTA.append(lista[i])\n",
    "        if 0<i<len(lista):\n",
    "            if abs(lista[i]-lista[i-1])>2 and abs(lista[i]-lista[i+1])>2:\n",
    "                LISTA.append(lista[i])\n",
    "    return LISTA"
   ]
  },
  {
   "cell_type": "markdown",
   "metadata": {},
   "source": [
    "Ahora, podemos relacionar las unidades de tiempo que hemos estado manejando con unidades de tiempo con los instantes de muestreo con la siguiente función. "
   ]
  },
  {
   "cell_type": "code",
   "execution_count": 26,
   "metadata": {},
   "outputs": [],
   "source": [
    "def Relación_temporal(lista1,lista2):\n",
    "    Lista3=[]\n",
    "    for i in lista1:\n",
    "        Lista3.append(lista2[int(i)])\n",
    "    return Lista3"
   ]
  },
  {
   "cell_type": "markdown",
   "metadata": {},
   "source": [
    "Hasta el momento tenemos intervalos de tiempo en los que hay un pico R, y contemplamos el escenario en que golpeamos justamente un pico R, ahora vamos a emplear la siguiente función para tomar los intervalos de tiempo y simplemente calcular el valor medio de ese intervalo. "
   ]
  },
  {
   "cell_type": "code",
   "execution_count": 27,
   "metadata": {},
   "outputs": [],
   "source": [
    "def promedio_tiempo(LISTA):\n",
    "    T=[]\n",
    "    for i in LISTA:\n",
    "        t=0\n",
    "        for j in i:\n",
    "            t=t+j\n",
    "        t=t/len(i)\n",
    "        T.append(t)\n",
    "    return T"
   ]
  },
  {
   "cell_type": "code",
   "execution_count": 293,
   "metadata": {},
   "outputs": [],
   "source": [
    "def Tiempos_totales(Picos_R):\n",
    "    \n",
    "    Tiempos_0=tiempos_cercanos(Picos_R)\n",
    "    #print(Tiempos_0)\n",
    "    Tiempos_1=intervalos(Tiempos_0)\n",
    "    #print(Tiempos_1)\n",
    "    Tiempos_2=promedio_tiempo(Tiempos_1)\n",
    "    #print(Tiempos_2)\n",
    "    #Tiempos_3=Relación_temporal(Tiempos_2,Instantes_de_muestreo)\n",
    "    #print(Tiempos_3)\n",
    "    Tiempos_4=tiempos_ajenos(Picos_R)\n",
    "    #print(Tiempos_4)\n",
    "    #Tiempos_5=Relación_temporal(Tiempos_4,Instantes_de_muestreo)\n",
    "    #print(Tiempos_5)\n",
    "    Tiempo_total=Tiempos_2+Tiempos_4\n",
    "    Tiempo_total.sort()\n",
    "    #print(Tiempo_total)\n",
    "    Tiempo_total_2=[]\n",
    "    for i in Tiempo_total:\n",
    "        b=(0.01*float(i))\n",
    "        Tiempo_total_2.append(b)\n",
    "    \n",
    "    return Tiempo_total_2"
   ]
  },
  {
   "cell_type": "markdown",
   "metadata": {},
   "source": [
    "Al combinar los tiempos provenientes de \"Tiempos ajenos\" y \"Tiempos lejanos\" obtenemos una lista de tiempos en los que hay un pico R, calculamos los tiempos en base al periodo de muestreo manejado y obtenemos los instantes en tiempo real que representan los picos R. Teniendo los instantes en que se dan los picos R, podemos los intervalos R-R con la siguiente función:"
   ]
  },
  {
   "cell_type": "code",
   "execution_count": 150,
   "metadata": {},
   "outputs": [],
   "source": [
    "def Intervalos_RR(lista):\n",
    "    INTERVALOSR=[]\n",
    "    for i in range(0,len(lista)-1):\n",
    "        tiempo=lista[i+1]-lista[i]\n",
    "        INTERVALOSR.append(tiempo)\n",
    "    \n",
    "    plot(INTERVALOSR)\n",
    "    title('Tacograma')\n",
    "    return INTERVALOSR"
   ]
  },
  {
   "cell_type": "markdown",
   "metadata": {},
   "source": [
    "Funciones definidas para el análisis temporal. "
   ]
  },
  {
   "cell_type": "code",
   "execution_count": 216,
   "metadata": {},
   "outputs": [],
   "source": [
    "def AvRR(Intervalos_R):\n",
    "    Sumatotal=0\n",
    "    for i in Intervalos_R:\n",
    "        Sumatotal=Sumatotal+i\n",
    "    Valor_medio=Sumatotal/len(Intervalos_R)\n",
    "    return Valor_medio"
   ]
  },
  {
   "cell_type": "code",
   "execution_count": 217,
   "metadata": {},
   "outputs": [],
   "source": [
    "def RRSD(Intervalos_R_ECG):\n",
    "    RRSD=np.std(Intervalos_R_ECG)\n",
    "    return RRSD"
   ]
  },
  {
   "cell_type": "code",
   "execution_count": 218,
   "metadata": {},
   "outputs": [],
   "source": [
    "def AvRR2(Intervalos_R_ECG):\n",
    "    AvRR2=np.mean(Intervalos_R_ECG)\n",
    "    return AvRR2"
   ]
  },
  {
   "cell_type": "code",
   "execution_count": 219,
   "metadata": {},
   "outputs": [],
   "source": [
    "def RMSSD(Intervalos_R_ECG):\n",
    "    #primerocalculemoslasdiferenciasdetodoslosintervalos\n",
    "    Diferencias=[]\n",
    "    for i in Intervalos_R_ECG:\n",
    "        diferencias=[]\n",
    "        for j in Intervalos_R_ECG:\n",
    "            if i==j:\n",
    "                continue\n",
    "            else:\n",
    "                dif=(i-j)**2\n",
    "                diferencias.append(dif)\n",
    "        Diferencias.append(diferencias)\n",
    "    Sumas=[]\n",
    "    for i in Diferencias:\n",
    "        sum=0\n",
    "        for j in i:\n",
    "            sum=sum+j\n",
    "        Sumas.append(sum)\n",
    "    Media=np.mean(Sumas)\n",
    "    Raiz_media=sqrt(Media)\n",
    "    \n",
    "    return Raiz_media"
   ]
  },
  {
   "cell_type": "code",
   "execution_count": 220,
   "metadata": {},
   "outputs": [],
   "source": [
    "def SDSD(Intervalos_R_ECG):\n",
    "    #Desviación estándar de la diferencia entre intervalos RR consecutivos\n",
    "    Diferencias=[]\n",
    "    for i in range(0,len(Intervalos_R_ECG)-1):\n",
    "        diferencia=abs(Intervalos_R_ECG[i+1]-Intervalos_R_ECG[i])\n",
    "        Diferencias.append(diferencia)\n",
    "    SDSD=np.mean(Diferencias)\n",
    "    return SDSD"
   ]
  },
  {
   "cell_type": "code",
   "execution_count": 224,
   "metadata": {},
   "outputs": [],
   "source": [
    "def pNN50(Intervalos_R_ECG):\n",
    "    NN50=0\n",
    "    for i in range(0,len(Intervalos_R_ECG)-1):\n",
    "        diferencia=abs(Intervalos_R_ECG[i+1]-Intervalos_R_ECG[i])\n",
    "        if diferencia>50:\n",
    "            NN50=NN50+1\n",
    "        else:\n",
    "            continue\n",
    "    pNN50=((NN50*100)/(len(Intervalos_R_ECG)))\n",
    "    return (NN50,pNN50)"
   ]
  },
  {
   "cell_type": "code",
   "execution_count": null,
   "metadata": {},
   "outputs": [],
   "source": []
  },
  {
   "cell_type": "markdown",
   "metadata": {},
   "source": []
  },
  {
   "cell_type": "code",
   "execution_count": null,
   "metadata": {},
   "outputs": [],
   "source": []
  },
  {
   "cell_type": "code",
   "execution_count": null,
   "metadata": {},
   "outputs": [],
   "source": []
  },
  {
   "cell_type": "code",
   "execution_count": null,
   "metadata": {},
   "outputs": [],
   "source": []
  }
 ],
 "metadata": {
  "kernelspec": {
   "display_name": "Python 3",
   "language": "python",
   "name": "python3"
  },
  "language_info": {
   "codemirror_mode": {
    "name": "ipython",
    "version": 3
   },
   "file_extension": ".py",
   "mimetype": "text/x-python",
   "name": "python",
   "nbconvert_exporter": "python",
   "pygments_lexer": "ipython3",
   "version": "3.6.7"
  }
 },
 "nbformat": 4,
 "nbformat_minor": 2
}
